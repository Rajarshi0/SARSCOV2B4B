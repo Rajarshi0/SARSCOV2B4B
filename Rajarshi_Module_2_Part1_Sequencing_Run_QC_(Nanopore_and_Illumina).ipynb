{
  "cells": [
    {
      "cell_type": "markdown",
      "metadata": {
        "id": "view-in-github",
        "colab_type": "text"
      },
      "source": [
        "<a href=\"https://colab.research.google.com/github/Rajarshi0/SARSCOV2B4B/blob/main/Rajarshi_Module_2_Part1_Sequencing_Run_QC_(Nanopore_and_Illumina).ipynb\" target=\"_parent\"><img src=\"https://colab.research.google.com/assets/colab-badge.svg\" alt=\"Open In Colab\"/></a>"
      ]
    },
    {
      "cell_type": "markdown",
      "metadata": {
        "id": "JyG45Qk3qQLS"
      },
      "source": [
        "## Initial QC for Nanopore and Illumina SARS-CoV-2 genome sequencing\n",
        "In this notebook we will analyze the results from sequencing runs, using two approaches to sequence the SARS-CoV-2 genome. Both are based on the **ARTIC protocol**, developed by the [ARTIC Network](https://artic.network/ncov-2019). For Illumina, correspond to the classic ARTIC protocol, wich amplifies the SARS-CoV-2 genome in 98 fragments of 400bp each. For Nanopore, the used protocol is named **\"Midnight Protocol\"** and is based on the amplification of 29 overlapping 1200bp fragments that cover the entire SARS-CoV-2 genome.\n",
        "The content of the notebook can be summarized in:\n",
        "\n",
        "*   Download data\n",
        "*   Install software and prepare environment\n",
        "*   Run a quality control of the run\n"
      ]
    },
    {
      "cell_type": "markdown",
      "source": [
        "# Download data"
      ],
      "metadata": {
        "id": "XpZkbJoJ0aWW"
      }
    },
    {
      "cell_type": "code",
      "source": [
        "!gdown 1JkUU3wcexm9Y532l6IbdIsdY4saMehJO ; unzip Illumina_READS.zip\n",
        "!gdown 1rRhK7H7R9aiPooqtKtT8kugnLNsqmkkR ; unzip Nanopore_READS.zip"
      ],
      "metadata": {
        "id": "ygMYpaDw0YnB",
        "colab": {
          "base_uri": "https://localhost:8080/"
        },
        "outputId": "521d2c6d-0d4b-42b5-a8e3-63cd0e3c28a4"
      },
      "execution_count": null,
      "outputs": [
        {
          "output_type": "stream",
          "name": "stdout",
          "text": [
            "Downloading...\n",
            "From: https://drive.google.com/uc?id=1JkUU3wcexm9Y532l6IbdIsdY4saMehJO\n",
            "To: /content/Illumina_READS.zip\n",
            "100% 704M/704M [00:04<00:00, 146MB/s]\n",
            "Archive:  Illumina_READS.zip\n",
            "  inflating: Illumina_fastq/samplesheet.csv  \n",
            "  inflating: Illumina_fastq/fastq/ERR5761182_2.fastq.gz  \n",
            "  inflating: Illumina_fastq/fastq/ERR5761182_1.fastq.gz  \n",
            "  inflating: Illumina_fastq/fastq/ERR5914874_2.fastq.gz  \n",
            "  inflating: Illumina_fastq/fastq/ERR5914874_1.fastq.gz  \n",
            "  inflating: Illumina_fastq/fastq/ERR5921612_2.fastq.gz  \n",
            "  inflating: Illumina_fastq/fastq/ERR5926784_2.fastq.gz  \n",
            "  inflating: Illumina_fastq/fastq/ERR5926784_1.fastq.gz  \n",
            "  inflating: Illumina_fastq/fastq/ERR5921129_1.fastq.gz  \n",
            "  inflating: Illumina_fastq/fastq/ERR6129126_1.fastq.gz  \n",
            "  inflating: Illumina_fastq/fastq/ERR5932418_1.fastq.gz  \n",
            "  inflating: Illumina_fastq/fastq/ERR6129126_2.fastq.gz  \n",
            "  inflating: Illumina_fastq/fastq/ERR5921129_2.fastq.gz  \n",
            "  inflating: Illumina_fastq/fastq/ERR5921612_1.fastq.gz  \n",
            "  inflating: Illumina_fastq/fastq/ERR6086247_1.fastq.gz  \n",
            "  inflating: Illumina_fastq/fastq/ERR5932418_2.fastq.gz  \n",
            "  inflating: Illumina_fastq/fastq/ERR6086247_2.fastq.gz  \n",
            "Downloading...\n",
            "From: https://drive.google.com/uc?id=1rRhK7H7R9aiPooqtKtT8kugnLNsqmkkR\n",
            "To: /content/Nanopore_READS.zip\n",
            "100% 112M/112M [00:01<00:00, 70.9MB/s]\n",
            "Archive:  Nanopore_READS.zip\n",
            "   creating: Nanopore_READS/\n",
            "  inflating: Nanopore_READS/nanopore_samples_file.txt  \n",
            "   creating: Nanopore_READS/nanopore_fastq/\n",
            "   creating: Nanopore_READS/nanopore_fastq/barcode41/\n",
            "  inflating: Nanopore_READS/nanopore_fastq/barcode41/barcode41.fastq.gz  \n",
            "   creating: Nanopore_READS/nanopore_fastq/barcode53/\n",
            "  inflating: Nanopore_READS/nanopore_fastq/barcode53/barcode53.fastq.gz  \n",
            "   creating: Nanopore_READS/nanopore_fastq/barcode60/\n",
            "  inflating: Nanopore_READS/nanopore_fastq/barcode60/barcode60.fastq.gz  \n",
            "   creating: Nanopore_READS/nanopore_fastq/barcode70/\n",
            "  inflating: Nanopore_READS/nanopore_fastq/barcode70/barcode70.fastq.gz  \n",
            "   creating: Nanopore_READS/nanopore_fastq/barcode79/\n",
            "  inflating: Nanopore_READS/nanopore_fastq/barcode79/barcode79.fastq.gz  \n",
            "   creating: Nanopore_READS/nanopore_fastq/barcode92/\n",
            "  inflating: Nanopore_READS/nanopore_fastq/barcode92/barcode92.fastq.gz  \n",
            "   creating: Nanopore_READS/nanopore_fastq/barcode93/\n",
            "  inflating: Nanopore_READS/nanopore_fastq/barcode93/barcode93.fastq.gz  \n"
          ]
        }
      ]
    },
    {
      "cell_type": "markdown",
      "source": [
        "Installing condacolab"
      ],
      "metadata": {
        "id": "33ZISlFh92bZ"
      }
    },
    {
      "cell_type": "code",
      "source": [
        "!pip install -q condacolab\n",
        "import condacolab\n",
        "condacolab.install()"
      ],
      "metadata": {
        "id": "jymSg1rN92Ak",
        "colab": {
          "base_uri": "https://localhost:8080/"
        },
        "outputId": "16c4284a-111d-48f6-b358-308bb6e63bdf"
      },
      "execution_count": null,
      "outputs": [
        {
          "output_type": "stream",
          "name": "stdout",
          "text": [
            "⏬ Downloading https://github.com/jaimergp/miniforge/releases/latest/download/Mambaforge-colab-Linux-x86_64.sh...\n",
            "📦 Installing...\n",
            "📌 Adjusting configuration...\n",
            "🩹 Patching environment...\n",
            "⏲ Done in 0:00:25\n",
            "🔁 Restarting kernel...\n"
          ]
        }
      ]
    },
    {
      "cell_type": "markdown",
      "source": [
        "# Install software\n",
        "Install FastQC and NanoPlot"
      ],
      "metadata": {
        "id": "fsIZH9hN5Ynw"
      }
    },
    {
      "cell_type": "code",
      "source": [
        "!conda install -c bioconda fastqc\n",
        "!pip install nanoplot"
      ],
      "metadata": {
        "id": "XcKwQKXw5X-n",
        "colab": {
          "base_uri": "https://localhost:8080/",
          "height": 1000
        },
        "outputId": "e2404355-b843-4c99-b108-926cab0da03f"
      },
      "execution_count": null,
      "outputs": [
        {
          "output_type": "stream",
          "name": "stdout",
          "text": [
            "Collecting package metadata (current_repodata.json): - \b\b\\ \b\b| \b\b/ \b\b- \b\b\\ \b\b| \b\b/ \b\b- \b\b\\ \b\b| \b\b/ \b\b- \b\b\\ \b\b| \b\b/ \b\b- \b\b\\ \b\b| \b\b/ \b\b- \b\b\\ \b\b| \b\b/ \b\b- \b\b\\ \b\b| \b\b/ \b\b- \b\b\\ \b\b| \b\b/ \b\b- \b\b\\ \b\b| \b\b/ \b\b- \b\b\\ \b\b| \b\b/ \b\b- \b\b\\ \b\b| \b\b/ \b\b- \b\b\\ \b\b| \b\b/ \b\b- \b\b\\ \b\b| \b\b/ \b\b- \b\b\\ \b\b| \b\b/ \b\b- \b\b\\ \b\b| \b\b/ \b\b- \b\b\\ \b\b| \b\b/ \b\b- \b\b\\ \b\b| \b\b/ \b\b- \b\b\\ \b\b| \b\b/ \b\b- \b\b\\ \b\b| \b\b/ \b\b- \b\b\\ \b\b| \b\b/ \b\b- \b\b\\ \b\b| \b\b/ \b\b- \b\b\\ \b\b| \b\b/ \b\b- \b\b\\ \b\b| \b\b/ \b\b- \b\b\\ \b\b| \b\b/ \b\b- \b\b\\ \b\b| \b\b/ \b\b- \b\b\\ \b\b| \b\b/ \b\b- \b\b\\ \b\b| \b\b/ \b\b- \b\b\\ \b\b| \b\b/ \b\b- \b\b\\ \b\b| \b\b/ \b\b- \b\b\\ \b\b| \b\b/ \b\b- \b\b\\ \b\b| \b\b/ \b\b- \b\b\\ \b\b| \b\b/ \b\b- \b\b\\ \b\b| \b\b/ \b\b- \b\b\\ \b\b| \b\b/ \b\b- \b\b\\ \b\b| \b\b/ \b\b- \b\b\\ \b\b| \b\b/ \b\b- \b\b\\ \b\b| \b\b/ \b\b- \b\b\\ \b\b| \b\b/ \b\b- \b\b\\ \b\b| \b\b/ \b\b- \b\b\\ \b\b| \b\b/ \b\b- \b\b\\ \b\b| \b\b/ \b\b- \b\b\\ \b\b| \b\b/ \b\b- \b\b\\ \b\b| \b\b/ \b\b- \b\b\\ \b\b| \b\b/ \b\b- \b\b\\ \b\b| \b\b/ \b\b- \b\b\\ \b\b| \b\b/ \b\b- \b\b\\ \b\b| \b\b/ \b\b- \b\b\\ \b\b| \b\b/ \b\b- \b\b\\ \b\b| \b\bdone\n",
            "Solving environment: - \b\b\\ \b\b| \b\b/ \b\b- \b\b\\ \b\b| \b\b/ \b\b- \b\b\\ \b\b| \b\b/ \b\b- \b\b\\ \b\b| \b\b/ \b\b- \b\b\\ \b\b| \b\b/ \b\b- \b\bdone\n",
            "\n",
            "## Package Plan ##\n",
            "\n",
            "  environment location: /usr/local\n",
            "\n",
            "  added / updated specs:\n",
            "    - fastqc\n",
            "\n",
            "\n",
            "The following packages will be downloaded:\n",
            "\n",
            "    package                    |            build\n",
            "    ---------------------------|-----------------\n",
            "    ca-certificates-2022.9.24  |       ha878542_0         150 KB  conda-forge\n",
            "    certifi-2022.9.24          |     pyhd8ed1ab_0         155 KB  conda-forge\n",
            "    conda-22.9.0               |   py37h89c1867_1         960 KB  conda-forge\n",
            "    fastqc-0.11.8              |                0         9.6 MB  bioconda\n",
            "    openjdk-8.0.332            |       h166bdaf_0        97.8 MB  conda-forge\n",
            "    openssl-1.1.1s             |       h166bdaf_0         2.1 MB  conda-forge\n",
            "    perl-5.32.1                | 2_h7f98852_perl5        14.4 MB  conda-forge\n",
            "    ------------------------------------------------------------\n",
            "                                           Total:       125.2 MB\n",
            "\n",
            "The following NEW packages will be INSTALLED:\n",
            "\n",
            "  fastqc             bioconda/linux-64::fastqc-0.11.8-0\n",
            "  openjdk            conda-forge/linux-64::openjdk-8.0.332-h166bdaf_0\n",
            "  perl               conda-forge/linux-64::perl-5.32.1-2_h7f98852_perl5\n",
            "\n",
            "The following packages will be UPDATED:\n",
            "\n",
            "  ca-certificates                      2022.6.15-ha878542_0 --> 2022.9.24-ha878542_0\n",
            "  certifi            conda-forge/linux-64::certifi-2022.6.~ --> conda-forge/noarch::certifi-2022.9.24-pyhd8ed1ab_0\n",
            "  conda                               4.14.0-py37h89c1867_0 --> 22.9.0-py37h89c1867_1\n",
            "  openssl                                 1.1.1q-h166bdaf_0 --> 1.1.1s-h166bdaf_0\n",
            "\n",
            "\n",
            "\n",
            "Downloading and Extracting Packages\n",
            "certifi-2022.9.24    | 155 KB    | : 100% 1.0/1 [00:00<00:00,  5.88it/s]                \n",
            "perl-5.32.1          | 14.4 MB   | : 100% 1.0/1 [00:04<00:00,  4.80s/it]\n",
            "ca-certificates-2022 | 150 KB    | : 100% 1.0/1 [00:00<00:00, 14.72it/s]\n",
            "fastqc-0.11.8        | 9.6 MB    | : 100% 1.0/1 [00:01<00:00,  1.54s/it]               \n",
            "openjdk-8.0.332      | 97.8 MB   | : 100% 1.0/1 [00:19<00:00, 19.43s/it]               \n",
            "openssl-1.1.1s       | 2.1 MB    | : 100% 1.0/1 [00:00<00:00,  1.56it/s]\n",
            "conda-22.9.0         | 960 KB    | : 100% 1.0/1 [00:00<00:00,  1.78it/s]\n",
            "Preparing transaction: | \b\b/ \b\b- \b\b\\ \b\bdone\n",
            "Verifying transaction: / \b\b- \b\b\\ \b\b| \b\b/ \b\b- \b\b\\ \b\b| \b\b/ \b\b- \b\b\\ \b\b| \b\b/ \b\b- \b\bdone\n",
            "Executing transaction: | \b\b/ \b\b- \b\b\\ \b\b| \b\b/ \b\b- \b\b\\ \b\b| \b\b/ \b\b- \b\b\\ \b\b| \b\b/ \b\b- \b\b\\ \b\b| \b\b/ \b\b- \b\b\\ \b\b| \b\b/ \b\b- \b\b\\ \b\b| \b\b/ \b\bdone\n",
            "Retrieving notices: ...working... done\n",
            "Looking in indexes: https://pypi.org/simple, https://us-python.pkg.dev/colab-wheels/public/simple/\n",
            "Collecting nanoplot\n",
            "  Downloading NanoPlot-1.40.2.tar.gz (42 kB)\n",
            "\u001b[2K     \u001b[90m━━━━━━━━━━━━━━━━━━━━━━━━━━━━━━━━━━━━━━━━\u001b[0m \u001b[32m42.8/42.8 kB\u001b[0m \u001b[31m3.0 MB/s\u001b[0m eta \u001b[36m0:00:00\u001b[0m\n",
            "\u001b[?25h  Preparing metadata (setup.py) ... \u001b[?25l\u001b[?25hdone\n",
            "Collecting biopython\n",
            "  Downloading biopython-1.79-cp37-cp37m-manylinux_2_17_x86_64.manylinux2014_x86_64.whl (2.6 MB)\n",
            "\u001b[2K     \u001b[90m━━━━━━━━━━━━━━━━━━━━━━━━━━━━━━━━━━━━━━━━\u001b[0m \u001b[32m2.6/2.6 MB\u001b[0m \u001b[31m35.1 MB/s\u001b[0m eta \u001b[36m0:00:00\u001b[0m\n",
            "\u001b[?25hCollecting pysam>0.10.0.0\n",
            "  Downloading pysam-0.20.0-cp37-cp37m-manylinux_2_24_x86_64.whl (15.4 MB)\n",
            "\u001b[2K     \u001b[90m━━━━━━━━━━━━━━━━━━━━━━━━━━━━━━━━━━━━━━━━\u001b[0m \u001b[32m15.4/15.4 MB\u001b[0m \u001b[31m65.4 MB/s\u001b[0m eta \u001b[36m0:00:00\u001b[0m\n",
            "\u001b[?25hCollecting pandas>=1.1.0\n",
            "  Downloading pandas-1.3.5-cp37-cp37m-manylinux_2_17_x86_64.manylinux2014_x86_64.whl (11.3 MB)\n",
            "\u001b[2K     \u001b[90m━━━━━━━━━━━━━━━━━━━━━━━━━━━━━━━━━━━━━━━━\u001b[0m \u001b[32m11.3/11.3 MB\u001b[0m \u001b[31m86.9 MB/s\u001b[0m eta \u001b[36m0:00:00\u001b[0m\n",
            "\u001b[?25hCollecting numpy>=1.16.5\n",
            "  Downloading numpy-1.21.6-cp37-cp37m-manylinux_2_12_x86_64.manylinux2010_x86_64.whl (15.7 MB)\n",
            "\u001b[2K     \u001b[90m━━━━━━━━━━━━━━━━━━━━━━━━━━━━━━━━━━━━━━━━\u001b[0m \u001b[32m15.7/15.7 MB\u001b[0m \u001b[31m67.4 MB/s\u001b[0m eta \u001b[36m0:00:00\u001b[0m\n",
            "\u001b[?25hCollecting scipy\n",
            "  Downloading scipy-1.7.3-cp37-cp37m-manylinux_2_12_x86_64.manylinux2010_x86_64.whl (38.1 MB)\n",
            "\u001b[2K     \u001b[90m━━━━━━━━━━━━━━━━━━━━━━━━━━━━━━━━━━━━━━━━\u001b[0m \u001b[32m38.1/38.1 MB\u001b[0m \u001b[31m14.3 MB/s\u001b[0m eta \u001b[36m0:00:00\u001b[0m\n",
            "\u001b[?25hCollecting python-dateutil\n",
            "  Downloading python_dateutil-2.8.2-py2.py3-none-any.whl (247 kB)\n",
            "\u001b[2K     \u001b[90m━━━━━━━━━━━━━━━━━━━━━━━━━━━━━━━━━━━━━━\u001b[0m \u001b[32m247.7/247.7 kB\u001b[0m \u001b[31m23.2 MB/s\u001b[0m eta \u001b[36m0:00:00\u001b[0m\n",
            "\u001b[?25hCollecting nanoget>=1.18.1\n",
            "  Downloading nanoget-1.18.1.tar.gz (24 kB)\n",
            "  Preparing metadata (setup.py) ... \u001b[?25l\u001b[?25hdone\n",
            "Collecting nanomath>=1.0.0\n",
            "  Downloading nanomath-1.2.1.tar.gz (17 kB)\n",
            "  Preparing metadata (setup.py) ... \u001b[?25l\u001b[?25hdone\n",
            "Collecting plotly>=5.4.0\n",
            "  Downloading plotly-5.11.0-py2.py3-none-any.whl (15.3 MB)\n",
            "\u001b[2K     \u001b[90m━━━━━━━━━━━━━━━━━━━━━━━━━━━━━━━━━━━━━━━━\u001b[0m \u001b[32m15.3/15.3 MB\u001b[0m \u001b[31m68.1 MB/s\u001b[0m eta \u001b[36m0:00:00\u001b[0m\n",
            "\u001b[?25hCollecting pyarrow\n",
            "  Downloading pyarrow-10.0.0-cp37-cp37m-manylinux_2_17_x86_64.manylinux2014_x86_64.whl (35.4 MB)\n",
            "\u001b[2K     \u001b[90m━━━━━━━━━━━━━━━━━━━━━━━━━━━━━━━━━━━━━━━━\u001b[0m \u001b[32m35.4/35.4 MB\u001b[0m \u001b[31m14.7 MB/s\u001b[0m eta \u001b[36m0:00:00\u001b[0m\n",
            "\u001b[?25hCollecting kaleido\n",
            "  Downloading kaleido-0.2.1-py2.py3-none-manylinux1_x86_64.whl (79.9 MB)\n",
            "\u001b[2K     \u001b[90m━━━━━━━━━━━━━━━━━━━━━━━━━━━━━━━━━━━━━━━━\u001b[0m \u001b[32m79.9/79.9 MB\u001b[0m \u001b[31m12.0 MB/s\u001b[0m eta \u001b[36m0:00:00\u001b[0m\n",
            "\u001b[?25hCollecting Python-Deprecated\n",
            "  Downloading Python-Deprecated-1.1.0.tar.gz (2.9 kB)\n",
            "  Preparing metadata (setup.py) ... \u001b[?25l\u001b[?25hdone\n",
            "Collecting pytz>=2017.3\n",
            "  Downloading pytz-2022.6-py2.py3-none-any.whl (498 kB)\n",
            "\u001b[2K     \u001b[90m━━━━━━━━━━━━━━━━━━━━━━━━━━━━━━━━━━━━━━\u001b[0m \u001b[32m498.1/498.1 kB\u001b[0m \u001b[31m30.6 MB/s\u001b[0m eta \u001b[36m0:00:00\u001b[0m\n",
            "\u001b[?25hCollecting tenacity>=6.2.0\n",
            "  Downloading tenacity-8.1.0-py3-none-any.whl (23 kB)\n",
            "Requirement already satisfied: six>=1.5 in /usr/local/lib/python3.7/site-packages (from python-dateutil->nanoplot) (1.16.0)\n",
            "Building wheels for collected packages: nanoplot, nanoget, nanomath, Python-Deprecated\n",
            "  Building wheel for nanoplot (setup.py) ... \u001b[?25l\u001b[?25hdone\n",
            "  Created wheel for nanoplot: filename=NanoPlot-1.40.2-py3-none-any.whl size=57431 sha256=ed0ac5e6311e4e03b7cd98b71440bdd8144eaac8c1abf9e7b90db9ae07df2798\n",
            "  Stored in directory: /root/.cache/pip/wheels/b1/11/12/c4f6364914c68563280e707e4f0234da2b10562953776adbd0\n",
            "  Building wheel for nanoget (setup.py) ... \u001b[?25l\u001b[?25hdone\n",
            "  Created wheel for nanoget: filename=nanoget-1.18.1-py3-none-any.whl size=37442 sha256=a1bb963c6313d72cf1240e8e32ea09f046c7b81473f08481eb16e6cde7e4502e\n",
            "  Stored in directory: /root/.cache/pip/wheels/fa/16/e1/5282f29e4840268fed8aa2946675e396c43b4fb638594bbc73\n",
            "  Building wheel for nanomath (setup.py) ... \u001b[?25l\u001b[?25hdone\n",
            "  Created wheel for nanomath: filename=nanomath-1.2.1-py3-none-any.whl size=30691 sha256=8e5bc99d6c28cb40bb24a0e0e7f24735b0033233ac506a84fa1265ace5466896\n",
            "  Stored in directory: /root/.cache/pip/wheels/c0/c4/88/683fb01a996ba1b298032fb96e3714740323b9f7fae54144bd\n",
            "  Building wheel for Python-Deprecated (setup.py) ... \u001b[?25l\u001b[?25hdone\n",
            "  Created wheel for Python-Deprecated: filename=Python_Deprecated-1.1.0-py2.py3-none-any.whl size=3067 sha256=15a03479530d0c252710ffb340e3a3820a7a6396589aa8bd4aaaa4a7e8b8544c\n",
            "  Stored in directory: /root/.cache/pip/wheels/e2/6a/3e/ebd9c3f8035615ea08f284613943124ea530d735d5c9f84528\n",
            "Successfully built nanoplot nanoget nanomath Python-Deprecated\n",
            "Installing collected packages: pytz, Python-Deprecated, pysam, kaleido, tenacity, python-dateutil, numpy, scipy, pyarrow, plotly, pandas, biopython, nanomath, nanoget, nanoplot\n",
            "Successfully installed Python-Deprecated-1.1.0 biopython-1.79 kaleido-0.2.1 nanoget-1.18.1 nanomath-1.2.1 nanoplot-1.40.2 numpy-1.21.6 pandas-1.3.5 plotly-5.11.0 pyarrow-10.0.0 pysam-0.20.0 python-dateutil-2.8.2 pytz-2022.6 scipy-1.7.3 tenacity-8.1.0\n",
            "\u001b[33mWARNING: Running pip as the 'root' user can result in broken permissions and conflicting behaviour with the system package manager. It is recommended to use a virtual environment instead: https://pip.pypa.io/warnings/venv\u001b[0m\u001b[33m\n",
            "\u001b[0m"
          ]
        },
        {
          "output_type": "display_data",
          "data": {
            "application/vnd.colab-display-data+json": {
              "pip_warning": {
                "packages": [
                  "dateutil",
                  "numpy"
                ]
              }
            }
          },
          "metadata": {}
        }
      ]
    },
    {
      "cell_type": "code",
      "source": [
        "!pip install multiqc"
      ],
      "metadata": {
        "id": "lHsg9XFHEsO8",
        "colab": {
          "base_uri": "https://localhost:8080/",
          "height": 1000
        },
        "outputId": "e160ff2a-5ec9-4358-80f8-13399a6d9362"
      },
      "execution_count": null,
      "outputs": [
        {
          "output_type": "stream",
          "name": "stdout",
          "text": [
            "Looking in indexes: https://pypi.org/simple, https://us-python.pkg.dev/colab-wheels/public/simple/\n",
            "Collecting multiqc\n",
            "  Downloading multiqc-1.13-py3-none-any.whl (1.2 MB)\n",
            "\u001b[2K     \u001b[90m━━━━━━━━━━━━━━━━━━━━━━━━━━━━━━━━━━━━━━━━\u001b[0m \u001b[32m1.2/1.2 MB\u001b[0m \u001b[31m18.5 MB/s\u001b[0m eta \u001b[36m0:00:00\u001b[0m\n",
            "\u001b[?25hCollecting matplotlib>=2.1.1\n",
            "  Downloading matplotlib-3.5.3-cp37-cp37m-manylinux_2_5_x86_64.manylinux1_x86_64.whl (11.2 MB)\n",
            "\u001b[2K     \u001b[90m━━━━━━━━━━━━━━━━━━━━━━━━━━━━━━━━━━━━━━━━\u001b[0m \u001b[32m11.2/11.2 MB\u001b[0m \u001b[31m65.5 MB/s\u001b[0m eta \u001b[36m0:00:00\u001b[0m\n",
            "\u001b[?25hCollecting rich>=10\n",
            "  Downloading rich-12.6.0-py3-none-any.whl (237 kB)\n",
            "\u001b[2K     \u001b[90m━━━━━━━━━━━━━━━━━━━━━━━━━━━━━━━━━━━━━━\u001b[0m \u001b[32m237.5/237.5 kB\u001b[0m \u001b[31m26.5 MB/s\u001b[0m eta \u001b[36m0:00:00\u001b[0m\n",
            "\u001b[?25hRequirement already satisfied: requests in /usr/local/lib/python3.7/site-packages (from multiqc) (2.28.1)\n",
            "Collecting networkx>=2.5.1\n",
            "  Downloading networkx-2.6.3-py3-none-any.whl (1.9 MB)\n",
            "\u001b[2K     \u001b[90m━━━━━━━━━━━━━━━━━━━━━━━━━━━━━━━━━━━━━━━━\u001b[0m \u001b[32m1.9/1.9 MB\u001b[0m \u001b[31m74.6 MB/s\u001b[0m eta \u001b[36m0:00:00\u001b[0m\n",
            "\u001b[?25hCollecting coloredlogs\n",
            "  Downloading coloredlogs-15.0.1-py2.py3-none-any.whl (46 kB)\n",
            "\u001b[2K     \u001b[90m━━━━━━━━━━━━━━━━━━━━━━━━━━━━━━━━━━━━━━━━\u001b[0m \u001b[32m46.0/46.0 kB\u001b[0m \u001b[31m4.9 MB/s\u001b[0m eta \u001b[36m0:00:00\u001b[0m\n",
            "\u001b[?25hRequirement already satisfied: numpy in /usr/local/lib/python3.7/site-packages (from multiqc) (1.21.6)\n",
            "Collecting markdown\n",
            "  Downloading Markdown-3.4.1-py3-none-any.whl (93 kB)\n",
            "\u001b[2K     \u001b[90m━━━━━━━━━━━━━━━━━━━━━━━━━━━━━━━━━━━━━━━━\u001b[0m \u001b[32m93.3/93.3 kB\u001b[0m \u001b[31m11.2 MB/s\u001b[0m eta \u001b[36m0:00:00\u001b[0m\n",
            "\u001b[?25hCollecting future>0.14.0\n",
            "  Downloading future-0.18.2.tar.gz (829 kB)\n",
            "\u001b[2K     \u001b[90m━━━━━━━━━━━━━━━━━━━━━━━━━━━━━━━━━━━━━━\u001b[0m \u001b[32m829.2/829.2 kB\u001b[0m \u001b[31m51.4 MB/s\u001b[0m eta \u001b[36m0:00:00\u001b[0m\n",
            "\u001b[?25h  Preparing metadata (setup.py) ... \u001b[?25l\u001b[?25hdone\n",
            "Collecting jinja2>=2.9\n",
            "  Downloading Jinja2-3.1.2-py3-none-any.whl (133 kB)\n",
            "\u001b[2K     \u001b[90m━━━━━━━━━━━━━━━━━━━━━━━━━━━━━━━━━━━━━━\u001b[0m \u001b[32m133.1/133.1 kB\u001b[0m \u001b[31m14.1 MB/s\u001b[0m eta \u001b[36m0:00:00\u001b[0m\n",
            "\u001b[?25hCollecting simplejson\n",
            "  Downloading simplejson-3.18.0-cp37-cp37m-manylinux_2_5_x86_64.manylinux1_x86_64.manylinux_2_12_x86_64.manylinux2010_x86_64.whl (130 kB)\n",
            "\u001b[2K     \u001b[90m━━━━━━━━━━━━━━━━━━━━━━━━━━━━━━━━━━━━━━\u001b[0m \u001b[32m130.3/130.3 kB\u001b[0m \u001b[31m14.1 MB/s\u001b[0m eta \u001b[36m0:00:00\u001b[0m\n",
            "\u001b[?25hCollecting click\n",
            "  Downloading click-8.1.3-py3-none-any.whl (96 kB)\n",
            "\u001b[2K     \u001b[90m━━━━━━━━━━━━━━━━━━━━━━━━━━━━━━━━━━━━━━━━\u001b[0m \u001b[32m96.6/96.6 kB\u001b[0m \u001b[31m10.9 MB/s\u001b[0m eta \u001b[36m0:00:00\u001b[0m\n",
            "\u001b[?25hCollecting lzstring\n",
            "  Downloading lzstring-1.0.4.tar.gz (4.3 kB)\n",
            "  Preparing metadata (setup.py) ... \u001b[?25l\u001b[?25hdone\n",
            "Collecting pyyaml>=4\n",
            "  Downloading PyYAML-6.0-cp37-cp37m-manylinux_2_5_x86_64.manylinux1_x86_64.manylinux_2_12_x86_64.manylinux2010_x86_64.whl (596 kB)\n",
            "\u001b[2K     \u001b[90m━━━━━━━━━━━━━━━━━━━━━━━━━━━━━━━━━━━━━━\u001b[0m \u001b[32m596.3/596.3 kB\u001b[0m \u001b[31m38.7 MB/s\u001b[0m eta \u001b[36m0:00:00\u001b[0m\n",
            "\u001b[?25hCollecting rich-click\n",
            "  Downloading rich_click-1.5.2-py3-none-any.whl (20 kB)\n",
            "Collecting spectra>=0.0.10\n",
            "  Downloading spectra-0.0.11.tar.gz (18 kB)\n",
            "  Preparing metadata (setup.py) ... \u001b[?25l\u001b[?25hdone\n",
            "Collecting MarkupSafe>=2.0\n",
            "  Downloading MarkupSafe-2.1.1-cp37-cp37m-manylinux_2_17_x86_64.manylinux2014_x86_64.whl (25 kB)\n",
            "Collecting cycler>=0.10\n",
            "  Downloading cycler-0.11.0-py3-none-any.whl (6.4 kB)\n",
            "Requirement already satisfied: python-dateutil>=2.7 in /usr/local/lib/python3.7/site-packages (from matplotlib>=2.1.1->multiqc) (2.8.2)\n",
            "Collecting packaging>=20.0\n",
            "  Downloading packaging-21.3-py3-none-any.whl (40 kB)\n",
            "\u001b[2K     \u001b[90m━━━━━━━━━━━━━━━━━━━━━━━━━━━━━━━━━━━━━━━━\u001b[0m \u001b[32m40.8/40.8 kB\u001b[0m \u001b[31m4.4 MB/s\u001b[0m eta \u001b[36m0:00:00\u001b[0m\n",
            "\u001b[?25hCollecting kiwisolver>=1.0.1\n",
            "  Downloading kiwisolver-1.4.4-cp37-cp37m-manylinux_2_5_x86_64.manylinux1_x86_64.whl (1.1 MB)\n",
            "\u001b[2K     \u001b[90m━━━━━━━━━━━━━━━━━━━━━━━━━━━━━━━━━━━━━━━━\u001b[0m \u001b[32m1.1/1.1 MB\u001b[0m \u001b[31m60.1 MB/s\u001b[0m eta \u001b[36m0:00:00\u001b[0m\n",
            "\u001b[?25hCollecting fonttools>=4.22.0\n",
            "  Downloading fonttools-4.38.0-py3-none-any.whl (965 kB)\n",
            "\u001b[2K     \u001b[90m━━━━━━━━━━━━━━━━━━━━━━━━━━━━━━━━━━━━━━\u001b[0m \u001b[32m965.4/965.4 kB\u001b[0m \u001b[31m53.3 MB/s\u001b[0m eta \u001b[36m0:00:00\u001b[0m\n",
            "\u001b[?25hCollecting pyparsing>=2.2.1\n",
            "  Downloading pyparsing-3.0.9-py3-none-any.whl (98 kB)\n",
            "\u001b[2K     \u001b[90m━━━━━━━━━━━━━━━━━━━━━━━━━━━━━━━━━━━━━━━━\u001b[0m \u001b[32m98.3/98.3 kB\u001b[0m \u001b[31m11.5 MB/s\u001b[0m eta \u001b[36m0:00:00\u001b[0m\n",
            "\u001b[?25hCollecting pillow>=6.2.0\n",
            "  Downloading Pillow-9.3.0-cp37-cp37m-manylinux_2_17_x86_64.manylinux2014_x86_64.whl (3.2 MB)\n",
            "\u001b[2K     \u001b[90m━━━━━━━━━━━━━━━━━━━━━━━━━━━━━━━━━━━━━━━━\u001b[0m \u001b[32m3.2/3.2 MB\u001b[0m \u001b[31m81.0 MB/s\u001b[0m eta \u001b[36m0:00:00\u001b[0m\n",
            "\u001b[?25hCollecting typing-extensions<5.0,>=4.0.0\n",
            "  Downloading typing_extensions-4.4.0-py3-none-any.whl (26 kB)\n",
            "Collecting commonmark<0.10.0,>=0.9.0\n",
            "  Downloading commonmark-0.9.1-py2.py3-none-any.whl (51 kB)\n",
            "\u001b[2K     \u001b[90m━━━━━━━━━━━━━━━━━━━━━━━━━━━━━━━━━━━━━━━━\u001b[0m \u001b[32m51.1/51.1 kB\u001b[0m \u001b[31m5.9 MB/s\u001b[0m eta \u001b[36m0:00:00\u001b[0m\n",
            "\u001b[?25hCollecting pygments<3.0.0,>=2.6.0\n",
            "  Downloading Pygments-2.13.0-py3-none-any.whl (1.1 MB)\n",
            "\u001b[2K     \u001b[90m━━━━━━━━━━━━━━━━━━━━━━━━━━━━━━━━━━━━━━━━\u001b[0m \u001b[32m1.1/1.1 MB\u001b[0m \u001b[31m51.1 MB/s\u001b[0m eta \u001b[36m0:00:00\u001b[0m\n",
            "\u001b[?25hCollecting colormath>=3.0.0\n",
            "  Downloading colormath-3.0.0.tar.gz (39 kB)\n",
            "  Preparing metadata (setup.py) ... \u001b[?25l\u001b[?25hdone\n",
            "Collecting importlib-metadata\n",
            "  Downloading importlib_metadata-5.0.0-py3-none-any.whl (21 kB)\n",
            "Collecting humanfriendly>=9.1\n",
            "  Downloading humanfriendly-10.0-py2.py3-none-any.whl (86 kB)\n",
            "\u001b[2K     \u001b[90m━━━━━━━━━━━━━━━━━━━━━━━━━━━━━━━━━━━━━━━━\u001b[0m \u001b[32m86.8/86.8 kB\u001b[0m \u001b[31m9.9 MB/s\u001b[0m eta \u001b[36m0:00:00\u001b[0m\n",
            "\u001b[?25hRequirement already satisfied: charset-normalizer<3,>=2 in /usr/local/lib/python3.7/site-packages (from requests->multiqc) (2.1.1)\n",
            "Requirement already satisfied: idna<4,>=2.5 in /usr/local/lib/python3.7/site-packages (from requests->multiqc) (3.3)\n",
            "Requirement already satisfied: certifi>=2017.4.17 in /usr/local/lib/python3.7/site-packages (from requests->multiqc) (2022.9.24)\n",
            "Requirement already satisfied: urllib3<1.27,>=1.21.1 in /usr/local/lib/python3.7/site-packages (from requests->multiqc) (1.26.11)\n",
            "Collecting zipp>=0.5\n",
            "  Downloading zipp-3.10.0-py3-none-any.whl (6.2 kB)\n",
            "Requirement already satisfied: six>=1.5 in /usr/local/lib/python3.7/site-packages (from python-dateutil>=2.7->matplotlib>=2.1.1->multiqc) (1.16.0)\n",
            "Building wheels for collected packages: future, spectra, lzstring, colormath\n",
            "  Building wheel for future (setup.py) ... \u001b[?25l\u001b[?25hdone\n",
            "  Created wheel for future: filename=future-0.18.2-py3-none-any.whl size=491058 sha256=ccc3193a3d42410ac3d7d850b863e5a9dd111608ca204216713a1c0bf064b5eb\n",
            "  Stored in directory: /root/.cache/pip/wheels/56/b0/fe/4410d17b32f1f0c3cf54cdfb2bc04d7b4b8f4ae377e2229ba0\n",
            "  Building wheel for spectra (setup.py) ... \u001b[?25l\u001b[?25hdone\n",
            "  Created wheel for spectra: filename=spectra-0.0.11-py3-none-any.whl size=17471 sha256=444f3aefc26589029086c3591066c7f80ed0938a9247353e7bbbc4fceb03e75f\n",
            "  Stored in directory: /root/.cache/pip/wheels/e3/c8/a4/5a566fafff827fcb5741589e42002686bb29990fbc7b262b5e\n",
            "  Building wheel for lzstring (setup.py) ... \u001b[?25l\u001b[?25hdone\n",
            "  Created wheel for lzstring: filename=lzstring-1.0.4-py2.py3-none-any.whl size=4571 sha256=d3ccfe189a648e39b01db520fe1a29d896329c726fa3c87cec4d574d094bfff9\n",
            "  Stored in directory: /root/.cache/pip/wheels/f1/e0/9f/2d1e57842b9e3a9f030519f6ea5e55a21ba7d4f5bcbb4ef578\n",
            "  Building wheel for colormath (setup.py) ... \u001b[?25l\u001b[?25hdone\n",
            "  Created wheel for colormath: filename=colormath-3.0.0-py3-none-any.whl size=39410 sha256=dadf79152f036adcdf5f42eac77bd6fa39355c851ae5b1c6b3f2b043a1f70eab\n",
            "  Stored in directory: /root/.cache/pip/wheels/1a/d7/a7/458a4632ccc8bfe436f5e9db9fef1aa84e5d243a1b4b4c7b59\n",
            "Successfully built future spectra lzstring colormath\n",
            "Installing collected packages: commonmark, zipp, typing-extensions, simplejson, pyyaml, pyparsing, pygments, pillow, networkx, MarkupSafe, humanfriendly, future, fonttools, cycler, rich, packaging, lzstring, kiwisolver, jinja2, importlib-metadata, colormath, coloredlogs, spectra, matplotlib, markdown, click, rich-click, multiqc\n",
            "Successfully installed MarkupSafe-2.1.1 click-8.1.3 coloredlogs-15.0.1 colormath-3.0.0 commonmark-0.9.1 cycler-0.11.0 fonttools-4.38.0 future-0.18.2 humanfriendly-10.0 importlib-metadata-5.0.0 jinja2-3.1.2 kiwisolver-1.4.4 lzstring-1.0.4 markdown-3.4.1 matplotlib-3.5.3 multiqc-1.13 networkx-2.6.3 packaging-21.3 pillow-9.3.0 pygments-2.13.0 pyparsing-3.0.9 pyyaml-6.0 rich-12.6.0 rich-click-1.5.2 simplejson-3.18.0 spectra-0.0.11 typing-extensions-4.4.0 zipp-3.10.0\n",
            "\u001b[33mWARNING: Running pip as the 'root' user can result in broken permissions and conflicting behaviour with the system package manager. It is recommended to use a virtual environment instead: https://pip.pypa.io/warnings/venv\u001b[0m\u001b[33m\n",
            "\u001b[0m"
          ]
        },
        {
          "output_type": "display_data",
          "data": {
            "application/vnd.colab-display-data+json": {
              "pip_warning": {
                "packages": [
                  "cycler",
                  "kiwisolver"
                ]
              }
            }
          },
          "metadata": {}
        }
      ]
    },
    {
      "cell_type": "markdown",
      "source": [
        "# Fastq format\n",
        "\n",
        "All sequencers produces data in a format called **fastq**. The structure is showed below. All sequences with a fastq are represented by 4 lines:\n",
        "\n",
        "```\n",
        "@SEQ_ID                   <---- SEQUENCE NAME\n",
        "AGCGTGTACTGTGCATGTCGATG   <---- SEQUENCE AS BASES\n",
        "+                         <---- SEPARATOR LINE\n",
        "%%).1***-+*''))**55CCFF   <---- ASCII QUALITY SCORES\n",
        "\n",
        "```\n",
        "\n",
        "The quality of the sequences is represented as a character of the ASCII code. Check [here](https://support.illumina.com/help/BaseSpace_OLH_009008/Content/Source/Informatics/BS/QualityScoreEncoding_swBS.htm) for an explanation.\n",
        "The numerical values correspond to phred quality values"
      ],
      "metadata": {
        "id": "cCKzvpK9yzmt"
      }
    },
    {
      "cell_type": "markdown",
      "source": [
        "# Illumina QC\n",
        "\n",
        "We will use [FastQC](https://www.bioinformatics.babraham.ac.uk/projects/fastqc/) software for the analysis of the results of a Illumina run. FastQC run a series of analysis on fastq files, and report the results as an HTML file that you open in a browser. For help on any of the sections, please check the following links.\n",
        "\n",
        "*   [Basic statitistics](https://www.bioinformatics.babraham.ac.uk/projects/fastqc/Help/3%20Analysis%20Modules/1%20Basic%20Statistics.html)\n",
        "*   [Per base sequence quality](https://www.bioinformatics.babraham.ac.uk/projects/fastqc/Help/3%20Analysis%20Modules/2%20Per%20Base%20Sequence%20Quality.html)\n",
        "*   [Per base sequence content](https://www.bioinformatics.babraham.ac.uk/projects/fastqc/Help/3%20Analysis%20Modules/4%20Per%20Base%20Sequence%20Content.html)\n",
        "*   [Per sequence GC content](https://www.bioinformatics.babraham.ac.uk/projects/fastqc/Help/3%20Analysis%20Modules/5%20Per%20Sequence%20GC%20Content.html)\n",
        "*   [Per base N content](https://www.bioinformatics.babraham.ac.uk/projects/fastqc/Help/3%20Analysis%20Modules/6%20Per%20Base%20N%20Content.html)\n",
        "*   [Sequence length distribution](https://www.bioinformatics.babraham.ac.uk/projects/fastqc/Help/3%20Analysis%20Modules/7%20Sequence%20Length%20Distribution.html)\n",
        "*   [Duplicate Sequences](https://www.bioinformatics.babraham.ac.uk/projects/fastqc/Help/3%20Analysis%20Modules/8%20Duplicate%20Sequences.html)\n",
        "*   [Overrepresented Sequences](https://www.bioinformatics.babraham.ac.uk/projects/fastqc/Help/3%20Analysis%20Modules/9%20Overrepresented%20Sequences.html)\n",
        "*   [Adapter content](https://www.bioinformatics.babraham.ac.uk/projects/fastqc/Help/3%20Analysis%20Modules/10%20Adapter%20Content.html)\n",
        "*   [Kmer content](https://www.bioinformatics.babraham.ac.uk/projects/fastqc/Help/3%20Analysis%20Modules/11%20Kmer%20Content.html)\n",
        "*   [Per tile sequence quality](https://www.bioinformatics.babraham.ac.uk/projects/fastqc/Help/3%20Analysis%20Modules/12%20Per%20Tile%20Sequence%20Quality.html)\n"
      ],
      "metadata": {
        "id": "97-AF1JnuR_4"
      }
    },
    {
      "cell_type": "markdown",
      "source": [
        "Run fastQC from command line"
      ],
      "metadata": {
        "id": "dzKjsc_30R8X"
      }
    },
    {
      "cell_type": "code",
      "source": [
        "#Create a directory to store all FastQC results and run FastQC\n",
        "!mkdir Illumina_fastqc_results\n",
        "!fastqc -o Illumina_fastqc_results /content/Illumina_fastq/fastq/*"
      ],
      "metadata": {
        "id": "_AjKDOjT2SVY",
        "colab": {
          "base_uri": "https://localhost:8080/"
        },
        "outputId": "74d3d9cd-cedd-4c1f-9951-922b1a7a47ec"
      },
      "execution_count": null,
      "outputs": [
        {
          "output_type": "stream",
          "name": "stdout",
          "text": [
            "Started analysis of ERR5761182_1.fastq.gz\n",
            "Approx 5% complete for ERR5761182_1.fastq.gz\n",
            "Approx 10% complete for ERR5761182_1.fastq.gz\n",
            "Approx 15% complete for ERR5761182_1.fastq.gz\n",
            "Approx 20% complete for ERR5761182_1.fastq.gz\n",
            "Approx 25% complete for ERR5761182_1.fastq.gz\n",
            "Approx 30% complete for ERR5761182_1.fastq.gz\n",
            "Approx 35% complete for ERR5761182_1.fastq.gz\n",
            "Approx 40% complete for ERR5761182_1.fastq.gz\n",
            "Approx 45% complete for ERR5761182_1.fastq.gz\n",
            "Approx 50% complete for ERR5761182_1.fastq.gz\n",
            "Approx 55% complete for ERR5761182_1.fastq.gz\n",
            "Approx 60% complete for ERR5761182_1.fastq.gz\n",
            "Approx 65% complete for ERR5761182_1.fastq.gz\n",
            "Approx 70% complete for ERR5761182_1.fastq.gz\n",
            "Approx 75% complete for ERR5761182_1.fastq.gz\n",
            "Approx 80% complete for ERR5761182_1.fastq.gz\n",
            "Approx 85% complete for ERR5761182_1.fastq.gz\n",
            "Approx 90% complete for ERR5761182_1.fastq.gz\n",
            "Approx 95% complete for ERR5761182_1.fastq.gz\n",
            "Analysis complete for ERR5761182_1.fastq.gz\n",
            "Started analysis of ERR5761182_2.fastq.gz\n",
            "Approx 5% complete for ERR5761182_2.fastq.gz\n",
            "Approx 10% complete for ERR5761182_2.fastq.gz\n",
            "Approx 15% complete for ERR5761182_2.fastq.gz\n",
            "Approx 20% complete for ERR5761182_2.fastq.gz\n",
            "Approx 25% complete for ERR5761182_2.fastq.gz\n",
            "Approx 30% complete for ERR5761182_2.fastq.gz\n",
            "Approx 35% complete for ERR5761182_2.fastq.gz\n",
            "Approx 40% complete for ERR5761182_2.fastq.gz\n",
            "Approx 45% complete for ERR5761182_2.fastq.gz\n",
            "Approx 50% complete for ERR5761182_2.fastq.gz\n",
            "Approx 55% complete for ERR5761182_2.fastq.gz\n",
            "Approx 60% complete for ERR5761182_2.fastq.gz\n",
            "Approx 65% complete for ERR5761182_2.fastq.gz\n",
            "Approx 70% complete for ERR5761182_2.fastq.gz\n",
            "Approx 75% complete for ERR5761182_2.fastq.gz\n",
            "Approx 80% complete for ERR5761182_2.fastq.gz\n",
            "Approx 85% complete for ERR5761182_2.fastq.gz\n",
            "Approx 90% complete for ERR5761182_2.fastq.gz\n",
            "Approx 95% complete for ERR5761182_2.fastq.gz\n",
            "Analysis complete for ERR5761182_2.fastq.gz\n",
            "Started analysis of ERR5914874_1.fastq.gz\n",
            "Approx 5% complete for ERR5914874_1.fastq.gz\n",
            "Approx 10% complete for ERR5914874_1.fastq.gz\n",
            "Approx 15% complete for ERR5914874_1.fastq.gz\n",
            "Approx 20% complete for ERR5914874_1.fastq.gz\n",
            "Approx 25% complete for ERR5914874_1.fastq.gz\n",
            "Approx 30% complete for ERR5914874_1.fastq.gz\n",
            "Approx 35% complete for ERR5914874_1.fastq.gz\n",
            "Approx 40% complete for ERR5914874_1.fastq.gz\n",
            "Approx 45% complete for ERR5914874_1.fastq.gz\n",
            "Approx 50% complete for ERR5914874_1.fastq.gz\n",
            "Approx 55% complete for ERR5914874_1.fastq.gz\n",
            "Approx 60% complete for ERR5914874_1.fastq.gz\n",
            "Approx 65% complete for ERR5914874_1.fastq.gz\n",
            "Approx 70% complete for ERR5914874_1.fastq.gz\n",
            "Approx 75% complete for ERR5914874_1.fastq.gz\n",
            "Approx 80% complete for ERR5914874_1.fastq.gz\n",
            "Approx 85% complete for ERR5914874_1.fastq.gz\n",
            "Approx 90% complete for ERR5914874_1.fastq.gz\n",
            "Approx 95% complete for ERR5914874_1.fastq.gz\n",
            "Analysis complete for ERR5914874_1.fastq.gz\n",
            "Started analysis of ERR5914874_2.fastq.gz\n",
            "Approx 5% complete for ERR5914874_2.fastq.gz\n",
            "Approx 10% complete for ERR5914874_2.fastq.gz\n",
            "Approx 15% complete for ERR5914874_2.fastq.gz\n",
            "Approx 20% complete for ERR5914874_2.fastq.gz\n",
            "Approx 25% complete for ERR5914874_2.fastq.gz\n",
            "Approx 30% complete for ERR5914874_2.fastq.gz\n",
            "Approx 35% complete for ERR5914874_2.fastq.gz\n",
            "Approx 40% complete for ERR5914874_2.fastq.gz\n",
            "Approx 45% complete for ERR5914874_2.fastq.gz\n",
            "Approx 50% complete for ERR5914874_2.fastq.gz\n",
            "Approx 55% complete for ERR5914874_2.fastq.gz\n",
            "Approx 60% complete for ERR5914874_2.fastq.gz\n",
            "Approx 65% complete for ERR5914874_2.fastq.gz\n",
            "Approx 70% complete for ERR5914874_2.fastq.gz\n",
            "Approx 75% complete for ERR5914874_2.fastq.gz\n",
            "Approx 80% complete for ERR5914874_2.fastq.gz\n",
            "Approx 85% complete for ERR5914874_2.fastq.gz\n",
            "Approx 90% complete for ERR5914874_2.fastq.gz\n",
            "Approx 95% complete for ERR5914874_2.fastq.gz\n",
            "Analysis complete for ERR5914874_2.fastq.gz\n",
            "Started analysis of ERR5921129_1.fastq.gz\n",
            "Approx 5% complete for ERR5921129_1.fastq.gz\n",
            "Approx 10% complete for ERR5921129_1.fastq.gz\n",
            "Approx 15% complete for ERR5921129_1.fastq.gz\n",
            "Approx 20% complete for ERR5921129_1.fastq.gz\n",
            "Approx 25% complete for ERR5921129_1.fastq.gz\n",
            "Approx 30% complete for ERR5921129_1.fastq.gz\n",
            "Approx 35% complete for ERR5921129_1.fastq.gz\n",
            "Approx 40% complete for ERR5921129_1.fastq.gz\n",
            "Approx 45% complete for ERR5921129_1.fastq.gz\n",
            "Approx 50% complete for ERR5921129_1.fastq.gz\n",
            "Approx 55% complete for ERR5921129_1.fastq.gz\n",
            "Approx 60% complete for ERR5921129_1.fastq.gz\n",
            "Approx 65% complete for ERR5921129_1.fastq.gz\n",
            "Approx 70% complete for ERR5921129_1.fastq.gz\n",
            "Approx 75% complete for ERR5921129_1.fastq.gz\n",
            "Approx 80% complete for ERR5921129_1.fastq.gz\n",
            "Approx 85% complete for ERR5921129_1.fastq.gz\n",
            "Approx 90% complete for ERR5921129_1.fastq.gz\n",
            "Approx 95% complete for ERR5921129_1.fastq.gz\n",
            "Analysis complete for ERR5921129_1.fastq.gz\n",
            "Started analysis of ERR5921129_2.fastq.gz\n",
            "Approx 5% complete for ERR5921129_2.fastq.gz\n",
            "Approx 10% complete for ERR5921129_2.fastq.gz\n",
            "Approx 15% complete for ERR5921129_2.fastq.gz\n",
            "Approx 20% complete for ERR5921129_2.fastq.gz\n",
            "Approx 25% complete for ERR5921129_2.fastq.gz\n",
            "Approx 30% complete for ERR5921129_2.fastq.gz\n",
            "Approx 35% complete for ERR5921129_2.fastq.gz\n",
            "Approx 40% complete for ERR5921129_2.fastq.gz\n",
            "Approx 45% complete for ERR5921129_2.fastq.gz\n",
            "Approx 50% complete for ERR5921129_2.fastq.gz\n",
            "Approx 55% complete for ERR5921129_2.fastq.gz\n",
            "Approx 60% complete for ERR5921129_2.fastq.gz\n",
            "Approx 65% complete for ERR5921129_2.fastq.gz\n",
            "Approx 70% complete for ERR5921129_2.fastq.gz\n",
            "Approx 75% complete for ERR5921129_2.fastq.gz\n",
            "Approx 80% complete for ERR5921129_2.fastq.gz\n",
            "Approx 85% complete for ERR5921129_2.fastq.gz\n",
            "Approx 90% complete for ERR5921129_2.fastq.gz\n",
            "Approx 95% complete for ERR5921129_2.fastq.gz\n",
            "Analysis complete for ERR5921129_2.fastq.gz\n",
            "Started analysis of ERR5921612_1.fastq.gz\n",
            "Approx 5% complete for ERR5921612_1.fastq.gz\n",
            "Approx 10% complete for ERR5921612_1.fastq.gz\n",
            "Approx 15% complete for ERR5921612_1.fastq.gz\n",
            "Approx 20% complete for ERR5921612_1.fastq.gz\n",
            "Approx 25% complete for ERR5921612_1.fastq.gz\n",
            "Approx 30% complete for ERR5921612_1.fastq.gz\n",
            "Approx 35% complete for ERR5921612_1.fastq.gz\n",
            "Approx 40% complete for ERR5921612_1.fastq.gz\n",
            "Approx 45% complete for ERR5921612_1.fastq.gz\n",
            "Approx 50% complete for ERR5921612_1.fastq.gz\n",
            "Approx 55% complete for ERR5921612_1.fastq.gz\n",
            "Approx 60% complete for ERR5921612_1.fastq.gz\n",
            "Approx 65% complete for ERR5921612_1.fastq.gz\n",
            "Approx 70% complete for ERR5921612_1.fastq.gz\n",
            "Approx 75% complete for ERR5921612_1.fastq.gz\n",
            "Approx 80% complete for ERR5921612_1.fastq.gz\n",
            "Approx 85% complete for ERR5921612_1.fastq.gz\n",
            "Approx 90% complete for ERR5921612_1.fastq.gz\n",
            "Approx 95% complete for ERR5921612_1.fastq.gz\n",
            "Analysis complete for ERR5921612_1.fastq.gz\n",
            "Started analysis of ERR5921612_2.fastq.gz\n",
            "Approx 5% complete for ERR5921612_2.fastq.gz\n",
            "Approx 10% complete for ERR5921612_2.fastq.gz\n",
            "Approx 15% complete for ERR5921612_2.fastq.gz\n",
            "Approx 20% complete for ERR5921612_2.fastq.gz\n",
            "Approx 25% complete for ERR5921612_2.fastq.gz\n",
            "Approx 30% complete for ERR5921612_2.fastq.gz\n",
            "Approx 35% complete for ERR5921612_2.fastq.gz\n",
            "Approx 40% complete for ERR5921612_2.fastq.gz\n",
            "Approx 45% complete for ERR5921612_2.fastq.gz\n",
            "Approx 50% complete for ERR5921612_2.fastq.gz\n",
            "Approx 55% complete for ERR5921612_2.fastq.gz\n",
            "Approx 60% complete for ERR5921612_2.fastq.gz\n",
            "Approx 65% complete for ERR5921612_2.fastq.gz\n",
            "Approx 70% complete for ERR5921612_2.fastq.gz\n",
            "Approx 75% complete for ERR5921612_2.fastq.gz\n",
            "Approx 80% complete for ERR5921612_2.fastq.gz\n",
            "Approx 85% complete for ERR5921612_2.fastq.gz\n",
            "Approx 90% complete for ERR5921612_2.fastq.gz\n",
            "Approx 95% complete for ERR5921612_2.fastq.gz\n",
            "Analysis complete for ERR5921612_2.fastq.gz\n",
            "Started analysis of ERR5926784_1.fastq.gz\n",
            "Approx 5% complete for ERR5926784_1.fastq.gz\n",
            "Approx 10% complete for ERR5926784_1.fastq.gz\n",
            "Approx 15% complete for ERR5926784_1.fastq.gz\n",
            "Approx 20% complete for ERR5926784_1.fastq.gz\n",
            "Approx 25% complete for ERR5926784_1.fastq.gz\n",
            "Approx 30% complete for ERR5926784_1.fastq.gz\n",
            "Approx 35% complete for ERR5926784_1.fastq.gz\n",
            "Approx 40% complete for ERR5926784_1.fastq.gz\n",
            "Approx 45% complete for ERR5926784_1.fastq.gz\n",
            "Approx 50% complete for ERR5926784_1.fastq.gz\n",
            "Approx 55% complete for ERR5926784_1.fastq.gz\n",
            "Approx 60% complete for ERR5926784_1.fastq.gz\n",
            "Approx 65% complete for ERR5926784_1.fastq.gz\n",
            "Approx 70% complete for ERR5926784_1.fastq.gz\n",
            "Approx 75% complete for ERR5926784_1.fastq.gz\n",
            "Approx 80% complete for ERR5926784_1.fastq.gz\n",
            "Approx 85% complete for ERR5926784_1.fastq.gz\n",
            "Approx 90% complete for ERR5926784_1.fastq.gz\n",
            "Approx 95% complete for ERR5926784_1.fastq.gz\n",
            "Analysis complete for ERR5926784_1.fastq.gz\n",
            "Started analysis of ERR5926784_2.fastq.gz\n",
            "Approx 5% complete for ERR5926784_2.fastq.gz\n",
            "Approx 10% complete for ERR5926784_2.fastq.gz\n",
            "Approx 15% complete for ERR5926784_2.fastq.gz\n",
            "Approx 20% complete for ERR5926784_2.fastq.gz\n",
            "Approx 25% complete for ERR5926784_2.fastq.gz\n",
            "Approx 30% complete for ERR5926784_2.fastq.gz\n",
            "Approx 35% complete for ERR5926784_2.fastq.gz\n",
            "Approx 40% complete for ERR5926784_2.fastq.gz\n",
            "Approx 45% complete for ERR5926784_2.fastq.gz\n",
            "Approx 50% complete for ERR5926784_2.fastq.gz\n",
            "Approx 55% complete for ERR5926784_2.fastq.gz\n",
            "Approx 60% complete for ERR5926784_2.fastq.gz\n",
            "Approx 65% complete for ERR5926784_2.fastq.gz\n",
            "Approx 70% complete for ERR5926784_2.fastq.gz\n",
            "Approx 75% complete for ERR5926784_2.fastq.gz\n",
            "Approx 80% complete for ERR5926784_2.fastq.gz\n",
            "Approx 85% complete for ERR5926784_2.fastq.gz\n",
            "Approx 90% complete for ERR5926784_2.fastq.gz\n",
            "Approx 95% complete for ERR5926784_2.fastq.gz\n",
            "Analysis complete for ERR5926784_2.fastq.gz\n",
            "Started analysis of ERR5932418_1.fastq.gz\n",
            "Approx 5% complete for ERR5932418_1.fastq.gz\n",
            "Approx 10% complete for ERR5932418_1.fastq.gz\n",
            "Approx 15% complete for ERR5932418_1.fastq.gz\n",
            "Approx 20% complete for ERR5932418_1.fastq.gz\n",
            "Approx 25% complete for ERR5932418_1.fastq.gz\n",
            "Approx 30% complete for ERR5932418_1.fastq.gz\n",
            "Approx 35% complete for ERR5932418_1.fastq.gz\n",
            "Approx 40% complete for ERR5932418_1.fastq.gz\n",
            "Approx 45% complete for ERR5932418_1.fastq.gz\n",
            "Approx 50% complete for ERR5932418_1.fastq.gz\n",
            "Approx 55% complete for ERR5932418_1.fastq.gz\n",
            "Approx 60% complete for ERR5932418_1.fastq.gz\n",
            "Approx 65% complete for ERR5932418_1.fastq.gz\n",
            "Approx 70% complete for ERR5932418_1.fastq.gz\n",
            "Approx 75% complete for ERR5932418_1.fastq.gz\n",
            "Approx 80% complete for ERR5932418_1.fastq.gz\n",
            "Approx 85% complete for ERR5932418_1.fastq.gz\n",
            "Approx 90% complete for ERR5932418_1.fastq.gz\n",
            "Approx 95% complete for ERR5932418_1.fastq.gz\n",
            "Analysis complete for ERR5932418_1.fastq.gz\n",
            "Started analysis of ERR5932418_2.fastq.gz\n",
            "Approx 5% complete for ERR5932418_2.fastq.gz\n",
            "Approx 10% complete for ERR5932418_2.fastq.gz\n",
            "Approx 15% complete for ERR5932418_2.fastq.gz\n",
            "Approx 20% complete for ERR5932418_2.fastq.gz\n",
            "Approx 25% complete for ERR5932418_2.fastq.gz\n",
            "Approx 30% complete for ERR5932418_2.fastq.gz\n",
            "Approx 35% complete for ERR5932418_2.fastq.gz\n",
            "Approx 40% complete for ERR5932418_2.fastq.gz\n",
            "Approx 45% complete for ERR5932418_2.fastq.gz\n",
            "Approx 50% complete for ERR5932418_2.fastq.gz\n",
            "Approx 55% complete for ERR5932418_2.fastq.gz\n",
            "Approx 60% complete for ERR5932418_2.fastq.gz\n",
            "Approx 65% complete for ERR5932418_2.fastq.gz\n",
            "Approx 70% complete for ERR5932418_2.fastq.gz\n",
            "Approx 75% complete for ERR5932418_2.fastq.gz\n",
            "Approx 80% complete for ERR5932418_2.fastq.gz\n",
            "Approx 85% complete for ERR5932418_2.fastq.gz\n",
            "Approx 90% complete for ERR5932418_2.fastq.gz\n",
            "Approx 95% complete for ERR5932418_2.fastq.gz\n",
            "Analysis complete for ERR5932418_2.fastq.gz\n",
            "Started analysis of ERR6086247_1.fastq.gz\n",
            "Approx 5% complete for ERR6086247_1.fastq.gz\n",
            "Approx 10% complete for ERR6086247_1.fastq.gz\n",
            "Approx 15% complete for ERR6086247_1.fastq.gz\n",
            "Approx 20% complete for ERR6086247_1.fastq.gz\n",
            "Approx 25% complete for ERR6086247_1.fastq.gz\n",
            "Approx 30% complete for ERR6086247_1.fastq.gz\n",
            "Approx 35% complete for ERR6086247_1.fastq.gz\n",
            "Approx 40% complete for ERR6086247_1.fastq.gz\n",
            "Approx 45% complete for ERR6086247_1.fastq.gz\n",
            "Approx 50% complete for ERR6086247_1.fastq.gz\n",
            "Approx 55% complete for ERR6086247_1.fastq.gz\n",
            "Approx 60% complete for ERR6086247_1.fastq.gz\n",
            "Approx 65% complete for ERR6086247_1.fastq.gz\n",
            "Approx 70% complete for ERR6086247_1.fastq.gz\n",
            "Approx 75% complete for ERR6086247_1.fastq.gz\n",
            "Approx 80% complete for ERR6086247_1.fastq.gz\n",
            "Approx 85% complete for ERR6086247_1.fastq.gz\n",
            "Approx 90% complete for ERR6086247_1.fastq.gz\n",
            "Approx 95% complete for ERR6086247_1.fastq.gz\n",
            "Analysis complete for ERR6086247_1.fastq.gz\n",
            "Started analysis of ERR6086247_2.fastq.gz\n",
            "Approx 5% complete for ERR6086247_2.fastq.gz\n",
            "Approx 10% complete for ERR6086247_2.fastq.gz\n",
            "Approx 15% complete for ERR6086247_2.fastq.gz\n",
            "Approx 20% complete for ERR6086247_2.fastq.gz\n",
            "Approx 25% complete for ERR6086247_2.fastq.gz\n",
            "Approx 30% complete for ERR6086247_2.fastq.gz\n",
            "Approx 35% complete for ERR6086247_2.fastq.gz\n",
            "Approx 40% complete for ERR6086247_2.fastq.gz\n",
            "Approx 45% complete for ERR6086247_2.fastq.gz\n",
            "Approx 50% complete for ERR6086247_2.fastq.gz\n",
            "Approx 55% complete for ERR6086247_2.fastq.gz\n",
            "Approx 60% complete for ERR6086247_2.fastq.gz\n",
            "Approx 65% complete for ERR6086247_2.fastq.gz\n",
            "Approx 70% complete for ERR6086247_2.fastq.gz\n",
            "Approx 75% complete for ERR6086247_2.fastq.gz\n",
            "Approx 80% complete for ERR6086247_2.fastq.gz\n",
            "Approx 85% complete for ERR6086247_2.fastq.gz\n",
            "Approx 90% complete for ERR6086247_2.fastq.gz\n",
            "Approx 95% complete for ERR6086247_2.fastq.gz\n",
            "Analysis complete for ERR6086247_2.fastq.gz\n",
            "Started analysis of ERR6129126_1.fastq.gz\n",
            "Approx 5% complete for ERR6129126_1.fastq.gz\n",
            "Approx 10% complete for ERR6129126_1.fastq.gz\n",
            "Approx 15% complete for ERR6129126_1.fastq.gz\n",
            "Approx 20% complete for ERR6129126_1.fastq.gz\n",
            "Approx 25% complete for ERR6129126_1.fastq.gz\n",
            "Approx 30% complete for ERR6129126_1.fastq.gz\n",
            "Approx 35% complete for ERR6129126_1.fastq.gz\n",
            "Approx 40% complete for ERR6129126_1.fastq.gz\n",
            "Approx 45% complete for ERR6129126_1.fastq.gz\n",
            "Approx 50% complete for ERR6129126_1.fastq.gz\n",
            "Approx 55% complete for ERR6129126_1.fastq.gz\n",
            "Approx 60% complete for ERR6129126_1.fastq.gz\n",
            "Approx 65% complete for ERR6129126_1.fastq.gz\n",
            "Approx 70% complete for ERR6129126_1.fastq.gz\n",
            "Approx 75% complete for ERR6129126_1.fastq.gz\n",
            "Approx 80% complete for ERR6129126_1.fastq.gz\n",
            "Approx 85% complete for ERR6129126_1.fastq.gz\n",
            "Approx 90% complete for ERR6129126_1.fastq.gz\n",
            "Approx 95% complete for ERR6129126_1.fastq.gz\n",
            "Analysis complete for ERR6129126_1.fastq.gz\n",
            "Started analysis of ERR6129126_2.fastq.gz\n",
            "Approx 5% complete for ERR6129126_2.fastq.gz\n",
            "Approx 10% complete for ERR6129126_2.fastq.gz\n",
            "Approx 15% complete for ERR6129126_2.fastq.gz\n",
            "Approx 20% complete for ERR6129126_2.fastq.gz\n",
            "Approx 25% complete for ERR6129126_2.fastq.gz\n",
            "Approx 30% complete for ERR6129126_2.fastq.gz\n",
            "Approx 35% complete for ERR6129126_2.fastq.gz\n",
            "Approx 40% complete for ERR6129126_2.fastq.gz\n",
            "Approx 45% complete for ERR6129126_2.fastq.gz\n",
            "Approx 50% complete for ERR6129126_2.fastq.gz\n",
            "Approx 55% complete for ERR6129126_2.fastq.gz\n",
            "Approx 60% complete for ERR6129126_2.fastq.gz\n",
            "Approx 65% complete for ERR6129126_2.fastq.gz\n",
            "Approx 70% complete for ERR6129126_2.fastq.gz\n",
            "Approx 75% complete for ERR6129126_2.fastq.gz\n",
            "Approx 80% complete for ERR6129126_2.fastq.gz\n",
            "Approx 85% complete for ERR6129126_2.fastq.gz\n",
            "Approx 90% complete for ERR6129126_2.fastq.gz\n",
            "Approx 95% complete for ERR6129126_2.fastq.gz\n",
            "Analysis complete for ERR6129126_2.fastq.gz\n"
          ]
        }
      ]
    },
    {
      "cell_type": "markdown",
      "source": [
        "As we did in the previous module, we can summarize the results of fastqc using multiqc"
      ],
      "metadata": {
        "id": "1gIIXG21FFMC"
      }
    },
    {
      "cell_type": "code",
      "source": [
        "!multiqc -o /content/Illumina_fastqc_results/ /content/Illumina_fastqc_results/"
      ],
      "metadata": {
        "id": "SFcigAHOGW6o",
        "colab": {
          "base_uri": "https://localhost:8080/"
        },
        "outputId": "619d8e34-fa7d-4091-f7f5-f064af4b24aa"
      },
      "execution_count": null,
      "outputs": [
        {
          "output_type": "stream",
          "name": "stdout",
          "text": [
            "\n",
            "  \u001b[34m/\u001b[0m\u001b[32m/\u001b[0m\u001b[31m/\u001b[0m \u001b]8;id=703430;https://multiqc.info\u001b\\\u001b[1mMultiQC\u001b[0m\u001b]8;;\u001b\\ 🔍 \u001b[2m| v1.13\u001b[0m\n",
            "\n",
            "\u001b[34m|           multiqc\u001b[0m | Search path : /content/Illumina_fastqc_results\n",
            "\u001b[2K\u001b[34m|\u001b[0m         \u001b[34msearching\u001b[0m | \u001b[90m━━━━━━━━━━━━━━━━━━━━━━━━━━━━━━━━━━━━━━━━\u001b[0m \u001b[35m100%\u001b[0m \u001b[32m32/32\u001b[0m  \n",
            "\u001b[?25h\u001b[34m|            fastqc\u001b[0m | Found 16 reports\n",
            "\u001b[34m|           multiqc\u001b[0m | Compressing plot data\n",
            "\u001b[34m|           multiqc\u001b[0m | Report      : Illumina_fastqc_results/multiqc_report.html\n",
            "\u001b[34m|           multiqc\u001b[0m | Data        : Illumina_fastqc_results/multiqc_data\n",
            "\u001b[34m|           multiqc\u001b[0m | MultiQC complete\n"
          ]
        }
      ]
    },
    {
      "cell_type": "markdown",
      "source": [
        "This will create an HTML result file (`multiqc_report`) with a summary of FastQC reports.\n",
        "\n",
        "Navigate the results for each file and report:\n",
        "\n",
        "> **Which sample has more reads?**\n",
        "\n",
        "ERR5932418_1\n",
        "ERR5932418_2\n",
        "\n",
        "> **Is there any distribution of sequences sizes?**\n",
        "\n",
        "Yes, we have got sequence length or size distribution. Two peaks are seen at different size.\n"
      ],
      "metadata": {
        "id": "QWk2zIA82W7s"
      }
    },
    {
      "cell_type": "markdown",
      "source": [
        "# Nanopore QC"
      ],
      "metadata": {
        "id": "gEyqKnBS0NmF"
      }
    },
    {
      "cell_type": "markdown",
      "source": [
        "Run fastQC from command line (actually, for Nanopore, FastQC is not a good choice)"
      ],
      "metadata": {
        "id": "aIgMW36I562h"
      }
    },
    {
      "cell_type": "code",
      "source": [
        "!mkdir Nanopore_FastQC_report\n",
        "!fastqc -o Nanopore_FastQC_report /content/Nanopore_READS/nanopore_fastq/barcode*/*"
      ],
      "metadata": {
        "id": "ow3nIVgNa0B_",
        "colab": {
          "base_uri": "https://localhost:8080/"
        },
        "outputId": "851e7455-b590-4630-c0c3-ef6ea753acae"
      },
      "execution_count": null,
      "outputs": [
        {
          "output_type": "stream",
          "name": "stdout",
          "text": [
            "Started analysis of barcode41.fastq.gz\n",
            "Approx 20% complete for barcode41.fastq.gz\n",
            "Approx 40% complete for barcode41.fastq.gz\n",
            "Approx 65% complete for barcode41.fastq.gz\n",
            "Approx 85% complete for barcode41.fastq.gz\n",
            "Analysis complete for barcode41.fastq.gz\n",
            "Started analysis of barcode53.fastq.gz\n",
            "Approx 5% complete for barcode53.fastq.gz\n",
            "Approx 10% complete for barcode53.fastq.gz\n",
            "Approx 15% complete for barcode53.fastq.gz\n",
            "Approx 20% complete for barcode53.fastq.gz\n",
            "Approx 25% complete for barcode53.fastq.gz\n",
            "Approx 30% complete for barcode53.fastq.gz\n",
            "Approx 35% complete for barcode53.fastq.gz\n",
            "Approx 40% complete for barcode53.fastq.gz\n",
            "Approx 45% complete for barcode53.fastq.gz\n",
            "Approx 50% complete for barcode53.fastq.gz\n",
            "Approx 55% complete for barcode53.fastq.gz\n",
            "Approx 60% complete for barcode53.fastq.gz\n",
            "Approx 65% complete for barcode53.fastq.gz\n",
            "Approx 70% complete for barcode53.fastq.gz\n",
            "Approx 75% complete for barcode53.fastq.gz\n",
            "Approx 80% complete for barcode53.fastq.gz\n",
            "Approx 85% complete for barcode53.fastq.gz\n",
            "Approx 90% complete for barcode53.fastq.gz\n",
            "Approx 95% complete for barcode53.fastq.gz\n",
            "Analysis complete for barcode53.fastq.gz\n",
            "Started analysis of barcode60.fastq.gz\n",
            "Approx 5% complete for barcode60.fastq.gz\n",
            "Approx 10% complete for barcode60.fastq.gz\n",
            "Approx 15% complete for barcode60.fastq.gz\n",
            "Approx 20% complete for barcode60.fastq.gz\n",
            "Approx 25% complete for barcode60.fastq.gz\n",
            "Approx 30% complete for barcode60.fastq.gz\n",
            "Approx 35% complete for barcode60.fastq.gz\n",
            "Approx 40% complete for barcode60.fastq.gz\n",
            "Approx 45% complete for barcode60.fastq.gz\n",
            "Approx 50% complete for barcode60.fastq.gz\n",
            "Approx 55% complete for barcode60.fastq.gz\n",
            "Approx 60% complete for barcode60.fastq.gz\n",
            "Approx 65% complete for barcode60.fastq.gz\n",
            "Approx 70% complete for barcode60.fastq.gz\n",
            "Approx 75% complete for barcode60.fastq.gz\n",
            "Approx 80% complete for barcode60.fastq.gz\n",
            "Approx 85% complete for barcode60.fastq.gz\n",
            "Approx 90% complete for barcode60.fastq.gz\n",
            "Approx 95% complete for barcode60.fastq.gz\n",
            "Analysis complete for barcode60.fastq.gz\n",
            "Started analysis of barcode70.fastq.gz\n",
            "Approx 5% complete for barcode70.fastq.gz\n",
            "Approx 10% complete for barcode70.fastq.gz\n",
            "Approx 15% complete for barcode70.fastq.gz\n",
            "Approx 20% complete for barcode70.fastq.gz\n",
            "Approx 25% complete for barcode70.fastq.gz\n",
            "Approx 30% complete for barcode70.fastq.gz\n",
            "Approx 35% complete for barcode70.fastq.gz\n",
            "Approx 40% complete for barcode70.fastq.gz\n",
            "Approx 45% complete for barcode70.fastq.gz\n",
            "Approx 50% complete for barcode70.fastq.gz\n",
            "Approx 55% complete for barcode70.fastq.gz\n",
            "Approx 60% complete for barcode70.fastq.gz\n",
            "Approx 65% complete for barcode70.fastq.gz\n",
            "Approx 70% complete for barcode70.fastq.gz\n",
            "Approx 75% complete for barcode70.fastq.gz\n",
            "Approx 80% complete for barcode70.fastq.gz\n",
            "Approx 85% complete for barcode70.fastq.gz\n",
            "Approx 90% complete for barcode70.fastq.gz\n",
            "Approx 95% complete for barcode70.fastq.gz\n",
            "Analysis complete for barcode70.fastq.gz\n",
            "Started analysis of barcode79.fastq.gz\n",
            "Approx 5% complete for barcode79.fastq.gz\n",
            "Approx 15% complete for barcode79.fastq.gz\n",
            "Approx 25% complete for barcode79.fastq.gz\n",
            "Approx 35% complete for barcode79.fastq.gz\n",
            "Approx 45% complete for barcode79.fastq.gz\n",
            "Approx 55% complete for barcode79.fastq.gz\n",
            "Approx 65% complete for barcode79.fastq.gz\n",
            "Approx 75% complete for barcode79.fastq.gz\n",
            "Approx 85% complete for barcode79.fastq.gz\n",
            "Approx 95% complete for barcode79.fastq.gz\n",
            "Analysis complete for barcode79.fastq.gz\n",
            "Started analysis of barcode92.fastq.gz\n",
            "Approx 5% complete for barcode92.fastq.gz\n",
            "Approx 10% complete for barcode92.fastq.gz\n",
            "Approx 15% complete for barcode92.fastq.gz\n",
            "Approx 20% complete for barcode92.fastq.gz\n",
            "Approx 25% complete for barcode92.fastq.gz\n",
            "Approx 30% complete for barcode92.fastq.gz\n",
            "Approx 35% complete for barcode92.fastq.gz\n",
            "Approx 40% complete for barcode92.fastq.gz\n",
            "Approx 45% complete for barcode92.fastq.gz\n",
            "Approx 50% complete for barcode92.fastq.gz\n",
            "Approx 55% complete for barcode92.fastq.gz\n",
            "Approx 60% complete for barcode92.fastq.gz\n",
            "Approx 65% complete for barcode92.fastq.gz\n",
            "Approx 70% complete for barcode92.fastq.gz\n",
            "Approx 75% complete for barcode92.fastq.gz\n",
            "Approx 80% complete for barcode92.fastq.gz\n",
            "Approx 85% complete for barcode92.fastq.gz\n",
            "Approx 90% complete for barcode92.fastq.gz\n",
            "Approx 95% complete for barcode92.fastq.gz\n",
            "Analysis complete for barcode92.fastq.gz\n",
            "Started analysis of barcode93.fastq.gz\n",
            "Approx 5% complete for barcode93.fastq.gz\n",
            "Approx 10% complete for barcode93.fastq.gz\n",
            "Approx 15% complete for barcode93.fastq.gz\n",
            "Approx 20% complete for barcode93.fastq.gz\n",
            "Approx 25% complete for barcode93.fastq.gz\n",
            "Approx 30% complete for barcode93.fastq.gz\n",
            "Approx 35% complete for barcode93.fastq.gz\n",
            "Approx 40% complete for barcode93.fastq.gz\n",
            "Approx 45% complete for barcode93.fastq.gz\n",
            "Approx 50% complete for barcode93.fastq.gz\n",
            "Approx 55% complete for barcode93.fastq.gz\n",
            "Approx 60% complete for barcode93.fastq.gz\n",
            "Approx 65% complete for barcode93.fastq.gz\n",
            "Approx 70% complete for barcode93.fastq.gz\n",
            "Approx 75% complete for barcode93.fastq.gz\n",
            "Approx 80% complete for barcode93.fastq.gz\n",
            "Approx 85% complete for barcode93.fastq.gz\n",
            "Approx 90% complete for barcode93.fastq.gz\n",
            "Approx 95% complete for barcode93.fastq.gz\n",
            "Analysis complete for barcode93.fastq.gz\n"
          ]
        }
      ]
    },
    {
      "cell_type": "code",
      "source": [
        "!multiqc -o /content/Nanopore_FastQC_report/ /content/Nanopore_FastQC_report/"
      ],
      "metadata": {
        "id": "6B57EggvPnOC",
        "colab": {
          "base_uri": "https://localhost:8080/"
        },
        "outputId": "7da60c8c-8698-4004-f1c6-1f1e396ea948"
      },
      "execution_count": null,
      "outputs": [
        {
          "output_type": "stream",
          "name": "stdout",
          "text": [
            "\n",
            "  \u001b[34m/\u001b[0m\u001b[32m/\u001b[0m\u001b[31m/\u001b[0m \u001b]8;id=94002;https://multiqc.info\u001b\\\u001b[1mMultiQC\u001b[0m\u001b]8;;\u001b\\ 🔍 \u001b[2m| v1.13\u001b[0m\n",
            "\n",
            "\u001b[34m|           multiqc\u001b[0m | Search path : /content/Nanopore_FastQC_report\n",
            "\u001b[2K\u001b[34m|\u001b[0m         \u001b[34msearching\u001b[0m | \u001b[90m━━━━━━━━━━━━━━━━━━━━━━━━━━━━━━━━━━━━━━━━\u001b[0m \u001b[35m100%\u001b[0m \u001b[32m14/14\u001b[0m  \n",
            "\u001b[?25h\u001b[34m|            fastqc\u001b[0m | Found 7 reports\n",
            "\u001b[34m|           multiqc\u001b[0m | Compressing plot data\n",
            "\u001b[34m|           multiqc\u001b[0m | Report      : Nanopore_FastQC_report/multiqc_report.html\n",
            "\u001b[34m|           multiqc\u001b[0m | Data        : Nanopore_FastQC_report/multiqc_data\n",
            "\u001b[34m|           multiqc\u001b[0m | MultiQC complete\n"
          ]
        }
      ]
    },
    {
      "cell_type": "markdown",
      "source": [
        "Running NanoPlot for Nanopore data "
      ],
      "metadata": {
        "id": "kofR4BYv5msu"
      }
    },
    {
      "cell_type": "code",
      "source": [
        "!NanoPlot -o nanoplot_output --fastq_rich /content/Nanopore_READS/nanopore_fastq/barcode*/*.fastq.gz "
      ],
      "metadata": {
        "id": "igxrTMCETY5r",
        "colab": {
          "base_uri": "https://localhost:8080/"
        },
        "outputId": "8347a1d3-0c1d-42ab-e133-72a188a17d0e"
      },
      "execution_count": null,
      "outputs": [
        {
          "output_type": "stream",
          "name": "stdout",
          "text": [
            "\n",
            "Warning: data generated is from more than 5 days.\n",
            "Likely this indicates you are combining multiple runs.\n",
            "Plots based on time are invalid and therefore truncated to first 5 days.\n",
            "\n",
            "\n",
            "Warning: data generated is from more than 5 days.\n",
            "Likely this indicates you are combining multiple runs.\n",
            "Plots based on time are invalid and therefore truncated to first 5 days.\n",
            "\n"
          ]
        }
      ]
    },
    {
      "cell_type": "markdown",
      "source": [
        "The output will be in the folder nanoplot_output. Download the file `NanoPlot-report.html` and browse the results.\n",
        "\n",
        "---\n",
        "\n",
        "\n",
        "> **How many reads are in total?**\n",
        "\n",
        "191,605.0\n",
        "\n",
        "> **Which is the average read size?**\n",
        "\n",
        "619.2\n",
        "\n",
        "> **How does this compares with Illumina results?**\n",
        "\n",
        "Illumina results in more accurate analysis.\n",
        "\n",
        "\n"
      ],
      "metadata": {
        "id": "hgXG-7xyE5LV"
      }
    },
    {
      "cell_type": "markdown",
      "source": [
        "We don't do any trimming because the pipelines we'll use do this for use. See you on the next notebook..."
      ],
      "metadata": {
        "id": "iqqIK87iQ4CG"
      }
    }
  ],
  "metadata": {
    "colab": {
      "provenance": [],
      "include_colab_link": true
    },
    "kernelspec": {
      "display_name": "Python 3",
      "name": "python3"
    }
  },
  "nbformat": 4,
  "nbformat_minor": 0
}