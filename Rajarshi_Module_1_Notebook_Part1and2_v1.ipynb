{
  "nbformat": 4,
  "nbformat_minor": 0,
  "metadata": {
    "colab": {
      "provenance": [],
      "include_colab_link": true
    },
    "kernelspec": {
      "name": "python3",
      "display_name": "Python 3"
    },
    "language_info": {
      "name": "python"
    }
  },
  "cells": [
    {
      "cell_type": "markdown",
      "metadata": {
        "id": "view-in-github",
        "colab_type": "text"
      },
      "source": [
        "<a href=\"https://colab.research.google.com/github/Rajarshi0/SARSCOV2B4B/blob/main/Rajarshi_Module_1_Notebook_Part1and2_v1.ipynb\" target=\"_parent\"><img src=\"https://colab.research.google.com/assets/colab-badge.svg\" alt=\"Open In Colab\"/></a>"
      ]
    },
    {
      "cell_type": "markdown",
      "source": [
        "# Module 1: Intro to notebooks and unix\n",
        "\n",
        "Welcome to the course! There are some very important instructions for you to follow:\n",
        "\n",
        "1.) Click on File on the top left corner and select save a copy in drive\n",
        "\n",
        "**Your changes will not be saved if you do not do this step**\n",
        "\n",
        "2.) Click on the name of the workbook in the top left corner and replace \"Copy of\" with your full name\n",
        "\n",
        "**You will be submitting the downloaded notebook file as your proof of completion for this module**\n"
      ],
      "metadata": {
        "id": "VZpWDT_qK5mE"
      }
    },
    {
      "cell_type": "markdown",
      "source": [
        "Please type: \n",
        "```\n",
        "print(\"Yes, I have done step 1\") \n",
        "```\n",
        "into the code block below, then run by clicking the \"triangle\"/\"Play\" icon on that block \n",
        "\n"
      ],
      "metadata": {
        "id": "HkAHdwWUJKoZ"
      }
    },
    {
      "cell_type": "code",
      "source": [
        "#this block will be checked\n",
        "print(\"Yes, I have done step 1\")"
      ],
      "metadata": {
        "id": "lza1ngCWKHbX",
        "colab": {
          "base_uri": "https://localhost:8080/"
        },
        "outputId": "b5dda39b-3128-42ac-c1d6-0c2de7ee2bde"
      },
      "execution_count": null,
      "outputs": [
        {
          "output_type": "stream",
          "name": "stdout",
          "text": [
            "Yes, I have done step 1\n"
          ]
        }
      ]
    },
    {
      "cell_type": "markdown",
      "source": [
        "Please type: \n",
        "```\n",
        "print(\"Yes, I have completed step 2\") \n",
        "```\n",
        "into the code block below, then run by clicking the \"triangle\"/\"Play\" icon on that block \n",
        "\n"
      ],
      "metadata": {
        "id": "l166Rx0ZKLqh"
      }
    },
    {
      "cell_type": "code",
      "source": [
        "#this block will be checked\n",
        "print(\"Yes, I have completed step 2\")\n",
        "!echo \"Hello, world\""
      ],
      "metadata": {
        "id": "nsufot4fKS01",
        "colab": {
          "base_uri": "https://localhost:8080/"
        },
        "outputId": "396363b7-f603-40d2-af4e-20f07b899828"
      },
      "execution_count": null,
      "outputs": [
        {
          "output_type": "stream",
          "name": "stdout",
          "text": [
            "Yes, I have completed step 2\n",
            "Hello, world\n"
          ]
        }
      ]
    },
    {
      "cell_type": "markdown",
      "source": [
        "# Installing Conda\n",
        "Conda is a versatile software management tool. Conda is an open source system of managing tools and libraries. More info on the library used to install conda on Google Colab is at this [website](https://inside-machinelearning.com/en/how-to-install-use-conda-on-google-colab/)\n",
        "\n",
        "Note - your runtime will refresh and reconnect after running this. It will say runtime crashed, this seems normal, wait for the session to reconnect after this.\n",
        "\n",
        "\n",
        "You can check out this repo for how this tool works:\n",
        "https://github.com/conda-incubator/condacolab \n"
      ],
      "metadata": {
        "id": "G7mk1VecOHLQ"
      }
    },
    {
      "cell_type": "code",
      "source": [
        "!pip install -q condacolab\n",
        "import condacolab\n",
        "condacolab.install()"
      ],
      "metadata": {
        "id": "jOTBUZ3gOFm3",
        "colab": {
          "base_uri": "https://localhost:8080/"
        },
        "outputId": "b6b1cdd2-2613-4a3a-f0a8-3208fde9de35"
      },
      "execution_count": null,
      "outputs": [
        {
          "output_type": "stream",
          "name": "stdout",
          "text": [
            "⏬ Downloading https://github.com/jaimergp/miniforge/releases/latest/download/Mambaforge-colab-Linux-x86_64.sh...\n",
            "📦 Installing...\n",
            "📌 Adjusting configuration...\n",
            "🩹 Patching environment...\n",
            "⏲ Done in 0:00:26\n",
            "🔁 Restarting kernel...\n"
          ]
        }
      ]
    },
    {
      "cell_type": "markdown",
      "source": [
        "# Module 1 Part 1 - Introduction to Notebooks and Unix\n",
        "Part 1 of Module 1 begins here."
      ],
      "metadata": {
        "id": "MY1JBynBfoUT"
      }
    },
    {
      "cell_type": "markdown",
      "source": [
        "# Python vs Bash\n",
        "## Key differences in working on Google Colab\n",
        "\n",
        "\n",
        "The main differences are use a ! when wanting to execute bash commands. Do not put that when wanting Python to execute"
      ],
      "metadata": {
        "id": "p5SImQk-LGMe"
      }
    },
    {
      "cell_type": "code",
      "execution_count": null,
      "metadata": {
        "id": "dvo4cVYzKyzY",
        "colab": {
          "base_uri": "https://localhost:8080/"
        },
        "outputId": "9d4d66c4-fed8-4d41-f80a-aced7e112126"
      },
      "outputs": [
        {
          "output_type": "stream",
          "name": "stdout",
          "text": [
            "This is a python command\n"
          ]
        }
      ],
      "source": [
        "#example of python\n",
        "print(\"This is a python command\")"
      ]
    },
    {
      "cell_type": "code",
      "source": [
        "#example of bash\n",
        "!echo \"This is a bash command\""
      ],
      "metadata": {
        "id": "1yjkW5M7LbMz",
        "colab": {
          "base_uri": "https://localhost:8080/"
        },
        "outputId": "be921ed5-dc9d-4d20-f10d-2527a2d08f6b"
      },
      "execution_count": null,
      "outputs": [
        {
          "output_type": "stream",
          "name": "stdout",
          "text": [
            "This is a bash command\n"
          ]
        }
      ]
    },
    {
      "cell_type": "markdown",
      "source": [
        "If you forget to use the ! symbol, it will cause an error, as python wont likely be able to interpret your bash command - try run the cell below "
      ],
      "metadata": {
        "id": "3NH2ZaGwIuqP"
      }
    },
    {
      "cell_type": "code",
      "source": [
        "#example of forgotten ! when trying to execute bash\n",
        "echo \"This is a bash command\""
      ],
      "metadata": {
        "id": "HRf3XhgVF1xT",
        "colab": {
          "base_uri": "https://localhost:8080/",
          "height": 131
        },
        "outputId": "6322864d-0f67-4cbf-e950-c247bf9abad3"
      },
      "execution_count": null,
      "outputs": [
        {
          "output_type": "error",
          "ename": "SyntaxError",
          "evalue": "ignored",
          "traceback": [
            "\u001b[0;36m  File \u001b[0;32m\"<ipython-input-3-7b2f3893ce2e>\"\u001b[0;36m, line \u001b[0;32m2\u001b[0m\n\u001b[0;31m    echo \"This is a bash command\"\u001b[0m\n\u001b[0m                                ^\u001b[0m\n\u001b[0;31mSyntaxError\u001b[0m\u001b[0;31m:\u001b[0m invalid syntax\n"
          ]
        }
      ]
    },
    {
      "cell_type": "markdown",
      "source": [
        "That will create an error called a **\"syntax error\"** \n",
        "\n",
        "If you encounter this, do not worry, and check that the ! is in place. This course will primarily show examples and ask for commands in bash. Note - Python is a powerful language for data processing, and although we wont explore it in this course, you may find developing your skills in python and bash very useful for your bioinformatics projects. \n"
      ],
      "metadata": {
        "id": "O1gj_VJ8JRns"
      }
    },
    {
      "cell_type": "markdown",
      "source": [
        "# Working in BASH\n",
        "This course will primarily make use of BASH to run commands and tasks. There are some examples of Python later that are optional. The following sections will intro the basics of working with BASH and the file structures of a unix system\n",
        "\n",
        "The following examples were made by Srikeerthana Kuchi (Univ. Of Glasgow) - https://github.com/WCSCourses/ViralBioinfAsia2022/blob/main/Modules/Intro_to_linux_text_processing.pdf \n"
      ],
      "metadata": {
        "id": "lnarH4fDef7E"
      }
    },
    {
      "cell_type": "code",
      "source": [
        "#Blocks for bash from here\n",
        "!echo \"Hello!\""
      ],
      "metadata": {
        "id": "-VDjqQr8jQzF",
        "colab": {
          "base_uri": "https://localhost:8080/"
        },
        "outputId": "fc22ae1b-4258-4bcb-ad08-f66c424e7cc5"
      },
      "execution_count": null,
      "outputs": [
        {
          "output_type": "stream",
          "name": "stdout",
          "text": [
            "Hello!\n"
          ]
        }
      ]
    },
    {
      "cell_type": "code",
      "source": [
        "%cd /content/\n",
        "!wget https://wcs_data_transfer.cog.sanger.ac.uk/Introduction_to_Linux_Unix_Text_processing.zip ; unzip Introduction_to_Linux_Unix_Text_processing.zip"
      ],
      "metadata": {
        "id": "8FsDUDXAqGXr",
        "colab": {
          "base_uri": "https://localhost:8080/"
        },
        "outputId": "a7b19ac9-e873-4426-b5db-b8cbcb93f806"
      },
      "execution_count": null,
      "outputs": [
        {
          "output_type": "stream",
          "name": "stdout",
          "text": [
            "/content\n",
            "--2022-11-11 10:33:09--  https://wcs_data_transfer.cog.sanger.ac.uk/Introduction_to_Linux_Unix_Text_processing.zip\n",
            "Resolving wcs_data_transfer.cog.sanger.ac.uk (wcs_data_transfer.cog.sanger.ac.uk)... 193.62.203.61, 193.62.203.63, 193.62.203.62\n",
            "Connecting to wcs_data_transfer.cog.sanger.ac.uk (wcs_data_transfer.cog.sanger.ac.uk)|193.62.203.61|:443... connected.\n",
            "HTTP request sent, awaiting response... 200 OK\n",
            "Length: 95178 (93K) [application/zip]\n",
            "Saving to: ‘Introduction_to_Linux_Unix_Text_processing.zip’\n",
            "\n",
            "Introduction_to_Lin 100%[===================>]  92.95K  --.-KB/s    in 0.09s   \n",
            "\n",
            "2022-11-11 10:33:11 (1.01 MB/s) - ‘Introduction_to_Linux_Unix_Text_processing.zip’ saved [95178/95178]\n",
            "\n",
            "Archive:  Introduction_to_Linux_Unix_Text_processing.zip\n",
            "   creating: Introduction_to_Linux_Unix_Text_processing/\n",
            "  inflating: Introduction_to_Linux_Unix_Text_processing/SARS-CoV-2.fa  \n",
            "  inflating: __MACOSX/Introduction_to_Linux_Unix_Text_processing/._SARS-CoV-2.fa  \n",
            "  inflating: Introduction_to_Linux_Unix_Text_processing/SARS-CoV-2.gb  \n",
            "  inflating: __MACOSX/Introduction_to_Linux_Unix_Text_processing/._SARS-CoV-2.gb  \n",
            "  inflating: Introduction_to_Linux_Unix_Text_processing/readME.md  \n",
            "  inflating: Introduction_to_Linux_Unix_Text_processing/outbreak.csv  \n",
            "  inflating: __MACOSX/Introduction_to_Linux_Unix_Text_processing/._outbreak.csv  \n",
            "   creating: Introduction_to_Linux_Unix_Text_processing/Exercises/\n",
            "  inflating: __MACOSX/Introduction_to_Linux_Unix_Text_processing/._Exercises  \n",
            "  inflating: Introduction_to_Linux_Unix_Text_processing/viruses.csv  \n",
            "  inflating: __MACOSX/Introduction_to_Linux_Unix_Text_processing/._viruses.csv  \n",
            "   creating: Introduction_to_Linux_Unix_Text_processing/temp-dir/\n",
            "  inflating: __MACOSX/Introduction_to_Linux_Unix_Text_processing/._temp-dir  \n",
            "  inflating: Introduction_to_Linux_Unix_Text_processing/SARS-2-variants.tsv  \n",
            "  inflating: __MACOSX/Introduction_to_Linux_Unix_Text_processing/._SARS-2-variants.tsv  \n",
            "  inflating: Introduction_to_Linux_Unix_Text_processing/human_viruses.txt  \n",
            "  inflating: __MACOSX/Introduction_to_Linux_Unix_Text_processing/._human_viruses.txt  \n",
            "  inflating: Introduction_to_Linux_Unix_Text_processing/Exercises/MH500037.1_cds_QBH72482.1_1.fa  \n",
            "  inflating: __MACOSX/Introduction_to_Linux_Unix_Text_processing/Exercises/._MH500037.1_cds_QBH72482.1_1.fa  \n",
            "  inflating: Introduction_to_Linux_Unix_Text_processing/Exercises/outbreak_2019.csv  \n",
            "  inflating: __MACOSX/Introduction_to_Linux_Unix_Text_processing/Exercises/._outbreak_2019.csv  \n",
            "  inflating: Introduction_to_Linux_Unix_Text_processing/Exercises/MH500035.1_cds_QBH72480.1_1.fa  \n",
            "  inflating: __MACOSX/Introduction_to_Linux_Unix_Text_processing/Exercises/._MH500035.1_cds_QBH72480.1_1.fa  \n",
            "  inflating: Introduction_to_Linux_Unix_Text_processing/Exercises/EF539265.1_cds_ABQ88311.1_1.fa  \n",
            "  inflating: __MACOSX/Introduction_to_Linux_Unix_Text_processing/Exercises/._EF539265.1_cds_ABQ88311.1_1.fa  \n",
            "  inflating: Introduction_to_Linux_Unix_Text_processing/Exercises/MH500036.1_cds_QBH72481.1_1.fa  \n",
            "  inflating: __MACOSX/Introduction_to_Linux_Unix_Text_processing/Exercises/._MH500036.1_cds_QBH72481.1_1.fa  \n",
            "  inflating: Introduction_to_Linux_Unix_Text_processing/Exercises/JX911895.1_cds_AGA60318.1_1.fa  \n",
            "  inflating: __MACOSX/Introduction_to_Linux_Unix_Text_processing/Exercises/._JX911895.1_cds_AGA60318.1_1.fa  \n",
            "  inflating: Introduction_to_Linux_Unix_Text_processing/Exercises/EU727159.1_cds_ACE06987.1_1.fa  \n",
            "  inflating: __MACOSX/Introduction_to_Linux_Unix_Text_processing/Exercises/._EU727159.1_cds_ACE06987.1_1.fa  \n",
            "  inflating: Introduction_to_Linux_Unix_Text_processing/Exercises/MH500034.1_cds_QBH72479.1_1.fa  \n",
            "  inflating: __MACOSX/Introduction_to_Linux_Unix_Text_processing/Exercises/._MH500034.1_cds_QBH72479.1_1.fa  \n",
            "  inflating: Introduction_to_Linux_Unix_Text_processing/Exercises/EU727160.1_cds_ACE06988.1_1.fa  \n",
            "  inflating: __MACOSX/Introduction_to_Linux_Unix_Text_processing/Exercises/._EU727160.1_cds_ACE06988.1_1.fa  \n",
            "  inflating: Introduction_to_Linux_Unix_Text_processing/Exercises/KY645999.1_cds_ARI47202.1_1.fa  \n",
            "  inflating: __MACOSX/Introduction_to_Linux_Unix_Text_processing/Exercises/._KY645999.1_cds_ARI47202.1_1.fa  \n",
            "  inflating: Introduction_to_Linux_Unix_Text_processing/Exercises/JF297648.1_cds_AEM17231.1_1.fa  \n",
            "  inflating: __MACOSX/Introduction_to_Linux_Unix_Text_processing/Exercises/._JF297648.1_cds_AEM17231.1_1.fa  \n",
            "  inflating: Introduction_to_Linux_Unix_Text_processing/Exercises/HM067743.1_cds_ADQ37313.1_1.fa  \n",
            "  inflating: __MACOSX/Introduction_to_Linux_Unix_Text_processing/Exercises/._HM067743.1_cds_ADQ37313.1_1.fa  \n",
            "  inflating: Introduction_to_Linux_Unix_Text_processing/Exercises/EU727161.1_cds_ACE06989.1_1.fa  \n",
            "  inflating: __MACOSX/Introduction_to_Linux_Unix_Text_processing/Exercises/._EU727161.1_cds_ACE06989.1_1.fa  \n",
            "  inflating: Introduction_to_Linux_Unix_Text_processing/Exercises/HM067744.1_cds_ADQ37314.1_1.fa  \n",
            "  inflating: __MACOSX/Introduction_to_Linux_Unix_Text_processing/Exercises/._HM067744.1_cds_ADQ37314.1_1.fa  \n",
            "  inflating: Introduction_to_Linux_Unix_Text_processing/Exercises/JX080288.1_cds_AFM38221.1_1.fa  \n",
            "  inflating: __MACOSX/Introduction_to_Linux_Unix_Text_processing/Exercises/._JX080288.1_cds_AFM38221.1_1.fa  \n",
            "  inflating: Introduction_to_Linux_Unix_Text_processing/Exercises/all.fa  \n",
            "  inflating: __MACOSX/Introduction_to_Linux_Unix_Text_processing/Exercises/._all.fa  \n",
            "  inflating: Introduction_to_Linux_Unix_Text_processing/Exercises/AB908054.1_cds_BAP81852.1_1.fa  \n",
            "  inflating: __MACOSX/Introduction_to_Linux_Unix_Text_processing/Exercises/._AB908054.1_cds_BAP81852.1_1.fa  \n",
            "  inflating: Introduction_to_Linux_Unix_Text_processing/Exercises/MH500032.1_cds_QBH72477.1_1.fa  \n",
            "  inflating: __MACOSX/Introduction_to_Linux_Unix_Text_processing/Exercises/._MH500032.1_cds_QBH72477.1_1.fa  \n",
            "  inflating: Introduction_to_Linux_Unix_Text_processing/Exercises/KX168429.1_cds_AND80850.1_2.fa  \n",
            "  inflating: __MACOSX/Introduction_to_Linux_Unix_Text_processing/Exercises/._KX168429.1_cds_AND80850.1_2.fa  \n",
            "  inflating: Introduction_to_Linux_Unix_Text_processing/Exercises/Flu.gff  \n",
            "  inflating: __MACOSX/Introduction_to_Linux_Unix_Text_processing/Exercises/._Flu.gff  \n",
            "  inflating: Introduction_to_Linux_Unix_Text_processing/Exercises/JX080287.1_cds_AFM38220.1_1.fa  \n",
            "  inflating: __MACOSX/Introduction_to_Linux_Unix_Text_processing/Exercises/._JX080287.1_cds_AFM38220.1_1.fa  \n",
            "  inflating: Introduction_to_Linux_Unix_Text_processing/Exercises/KY646000.1_cds_ARI47203.1_1.fa  \n",
            "  inflating: __MACOSX/Introduction_to_Linux_Unix_Text_processing/Exercises/._KY646000.1_cds_ARI47203.1_1.fa  \n",
            "  inflating: Introduction_to_Linux_Unix_Text_processing/Exercises/EU727162.1_cds_ACE06990.1_1.fa  \n",
            "  inflating: __MACOSX/Introduction_to_Linux_Unix_Text_processing/Exercises/._EU727162.1_cds_ACE06990.1_1.fa  \n",
            "  inflating: Introduction_to_Linux_Unix_Text_processing/Exercises/JX080286.1_cds_AFM38219.1_1.fa  \n",
            "  inflating: __MACOSX/Introduction_to_Linux_Unix_Text_processing/Exercises/._JX080286.1_cds_AFM38219.1_1.fa  \n",
            "  inflating: Introduction_to_Linux_Unix_Text_processing/Exercises/Flu.fa  \n",
            "  inflating: __MACOSX/Introduction_to_Linux_Unix_Text_processing/Exercises/._Flu.fa  \n",
            "  inflating: Introduction_to_Linux_Unix_Text_processing/Exercises/EU727163.1_cds_ACE06991.1_1.fa  \n",
            "  inflating: __MACOSX/Introduction_to_Linux_Unix_Text_processing/Exercises/._EU727163.1_cds_ACE06991.1_1.fa  \n",
            "  inflating: Introduction_to_Linux_Unix_Text_processing/Exercises/KX168429.1_cds_AND80849.1_1.fa  \n",
            "  inflating: __MACOSX/Introduction_to_Linux_Unix_Text_processing/Exercises/._KX168429.1_cds_AND80849.1_1.fa  \n",
            "  inflating: Introduction_to_Linux_Unix_Text_processing/Exercises/MH500033.1_cds_QBH72478.1_1.fa  \n",
            "  inflating: __MACOSX/Introduction_to_Linux_Unix_Text_processing/Exercises/._MH500033.1_cds_QBH72478.1_1.fa  \n"
          ]
        }
      ]
    },
    {
      "cell_type": "markdown",
      "source": [
        "#Directory management\n",
        "\n",
        "Directories are the UNIX equivalent of folders on a PC or Mac. They are organised in a hierarchy, so directories can have sub-directories and so on. Directories are very useful for organising your work and keeping your account tidy - for example, if you have more than one project, you can organise the files for each project into different directories to keep them separate. You can think of directories as rooms in a house. You can only be in one room (directory) at a time. When you are in a room you can see everything in that room easily. To see things in other rooms, you have to go to the appropriate door and crane your head around. UNIX works in a similar manner, moving from directory to directory to access files. The location or directory that you are in is referred to as the current working directory."
      ],
      "metadata": {
        "id": "6Wqk_GqgF3_l"
      }
    },
    {
      "cell_type": "code",
      "source": [
        "!mkdir new_folder"
      ],
      "metadata": {
        "id": "4WYbAqPDLicJ"
      },
      "execution_count": null,
      "outputs": []
    },
    {
      "cell_type": "code",
      "source": [
        "!touch new_file"
      ],
      "metadata": {
        "id": "xPR2qI0_te4o"
      },
      "execution_count": null,
      "outputs": []
    },
    {
      "cell_type": "code",
      "source": [
        "!ls"
      ],
      "metadata": {
        "id": "qV5T6aAhtjC9",
        "colab": {
          "base_uri": "https://localhost:8080/"
        },
        "outputId": "b400c617-356e-40b9-f420-a8dac8bb7606"
      },
      "execution_count": null,
      "outputs": [
        {
          "output_type": "stream",
          "name": "stdout",
          "text": [
            "condacolab_install.log\t\t\t\t__MACOSX\n",
            "error\t\t\t\t\t\tnew_file\n",
            "Introduction_to_Linux_Unix_Text_processing\tnew_folder\n",
            "Introduction_to_Linux_Unix_Text_processing.zip\tsample_data\n"
          ]
        }
      ]
    },
    {
      "cell_type": "markdown",
      "source": [
        "All Linux commands are single words (can be alpha-numeric), with optional parameters followed by arguments. For historical reasons, some of the early commands are only two letter long and case sensitive. Most of the command options (also called flags) are single letters. They should be specified after the command before specifying any input.\n",
        "\n",
        "“ls” is the command to list the contents of the directory, “-l” is the option for long listing and “Exercises“ is the input, which is optional in this case. Without the input, “ls” shows the contents of the current directory (Type “ls -l”)."
      ],
      "metadata": {
        "id": "cKbx1QwpuWwR"
      }
    },
    {
      "cell_type": "code",
      "source": [
        "!ls -l"
      ],
      "metadata": {
        "id": "iekMN3ypuaHj",
        "collapsed": true,
        "colab": {
          "base_uri": "https://localhost:8080/"
        },
        "outputId": "211d18d5-7b19-4a70-fabe-449f59d95d37"
      },
      "execution_count": null,
      "outputs": [
        {
          "output_type": "stream",
          "name": "stdout",
          "text": [
            "total 132\n",
            "-rw-r--r-- 1 root root 16312 Nov 11 10:32 condacolab_install.log\n",
            "-rw-r--r-- 1 root root    52 Nov 11 09:08 error\n",
            "drwxr-xr-x 4 root root  4096 Jul  6 12:42 Introduction_to_Linux_Unix_Text_processing\n",
            "-rw-r--r-- 1 root root 95178 Nov  2 14:02 Introduction_to_Linux_Unix_Text_processing.zip\n",
            "drwxr-xr-x 3 root root  4096 Nov 11 10:33 __MACOSX\n",
            "-rw-r--r-- 1 root root     0 Nov 11 10:33 new_file\n",
            "drwxr-xr-x 2 root root  4096 Nov 11 10:33 new_folder\n",
            "drwxr-xr-x 1 root root  4096 Nov  9 14:29 sample_data\n"
          ]
        }
      ]
    },
    {
      "cell_type": "code",
      "source": [
        "!cat new_file"
      ],
      "metadata": {
        "id": "RKYP4pFVtjKg"
      },
      "execution_count": null,
      "outputs": []
    },
    {
      "cell_type": "code",
      "source": [
        "#commands like less will behave strangly in the Colab system\n",
        "!less new_file"
      ],
      "metadata": {
        "id": "U9xIGYb2t0mq",
        "colab": {
          "base_uri": "https://localhost:8080/"
        },
        "outputId": "a00b631d-4a71-437b-c306-d640ddc16e82"
      },
      "execution_count": null,
      "outputs": [
        {
          "output_type": "stream",
          "name": "stdout",
          "text": [
            "\u001b[K\u001b[7mnew_file (END)\u001b[m\u001b[K\u0007...skipping...\n",
            "\u001b[1m~\u001b[m\n",
            "\u001b[1m~\u001b[m\n",
            "\u001b[1m~\u001b[m\n",
            "\u001b[1m~\u001b[m\n",
            "\u001b[1m~\u001b[m\n",
            "\u001b[1m~\u001b[m\n",
            "\u001b[1m~\u001b[m\n",
            "\u001b[1m~\u001b[m\n",
            "\u001b[1m~\u001b[m\n",
            "\u001b[1m~\u001b[m\n",
            "\u001b[1m~\u001b[m\n",
            "\u001b[1m~\u001b[m\n",
            "\u001b[1m~\u001b[m\n",
            "\u001b[1m~\u001b[m\n",
            "\u001b[1m~\u001b[m\n",
            "\u001b[1m~\u001b[m\n",
            "\u001b[1m~\u001b[m\n",
            "\u001b[1m~\u001b[m\n",
            "\u001b[1m~\u001b[m\n",
            "\u001b[1m~\u001b[m\n",
            "\u001b[1m~\u001b[m\n",
            "\u001b[1m~\u001b[m\n",
            "\u001b[1m~\u001b[m\n",
            "\u001b[7m(END)\u001b[m\u001b[K\u0007...skipping...\n",
            "\u001b[1m~\u001b[m\n",
            "\u001b[1m~\u001b[m\n",
            "\u001b[1m~\u001b[m\n",
            "\u001b[1m~\u001b[m\n",
            "\u001b[1m~\u001b[m\n",
            "\u001b[1m~\u001b[m\n",
            "\u001b[1m~\u001b[m\n",
            "\u001b[1m~\u001b[m\n",
            "\u001b[1m~\u001b[m\n",
            "\u001b[1m~\u001b[m\n",
            "\u001b[1m~\u001b[m\n",
            "\u001b[1m~\u001b[m\n",
            "\u001b[1m~\u001b[m\n",
            "\u001b[1m~\u001b[m\n",
            "\u001b[1m~\u001b[m\n",
            "\u001b[1m~\u001b[m\n",
            "\u001b[1m~\u001b[m\n",
            "\u001b[1m~\u001b[m\n",
            "\u001b[1m~\u001b[m\n",
            "\u001b[1m~\u001b[m\n",
            "\u001b[1m~\u001b[m\n",
            "\u001b[1m~\u001b[m\n",
            "\u001b[1m~\u001b[m\n",
            "\u001b[7m(END)\u001b[m\u001b[K\u0007...skipping...\n",
            "\u001b[1m~\u001b[m\n",
            "\u001b[1m~\u001b[m\n",
            "\u001b[1m~\u001b[m\n",
            "\u001b[1m~\u001b[m\n",
            "\u001b[1m~\u001b[m\n",
            "\u001b[1m~\u001b[m\n",
            "\u001b[1m~\u001b[m\n",
            "\u001b[1m~\u001b[m\n",
            "\u001b[1m~\u001b[m\n",
            "\u001b[1m~\u001b[m\n",
            "\u001b[1m~\u001b[m\n",
            "\u001b[1m~\u001b[m\n",
            "\u001b[1m~\u001b[m\n",
            "\u001b[1m~\u001b[m\n",
            "\u001b[1m~\u001b[m\n",
            "\u001b[1m~\u001b[m\n",
            "\u001b[1m~\u001b[m\n",
            "\u001b[1m~\u001b[m\n",
            "\u001b[1m~\u001b[m\n",
            "\u001b[1m~\u001b[m\n",
            "\u001b[1m~\u001b[m\n",
            "\u001b[1m~\u001b[m\n",
            "\u001b[1m~\u001b[m\n",
            "\u001b[7m(END)\u001b[m\u001b[K^C\n"
          ]
        }
      ]
    },
    {
      "cell_type": "markdown",
      "source": [
        "Typing out longer file names can be boring, and you are likely to make typos that will, at best, make your command fail with a strange error and at worst, overwrite some of your carefully crafted analysis. Tab completion is a trick that normally reduces this risk significantly. Instead of typing out “ls Interesting_stuff/”, try typing “ls Int” and press the Tab button (instead of Enter). The rest of the folder/file names that begin with “Int” should be listed. If you have two folders/files with similar names (e.g., my_awesome_scripts/ and my_awesome_results/) then you might need to give your terminal a bit of a hand to work out which one you want. In this case if you type “ls –l m”, when you press Tab the terminal would read “ls –l my_awesome_”. You could then type “s” followed by another press of Tab button and it would figure out that you meant “my_awesome_scripts/”."
      ],
      "metadata": {
        "id": "Tm_rGL5Dxu_w"
      }
    },
    {
      "cell_type": "code",
      "source": [
        "#practice using tab by entering code below\n",
        "!ls Introduction_to_Linux_Unix_Text_processing/\n",
        "\n",
        "\n"
      ],
      "metadata": {
        "id": "PiWjKuEVyCLb",
        "colab": {
          "base_uri": "https://localhost:8080/"
        },
        "outputId": "43a7bc37-5f4a-4b5d-bef0-3a5e48da1021"
      },
      "execution_count": null,
      "outputs": [
        {
          "output_type": "stream",
          "name": "stdout",
          "text": [
            "Exercises\t   readME.md\t\tSARS-CoV-2.gb\n",
            "human_viruses.txt  SARS-2-variants.tsv\ttemp-dir\n",
            "outbreak.csv\t   SARS-CoV-2.fa\tviruses.csv\n"
          ]
        }
      ]
    },
    {
      "cell_type": "markdown",
      "source": [
        "# Points to consider\n",
        "\n",
        "* Linux commands are case sensitive and are always single words\n",
        "* Options follow the command - and they start with a single hyphen (-) and a character or a\n",
        "double hyphen (- -) and a word\n",
        "* Single character options can be combined\n",
        "* Argument can be one or more inputs\n",
        "* You can write more than one command separating with a semicolon;\n",
        "You can use the “tab” keystroke to autofill the command.\n",
        "\n",
        "\n",
        "\n"
      ],
      "metadata": {
        "id": "hI8Ld-pDyQvx"
      }
    },
    {
      "cell_type": "code",
      "source": [
        "ls -l"
      ],
      "metadata": {
        "id": "N0R88pMezAMU",
        "colab": {
          "base_uri": "https://localhost:8080/"
        },
        "outputId": "baf2d2e6-1ce3-4fbc-ab7e-bed43094a8bc"
      },
      "execution_count": null,
      "outputs": [
        {
          "output_type": "stream",
          "name": "stdout",
          "text": [
            "total 132\n",
            "-rw-r--r-- 1 root root 16312 Nov 11 10:32 condacolab_install.log\n",
            "-rw-r--r-- 1 root root    52 Nov 11 09:08 error\n",
            "drwxr-xr-x 4 root root  4096 Jul  6 12:42 \u001b[0m\u001b[01;34mIntroduction_to_Linux_Unix_Text_processing\u001b[0m/\n",
            "-rw-r--r-- 1 root root 95178 Nov  2 14:02 Introduction_to_Linux_Unix_Text_processing.zip\n",
            "drwxr-xr-x 3 root root  4096 Nov 11 10:33 \u001b[01;34m__MACOSX\u001b[0m/\n",
            "-rw-r--r-- 1 root root     0 Nov 11 10:33 new_file\n",
            "drwxr-xr-x 2 root root  4096 Nov 11 10:33 \u001b[01;34mnew_folder\u001b[0m/\n",
            "drwxr-xr-x 1 root root  4096 Nov  9 14:29 \u001b[01;34msample_data\u001b[0m/\n"
          ]
        }
      ]
    },
    {
      "cell_type": "markdown",
      "source": [
        "From the above results\n",
        "\n",
        "Information (from left to right):\n",
        "* File permissions\n",
        "* Number of links\n",
        "* Owner name\n",
        "* Group name\n",
        "* Number of bytes\n",
        "* Abbreviated month, last modified date and time\n",
        "* File/Directory name"
      ],
      "metadata": {
        "id": "tw9LjP_jzFHZ"
      }
    },
    {
      "cell_type": "markdown",
      "source": [
        "# Other Useful Commands"
      ],
      "metadata": {
        "id": "aNyBTzGaz4cX"
      }
    },
    {
      "cell_type": "markdown",
      "source": [
        "# pwd (print working directory)\n",
        "Returns the path of the current working directory to the standard output.\n"
      ],
      "metadata": {
        "id": "4-IjRzZFzbBd"
      }
    },
    {
      "cell_type": "code",
      "source": [
        "!pwd"
      ],
      "metadata": {
        "id": "GOC_qoW7zfzq",
        "colab": {
          "base_uri": "https://localhost:8080/"
        },
        "outputId": "c5d4e4b3-0888-4ead-d5f5-f0540593d10d"
      },
      "execution_count": null,
      "outputs": [
        {
          "output_type": "stream",
          "name": "stdout",
          "text": [
            "/content\n"
          ]
        }
      ]
    },
    {
      "cell_type": "markdown",
      "source": [
        "# cd change directory\n",
        "\n",
        "Change current working directory to the specified directory."
      ],
      "metadata": {
        "id": "r83lt8MCzmsK"
      }
    },
    {
      "cell_type": "code",
      "source": [
        "!ls"
      ],
      "metadata": {
        "id": "eiGcUydo0uSb",
        "colab": {
          "base_uri": "https://localhost:8080/"
        },
        "outputId": "7a0ec184-0182-4c61-fc7f-c4ccf9a4e8e1"
      },
      "execution_count": null,
      "outputs": [
        {
          "output_type": "stream",
          "name": "stdout",
          "text": [
            "condacolab_install.log\t\t\t\t__MACOSX\n",
            "error\t\t\t\t\t\tnew_file\n",
            "Introduction_to_Linux_Unix_Text_processing\tnew_folder\n",
            "Introduction_to_Linux_Unix_Text_processing.zip\tsample_data\n"
          ]
        }
      ]
    },
    {
      "cell_type": "code",
      "source": [
        "%cd new_folder/\n",
        "!pwd"
      ],
      "metadata": {
        "id": "FbKeIZH2zrcZ",
        "colab": {
          "base_uri": "https://localhost:8080/"
        },
        "outputId": "8ec833f3-a4f7-44a8-f9ca-1acf1f5348d4"
      },
      "execution_count": null,
      "outputs": [
        {
          "output_type": "stream",
          "name": "stdout",
          "text": [
            "/content/new_folder\n",
            "/content/new_folder\n"
          ]
        }
      ]
    },
    {
      "cell_type": "markdown",
      "source": [
        "# mkdir make directory\n",
        "This command creates a directory in the current working directory if no directory exists with the specified name."
      ],
      "metadata": {
        "id": "fEUB41xn2HVP"
      }
    },
    {
      "cell_type": "code",
      "source": [
        "!mkdir Test_folder\n",
        "!ls -l"
      ],
      "metadata": {
        "id": "qrIbxC9d2Hve",
        "colab": {
          "base_uri": "https://localhost:8080/"
        },
        "outputId": "6f4e5283-b97c-434f-98e4-dcdf5bb96e59"
      },
      "execution_count": null,
      "outputs": [
        {
          "output_type": "stream",
          "name": "stdout",
          "text": [
            "total 4\n",
            "drwxr-xr-x 2 root root 4096 Nov 11 10:38 Test_folder\n"
          ]
        }
      ]
    },
    {
      "cell_type": "markdown",
      "source": [
        "# rmdir remove directory\n",
        "This command is used to remove directories. Try this below and see whether you can observe the folder disappearing."
      ],
      "metadata": {
        "id": "o6Cf7D3N2H66"
      }
    },
    {
      "cell_type": "code",
      "source": [
        "!rmdir Test_folder/\n",
        "!ls -l"
      ],
      "metadata": {
        "id": "_FUa8iOY2IKE",
        "colab": {
          "base_uri": "https://localhost:8080/"
        },
        "outputId": "606759a5-a8f9-4ef4-eb57-6f3f6e6b3ed0"
      },
      "execution_count": null,
      "outputs": [
        {
          "output_type": "stream",
          "name": "stdout",
          "text": [
            "total 0\n"
          ]
        }
      ]
    },
    {
      "cell_type": "markdown",
      "source": [
        "# touch\n",
        "It is file’s timestamp changing command. However, it can be used to create an empty file. This command is generally used to check if there is write permission for the current user."
      ],
      "metadata": {
        "id": "bfUf8akK29xT"
      }
    },
    {
      "cell_type": "code",
      "source": [
        "!touch temp-file\n",
        "!ls -l"
      ],
      "metadata": {
        "id": "dScFOBl729-B",
        "colab": {
          "base_uri": "https://localhost:8080/"
        },
        "outputId": "88413423-b084-4372-a793-d20fdc299479"
      },
      "execution_count": null,
      "outputs": [
        {
          "output_type": "stream",
          "name": "stdout",
          "text": [
            "total 0\n",
            "-rw-r--r-- 1 root root 0 Nov 11 10:38 temp-file\n"
          ]
        }
      ]
    },
    {
      "cell_type": "markdown",
      "source": [
        "# rm remove\n",
        "rm is used for removing files and directories. Try this below to remove thefile we just created."
      ],
      "metadata": {
        "id": "XX5wr3zu2-I_"
      }
    },
    {
      "cell_type": "code",
      "source": [
        "!rm temp-file\n",
        "!ls -l"
      ],
      "metadata": {
        "id": "3e_jtT3c2-XD",
        "colab": {
          "base_uri": "https://localhost:8080/"
        },
        "outputId": "bc2eac5b-708b-4855-d9d3-ea7864b41f79"
      },
      "execution_count": null,
      "outputs": [
        {
          "output_type": "stream",
          "name": "stdout",
          "text": [
            "total 0\n"
          ]
        }
      ]
    },
    {
      "cell_type": "markdown",
      "source": [
        "# PLEASE BE CAREFUL\n",
        "\n",
        "Please remember once a file or directory is deleted, it will not go to “Recycle bin” in Linux and there is no way you can recover it."
      ],
      "metadata": {
        "id": "oPqtI7IO3cSm"
      }
    },
    {
      "cell_type": "markdown",
      "source": [
        "\n",
        "# cp Copy\n",
        "Copies the content of the source file/directory to the target file/directory. To copy directories, use “-r” option."
      ],
      "metadata": {
        "id": "mFYYI4323sJm"
      }
    },
    {
      "cell_type": "code",
      "source": [
        " !touch temp1\n",
        " !cp temp1 temp2\n",
        " !ls -l"
      ],
      "metadata": {
        "id": "BgpSHuPJ3sU1",
        "colab": {
          "base_uri": "https://localhost:8080/"
        },
        "outputId": "f24be05f-ce19-4080-8ad8-f71a48fa7138"
      },
      "execution_count": null,
      "outputs": [
        {
          "output_type": "stream",
          "name": "stdout",
          "text": [
            "total 0\n",
            "-rw-r--r-- 1 root root 0 Nov 11 10:38 temp1\n",
            "-rw-r--r-- 1 root root 0 Nov 11 10:38 temp2\n"
          ]
        }
      ]
    },
    {
      "cell_type": "markdown",
      "source": [
        "# mv Move\n",
        "\n",
        "To move/rename a file or a directory."
      ],
      "metadata": {
        "id": "PC3h6cUL4C_8"
      }
    },
    {
      "cell_type": "code",
      "source": [
        " !mkdir temp\n",
        " !mv temp1 temp/.\n",
        " !mv temp2 temp3\n",
        "!ls -l"
      ],
      "metadata": {
        "id": "Cm8mAcsd4Cku",
        "colab": {
          "base_uri": "https://localhost:8080/"
        },
        "outputId": "69c26b45-a41d-4567-d61b-a86ddb02dd96"
      },
      "execution_count": null,
      "outputs": [
        {
          "output_type": "stream",
          "name": "stdout",
          "text": [
            "total 4\n",
            "drwxr-xr-x 2 root root 4096 Nov 11 10:38 temp\n",
            "-rw-r--r-- 1 root root    0 Nov 11 10:38 temp3\n"
          ]
        }
      ]
    },
    {
      "cell_type": "markdown",
      "source": [
        "The second command moves the “temp1” file into the directory “temp”. The “.” (dot) at the end of the command retains the name of the file, whereas the third command renames the file “temp2” to “temp3”."
      ],
      "metadata": {
        "id": "hsUoxgtu4XMk"
      }
    },
    {
      "cell_type": "markdown",
      "source": [
        "# File Viewers"
      ],
      "metadata": {
        "id": "yK27MJL14xuG"
      }
    },
    {
      "cell_type": "markdown",
      "source": [
        "# cat Concatenate\n",
        "The concatenate command combines files (sequentially) and prints on the screen (standard output)."
      ],
      "metadata": {
        "id": "LLYLZmZp4x9X"
      }
    },
    {
      "cell_type": "code",
      "source": [
        "!pwd\n"
      ],
      "metadata": {
        "id": "MCnSUCb0r4so",
        "colab": {
          "base_uri": "https://localhost:8080/"
        },
        "outputId": "2421ac65-0989-4c36-aa42-2b571d5c514c"
      },
      "execution_count": null,
      "outputs": [
        {
          "output_type": "stream",
          "name": "stdout",
          "text": [
            "/content/new_folder\n"
          ]
        }
      ]
    },
    {
      "cell_type": "code",
      "source": [
        "!cat /content/Introduction_to_Linux_Unix_Text_processing/SARS-CoV-2.fa"
      ],
      "metadata": {
        "id": "pA--U9Yq4-Xy",
        "colab": {
          "base_uri": "https://localhost:8080/"
        },
        "outputId": "a50afc73-74a2-4082-9e7e-33b4c1def345"
      },
      "execution_count": null,
      "outputs": [
        {
          "output_type": "stream",
          "name": "stdout",
          "text": [
            ">NC_045512.2 Severe acute respiratory syndrome coronavirus 2 isolate Wuhan-Hu-1, complete genome\n",
            "ATTAAAGGTTTATACCTTCCCAGGTAACAAACCAACCAACTTTCGATCTCTTGTAGATCTGTTCTCTAAA\n",
            "CGAACTTTAAAATCTGTGTGGCTGTCACTCGGCTGCATGCTTAGTGCACTCACGCAGTATAATTAATAAC\n",
            "TAATTACTGTCGTTGACAGGACACGAGTAACTCGTCTATCTTCTGCAGGCTGCTTACGGTTTCGTCCGTG\n",
            "TTGCAGCCGATCATCAGCACATCTAGGTTTCGTCCGGGTGTGACCGAAAGGTAAGATGGAGAGCCTTGTC\n",
            "CCTGGTTTCAACGAGAAAACACACGTCCAACTCAGTTTGCCTGTTTTACAGGTTCGCGACGTGCTCGTAC\n",
            "GTGGCTTTGGAGACTCCGTGGAGGAGGTCTTATCAGAGGCACGTCAACATCTTAAAGATGGCACTTGTGG\n",
            "CTTAGTAGAAGTTGAAAAAGGCGTTTTGCCTCAACTTGAACAGCCCTATGTGTTCATCAAACGTTCGGAT\n",
            "GCTCGAACTGCACCTCATGGTCATGTTATGGTTGAGCTGGTAGCAGAACTCGAAGGCATTCAGTACGGTC\n",
            "GTAGTGGTGAGACACTTGGTGTCCTTGTCCCTCATGTGGGCGAAATACCAGTGGCTTACCGCAAGGTTCT\n",
            "TCTTCGTAAGAACGGTAATAAAGGAGCTGGTGGCCATAGTTACGGCGCCGATCTAAAGTCATTTGACTTA\n",
            "GGCGACGAGCTTGGCACTGATCCTTATGAAGATTTTCAAGAAAACTGGAACACTAAACATAGCAGTGGTG\n",
            "TTACCCGTGAACTCATGCGTGAGCTTAACGGAGGGGCATACACTCGCTATGTCGATAACAACTTCTGTGG\n",
            "CCCTGATGGCTACCCTCTTGAGTGCATTAAAGACCTTCTAGCACGTGCTGGTAAAGCTTCATGCACTTTG\n",
            "TCCGAACAACTGGACTTTATTGACACTAAGAGGGGTGTATACTGCTGCCGTGAACATGAGCATGAAATTG\n",
            "CTTGGTACACGGAACGTTCTGAAAAGAGCTATGAATTGCAGACACCTTTTGAAATTAAATTGGCAAAGAA\n",
            "ATTTGACACCTTCAATGGGGAATGTCCAAATTTTGTATTTCCCTTAAATTCCATAATCAAGACTATTCAA\n",
            "CCAAGGGTTGAAAAGAAAAAGCTTGATGGCTTTATGGGTAGAATTCGATCTGTCTATCCAGTTGCGTCAC\n",
            "CAAATGAATGCAACCAAATGTGCCTTTCAACTCTCATGAAGTGTGATCATTGTGGTGAAACTTCATGGCA\n",
            "GACGGGCGATTTTGTTAAAGCCACTTGCGAATTTTGTGGCACTGAGAATTTGACTAAAGAAGGTGCCACT\n",
            "ACTTGTGGTTACTTACCCCAAAATGCTGTTGTTAAAATTTATTGTCCAGCATGTCACAATTCAGAAGTAG\n",
            "GACCTGAGCATAGTCTTGCCGAATACCATAATGAATCTGGCTTGAAAACCATTCTTCGTAAGGGTGGTCG\n",
            "CACTATTGCCTTTGGAGGCTGTGTGTTCTCTTATGTTGGTTGCCATAACAAGTGTGCCTATTGGGTTCCA\n",
            "CGTGCTAGCGCTAACATAGGTTGTAACCATACAGGTGTTGTTGGAGAAGGTTCCGAAGGTCTTAATGACA\n",
            "ACCTTCTTGAAATACTCCAAAAAGAGAAAGTCAACATCAATATTGTTGGTGACTTTAAACTTAATGAAGA\n",
            "GATCGCCATTATTTTGGCATCTTTTTCTGCTTCCACAAGTGCTTTTGTGGAAACTGTGAAAGGTTTGGAT\n",
            "TATAAAGCATTCAAACAAATTGTTGAATCCTGTGGTAATTTTAAAGTTACAAAAGGAAAAGCTAAAAAAG\n",
            "GTGCCTGGAATATTGGTGAACAGAAATCAATACTGAGTCCTCTTTATGCATTTGCATCAGAGGCTGCTCG\n",
            "TGTTGTACGATCAATTTTCTCCCGCACTCTTGAAACTGCTCAAAATTCTGTGCGTGTTTTACAGAAGGCC\n",
            "GCTATAACAATACTAGATGGAATTTCACAGTATTCACTGAGACTCATTGATGCTATGATGTTCACATCTG\n",
            "ATTTGGCTACTAACAATCTAGTTGTAATGGCCTACATTACAGGTGGTGTTGTTCAGTTGACTTCGCAGTG\n",
            "GCTAACTAACATCTTTGGCACTGTTTATGAAAAACTCAAACCCGTCCTTGATTGGCTTGAAGAGAAGTTT\n",
            "AAGGAAGGTGTAGAGTTTCTTAGAGACGGTTGGGAAATTGTTAAATTTATCTCAACCTGTGCTTGTGAAA\n",
            "TTGTCGGTGGACAAATTGTCACCTGTGCAAAGGAAATTAAGGAGAGTGTTCAGACATTCTTTAAGCTTGT\n",
            "AAATAAATTTTTGGCTTTGTGTGCTGACTCTATCATTATTGGTGGAGCTAAACTTAAAGCCTTGAATTTA\n",
            "GGTGAAACATTTGTCACGCACTCAAAGGGATTGTACAGAAAGTGTGTTAAATCCAGAGAAGAAACTGGCC\n",
            "TACTCATGCCTCTAAAAGCCCCAAAAGAAATTATCTTCTTAGAGGGAGAAACACTTCCCACAGAAGTGTT\n",
            "AACAGAGGAAGTTGTCTTGAAAACTGGTGATTTACAACCATTAGAACAACCTACTAGTGAAGCTGTTGAA\n",
            "GCTCCATTGGTTGGTACACCAGTTTGTATTAACGGGCTTATGTTGCTCGAAATCAAAGACACAGAAAAGT\n",
            "ACTGTGCCCTTGCACCTAATATGATGGTAACAAACAATACCTTCACACTCAAAGGCGGTGCACCAACAAA\n",
            "GGTTACTTTTGGTGATGACACTGTGATAGAAGTGCAAGGTTACAAGAGTGTGAATATCACTTTTGAACTT\n",
            "GATGAAAGGATTGATAAAGTACTTAATGAGAAGTGCTCTGCCTATACAGTTGAACTCGGTACAGAAGTAA\n",
            "ATGAGTTCGCCTGTGTTGTGGCAGATGCTGTCATAAAAACTTTGCAACCAGTATCTGAATTACTTACACC\n",
            "ACTGGGCATTGATTTAGATGAGTGGAGTATGGCTACATACTACTTATTTGATGAGTCTGGTGAGTTTAAA\n",
            "TTGGCTTCACATATGTATTGTTCTTTCTACCCTCCAGATGAGGATGAAGAAGAAGGTGATTGTGAAGAAG\n",
            "AAGAGTTTGAGCCATCAACTCAATATGAGTATGGTACTGAAGATGATTACCAAGGTAAACCTTTGGAATT\n",
            "TGGTGCCACTTCTGCTGCTCTTCAACCTGAAGAAGAGCAAGAAGAAGATTGGTTAGATGATGATAGTCAA\n",
            "CAAACTGTTGGTCAACAAGACGGCAGTGAGGACAATCAGACAACTACTATTCAAACAATTGTTGAGGTTC\n",
            "AACCTCAATTAGAGATGGAACTTACACCAGTTGTTCAGACTATTGAAGTGAATAGTTTTAGTGGTTATTT\n",
            "AAAACTTACTGACAATGTATACATTAAAAATGCAGACATTGTGGAAGAAGCTAAAAAGGTAAAACCAACA\n",
            "GTGGTTGTTAATGCAGCCAATGTTTACCTTAAACATGGAGGAGGTGTTGCAGGAGCCTTAAATAAGGCTA\n",
            "CTAACAATGCCATGCAAGTTGAATCTGATGATTACATAGCTACTAATGGACCACTTAAAGTGGGTGGTAG\n",
            "TTGTGTTTTAAGCGGACACAATCTTGCTAAACACTGTCTTCATGTTGTCGGCCCAAATGTTAACAAAGGT\n",
            "GAAGACATTCAACTTCTTAAGAGTGCTTATGAAAATTTTAATCAGCACGAAGTTCTACTTGCACCATTAT\n",
            "TATCAGCTGGTATTTTTGGTGCTGACCCTATACATTCTTTAAGAGTTTGTGTAGATACTGTTCGCACAAA\n",
            "TGTCTACTTAGCTGTCTTTGATAAAAATCTCTATGACAAACTTGTTTCAAGCTTTTTGGAAATGAAGAGT\n",
            "GAAAAGCAAGTTGAACAAAAGATCGCTGAGATTCCTAAAGAGGAAGTTAAGCCATTTATAACTGAAAGTA\n",
            "AACCTTCAGTTGAACAGAGAAAACAAGATGATAAGAAAATCAAAGCTTGTGTTGAAGAAGTTACAACAAC\n",
            "TCTGGAAGAAACTAAGTTCCTCACAGAAAACTTGTTACTTTATATTGACATTAATGGCAATCTTCATCCA\n",
            "GATTCTGCCACTCTTGTTAGTGACATTGACATCACTTTCTTAAAGAAAGATGCTCCATATATAGTGGGTG\n",
            "ATGTTGTTCAAGAGGGTGTTTTAACTGCTGTGGTTATACCTACTAAAAAGGCTGGTGGCACTACTGAAAT\n",
            "GCTAGCGAAAGCTTTGAGAAAAGTGCCAACAGACAATTATATAACCACTTACCCGGGTCAGGGTTTAAAT\n",
            "GGTTACACTGTAGAGGAGGCAAAGACAGTGCTTAAAAAGTGTAAAAGTGCCTTTTACATTCTACCATCTA\n",
            "TTATCTCTAATGAGAAGCAAGAAATTCTTGGAACTGTTTCTTGGAATTTGCGAGAAATGCTTGCACATGC\n",
            "AGAAGAAACACGCAAATTAATGCCTGTCTGTGTGGAAACTAAAGCCATAGTTTCAACTATACAGCGTAAA\n",
            "TATAAGGGTATTAAAATACAAGAGGGTGTGGTTGATTATGGTGCTAGATTTTACTTTTACACCAGTAAAA\n",
            "CAACTGTAGCGTCACTTATCAACACACTTAACGATCTAAATGAAACTCTTGTTACAATGCCACTTGGCTA\n",
            "TGTAACACATGGCTTAAATTTGGAAGAAGCTGCTCGGTATATGAGATCTCTCAAAGTGCCAGCTACAGTT\n",
            "TCTGTTTCTTCACCTGATGCTGTTACAGCGTATAATGGTTATCTTACTTCTTCTTCTAAAACACCTGAAG\n",
            "AACATTTTATTGAAACCATCTCACTTGCTGGTTCCTATAAAGATTGGTCCTATTCTGGACAATCTACACA\n",
            "ACTAGGTATAGAATTTCTTAAGAGAGGTGATAAAAGTGTATATTACACTAGTAATCCTACCACATTCCAC\n",
            "CTAGATGGTGAAGTTATCACCTTTGACAATCTTAAGACACTTCTTTCTTTGAGAGAAGTGAGGACTATTA\n",
            "AGGTGTTTACAACAGTAGACAACATTAACCTCCACACGCAAGTTGTGGACATGTCAATGACATATGGACA\n",
            "ACAGTTTGGTCCAACTTATTTGGATGGAGCTGATGTTACTAAAATAAAACCTCATAATTCACATGAAGGT\n",
            "AAAACATTTTATGTTTTACCTAATGATGACACTCTACGTGTTGAGGCTTTTGAGTACTACCACACAACTG\n",
            "ATCCTAGTTTTCTGGGTAGGTACATGTCAGCATTAAATCACACTAAAAAGTGGAAATACCCACAAGTTAA\n",
            "TGGTTTAACTTCTATTAAATGGGCAGATAACAACTGTTATCTTGCCACTGCATTGTTAACACTCCAACAA\n",
            "ATAGAGTTGAAGTTTAATCCACCTGCTCTACAAGATGCTTATTACAGAGCAAGGGCTGGTGAAGCTGCTA\n",
            "ACTTTTGTGCACTTATCTTAGCCTACTGTAATAAGACAGTAGGTGAGTTAGGTGATGTTAGAGAAACAAT\n",
            "GAGTTACTTGTTTCAACATGCCAATTTAGATTCTTGCAAAAGAGTCTTGAACGTGGTGTGTAAAACTTGT\n",
            "GGACAACAGCAGACAACCCTTAAGGGTGTAGAAGCTGTTATGTACATGGGCACACTTTCTTATGAACAAT\n",
            "TTAAGAAAGGTGTTCAGATACCTTGTACGTGTGGTAAACAAGCTACAAAATATCTAGTACAACAGGAGTC\n",
            "ACCTTTTGTTATGATGTCAGCACCACCTGCTCAGTATGAACTTAAGCATGGTACATTTACTTGTGCTAGT\n",
            "GAGTACACTGGTAATTACCAGTGTGGTCACTATAAACATATAACTTCTAAAGAAACTTTGTATTGCATAG\n",
            "ACGGTGCTTTACTTACAAAGTCCTCAGAATACAAAGGTCCTATTACGGATGTTTTCTACAAAGAAAACAG\n",
            "TTACACAACAACCATAAAACCAGTTACTTATAAATTGGATGGTGTTGTTTGTACAGAAATTGACCCTAAG\n",
            "TTGGACAATTATTATAAGAAAGACAATTCTTATTTCACAGAGCAACCAATTGATCTTGTACCAAACCAAC\n",
            "CATATCCAAACGCAAGCTTCGATAATTTTAAGTTTGTATGTGATAATATCAAATTTGCTGATGATTTAAA\n",
            "CCAGTTAACTGGTTATAAGAAACCTGCTTCAAGAGAGCTTAAAGTTACATTTTTCCCTGACTTAAATGGT\n",
            "GATGTGGTGGCTATTGATTATAAACACTACACACCCTCTTTTAAGAAAGGAGCTAAATTGTTACATAAAC\n",
            "CTATTGTTTGGCATGTTAACAATGCAACTAATAAAGCCACGTATAAACCAAATACCTGGTGTATACGTTG\n",
            "TCTTTGGAGCACAAAACCAGTTGAAACATCAAATTCGTTTGATGTACTGAAGTCAGAGGACGCGCAGGGA\n",
            "ATGGATAATCTTGCCTGCGAAGATCTAAAACCAGTCTCTGAAGAAGTAGTGGAAAATCCTACCATACAGA\n",
            "AAGACGTTCTTGAGTGTAATGTGAAAACTACCGAAGTTGTAGGAGACATTATACTTAAACCAGCAAATAA\n",
            "TAGTTTAAAAATTACAGAAGAGGTTGGCCACACAGATCTAATGGCTGCTTATGTAGACAATTCTAGTCTT\n",
            "ACTATTAAGAAACCTAATGAATTATCTAGAGTATTAGGTTTGAAAACCCTTGCTACTCATGGTTTAGCTG\n",
            "CTGTTAATAGTGTCCCTTGGGATACTATAGCTAATTATGCTAAGCCTTTTCTTAACAAAGTTGTTAGTAC\n",
            "AACTACTAACATAGTTACACGGTGTTTAAACCGTGTTTGTACTAATTATATGCCTTATTTCTTTACTTTA\n",
            "TTGCTACAATTGTGTACTTTTACTAGAAGTACAAATTCTAGAATTAAAGCATCTATGCCGACTACTATAG\n",
            "CAAAGAATACTGTTAAGAGTGTCGGTAAATTTTGTCTAGAGGCTTCATTTAATTATTTGAAGTCACCTAA\n",
            "TTTTTCTAAACTGATAAATATTATAATTTGGTTTTTACTATTAAGTGTTTGCCTAGGTTCTTTAATCTAC\n",
            "TCAACCGCTGCTTTAGGTGTTTTAATGTCTAATTTAGGCATGCCTTCTTACTGTACTGGTTACAGAGAAG\n",
            "GCTATTTGAACTCTACTAATGTCACTATTGCAACCTACTGTACTGGTTCTATACCTTGTAGTGTTTGTCT\n",
            "TAGTGGTTTAGATTCTTTAGACACCTATCCTTCTTTAGAAACTATACAAATTACCATTTCATCTTTTAAA\n",
            "TGGGATTTAACTGCTTTTGGCTTAGTTGCAGAGTGGTTTTTGGCATATATTCTTTTCACTAGGTTTTTCT\n",
            "ATGTACTTGGATTGGCTGCAATCATGCAATTGTTTTTCAGCTATTTTGCAGTACATTTTATTAGTAATTC\n",
            "TTGGCTTATGTGGTTAATAATTAATCTTGTACAAATGGCCCCGATTTCAGCTATGGTTAGAATGTACATC\n",
            "TTCTTTGCATCATTTTATTATGTATGGAAAAGTTATGTGCATGTTGTAGACGGTTGTAATTCATCAACTT\n",
            "GTATGATGTGTTACAAACGTAATAGAGCAACAAGAGTCGAATGTACAACTATTGTTAATGGTGTTAGAAG\n",
            "GTCCTTTTATGTCTATGCTAATGGAGGTAAAGGCTTTTGCAAACTACACAATTGGAATTGTGTTAATTGT\n",
            "GATACATTCTGTGCTGGTAGTACATTTATTAGTGATGAAGTTGCGAGAGACTTGTCACTACAGTTTAAAA\n",
            "GACCAATAAATCCTACTGACCAGTCTTCTTACATCGTTGATAGTGTTACAGTGAAGAATGGTTCCATCCA\n",
            "TCTTTACTTTGATAAAGCTGGTCAAAAGACTTATGAAAGACATTCTCTCTCTCATTTTGTTAACTTAGAC\n",
            "AACCTGAGAGCTAATAACACTAAAGGTTCATTGCCTATTAATGTTATAGTTTTTGATGGTAAATCAAAAT\n",
            "GTGAAGAATCATCTGCAAAATCAGCGTCTGTTTACTACAGTCAGCTTATGTGTCAACCTATACTGTTACT\n",
            "AGATCAGGCATTAGTGTCTGATGTTGGTGATAGTGCGGAAGTTGCAGTTAAAATGTTTGATGCTTACGTT\n",
            "AATACGTTTTCATCAACTTTTAACGTACCAATGGAAAAACTCAAAACACTAGTTGCAACTGCAGAAGCTG\n",
            "AACTTGCAAAGAATGTGTCCTTAGACAATGTCTTATCTACTTTTATTTCAGCAGCTCGGCAAGGGTTTGT\n",
            "TGATTCAGATGTAGAAACTAAAGATGTTGTTGAATGTCTTAAATTGTCACATCAATCTGACATAGAAGTT\n",
            "ACTGGCGATAGTTGTAATAACTATATGCTCACCTATAACAAAGTTGAAAACATGACACCCCGTGACCTTG\n",
            "GTGCTTGTATTGACTGTAGTGCGCGTCATATTAATGCGCAGGTAGCAAAAAGTCACAACATTGCTTTGAT\n",
            "ATGGAACGTTAAAGATTTCATGTCATTGTCTGAACAACTACGAAAACAAATACGTAGTGCTGCTAAAAAG\n",
            "AATAACTTACCTTTTAAGTTGACATGTGCAACTACTAGACAAGTTGTTAATGTTGTAACAACAAAGATAG\n",
            "CACTTAAGGGTGGTAAAATTGTTAATAATTGGTTGAAGCAGTTAATTAAAGTTACACTTGTGTTCCTTTT\n",
            "TGTTGCTGCTATTTTCTATTTAATAACACCTGTTCATGTCATGTCTAAACATACTGACTTTTCAAGTGAA\n",
            "ATCATAGGATACAAGGCTATTGATGGTGGTGTCACTCGTGACATAGCATCTACAGATACTTGTTTTGCTA\n",
            "ACAAACATGCTGATTTTGACACATGGTTTAGCCAGCGTGGTGGTAGTTATACTAATGACAAAGCTTGCCC\n",
            "ATTGATTGCTGCAGTCATAACAAGAGAAGTGGGTTTTGTCGTGCCTGGTTTGCCTGGCACGATATTACGC\n",
            "ACAACTAATGGTGACTTTTTGCATTTCTTACCTAGAGTTTTTAGTGCAGTTGGTAACATCTGTTACACAC\n",
            "CATCAAAACTTATAGAGTACACTGACTTTGCAACATCAGCTTGTGTTTTGGCTGCTGAATGTACAATTTT\n",
            "TAAAGATGCTTCTGGTAAGCCAGTACCATATTGTTATGATACCAATGTACTAGAAGGTTCTGTTGCTTAT\n",
            "GAAAGTTTACGCCCTGACACACGTTATGTGCTCATGGATGGCTCTATTATTCAATTTCCTAACACCTACC\n",
            "TTGAAGGTTCTGTTAGAGTGGTAACAACTTTTGATTCTGAGTACTGTAGGCACGGCACTTGTGAAAGATC\n",
            "AGAAGCTGGTGTTTGTGTATCTACTAGTGGTAGATGGGTACTTAACAATGATTATTACAGATCTTTACCA\n",
            "GGAGTTTTCTGTGGTGTAGATGCTGTAAATTTACTTACTAATATGTTTACACCACTAATTCAACCTATTG\n",
            "GTGCTTTGGACATATCAGCATCTATAGTAGCTGGTGGTATTGTAGCTATCGTAGTAACATGCCTTGCCTA\n",
            "CTATTTTATGAGGTTTAGAAGAGCTTTTGGTGAATACAGTCATGTAGTTGCCTTTAATACTTTACTATTC\n",
            "CTTATGTCATTCACTGTACTCTGTTTAACACCAGTTTACTCATTCTTACCTGGTGTTTATTCTGTTATTT\n",
            "ACTTGTACTTGACATTTTATCTTACTAATGATGTTTCTTTTTTAGCACATATTCAGTGGATGGTTATGTT\n",
            "CACACCTTTAGTACCTTTCTGGATAACAATTGCTTATATCATTTGTATTTCCACAAAGCATTTCTATTGG\n",
            "TTCTTTAGTAATTACCTAAAGAGACGTGTAGTCTTTAATGGTGTTTCCTTTAGTACTTTTGAAGAAGCTG\n",
            "CGCTGTGCACCTTTTTGTTAAATAAAGAAATGTATCTAAAGTTGCGTAGTGATGTGCTATTACCTCTTAC\n",
            "GCAATATAATAGATACTTAGCTCTTTATAATAAGTACAAGTATTTTAGTGGAGCAATGGATACAACTAGC\n",
            "TACAGAGAAGCTGCTTGTTGTCATCTCGCAAAGGCTCTCAATGACTTCAGTAACTCAGGTTCTGATGTTC\n",
            "TTTACCAACCACCACAAACCTCTATCACCTCAGCTGTTTTGCAGAGTGGTTTTAGAAAAATGGCATTCCC\n",
            "ATCTGGTAAAGTTGAGGGTTGTATGGTACAAGTAACTTGTGGTACAACTACACTTAACGGTCTTTGGCTT\n",
            "GATGACGTAGTTTACTGTCCAAGACATGTGATCTGCACCTCTGAAGACATGCTTAACCCTAATTATGAAG\n",
            "ATTTACTCATTCGTAAGTCTAATCATAATTTCTTGGTACAGGCTGGTAATGTTCAACTCAGGGTTATTGG\n",
            "ACATTCTATGCAAAATTGTGTACTTAAGCTTAAGGTTGATACAGCCAATCCTAAGACACCTAAGTATAAG\n",
            "TTTGTTCGCATTCAACCAGGACAGACTTTTTCAGTGTTAGCTTGTTACAATGGTTCACCATCTGGTGTTT\n",
            "ACCAATGTGCTATGAGGCCCAATTTCACTATTAAGGGTTCATTCCTTAATGGTTCATGTGGTAGTGTTGG\n",
            "TTTTAACATAGATTATGACTGTGTCTCTTTTTGTTACATGCACCATATGGAATTACCAACTGGAGTTCAT\n",
            "GCTGGCACAGACTTAGAAGGTAACTTTTATGGACCTTTTGTTGACAGGCAAACAGCACAAGCAGCTGGTA\n",
            "CGGACACAACTATTACAGTTAATGTTTTAGCTTGGTTGTACGCTGCTGTTATAAATGGAGACAGGTGGTT\n",
            "TCTCAATCGATTTACCACAACTCTTAATGACTTTAACCTTGTGGCTATGAAGTACAATTATGAACCTCTA\n",
            "ACACAAGACCATGTTGACATACTAGGACCTCTTTCTGCTCAAACTGGAATTGCCGTTTTAGATATGTGTG\n",
            "CTTCATTAAAAGAATTACTGCAAAATGGTATGAATGGACGTACCATATTGGGTAGTGCTTTATTAGAAGA\n",
            "TGAATTTACACCTTTTGATGTTGTTAGACAATGCTCAGGTGTTACTTTCCAAAGTGCAGTGAAAAGAACA\n",
            "ATCAAGGGTACACACCACTGGTTGTTACTCACAATTTTGACTTCACTTTTAGTTTTAGTCCAGAGTACTC\n",
            "AATGGTCTTTGTTCTTTTTTTTGTATGAAAATGCCTTTTTACCTTTTGCTATGGGTATTATTGCTATGTC\n",
            "TGCTTTTGCAATGATGTTTGTCAAACATAAGCATGCATTTCTCTGTTTGTTTTTGTTACCTTCTCTTGCC\n",
            "ACTGTAGCTTATTTTAATATGGTCTATATGCCTGCTAGTTGGGTGATGCGTATTATGACATGGTTGGATA\n",
            "TGGTTGATACTAGTTTGTCTGGTTTTAAGCTAAAAGACTGTGTTATGTATGCATCAGCTGTAGTGTTACT\n",
            "AATCCTTATGACAGCAAGAACTGTGTATGATGATGGTGCTAGGAGAGTGTGGACACTTATGAATGTCTTG\n",
            "ACACTCGTTTATAAAGTTTATTATGGTAATGCTTTAGATCAAGCCATTTCCATGTGGGCTCTTATAATCT\n",
            "CTGTTACTTCTAACTACTCAGGTGTAGTTACAACTGTCATGTTTTTGGCCAGAGGTATTGTTTTTATGTG\n",
            "TGTTGAGTATTGCCCTATTTTCTTCATAACTGGTAATACACTTCAGTGTATAATGCTAGTTTATTGTTTC\n",
            "TTAGGCTATTTTTGTACTTGTTACTTTGGCCTCTTTTGTTTACTCAACCGCTACTTTAGACTGACTCTTG\n",
            "GTGTTTATGATTACTTAGTTTCTACACAGGAGTTTAGATATATGAATTCACAGGGACTACTCCCACCCAA\n",
            "GAATAGCATAGATGCCTTCAAACTCAACATTAAATTGTTGGGTGTTGGTGGCAAACCTTGTATCAAAGTA\n",
            "GCCACTGTACAGTCTAAAATGTCAGATGTAAAGTGCACATCAGTAGTCTTACTCTCAGTTTTGCAACAAC\n",
            "TCAGAGTAGAATCATCATCTAAATTGTGGGCTCAATGTGTCCAGTTACACAATGACATTCTCTTAGCTAA\n",
            "AGATACTACTGAAGCCTTTGAAAAAATGGTTTCACTACTTTCTGTTTTGCTTTCCATGCAGGGTGCTGTA\n",
            "GACATAAACAAGCTTTGTGAAGAAATGCTGGACAACAGGGCAACCTTACAAGCTATAGCCTCAGAGTTTA\n",
            "GTTCCCTTCCATCATATGCAGCTTTTGCTACTGCTCAAGAAGCTTATGAGCAGGCTGTTGCTAATGGTGA\n",
            "TTCTGAAGTTGTTCTTAAAAAGTTGAAGAAGTCTTTGAATGTGGCTAAATCTGAATTTGACCGTGATGCA\n",
            "GCCATGCAACGTAAGTTGGAAAAGATGGCTGATCAAGCTATGACCCAAATGTATAAACAGGCTAGATCTG\n",
            "AGGACAAGAGGGCAAAAGTTACTAGTGCTATGCAGACAATGCTTTTCACTATGCTTAGAAAGTTGGATAA\n",
            "TGATGCACTCAACAACATTATCAACAATGCAAGAGATGGTTGTGTTCCCTTGAACATAATACCTCTTACA\n",
            "ACAGCAGCCAAACTAATGGTTGTCATACCAGACTATAACACATATAAAAATACGTGTGATGGTACAACAT\n",
            "TTACTTATGCATCAGCATTGTGGGAAATCCAACAGGTTGTAGATGCAGATAGTAAAATTGTTCAACTTAG\n",
            "TGAAATTAGTATGGACAATTCACCTAATTTAGCATGGCCTCTTATTGTAACAGCTTTAAGGGCCAATTCT\n",
            "GCTGTCAAATTACAGAATAATGAGCTTAGTCCTGTTGCACTACGACAGATGTCTTGTGCTGCCGGTACTA\n",
            "CACAAACTGCTTGCACTGATGACAATGCGTTAGCTTACTACAACACAACAAAGGGAGGTAGGTTTGTACT\n",
            "TGCACTGTTATCCGATTTACAGGATTTGAAATGGGCTAGATTCCCTAAGAGTGATGGAACTGGTACTATC\n",
            "TATACAGAACTGGAACCACCTTGTAGGTTTGTTACAGACACACCTAAAGGTCCTAAAGTGAAGTATTTAT\n",
            "ACTTTATTAAAGGATTAAACAACCTAAATAGAGGTATGGTACTTGGTAGTTTAGCTGCCACAGTACGTCT\n",
            "ACAAGCTGGTAATGCAACAGAAGTGCCTGCCAATTCAACTGTATTATCTTTCTGTGCTTTTGCTGTAGAT\n",
            "GCTGCTAAAGCTTACAAAGATTATCTAGCTAGTGGGGGACAACCAATCACTAATTGTGTTAAGATGTTGT\n",
            "GTACACACACTGGTACTGGTCAGGCAATAACAGTTACACCGGAAGCCAATATGGATCAAGAATCCTTTGG\n",
            "TGGTGCATCGTGTTGTCTGTACTGCCGTTGCCACATAGATCATCCAAATCCTAAAGGATTTTGTGACTTA\n",
            "AAAGGTAAGTATGTACAAATACCTACAACTTGTGCTAATGACCCTGTGGGTTTTACACTTAAAAACACAG\n",
            "TCTGTACCGTCTGCGGTATGTGGAAAGGTTATGGCTGTAGTTGTGATCAACTCCGCGAACCCATGCTTCA\n",
            "GTCAGCTGATGCACAATCGTTTTTAAACGGGTTTGCGGTGTAAGTGCAGCCCGTCTTACACCGTGCGGCA\n",
            "CAGGCACTAGTACTGATGTCGTATACAGGGCTTTTGACATCTACAATGATAAAGTAGCTGGTTTTGCTAA\n",
            "ATTCCTAAAAACTAATTGTTGTCGCTTCCAAGAAAAGGACGAAGATGACAATTTAATTGATTCTTACTTT\n",
            "GTAGTTAAGAGACACACTTTCTCTAACTACCAACATGAAGAAACAATTTATAATTTACTTAAGGATTGTC\n",
            "CAGCTGTTGCTAAACATGACTTCTTTAAGTTTAGAATAGACGGTGACATGGTACCACATATATCACGTCA\n",
            "ACGTCTTACTAAATACACAATGGCAGACCTCGTCTATGCTTTAAGGCATTTTGATGAAGGTAATTGTGAC\n",
            "ACATTAAAAGAAATACTTGTCACATACAATTGTTGTGATGATGATTATTTCAATAAAAAGGACTGGTATG\n",
            "ATTTTGTAGAAAACCCAGATATATTACGCGTATACGCCAACTTAGGTGAACGTGTACGCCAAGCTTTGTT\n",
            "AAAAACAGTACAATTCTGTGATGCCATGCGAAATGCTGGTATTGTTGGTGTACTGACATTAGATAATCAA\n",
            "GATCTCAATGGTAACTGGTATGATTTCGGTGATTTCATACAAACCACGCCAGGTAGTGGAGTTCCTGTTG\n",
            "TAGATTCTTATTATTCATTGTTAATGCCTATATTAACCTTGACCAGGGCTTTAACTGCAGAGTCACATGT\n",
            "TGACACTGACTTAACAAAGCCTTACATTAAGTGGGATTTGTTAAAATATGACTTCACGGAAGAGAGGTTA\n",
            "AAACTCTTTGACCGTTATTTTAAATATTGGGATCAGACATACCACCCAAATTGTGTTAACTGTTTGGATG\n",
            "ACAGATGCATTCTGCATTGTGCAAACTTTAATGTTTTATTCTCTACAGTGTTCCCACCTACAAGTTTTGG\n",
            "ACCACTAGTGAGAAAAATATTTGTTGATGGTGTTCCATTTGTAGTTTCAACTGGATACCACTTCAGAGAG\n",
            "CTAGGTGTTGTACATAATCAGGATGTAAACTTACATAGCTCTAGACTTAGTTTTAAGGAATTACTTGTGT\n",
            "ATGCTGCTGACCCTGCTATGCACGCTGCTTCTGGTAATCTATTACTAGATAAACGCACTACGTGCTTTTC\n",
            "AGTAGCTGCACTTACTAACAATGTTGCTTTTCAAACTGTCAAACCCGGTAATTTTAACAAAGACTTCTAT\n",
            "GACTTTGCTGTGTCTAAGGGTTTCTTTAAGGAAGGAAGTTCTGTTGAATTAAAACACTTCTTCTTTGCTC\n",
            "AGGATGGTAATGCTGCTATCAGCGATTATGACTACTATCGTTATAATCTACCAACAATGTGTGATATCAG\n",
            "ACAACTACTATTTGTAGTTGAAGTTGTTGATAAGTACTTTGATTGTTACGATGGTGGCTGTATTAATGCT\n",
            "AACCAAGTCATCGTCAACAACCTAGACAAATCAGCTGGTTTTCCATTTAATAAATGGGGTAAGGCTAGAC\n",
            "TTTATTATGATTCAATGAGTTATGAGGATCAAGATGCACTTTTCGCATATACAAAACGTAATGTCATCCC\n",
            "TACTATAACTCAAATGAATCTTAAGTATGCCATTAGTGCAAAGAATAGAGCTCGCACCGTAGCTGGTGTC\n",
            "TCTATCTGTAGTACTATGACCAATAGACAGTTTCATCAAAAATTATTGAAATCAATAGCCGCCACTAGAG\n",
            "GAGCTACTGTAGTAATTGGAACAAGCAAATTCTATGGTGGTTGGCACAACATGTTAAAAACTGTTTATAG\n",
            "TGATGTAGAAAACCCTCACCTTATGGGTTGGGATTATCCTAAATGTGATAGAGCCATGCCTAACATGCTT\n",
            "AGAATTATGGCCTCACTTGTTCTTGCTCGCAAACATACAACGTGTTGTAGCTTGTCACACCGTTTCTATA\n",
            "GATTAGCTAATGAGTGTGCTCAAGTATTGAGTGAAATGGTCATGTGTGGCGGTTCACTATATGTTAAACC\n",
            "AGGTGGAACCTCATCAGGAGATGCCACAACTGCTTATGCTAATAGTGTTTTTAACATTTGTCAAGCTGTC\n",
            "ACGGCCAATGTTAATGCACTTTTATCTACTGATGGTAACAAAATTGCCGATAAGTATGTCCGCAATTTAC\n",
            "AACACAGACTTTATGAGTGTCTCTATAGAAATAGAGATGTTGACACAGACTTTGTGAATGAGTTTTACGC\n",
            "ATATTTGCGTAAACATTTCTCAATGATGATACTCTCTGACGATGCTGTTGTGTGTTTCAATAGCACTTAT\n",
            "GCATCTCAAGGTCTAGTGGCTAGCATAAAGAACTTTAAGTCAGTTCTTTATTATCAAAACAATGTTTTTA\n",
            "TGTCTGAAGCAAAATGTTGGACTGAGACTGACCTTACTAAAGGACCTCATGAATTTTGCTCTCAACATAC\n",
            "AATGCTAGTTAAACAGGGTGATGATTATGTGTACCTTCCTTACCCAGATCCATCAAGAATCCTAGGGGCC\n",
            "GGCTGTTTTGTAGATGATATCGTAAAAACAGATGGTACACTTATGATTGAACGGTTCGTGTCTTTAGCTA\n",
            "TAGATGCTTACCCACTTACTAAACATCCTAATCAGGAGTATGCTGATGTCTTTCATTTGTACTTACAATA\n",
            "CATAAGAAAGCTACATGATGAGTTAACAGGACACATGTTAGACATGTATTCTGTTATGCTTACTAATGAT\n",
            "AACACTTCAAGGTATTGGGAACCTGAGTTTTATGAGGCTATGTACACACCGCATACAGTCTTACAGGCTG\n",
            "TTGGGGCTTGTGTTCTTTGCAATTCACAGACTTCATTAAGATGTGGTGCTTGCATACGTAGACCATTCTT\n",
            "ATGTTGTAAATGCTGTTACGACCATGTCATATCAACATCACATAAATTAGTCTTGTCTGTTAATCCGTAT\n",
            "GTTTGCAATGCTCCAGGTTGTGATGTCACAGATGTGACTCAACTTTACTTAGGAGGTATGAGCTATTATT\n",
            "GTAAATCACATAAACCACCCATTAGTTTTCCATTGTGTGCTAATGGACAAGTTTTTGGTTTATATAAAAA\n",
            "TACATGTGTTGGTAGCGATAATGTTACTGACTTTAATGCAATTGCAACATGTGACTGGACAAATGCTGGT\n",
            "GATTACATTTTAGCTAACACCTGTACTGAAAGACTCAAGCTTTTTGCAGCAGAAACGCTCAAAGCTACTG\n",
            "AGGAGACATTTAAACTGTCTTATGGTATTGCTACTGTACGTGAAGTGCTGTCTGACAGAGAATTACATCT\n",
            "TTCATGGGAAGTTGGTAAACCTAGACCACCACTTAACCGAAATTATGTCTTTACTGGTTATCGTGTAACT\n",
            "AAAAACAGTAAAGTACAAATAGGAGAGTACACCTTTGAAAAAGGTGACTATGGTGATGCTGTTGTTTACC\n",
            "GAGGTACAACAACTTACAAATTAAATGTTGGTGATTATTTTGTGCTGACATCACATACAGTAATGCCATT\n",
            "AAGTGCACCTACACTAGTGCCACAAGAGCACTATGTTAGAATTACTGGCTTATACCCAACACTCAATATC\n",
            "TCAGATGAGTTTTCTAGCAATGTTGCAAATTATCAAAAGGTTGGTATGCAAAAGTATTCTACACTCCAGG\n",
            "GACCACCTGGTACTGGTAAGAGTCATTTTGCTATTGGCCTAGCTCTCTACTACCCTTCTGCTCGCATAGT\n",
            "GTATACAGCTTGCTCTCATGCCGCTGTTGATGCACTATGTGAGAAGGCATTAAAATATTTGCCTATAGAT\n",
            "AAATGTAGTAGAATTATACCTGCACGTGCTCGTGTAGAGTGTTTTGATAAATTCAAAGTGAATTCAACAT\n",
            "TAGAACAGTATGTCTTTTGTACTGTAAATGCATTGCCTGAGACGACAGCAGATATAGTTGTCTTTGATGA\n",
            "AATTTCAATGGCCACAAATTATGATTTGAGTGTTGTCAATGCCAGATTACGTGCTAAGCACTATGTGTAC\n",
            "ATTGGCGACCCTGCTCAATTACCTGCACCACGCACATTGCTAACTAAGGGCACACTAGAACCAGAATATT\n",
            "TCAATTCAGTGTGTAGACTTATGAAAACTATAGGTCCAGACATGTTCCTCGGAACTTGTCGGCGTTGTCC\n",
            "TGCTGAAATTGTTGACACTGTGAGTGCTTTGGTTTATGATAATAAGCTTAAAGCACATAAAGACAAATCA\n",
            "GCTCAATGCTTTAAAATGTTTTATAAGGGTGTTATCACGCATGATGTTTCATCTGCAATTAACAGGCCAC\n",
            "AAATAGGCGTGGTAAGAGAATTCCTTACACGTAACCCTGCTTGGAGAAAAGCTGTCTTTATTTCACCTTA\n",
            "TAATTCACAGAATGCTGTAGCCTCAAAGATTTTGGGACTACCAACTCAAACTGTTGATTCATCACAGGGC\n",
            "TCAGAATATGACTATGTCATATTCACTCAAACCACTGAAACAGCTCACTCTTGTAATGTAAACAGATTTA\n",
            "ATGTTGCTATTACCAGAGCAAAAGTAGGCATACTTTGCATAATGTCTGATAGAGACCTTTATGACAAGTT\n",
            "GCAATTTACAAGTCTTGAAATTCCACGTAGGAATGTGGCAACTTTACAAGCTGAAAATGTAACAGGACTC\n",
            "TTTAAAGATTGTAGTAAGGTAATCACTGGGTTACATCCTACACAGGCACCTACACACCTCAGTGTTGACA\n",
            "CTAAATTCAAAACTGAAGGTTTATGTGTTGACATACCTGGCATACCTAAGGACATGACCTATAGAAGACT\n",
            "CATCTCTATGATGGGTTTTAAAATGAATTATCAAGTTAATGGTTACCCTAACATGTTTATCACCCGCGAA\n",
            "GAAGCTATAAGACATGTACGTGCATGGATTGGCTTCGATGTCGAGGGGTGTCATGCTACTAGAGAAGCTG\n",
            "TTGGTACCAATTTACCTTTACAGCTAGGTTTTTCTACAGGTGTTAACCTAGTTGCTGTACCTACAGGTTA\n",
            "TGTTGATACACCTAATAATACAGATTTTTCCAGAGTTAGTGCTAAACCACCGCCTGGAGATCAATTTAAA\n",
            "CACCTCATACCACTTATGTACAAAGGACTTCCTTGGAATGTAGTGCGTATAAAGATTGTACAAATGTTAA\n",
            "GTGACACACTTAAAAATCTCTCTGACAGAGTCGTATTTGTCTTATGGGCACATGGCTTTGAGTTGACATC\n",
            "TATGAAGTATTTTGTGAAAATAGGACCTGAGCGCACCTGTTGTCTATGTGATAGACGTGCCACATGCTTT\n",
            "TCCACTGCTTCAGACACTTATGCCTGTTGGCATCATTCTATTGGATTTGATTACGTCTATAATCCGTTTA\n",
            "TGATTGATGTTCAACAATGGGGTTTTACAGGTAACCTACAAAGCAACCATGATCTGTATTGTCAAGTCCA\n",
            "TGGTAATGCACATGTAGCTAGTTGTGATGCAATCATGACTAGGTGTCTAGCTGTCCACGAGTGCTTTGTT\n",
            "AAGCGTGTTGACTGGACTATTGAATATCCTATAATTGGTGATGAACTGAAGATTAATGCGGCTTGTAGAA\n",
            "AGGTTCAACACATGGTTGTTAAAGCTGCATTATTAGCAGACAAATTCCCAGTTCTTCACGACATTGGTAA\n",
            "CCCTAAAGCTATTAAGTGTGTACCTCAAGCTGATGTAGAATGGAAGTTCTATGATGCACAGCCTTGTAGT\n",
            "GACAAAGCTTATAAAATAGAAGAATTATTCTATTCTTATGCCACACATTCTGACAAATTCACAGATGGTG\n",
            "TATGCCTATTTTGGAATTGCAATGTCGATAGATATCCTGCTAATTCCATTGTTTGTAGATTTGACACTAG\n",
            "AGTGCTATCTAACCTTAACTTGCCTGGTTGTGATGGTGGCAGTTTGTATGTAAATAAACATGCATTCCAC\n",
            "ACACCAGCTTTTGATAAAAGTGCTTTTGTTAATTTAAAACAATTACCATTTTTCTATTACTCTGACAGTC\n",
            "CATGTGAGTCTCATGGAAAACAAGTAGTGTCAGATATAGATTATGTACCACTAAAGTCTGCTACGTGTAT\n",
            "AACACGTTGCAATTTAGGTGGTGCTGTCTGTAGACATCATGCTAATGAGTACAGATTGTATCTCGATGCT\n",
            "TATAACATGATGATCTCAGCTGGCTTTAGCTTGTGGGTTTACAAACAATTTGATACTTATAACCTCTGGA\n",
            "ACACTTTTACAAGACTTCAGAGTTTAGAAAATGTGGCTTTTAATGTTGTAAATAAGGGACACTTTGATGG\n",
            "ACAACAGGGTGAAGTACCAGTTTCTATCATTAATAACACTGTTTACACAAAAGTTGATGGTGTTGATGTA\n",
            "GAATTGTTTGAAAATAAAACAACATTACCTGTTAATGTAGCATTTGAGCTTTGGGCTAAGCGCAACATTA\n",
            "AACCAGTACCAGAGGTGAAAATACTCAATAATTTGGGTGTGGACATTGCTGCTAATACTGTGATCTGGGA\n",
            "CTACAAAAGAGATGCTCCAGCACATATATCTACTATTGGTGTTTGTTCTATGACTGACATAGCCAAGAAA\n",
            "CCAACTGAAACGATTTGTGCACCACTCACTGTCTTTTTTGATGGTAGAGTTGATGGTCAAGTAGACTTAT\n",
            "TTAGAAATGCCCGTAATGGTGTTCTTATTACAGAAGGTAGTGTTAAAGGTTTACAACCATCTGTAGGTCC\n",
            "CAAACAAGCTAGTCTTAATGGAGTCACATTAATTGGAGAAGCCGTAAAAACACAGTTCAATTATTATAAG\n",
            "AAAGTTGATGGTGTTGTCCAACAATTACCTGAAACTTACTTTACTCAGAGTAGAAATTTACAAGAATTTA\n",
            "AACCCAGGAGTCAAATGGAAATTGATTTCTTAGAATTAGCTATGGATGAATTCATTGAACGGTATAAATT\n",
            "AGAAGGCTATGCCTTCGAACATATCGTTTATGGAGATTTTAGTCATAGTCAGTTAGGTGGTTTACATCTA\n",
            "CTGATTGGACTAGCTAAACGTTTTAAGGAATCACCTTTTGAATTAGAAGATTTTATTCCTATGGACAGTA\n",
            "CAGTTAAAAACTATTTCATAACAGATGCGCAAACAGGTTCATCTAAGTGTGTGTGTTCTGTTATTGATTT\n",
            "ATTACTTGATGATTTTGTTGAAATAATAAAATCCCAAGATTTATCTGTAGTTTCTAAGGTTGTCAAAGTG\n",
            "ACTATTGACTATACAGAAATTTCATTTATGCTTTGGTGTAAAGATGGCCATGTAGAAACATTTTACCCAA\n",
            "AATTACAATCTAGTCAAGCGTGGCAACCGGGTGTTGCTATGCCTAATCTTTACAAAATGCAAAGAATGCT\n",
            "ATTAGAAAAGTGTGACCTTCAAAATTATGGTGATAGTGCAACATTACCTAAAGGCATAATGATGAATGTC\n",
            "GCAAAATATACTCAACTGTGTCAATATTTAAACACATTAACATTAGCTGTACCCTATAATATGAGAGTTA\n",
            "TACATTTTGGTGCTGGTTCTGATAAAGGAGTTGCACCAGGTACAGCTGTTTTAAGACAGTGGTTGCCTAC\n",
            "GGGTACGCTGCTTGTCGATTCAGATCTTAATGACTTTGTCTCTGATGCAGATTCAACTTTGATTGGTGAT\n",
            "TGTGCAACTGTACATACAGCTAATAAATGGGATCTCATTATTAGTGATATGTACGACCCTAAGACTAAAA\n",
            "ATGTTACAAAAGAAAATGACTCTAAAGAGGGTTTTTTCACTTACATTTGTGGGTTTATACAACAAAAGCT\n",
            "AGCTCTTGGAGGTTCCGTGGCTATAAAGATAACAGAACATTCTTGGAATGCTGATCTTTATAAGCTCATG\n",
            "GGACACTTCGCATGGTGGACAGCCTTTGTTACTAATGTGAATGCGTCATCATCTGAAGCATTTTTAATTG\n",
            "GATGTAATTATCTTGGCAAACCACGCGAACAAATAGATGGTTATGTCATGCATGCAAATTACATATTTTG\n",
            "GAGGAATACAAATCCAATTCAGTTGTCTTCCTATTCTTTATTTGACATGAGTAAATTTCCCCTTAAATTA\n",
            "AGGGGTACTGCTGTTATGTCTTTAAAAGAAGGTCAAATCAATGATATGATTTTATCTCTTCTTAGTAAAG\n",
            "GTAGACTTATAATTAGAGAAAACAACAGAGTTGTTATTTCTAGTGATGTTCTTGTTAACAACTAAACGAA\n",
            "CAATGTTTGTTTTTCTTGTTTTATTGCCACTAGTCTCTAGTCAGTGTGTTAATCTTACAACCAGAACTCA\n",
            "ATTACCCCCTGCATACACTAATTCTTTCACACGTGGTGTTTATTACCCTGACAAAGTTTTCAGATCCTCA\n",
            "GTTTTACATTCAACTCAGGACTTGTTCTTACCTTTCTTTTCCAATGTTACTTGGTTCCATGCTATACATG\n",
            "TCTCTGGGACCAATGGTACTAAGAGGTTTGATAACCCTGTCCTACCATTTAATGATGGTGTTTATTTTGC\n",
            "TTCCACTGAGAAGTCTAACATAATAAGAGGCTGGATTTTTGGTACTACTTTAGATTCGAAGACCCAGTCC\n",
            "CTACTTATTGTTAATAACGCTACTAATGTTGTTATTAAAGTCTGTGAATTTCAATTTTGTAATGATCCAT\n",
            "TTTTGGGTGTTTATTACCACAAAAACAACAAAAGTTGGATGGAAAGTGAGTTCAGAGTTTATTCTAGTGC\n",
            "GAATAATTGCACTTTTGAATATGTCTCTCAGCCTTTTCTTATGGACCTTGAAGGAAAACAGGGTAATTTC\n",
            "AAAAATCTTAGGGAATTTGTGTTTAAGAATATTGATGGTTATTTTAAAATATATTCTAAGCACACGCCTA\n",
            "TTAATTTAGTGCGTGATCTCCCTCAGGGTTTTTCGGCTTTAGAACCATTGGTAGATTTGCCAATAGGTAT\n",
            "TAACATCACTAGGTTTCAAACTTTACTTGCTTTACATAGAAGTTATTTGACTCCTGGTGATTCTTCTTCA\n",
            "GGTTGGACAGCTGGTGCTGCAGCTTATTATGTGGGTTATCTTCAACCTAGGACTTTTCTATTAAAATATA\n",
            "ATGAAAATGGAACCATTACAGATGCTGTAGACTGTGCACTTGACCCTCTCTCAGAAACAAAGTGTACGTT\n",
            "GAAATCCTTCACTGTAGAAAAAGGAATCTATCAAACTTCTAACTTTAGAGTCCAACCAACAGAATCTATT\n",
            "GTTAGATTTCCTAATATTACAAACTTGTGCCCTTTTGGTGAAGTTTTTAACGCCACCAGATTTGCATCTG\n",
            "TTTATGCTTGGAACAGGAAGAGAATCAGCAACTGTGTTGCTGATTATTCTGTCCTATATAATTCCGCATC\n",
            "ATTTTCCACTTTTAAGTGTTATGGAGTGTCTCCTACTAAATTAAATGATCTCTGCTTTACTAATGTCTAT\n",
            "GCAGATTCATTTGTAATTAGAGGTGATGAAGTCAGACAAATCGCTCCAGGGCAAACTGGAAAGATTGCTG\n",
            "ATTATAATTATAAATTACCAGATGATTTTACAGGCTGCGTTATAGCTTGGAATTCTAACAATCTTGATTC\n",
            "TAAGGTTGGTGGTAATTATAATTACCTGTATAGATTGTTTAGGAAGTCTAATCTCAAACCTTTTGAGAGA\n",
            "GATATTTCAACTGAAATCTATCAGGCCGGTAGCACACCTTGTAATGGTGTTGAAGGTTTTAATTGTTACT\n",
            "TTCCTTTACAATCATATGGTTTCCAACCCACTAATGGTGTTGGTTACCAACCATACAGAGTAGTAGTACT\n",
            "TTCTTTTGAACTTCTACATGCACCAGCAACTGTTTGTGGACCTAAAAAGTCTACTAATTTGGTTAAAAAC\n",
            "AAATGTGTCAATTTCAACTTCAATGGTTTAACAGGCACAGGTGTTCTTACTGAGTCTAACAAAAAGTTTC\n",
            "TGCCTTTCCAACAATTTGGCAGAGACATTGCTGACACTACTGATGCTGTCCGTGATCCACAGACACTTGA\n",
            "GATTCTTGACATTACACCATGTTCTTTTGGTGGTGTCAGTGTTATAACACCAGGAACAAATACTTCTAAC\n",
            "CAGGTTGCTGTTCTTTATCAGGATGTTAACTGCACAGAAGTCCCTGTTGCTATTCATGCAGATCAACTTA\n",
            "CTCCTACTTGGCGTGTTTATTCTACAGGTTCTAATGTTTTTCAAACACGTGCAGGCTGTTTAATAGGGGC\n",
            "TGAACATGTCAACAACTCATATGAGTGTGACATACCCATTGGTGCAGGTATATGCGCTAGTTATCAGACT\n",
            "CAGACTAATTCTCCTCGGCGGGCACGTAGTGTAGCTAGTCAATCCATCATTGCCTACACTATGTCACTTG\n",
            "GTGCAGAAAATTCAGTTGCTTACTCTAATAACTCTATTGCCATACCCACAAATTTTACTATTAGTGTTAC\n",
            "CACAGAAATTCTACCAGTGTCTATGACCAAGACATCAGTAGATTGTACAATGTACATTTGTGGTGATTCA\n",
            "ACTGAATGCAGCAATCTTTTGTTGCAATATGGCAGTTTTTGTACACAATTAAACCGTGCTTTAACTGGAA\n",
            "TAGCTGTTGAACAAGACAAAAACACCCAAGAAGTTTTTGCACAAGTCAAACAAATTTACAAAACACCACC\n",
            "AATTAAAGATTTTGGTGGTTTTAATTTTTCACAAATATTACCAGATCCATCAAAACCAAGCAAGAGGTCA\n",
            "TTTATTGAAGATCTACTTTTCAACAAAGTGACACTTGCAGATGCTGGCTTCATCAAACAATATGGTGATT\n",
            "GCCTTGGTGATATTGCTGCTAGAGACCTCATTTGTGCACAAAAGTTTAACGGCCTTACTGTTTTGCCACC\n",
            "TTTGCTCACAGATGAAATGATTGCTCAATACACTTCTGCACTGTTAGCGGGTACAATCACTTCTGGTTGG\n",
            "ACCTTTGGTGCAGGTGCTGCATTACAAATACCATTTGCTATGCAAATGGCTTATAGGTTTAATGGTATTG\n",
            "GAGTTACACAGAATGTTCTCTATGAGAACCAAAAATTGATTGCCAACCAATTTAATAGTGCTATTGGCAA\n",
            "AATTCAAGACTCACTTTCTTCCACAGCAAGTGCACTTGGAAAACTTCAAGATGTGGTCAACCAAAATGCA\n",
            "CAAGCTTTAAACACGCTTGTTAAACAACTTAGCTCCAATTTTGGTGCAATTTCAAGTGTTTTAAATGATA\n",
            "TCCTTTCACGTCTTGACAAAGTTGAGGCTGAAGTGCAAATTGATAGGTTGATCACAGGCAGACTTCAAAG\n",
            "TTTGCAGACATATGTGACTCAACAATTAATTAGAGCTGCAGAAATCAGAGCTTCTGCTAATCTTGCTGCT\n",
            "ACTAAAATGTCAGAGTGTGTACTTGGACAATCAAAAAGAGTTGATTTTTGTGGAAAGGGCTATCATCTTA\n",
            "TGTCCTTCCCTCAGTCAGCACCTCATGGTGTAGTCTTCTTGCATGTGACTTATGTCCCTGCACAAGAAAA\n",
            "GAACTTCACAACTGCTCCTGCCATTTGTCATGATGGAAAAGCACACTTTCCTCGTGAAGGTGTCTTTGTT\n",
            "TCAAATGGCACACACTGGTTTGTAACACAAAGGAATTTTTATGAACCACAAATCATTACTACAGACAACA\n",
            "CATTTGTGTCTGGTAACTGTGATGTTGTAATAGGAATTGTCAACAACACAGTTTATGATCCTTTGCAACC\n",
            "TGAATTAGACTCATTCAAGGAGGAGTTAGATAAATATTTTAAGAATCATACATCACCAGATGTTGATTTA\n",
            "GGTGACATCTCTGGCATTAATGCTTCAGTTGTAAACATTCAAAAAGAAATTGACCGCCTCAATGAGGTTG\n",
            "CCAAGAATTTAAATGAATCTCTCATCGATCTCCAAGAACTTGGAAAGTATGAGCAGTATATAAAATGGCC\n",
            "ATGGTACATTTGGCTAGGTTTTATAGCTGGCTTGATTGCCATAGTAATGGTGACAATTATGCTTTGCTGT\n",
            "ATGACCAGTTGCTGTAGTTGTCTCAAGGGCTGTTGTTCTTGTGGATCCTGCTGCAAATTTGATGAAGACG\n",
            "ACTCTGAGCCAGTGCTCAAAGGAGTCAAATTACATTACACATAAACGAACTTATGGATTTGTTTATGAGA\n",
            "ATCTTCACAATTGGAACTGTAACTTTGAAGCAAGGTGAAATCAAGGATGCTACTCCTTCAGATTTTGTTC\n",
            "GCGCTACTGCAACGATACCGATACAAGCCTCACTCCCTTTCGGATGGCTTATTGTTGGCGTTGCACTTCT\n",
            "TGCTGTTTTTCAGAGCGCTTCCAAAATCATAACCCTCAAAAAGAGATGGCAACTAGCACTCTCCAAGGGT\n",
            "GTTCACTTTGTTTGCAACTTGCTGTTGTTGTTTGTAACAGTTTACTCACACCTTTTGCTCGTTGCTGCTG\n",
            "GCCTTGAAGCCCCTTTTCTCTATCTTTATGCTTTAGTCTACTTCTTGCAGAGTATAAACTTTGTAAGAAT\n",
            "AATAATGAGGCTTTGGCTTTGCTGGAAATGCCGTTCCAAAAACCCATTACTTTATGATGCCAACTATTTT\n",
            "CTTTGCTGGCATACTAATTGTTACGACTATTGTATACCTTACAATAGTGTAACTTCTTCAATTGTCATTA\n",
            "CTTCAGGTGATGGCACAACAAGTCCTATTTCTGAACATGACTACCAGATTGGTGGTTATACTGAAAAATG\n",
            "GGAATCTGGAGTAAAAGACTGTGTTGTATTACACAGTTACTTCACTTCAGACTATTACCAGCTGTACTCA\n",
            "ACTCAATTGAGTACAGACACTGGTGTTGAACATGTTACCTTCTTCATCTACAATAAAATTGTTGATGAGC\n",
            "CTGAAGAACATGTCCAAATTCACACAATCGACGGTTCATCCGGAGTTGTTAATCCAGTAATGGAACCAAT\n",
            "TTATGATGAACCGACGACGACTACTAGCGTGCCTTTGTAAGCACAAGCTGATGAGTACGAACTTATGTAC\n",
            "TCATTCGTTTCGGAAGAGACAGGTACGTTAATAGTTAATAGCGTACTTCTTTTTCTTGCTTTCGTGGTAT\n",
            "TCTTGCTAGTTACACTAGCCATCCTTACTGCGCTTCGATTGTGTGCGTACTGCTGCAATATTGTTAACGT\n",
            "GAGTCTTGTAAAACCTTCTTTTTACGTTTACTCTCGTGTTAAAAATCTGAATTCTTCTAGAGTTCCTGAT\n",
            "CTTCTGGTCTAAACGAACTAAATATTATATTAGTTTTTCTGTTTGGAACTTTAATTTTAGCCATGGCAGA\n",
            "TTCCAACGGTACTATTACCGTTGAAGAGCTTAAAAAGCTCCTTGAACAATGGAACCTAGTAATAGGTTTC\n",
            "CTATTCCTTACATGGATTTGTCTTCTACAATTTGCCTATGCCAACAGGAATAGGTTTTTGTATATAATTA\n",
            "AGTTAATTTTCCTCTGGCTGTTATGGCCAGTAACTTTAGCTTGTTTTGTGCTTGCTGCTGTTTACAGAAT\n",
            "AAATTGGATCACCGGTGGAATTGCTATCGCAATGGCTTGTCTTGTAGGCTTGATGTGGCTCAGCTACTTC\n",
            "ATTGCTTCTTTCAGACTGTTTGCGCGTACGCGTTCCATGTGGTCATTCAATCCAGAAACTAACATTCTTC\n",
            "TCAACGTGCCACTCCATGGCACTATTCTGACCAGACCGCTTCTAGAAAGTGAACTCGTAATCGGAGCTGT\n",
            "GATCCTTCGTGGACATCTTCGTATTGCTGGACACCATCTAGGACGCTGTGACATCAAGGACCTGCCTAAA\n",
            "GAAATCACTGTTGCTACATCACGAACGCTTTCTTATTACAAATTGGGAGCTTCGCAGCGTGTAGCAGGTG\n",
            "ACTCAGGTTTTGCTGCATACAGTCGCTACAGGATTGGCAACTATAAATTAAACACAGACCATTCCAGTAG\n",
            "CAGTGACAATATTGCTTTGCTTGTACAGTAAGTGACAACAGATGTTTCATCTCGTTGACTTTCAGGTTAC\n",
            "TATAGCAGAGATATTACTAATTATTATGAGGACTTTTAAAGTTTCCATTTGGAATCTTGATTACATCATA\n",
            "AACCTCATAATTAAAAATTTATCTAAGTCACTAACTGAGAATAAATATTCTCAATTAGATGAAGAGCAAC\n",
            "CAATGGAGATTGATTAAACGAACATGAAAATTATTCTTTTCTTGGCACTGATAACACTCGCTACTTGTGA\n",
            "GCTTTATCACTACCAAGAGTGTGTTAGAGGTACAACAGTACTTTTAAAAGAACCTTGCTCTTCTGGAACA\n",
            "TACGAGGGCAATTCACCATTTCATCCTCTAGCTGATAACAAATTTGCACTGACTTGCTTTAGCACTCAAT\n",
            "TTGCTTTTGCTTGTCCTGACGGCGTAAAACACGTCTATCAGTTACGTGCCAGATCAGTTTCACCTAAACT\n",
            "GTTCATCAGACAAGAGGAAGTTCAAGAACTTTACTCTCCAATTTTTCTTATTGTTGCGGCAATAGTGTTT\n",
            "ATAACACTTTGCTTCACACTCAAAAGAAAGACAGAATGATTGAACTTTCATTAATTGACTTCTATTTGTG\n",
            "CTTTTTAGCCTTTCTGCTATTCCTTGTTTTAATTATGCTTATTATCTTTTGGTTCTCACTTGAACTGCAA\n",
            "GATCATAATGAAACTTGTCACGCCTAAACGAACATGAAATTTCTTGTTTTCTTAGGAATCATCACAACTG\n",
            "TAGCTGCATTTCACCAAGAATGTAGTTTACAGTCATGTACTCAACATCAACCATATGTAGTTGATGACCC\n",
            "GTGTCCTATTCACTTCTATTCTAAATGGTATATTAGAGTAGGAGCTAGAAAATCAGCACCTTTAATTGAA\n",
            "TTGTGCGTGGATGAGGCTGGTTCTAAATCACCCATTCAGTACATCGATATCGGTAATTATACAGTTTCCT\n",
            "GTTTACCTTTTACAATTAATTGCCAGGAACCTAAATTGGGTAGTCTTGTAGTGCGTTGTTCGTTCTATGA\n",
            "AGACTTTTTAGAGTATCATGACGTTCGTGTTGTTTTAGATTTCATCTAAACGAACAAACTAAAATGTCTG\n",
            "ATAATGGACCCCAAAATCAGCGAAATGCACCCCGCATTACGTTTGGTGGACCCTCAGATTCAACTGGCAG\n",
            "TAACCAGAATGGAGAACGCAGTGGGGCGCGATCAAAACAACGTCGGCCCCAAGGTTTACCCAATAATACT\n",
            "GCGTCTTGGTTCACCGCTCTCACTCAACATGGCAAGGAAGACCTTAAATTCCCTCGAGGACAAGGCGTTC\n",
            "CAATTAACACCAATAGCAGTCCAGATGACCAAATTGGCTACTACCGAAGAGCTACCAGACGAATTCGTGG\n",
            "TGGTGACGGTAAAATGAAAGATCTCAGTCCAAGATGGTATTTCTACTACCTAGGAACTGGGCCAGAAGCT\n",
            "GGACTTCCCTATGGTGCTAACAAAGACGGCATCATATGGGTTGCAACTGAGGGAGCCTTGAATACACCAA\n",
            "AAGATCACATTGGCACCCGCAATCCTGCTAACAATGCTGCAATCGTGCTACAACTTCCTCAAGGAACAAC\n",
            "ATTGCCAAAAGGCTTCTACGCAGAAGGGAGCAGAGGCGGCAGTCAAGCCTCTTCTCGTTCCTCATCACGT\n",
            "AGTCGCAACAGTTCAAGAAATTCAACTCCAGGCAGCAGTAGGGGAACTTCTCCTGCTAGAATGGCTGGCA\n",
            "ATGGCGGTGATGCTGCTCTTGCTTTGCTGCTGCTTGACAGATTGAACCAGCTTGAGAGCAAAATGTCTGG\n",
            "TAAAGGCCAACAACAACAAGGCCAAACTGTCACTAAGAAATCTGCTGCTGAGGCTTCTAAGAAGCCTCGG\n",
            "CAAAAACGTACTGCCACTAAAGCATACAATGTAACACAAGCTTTCGGCAGACGTGGTCCAGAACAAACCC\n",
            "AAGGAAATTTTGGGGACCAGGAACTAATCAGACAAGGAACTGATTACAAACATTGGCCGCAAATTGCACA\n",
            "ATTTGCCCCCAGCGCTTCAGCGTTCTTCGGAATGTCGCGCATTGGCATGGAAGTCACACCTTCGGGAACG\n",
            "TGGTTGACCTACACAGGTGCCATCAAATTGGATGACAAAGATCCAAATTTCAAAGATCAAGTCATTTTGC\n",
            "TGAATAAGCATATTGACGCATACAAAACATTCCCACCAACAGAGCCTAAAAAGGACAAAAAGAAGAAGGC\n",
            "TGATGAAACTCAAGCCTTACCGCAGAGACAGAAGAAACAGCAAACTGTGACTCTTCTTCCTGCTGCAGAT\n",
            "TTGGATGATTTCTCCAAACAATTGCAACAATCCATGAGCAGTGCTGACTCAACTCAGGCCTAAACTCATG\n",
            "CAGACCACACAAGGCAGATGGGCTATATAAACGTTTTCGCTTTTCCGTTTACGATATATAGTCTACTCTT\n",
            "GTGCAGAATGAATTCTCGTAACTACATAGCACAAGTAGATGTAGTTAACTTTAATCTCACATAGCAATCT\n",
            "TTAATCAGTGTGTAACATTAGGGAGGACTTGAAAGAGCCACCACATTTTCACCGAGGCCACGCGGAGTAC\n",
            "GATCGAGTGTACAGTGAACAATGCTAGGGAGAGCTGCCTATATGGAAGAGCCCTAATGTGTAAAATTAAT\n",
            "TTTAGTAGTGCTATCCCCATGTGATTTTAATAGCTTCTTAGGAGAATGACAAAAAAAAAAAAAAAAAAAA\n",
            "AAAAAAAAAAAAA\n"
          ]
        }
      ]
    },
    {
      "cell_type": "markdown",
      "source": [
        "# more/less\n",
        "These commands are used for viewing the content of the files; faster with large input files than text editors; not the entire file is read at the beginning. Press “Enter” to view lines further and “q” to quit the program\n"
      ],
      "metadata": {
        "id": "VrR_apXW5Fqa"
      }
    },
    {
      "cell_type": "code",
      "source": [
        "!more /content/Introduction_to_Linux_Unix_Text_processing/SARS-CoV-2.fa"
      ],
      "metadata": {
        "id": "9ziSK7QM5F5I",
        "colab": {
          "base_uri": "https://localhost:8080/"
        },
        "outputId": "e3e1abe9-8cc9-4504-ec5d-472b85b51b14"
      },
      "execution_count": null,
      "outputs": [
        {
          "output_type": "stream",
          "name": "stdout",
          "text": [
            ">NC_045512.2 Severe acute respiratory syndrome coronavirus 2 isolate Wuhan-Hu-1,\n",
            " complete genome\n",
            "ATTAAAGGTTTATACCTTCCCAGGTAACAAACCAACCAACTTTCGATCTCTTGTAGATCTGTTCTCTAAA\n",
            "CGAACTTTAAAATCTGTGTGGCTGTCACTCGGCTGCATGCTTAGTGCACTCACGCAGTATAATTAATAAC\n",
            "TAATTACTGTCGTTGACAGGACACGAGTAACTCGTCTATCTTCTGCAGGCTGCTTACGGTTTCGTCCGTG\n",
            "TTGCAGCCGATCATCAGCACATCTAGGTTTCGTCCGGGTGTGACCGAAAGGTAAGATGGAGAGCCTTGTC\n",
            "CCTGGTTTCAACGAGAAAACACACGTCCAACTCAGTTTGCCTGTTTTACAGGTTCGCGACGTGCTCGTAC\n",
            "GTGGCTTTGGAGACTCCGTGGAGGAGGTCTTATCAGAGGCACGTCAACATCTTAAAGATGGCACTTGTGG\n",
            "CTTAGTAGAAGTTGAAAAAGGCGTTTTGCCTCAACTTGAACAGCCCTATGTGTTCATCAAACGTTCGGAT\n",
            "GCTCGAACTGCACCTCATGGTCATGTTATGGTTGAGCTGGTAGCAGAACTCGAAGGCATTCAGTACGGTC\n",
            "GTAGTGGTGAGACACTTGGTGTCCTTGTCCCTCATGTGGGCGAAATACCAGTGGCTTACCGCAAGGTTCT\n",
            "TCTTCGTAAGAACGGTAATAAAGGAGCTGGTGGCCATAGTTACGGCGCCGATCTAAAGTCATTTGACTTA\n",
            "GGCGACGAGCTTGGCACTGATCCTTATGAAGATTTTCAAGAAAACTGGAACACTAAACATAGCAGTGGTG\n",
            "TTACCCGTGAACTCATGCGTGAGCTTAACGGAGGGGCATACACTCGCTATGTCGATAACAACTTCTGTGG\n",
            "CCCTGATGGCTACCCTCTTGAGTGCATTAAAGACCTTCTAGCACGTGCTGGTAAAGCTTCATGCACTTTG\n",
            "TCCGAACAACTGGACTTTATTGACACTAAGAGGGGTGTATACTGCTGCCGTGAACATGAGCATGAAATTG\n",
            "CTTGGTACACGGAACGTTCTGAAAAGAGCTATGAATTGCAGACACCTTTTGAAATTAAATTGGCAAAGAA\n",
            "ATTTGACACCTTCAATGGGGAATGTCCAAATTTTGTATTTCCCTTAAATTCCATAATCAAGACTATTCAA\n",
            "CCAAGGGTTGAAAAGAAAAAGCTTGATGGCTTTATGGGTAGAATTCGATCTGTCTATCCAGTTGCGTCAC\n",
            "CAAATGAATGCAACCAAATGTGCCTTTCAACTCTCATGAAGTGTGATCATTGTGGTGAAACTTCATGGCA\n",
            "GACGGGCGATTTTGTTAAAGCCACTTGCGAATTTTGTGGCACTGAGAATTTGACTAAAGAAGGTGCCACT\n",
            "ACTTGTGGTTACTTACCCCAAAATGCTGTTGTTAAAATTTATTGTCCAGCATGTCACAATTCAGAAGTAG\n",
            "GACCTGAGCATAGTCTTGCCGAATACCATAATGAATCTGGCTTGAAAACCATTCTTCGTAAGGGTGGTCG\n",
            "\u001b[K"
          ]
        }
      ]
    },
    {
      "cell_type": "markdown",
      "source": [
        "# head/tail\n",
        "These commands show first/last 10 lines (default) respectively from a file."
      ],
      "metadata": {
        "id": "krrjHAKj5RSn"
      }
    },
    {
      "cell_type": "code",
      "source": [
        "!head /content/Introduction_to_Linux_Unix_Text_processing/SARS-CoV-2.gb"
      ],
      "metadata": {
        "id": "IidONJu75Rh-",
        "colab": {
          "base_uri": "https://localhost:8080/"
        },
        "outputId": "f19d8c0d-f95b-4df2-8f60-0da3a37209fb"
      },
      "execution_count": null,
      "outputs": [
        {
          "output_type": "stream",
          "name": "stdout",
          "text": [
            "q\n",
            "LOCUS       NC_045512              29903 bp ss-RNA     linear   VRL 18-JUL-2020\n",
            "DEFINITION  Severe acute respiratory syndrome coronavirus 2 isolate Wuhan-Hu-1,\n",
            "            complete genome.\n",
            "ACCESSION   NC_045512\n",
            "VERSION     NC_045512.2\n",
            "DBLINK      BioProject: PRJNA485481\n",
            "KEYWORDS    RefSeq.\n",
            "SOURCE      Severe acute respiratory syndrome coronavirus 2 (SARS-CoV-2)\n",
            "  ORGANISM  Severe acute respiratory syndrome coronavirus 2\n",
            "            Viruses; Riboviria; Orthornavirae; Pisuviricota; Pisoniviricetes;\n"
          ]
        }
      ]
    },
    {
      "cell_type": "markdown",
      "source": [
        "# File editors\n",
        "There are many non-graphical text editors like ed, emacs, vi and nano available on most Linux distributions. Some of them are very sophisticated (e.g., vi) and for advanced users.\n",
        "Nano (earlier called pico) is like any graphical editor without a mouse. All commands are executed using the keyboard, using the <CTRL> key modifier. It can be used to edit virtually any kind of text file from the command line. Nano without a filename gives you a standard (blank) nano window.\n",
        "At the bottom of the screen, there are commands with a symbol in front. The symbol tells that you need to hold down the Control (Ctrl) key, and then press the corresponding letter of the command you wish to use.\n",
        "Ctrl+X will exit nano and return you to the command line.\n",
        "\n",
        "Nano Quick Reference\n",
        "* Ctrl+X: Exit the editor. If you’ve edited text without saving, you’ll be prompted as to whether you really want to exit.\n",
        "* Ctrl+O: Write (output) the current contents of the text buffer to a file. A filename prompt will appear; press Ctrl+T to open the file navigator shown above.\n",
        "* Ctrl+R: Read a text file into the current editing session. At the filename prompt, hit Ctrl+T: for the file navigator.\n",
        "* Ctrl+K: Cut a line into the clipboard. You can press this repeatedly to copy multiple lines, which are then stored as one chunk.\n",
        "* Ctrl+J: Justify (fill out) a paragraph of text. By default, this reflows text to match the width of the editing window.\n",
        "* Ctrl+U: Uncut text, or rather, paste it from the clipboard. Note that after a Justify operation, this turns into unjustify.\n",
        "* Ctrl+T: Check spelling.\n",
        "* Ctrl+W: Find a word or phrase. At the prompt, use the cursor keys to go through previous search terms, or hit Ctrl+R to move into replace mode. Alternatively, you can hit Ctrl+T to go to a specific line.\n",
        "* Ctrl+C: Show current line number and file information.\n",
        "* Ctrl+G: Get help; this provides information on navigating through files and common keyboard commands\n",
        "\n"
      ],
      "metadata": {
        "id": "k-GU1-_U5l-w"
      }
    },
    {
      "cell_type": "markdown",
      "source": [
        "# Getting help in Linux\n",
        "All Linux commands has manual pages. To access them, use “man” or “info” command. The manual page gives a detailed explanation of the command, all available options and sometimes, also provides examples. For example, to view the manual page for “ls” command\n",
        "\n",
        "Type: man ls\n",
        "\n",
        "LS(1) User Commands\n",
        "\n",
        "NAME\n",
        "\n",
        "ls - list directory contents\n",
        "\n",
        "SYNOPSIS\n",
        "\n",
        "ls [OPTION]... [FILE]...\n",
        "\n",
        "DESCRIPTION\n",
        "\n",
        "LS(1)\n",
        "\n",
        "List information about the FILEs (the current directory by default). Sort entries alphabetically if none of -cftuvSUX nor --sort is specified.\n",
        "\n",
        "Mandatory arguments to long options are mandatory for short options too.\n",
        "\n",
        "-a, --all\n",
        "\n",
        "do not ignore entries starting with .\n",
        "\n",
        "-A, --almost-all\n",
        "\n",
        "do not list implied . and ..\n",
        "\n",
        "--author\n",
        "\n",
        "with -l, print the author of each file\n",
        "\n",
        "Please explore manual pages of all the above commands for available options."
      ],
      "metadata": {
        "id": "1j39YRNB5pOq"
      }
    },
    {
      "cell_type": "code",
      "source": [
        "!man ls"
      ],
      "metadata": {
        "id": "F3VjYEZ5kART",
        "colab": {
          "base_uri": "https://localhost:8080/"
        },
        "outputId": "5339ce49-03d6-401e-9c22-7356906226ad"
      },
      "execution_count": null,
      "outputs": [
        {
          "output_type": "stream",
          "name": "stdout",
          "text": [
            "LS(1POSIX)                 POSIX Programmer's Manual                LS(1POSIX)\n",
            "\n",
            "P\bPR\bRO\bOL\bLO\bOG\bG\n",
            "       This  manual  page is part of the POSIX Programmer's Manual.  The Linux\n",
            "       implementation of this interface may differ (consult the  corresponding\n",
            "       Linux  manual page for details of Linux behavior), or the interface may\n",
            "       not be implemented on Linux.\n",
            "\n",
            "N\bNA\bAM\bME\bE\n",
            "       ls — list directory contents\n",
            "\n",
            "S\bSY\bYN\bNO\bOP\bPS\bSI\bIS\bS\n",
            "       ls [\b[−ikqrs]\b] [\b[−glno]\b] [\b[−A|−a]\b] [\b[−C|−m|−x|−1]\b] \\\n",
            "           [\b[−F|−p]\b] [\b[−H|−L]\b] [\b[−R|−d]\b] [\b[−S|−f|−t]\b] [\b[−c|−u]\b] [\b[_\bf_\bi_\bl_\be...]\b]\n",
            "\n",
            "D\bDE\bES\bSC\bCR\bRI\bIP\bPT\bTI\bIO\bON\bN\n",
            "       For each operand that names a file of a type other  than  directory  or\n",
            "       symbolic  link  to  a directory, _\bl_\bs shall write the name of the file as\n",
            "       well as any requested, associated information. For  each  operand  that\n",
            "       names  a file of type directory, _\bl_\bs shall write the names of files con‐\n",
            "       tained within the directory as well as any requested, associated infor‐\n",
            "       mation.  Filenames  beginning with a <period> ('\b'.\b.'\b')  and any associated\n",
            "       information shall not be written out unless explicitly referenced,  the\n",
            "       −\b−A\bA  or  −\b−a\ba  option  is supplied, or an implementation-defined condition\n",
            "       causes them to be written. If one or more of the −\b−d\bd, −\b−F\bF, or −\b−l\bl  options\n",
            "       are  specified,  and neither the −\b−H\bH nor the −\b−L\bL option is specified, for\n",
            "       each operand that names a file of type symbolic link to a directory, _\bl_\bs\n",
            "       shall  write  the name of the file as well as any requested, associated\n",
            "       information. If none of the −\b−d\bd, −\b−F\bF, or −\b−l\bl options are specified, or the\n",
            "       −\b−H\bH  or  −\b−L\bL options are specified, for each operand that names a file of\n",
            "       type symbolic link to a directory, _\bl_\bs shall write the  names  of  files\n",
            "       contained  within  the  directory  as well as any requested, associated\n",
            "       information. In each case where the names of files contained  within  a\n",
            "       directory  are  written,  if  the directory contains any symbolic links\n",
            "       then _\bl_\bs shall evaluate the file information and file type to  be  those\n",
            "       of the symbolic link itself, unless the −\b−L\bL option is specified.\n",
            "\n",
            "       If no operands are specified, _\bl_\bs shall behave as if a single operand of\n",
            "       dot ('\b'.\b.'\b')  had been specified. If more than one operand  is  specified,\n",
            "       _\bl_\bs  shall  write  non-directory operands first; it shall sort directory\n",
            "       and  non-directory  operands  separately  according  to  the  collating\n",
            "       sequence in the current locale.\n",
            "\n",
            "       The  _\bl_\bs utility shall detect infinite loops; that is, entering a previ‐\n",
            "       ously visited directory that is an ancestor of the  last  file  encoun‐\n",
            "       tered.   When  it detects an infinite loop, _\bl_\bs shall write a diagnostic\n",
            "       message to standard error and shall either recover its position in  the\n",
            "       hierarchy or terminate.\n",
            "\n",
            "O\bOP\bPT\bTI\bIO\bON\bNS\bS\n",
            "       The  _\bl_\bs  utility  shall  conform  to  the  Base  Definitions  volume of\n",
            "       POSIX.1‐2008, _\bS_\be_\bc_\bt_\bi_\bo_\bn _\b1_\b2_\b._\b2, _\bU_\bt_\bi_\bl_\bi_\bt_\by _\bS_\by_\bn_\bt_\ba_\bx _\bG_\bu_\bi_\bd_\be_\bl_\bi_\bn_\be_\bs.\n",
            "\n",
            "       The following options shall be supported:\n",
            "\n",
            "       −\b−A\bA        Write out all directory entries, including those whose  names\n",
            "                 begin  with  a  <period> ('\b'.\b.'\b')  but excluding the entries dot\n",
            "                 and dot-dot (if they exist).\n",
            "\n",
            "       −\b−C\bC        Write multi-text-column output with entries sorted  down  the\n",
            "                 columns,  according  to the collating sequence. The number of\n",
            "                 text columns and the column separator characters are unspeci‐\n",
            "                 fied,  but  should  be  adapted  to  the nature of the output\n",
            "                 device. This option disables long format output.\n",
            "\n",
            "       −\b−F\bF        Do not follow symbolic links named as operands unless the  −\b−H\bH\n",
            "                 or  −\b−L\bL  options  are specified. Write a <slash> ('\b'/\b/'\b') immedi‐\n",
            "                 ately after each pathname that is a directory, an  <asterisk>\n",
            "                 ('\b'*\b*'\b')  after each that is executable, a <vertical-line> ('\b'|\b|'\b')\n",
            "                 after each that is a FIFO, and an at-sign  ('\b'@\b@'\b')  after  each\n",
            "                 that  is a symbolic link. For other file types, other symbols\n",
            "                 may be written.\n",
            "\n",
            "       −\b−H\bH        Evaluate the file information  and  file  type  for  symbolic\n",
            "                 links  specified  on the command line to be those of the file\n",
            "                 referenced by the link, and not the link itself; however,  _\bl_\bs\n",
            "                 shall write the name of the link itself and not the file ref‐\n",
            "                 erenced by the link.\n",
            "\n",
            "       −\b−L\bL        Evaluate the file information and file type for all  symbolic\n",
            "                 links  (whether named on the command line or encountered in a\n",
            "                 file hierarchy) to be those of the  file  referenced  by  the\n",
            "                 link,  and  not  the link itself; however, _\bl_\bs shall write the\n",
            "                 name of the link itself and not the file  referenced  by  the\n",
            "                 link. When −\b−L\bL is used with −\b−l\bl, write the contents of symbolic\n",
            "                 links in the long format (see the STDOUT section).\n",
            "\n",
            "       −\b−R\bR        Recursively list subdirectories encountered. When a  symbolic\n",
            "                 link  to  a directory is encountered, the directory shall not\n",
            "                 be recursively listed unless the −\b−L\bL option is specified.  The\n",
            "                 use of −\b−R\bR with −\b−d\bd or −\b−f\bf produces unspecified results.\n",
            "\n",
            "       −\b−S\bS        Sort  with  the  primary  key  being file size (in decreasing\n",
            "                 order) and the secondary key being filename in the  collating\n",
            "                 sequence (in increasing order).\n",
            "\n",
            "       −\b−a\ba        Write  out all directory entries, including those whose names\n",
            "                 begin with a <period> ('\b'.\b.'\b').\n",
            "\n",
            "       −\b−c\bc        Use time of last modification of the file status  information\n",
            "                 (see   the   Base   Definitions   volume   of   POSIX.1‐2008,\n",
            "                 <\b<s\bsy\bys\bs_\b_s\bst\bta\bat\bt.\b.h\bh>\b>) instead of last modification of the file itself\n",
            "                 for sorting (−\b−t\bt) or writing (−\b−l\bl).\n",
            "\n",
            "       −\b−d\bd        Do  not follow symbolic links named as operands unless the −\b−H\bH\n",
            "                 or −\b−L\bL options are specified. Do not treat directories differ‐\n",
            "                 ently  than other types of files. The use of −\b−d\bd with −\b−R\bR or −\b−f\bf\n",
            "                 produces unspecified results.\n",
            "\n",
            "       −\b−f\bf        List the entries in directory  operands  in  the  order  they\n",
            "                 appear in the directory. The behavior for non-directory oper‐\n",
            "                 ands is unspecified. This option shall turn on −\b−a\ba.   When  −\b−f\bf\n",
            "                 is  specified,  any occurrences of the −\b−r\br, −\b−S\bS, and −\b−t\bt options\n",
            "                 shall be ignored and any occurrences of the −\b−A\bA, −\b−g\bg,  −\b−l\bl,  −\b−n\bn,\n",
            "                 −\b−o\bo,  and  −\b−s\bs options may be ignored. The use of −\b−f\bf with −\b−R\bR or\n",
            "                 −\b−d\bd produces unspecified results.\n",
            "\n",
            "       −\b−g\bg        Turn on the −\b−l\bl (ell) option, but disable writing  the  file's\n",
            "                 owner name or number.  Disable the −\b−C\bC, −\b−m\bm, and −\b−x\bx options.\n",
            "\n",
            "       −\b−i\bi        For  each  file,  write  the  file's  file serial number (see\n",
            "                 _\bs_\bt_\ba_\bt() in the System Interfaces volume of POSIX.1‐2008).\n",
            "\n",
            "       −\b−k\bk        Set the block size for the −\b−s\bs option  and  the  per-directory\n",
            "                 block  count  written  for the −\b−l\bl, −\b−n\bn, −\b−s\bs, −\b−g\bg, and −\b−o\bo options\n",
            "                 (see the STDOUT section) to 1024 bytes.\n",
            "\n",
            "       −\b−l\bl        (The letter ell.) Do not follow symbolic links named as oper‐\n",
            "                 ands  unless the −\b−H\bH or −\b−L\bL options are specified. Write out in\n",
            "                 long format (see the STDOUT section). Disable the −\b−C\bC, −\b−m\bm, and\n",
            "                 −\b−x\bx options.\n",
            "\n",
            "       −\b−m\bm        Stream  output  format; list pathnames across the page, sepa‐\n",
            "                 rated by a <comma> character followed by a <space> character.\n",
            "                 Use  a  <newline>  character as the list terminator and after\n",
            "                 the separator sequence when there is not room on a  line  for\n",
            "                 the next list entry. This option disables long format output.\n",
            "\n",
            "       −\b−n\bn        Turn  on  the  −\b−l\bl  (ell)  option, but when writing the file's\n",
            "                 owner or group, write the file's numeric UID  or  GID  rather\n",
            "                 than  the  user  or group name, respectively. Disable the −\b−C\bC,\n",
            "                 −\b−m\bm, and −\b−x\bx options.\n",
            "\n",
            "       −\b−o\bo        Turn on the −\b−l\bl (ell) option, but disable writing  the  file's\n",
            "                 group name or number.  Disable the −\b−C\bC, −\b−m\bm, and −\b−x\bx options.\n",
            "\n",
            "       −\b−p\bp        Write  a  <slash> ('\b'/\b/'\b') after each filename if that file is a\n",
            "                 directory.\n",
            "\n",
            "       −\b−q\bq        Force each instance of non-printable filename characters  and\n",
            "                 <tab>  characters  to be written as the <question-mark> ('\b'?\b?'\b')\n",
            "                 character. Implementations may provide this option by default\n",
            "                 if the output is to a terminal device.\n",
            "\n",
            "       −\b−r\br        Reverse  the  order  of  the  sort  to  get reverse collating\n",
            "                 sequence oldest first, or smallest file size first  depending\n",
            "                 on the other options given.\n",
            "\n",
            "       −\b−s\bs        Indicate  the  total number of file system blocks consumed by\n",
            "                 each file displayed. If the −\b−k\bk option is also specified,  the\n",
            "                 block  size shall be 1024 bytes; otherwise, the block size is\n",
            "                 implementation-defined.\n",
            "\n",
            "       −\b−t\bt        Sort with the primary key being time modified (most  recently\n",
            "                 modified  first)  and the secondary key being filename in the\n",
            "                 collating sequence.  For a symbolic link, the  time  used  as\n",
            "                 the  sort  key is that of the symbolic link itself, unless _\bl_\bs\n",
            "                 is evaluating its file information to be  that  of  the  file\n",
            "                 referenced by the link (see the −\b−H\bH and −\b−L\bL options).\n",
            "\n",
            "       −\b−u\bu        Use  time  of last access (see the Base Definitions volume of\n",
            "                 POSIX.1‐2008, <\b<s\bsy\bys\bs_\b_s\bst\bta\bat\bt.\b.h\bh>\b>) instead of last  modification  of\n",
            "                 the file for sorting (−\b−t\bt) or writing (−\b−l\bl).\n",
            "\n",
            "       −\b−x\bx        The  same  as −\b−C\bC, except that the multi-text-column output is\n",
            "                 produced with entries sorted across, rather  than  down,  the\n",
            "                 columns. This option disables long format output.\n",
            "\n",
            "       −\b−1\b1        (The  numeric  digit  one.)  Force output to be one entry per\n",
            "                 line.  This option does not disable long format output. (Long\n",
            "                 format  output  is  enabled  by −\b−g\bg, −\b−l\bl (ell), −\b−n\bn, and −\b−o\bo; and\n",
            "                 disabled by −\b−C\bC, −\b−m\bm, and −\b−x\bx.)\n",
            "\n",
            "       If an option that enables long format output (−\b−g\bg, −\b−l\bl (ell), −\b−n\bn, and  −\b−o\bo\n",
            "       is  given  with an option that disables long format output (−\b−C\bC, −\b−m\bm, and\n",
            "       −\b−x\bx), this shall not be considered an error. The last of  these  options\n",
            "       specified shall determine whether long format output is written.\n",
            "\n",
            "       If  −\b−R\bR,  −\b−d\bd, or −\b−f\bf are specified, the results of specifying these mutu‐\n",
            "       ally-exclusive options are  specified  by  the  descriptions  of  these\n",
            "       options  above.  If  more than one of any of the other options shown in\n",
            "       the SYNOPSIS section in mutually-exclusive sets are given,  this  shall\n",
            "       not be considered an error; the last option specified in each set shall\n",
            "       determine the output.\n",
            "\n",
            "       Note that if −\b−t\bt is specified, −\b−c\bc and −\b−u\bu are not only mutually-exclusive\n",
            "       with  each  other, they are also mutually-exclusive with −\b−S\bS when deter‐\n",
            "       mining sort order. But even if −\b−S\bS is specified after all occurrences of\n",
            "       −\b−c\bc,  −\b−t\bt,  and  −\b−u\bu,  the  last  use of −\b−c\bc or −\b−u\bu determines the timestamp\n",
            "       printed when producing long format output.\n",
            "\n",
            "O\bOP\bPE\bER\bRA\bAN\bND\bDS\bS\n",
            "       The following operand shall be supported:\n",
            "\n",
            "       _\bf_\bi_\bl_\be      A pathname of a file to be written. If the file specified  is\n",
            "                 not  found,  a diagnostic message shall be output on standard\n",
            "                 error.\n",
            "\n",
            "S\bST\bTD\bDI\bIN\bN\n",
            "       Not used.\n",
            "\n",
            "I\bIN\bNP\bPU\bUT\bT F\bFI\bIL\bLE\bES\bS\n",
            "       None.\n",
            "\n",
            "E\bEN\bNV\bVI\bIR\bRO\bON\bNM\bME\bEN\bNT\bT V\bVA\bAR\bRI\bIA\bAB\bBL\bLE\bES\bS\n",
            "       The following environment variables shall affect the execution of _\bl_\bs:\n",
            "\n",
            "       _\bC_\bO_\bL_\bU_\bM_\bN_\bS   Determine the user's  preferred  column  position  width  for\n",
            "                 writing  multiple  text-column  output. If this variable con‐\n",
            "                 tains a string representing a decimal integer, the _\bl_\bs utility\n",
            "                 shall  calculate how many pathname text columns to write (see\n",
            "                 −\b−C\bC) based on the width provided. If _\bC_\bO_\bL_\bU_\bM_\bN_\bS  is  not  set  or\n",
            "                 invalid, an implementation-defined number of column positions\n",
            "                 shall be assumed, based on the implementation's knowledge  of\n",
            "                 the output device. The column width chosen to write the names\n",
            "                 of files in any given directory shall be constant.  Filenames\n",
            "                 shall  not  be truncated to fit into the multiple text-column\n",
            "                 output.\n",
            "\n",
            "       _\bL_\bA_\bN_\bG      Provide a default value for  the  internationalization  vari‐\n",
            "                 ables  that are unset or null. (See the Base Definitions vol‐\n",
            "                 ume of POSIX.1‐2008, _\bS_\be_\bc_\bt_\bi_\bo_\bn _\b8_\b._\b2, _\bI_\bn_\bt_\be_\br_\bn_\ba_\bt_\bi_\bo_\bn_\ba_\bl_\bi_\bz_\ba_\bt_\bi_\bo_\bn  _\bV_\ba_\br_\bi_\b‐\n",
            "                 _\ba_\bb_\bl_\be_\bs  for  the  precedence of internationalization variables\n",
            "                 used to determine the values of locale categories.)\n",
            "\n",
            "       _\bL_\bC_\b__\bA_\bL_\bL    If set to a non-empty string value, override  the  values  of\n",
            "                 all the other internationalization variables.\n",
            "\n",
            "       _\bL_\bC_\b__\bC_\bO_\bL_\bL_\bA_\bT_\bE\n",
            "                 Determine  the  locale for character collation information in\n",
            "                 determining the pathname collation sequence.\n",
            "\n",
            "       _\bL_\bC_\b__\bC_\bT_\bY_\bP_\bE  Determine the locale for the interpretation of  sequences  of\n",
            "                 bytes of text data as characters (for example, single-byte as\n",
            "                 opposed to multi-byte  characters  in  arguments)  and  which\n",
            "                 characters are defined as printable (character class p\bpr\bri\bin\bnt\bt).\n",
            "\n",
            "       _\bL_\bC_\b__\bM_\bE_\bS_\bS_\bA_\bG_\bE_\bS\n",
            "                 Determine the locale that should be used to affect the format\n",
            "                 and contents  of  diagnostic  messages  written  to  standard\n",
            "                 error.\n",
            "\n",
            "       _\bL_\bC_\b__\bT_\bI_\bM_\bE   Determine  the  format and contents for date and time strings\n",
            "                 written by _\bl_\bs.\n",
            "\n",
            "       _\bN_\bL_\bS_\bP_\bA_\bT_\bH   Determine the location of message catalogs for the processing\n",
            "                 of _\bL_\bC_\b__\bM_\bE_\bS_\bS_\bA_\bG_\bE_\bS.\n",
            "\n",
            "       _\bT_\bZ        Determine  the  timezone for date and time strings written by\n",
            "                 _\bl_\bs.  If _\bT_\bZ is unset or null, an unspecified default  timezone\n",
            "                 shall be used.\n",
            "\n",
            "A\bAS\bSY\bYN\bNC\bCH\bHR\bRO\bON\bNO\bOU\bUS\bS E\bEV\bVE\bEN\bNT\bTS\bS\n",
            "       Default.\n",
            "\n",
            "S\bST\bTD\bDO\bOU\bUT\bT\n",
            "       The default format shall be to list one entry per line to standard out‐\n",
            "       put; the exceptions are to terminals or when one of the −\b−C\bC, −\b−m\bm,  or  −\b−x\bx\n",
            "       options  is  specified.  If  the output is to a terminal, the format is\n",
            "       implementation-defined.\n",
            "\n",
            "       When −\b−m\bm is specified, the format used for the last element of the  list\n",
            "       shall be:\n",
            "\n",
            "           \"\b\"%\b%s\bs\\\b\\n\bn\"\b\",\b, <\b<_\bf_\bi_\bl_\be_\bn_\ba_\bm_\be>\n",
            "\n",
            "       The format used for each other element of the list shall be:\n",
            "\n",
            "           \"\b\"%\b%s\bs,\b,%\b%s\bs\"\b\",\b, <\b<_\bf_\bi_\bl_\be_\bn_\ba_\bm_\be>, <_\bs_\be_\bp_\ba_\br_\ba_\bt_\bo_\br>\n",
            "\n",
            "       where,  if  there  is  not room for the next element of the list to fit\n",
            "       within the current line length, <_\bs_\be_\bp_\ba_\br_\ba_\bt_\bo_\br> is a string  containing  an\n",
            "       optional  <space> character and a mandatory <newline> character; other‐\n",
            "       wise it is a single <space> character.\n",
            "\n",
            "       If the −\b−i\bi option is specified, the file's file serial number  (see  the\n",
            "       Base Definitions volume of POSIX.1‐2008, <\b<s\bsy\bys\bs_\b_s\bst\bta\bat\bt.\b.h\bh>\b>) shall be written\n",
            "       in the following format before any other output for  the  corresponding\n",
            "       entry:\n",
            "\n",
            "           %\b%u\bu \"\b\",\b, <\b<_\bf_\bi_\bl_\be _\bs_\be_\br_\bi_\ba_\bl _\bn_\bu_\bm_\bb_\be_\br>\n",
            "\n",
            "       If the −\b−l\bl option is specified, the following information shall be writ‐\n",
            "       ten for files other than character special and block special files:\n",
            "\n",
            "           \"\b\"%\b%s\bs %\b%u\bu %\b%s\bs %\b%s\bs %\b%u\bu %\b%s\bs %\b%s\bs\\\b\\n\bn\"\b\",\b, <\b<_\bf_\bi_\bl_\be _\bm_\bo_\bd_\be>, <_\bn_\bu_\bm_\bb_\be_\br _\bo_\bf _\bl_\bi_\bn_\bk_\bs>,\n",
            "               <_\bo_\bw_\bn_\be_\br _\bn_\ba_\bm_\be>, <_\bg_\br_\bo_\bu_\bp _\bn_\ba_\bm_\be>, <_\bs_\bi_\bz_\be>, <_\bd_\ba_\bt_\be _\ba_\bn_\bd _\bt_\bi_\bm_\be>,\n",
            "               <_\bp_\ba_\bt_\bh_\bn_\ba_\bm_\be>\n",
            "\n",
            "       If the −\b−l\bl option is specified, the following information shall be writ‐\n",
            "       ten for character special and block special files:\n",
            "\n",
            "           \"\b\"%\b%s\bs %\b%u\bu %\b%s\bs %\b%s\bs %\b%s\bs %\b%s\bs %\b%s\bs\\\b\\n\bn\"\b\",\b, <\b<_\bf_\bi_\bl_\be _\bm_\bo_\bd_\be>, <_\bn_\bu_\bm_\bb_\be_\br _\bo_\bf _\bl_\bi_\bn_\bk_\bs>,\n",
            "               <_\bo_\bw_\bn_\be_\br _\bn_\ba_\bm_\be>, <_\bg_\br_\bo_\bu_\bp _\bn_\ba_\bm_\be>, <_\bd_\be_\bv_\bi_\bc_\be _\bi_\bn_\bf_\bo>, <_\bd_\ba_\bt_\be _\ba_\bn_\bd _\bt_\bi_\bm_\be>,\n",
            "               <_\bp_\ba_\bt_\bh_\bn_\ba_\bm_\be>\n",
            "\n",
            "       In  both cases if the file is a symbolic link and the −\b−L\bL option is also\n",
            "       specified, this information shall be for the  file  resolved  from  the\n",
            "       symbolic link, except that the <_\bp_\ba_\bt_\bh_\bn_\ba_\bm_\be> field shall contain the path‐\n",
            "       name of the symbolic link itself. If the file is a  symbolic  link  and\n",
            "       the  −\b−L\bL  option  is  not specified, this information shall be about the\n",
            "       link itself and the <_\bp_\ba_\bt_\bh_\bn_\ba_\bm_\be> field shall be of the form:\n",
            "\n",
            "           \"\b\"%\b%s\bs −\b−>\b> %\b%s\bs\"\b\",\b, <\b<_\bp_\ba_\bt_\bh_\bn_\ba_\bm_\be _\bo_\bf _\bl_\bi_\bn_\bk>, <_\bc_\bo_\bn_\bt_\be_\bn_\bt_\bs _\bo_\bf _\bl_\bi_\bn_\bk>\n",
            "\n",
            "       The −\b−n\bn, −\b−g\bg, and −\b−o\bo options use the same format as −\b−l\bl, but with  omitted\n",
            "       items and their associated <blank> characters. See the OPTIONS section.\n",
            "\n",
            "       In  both the preceding −\b−l\bl forms, if <_\bo_\bw_\bn_\be_\br _\bn_\ba_\bm_\be> or <_\bg_\br_\bo_\bu_\bp _\bn_\ba_\bm_\be> cannot\n",
            "       be determined, or if −\b−n\bn is given, they shall  be  replaced  with  their\n",
            "       associated numeric values using the format %\b%u\bu.\n",
            "\n",
            "       The <_\bs_\bi_\bz_\be> field shall contain the value that would be returned for the\n",
            "       file in the _\bs_\bt_\b__\bs_\bi_\bz_\be field of s\bst\btr\bru\buc\bct\bt s\bst\bta\bat\bt (see the Base Definitions vol‐\n",
            "       ume of POSIX.1‐2008, <\b<s\bsy\bys\bs_\b_s\bst\bta\bat\bt.\b.h\bh>\b>).  Note that for some file types this\n",
            "       value is unspecified.\n",
            "\n",
            "       The <_\bd_\be_\bv_\bi_\bc_\be _\bi_\bn_\bf_\bo> field shall contain  implementation-defined  informa‐\n",
            "       tion associated with the device in question.\n",
            "\n",
            "       The  <_\bd_\ba_\bt_\be _\ba_\bn_\bd _\bt_\bi_\bm_\be> field shall contain the appropriate date and time‐\n",
            "       stamp of when the file was last modified.  In  the  POSIX  locale,  the\n",
            "       field  shall be the equivalent of the output of the following _\bd_\ba_\bt_\be com‐\n",
            "       mand:\n",
            "\n",
            "           d\bda\bat\bte\be \"\b\"+\b+%\b%b\bb %\b%e\be %\b%H\bH:\b:%\b%M\bM\"\b\"\n",
            "\n",
            "       if the file has been modified in the last six months, or:\n",
            "\n",
            "           d\bda\bat\bte\be \"\b\"+\b+%\b%b\bb %\b%e\be %\b%Y\bY\"\b\"\n",
            "\n",
            "       (where two <space> characters are used between %\b%e\be and %\b%Y\bY) if  the  file\n",
            "       has  not  been  modified  in the last six months or if the modification\n",
            "       date is in the future, except that, in both cases, the final  <newline>\n",
            "       produced  by  _\bd_\ba_\bt_\be  shall not be included and the output shall be as if\n",
            "       the _\bd_\ba_\bt_\be command were executed at the time  of  the  last  modification\n",
            "       date  of the file rather than the current time. When the _\bL_\bC_\b__\bT_\bI_\bM_\bE locale\n",
            "       category is not set to the POSIX locale, a different format  and  order\n",
            "       of presentation of this field may be used.\n",
            "\n",
            "       If the pathname was specified as a _\bf_\bi_\bl_\be operand, it shall be written as\n",
            "       specified.\n",
            "\n",
            "       The file mode written under the −\b−l\bl, −\b−n\bn, −\b−g\bg, and −\b−o\bo options  shall  con‐\n",
            "       sist of the following format:\n",
            "\n",
            "           \"\b\"%\b%c\bc%\b%s\bs%\b%s\bs%\b%s\bs%\b%s\bs\"\b\",\b, <\b<_\be_\bn_\bt_\br_\by _\bt_\by_\bp_\be>, <_\bo_\bw_\bn_\be_\br _\bp_\be_\br_\bm_\bi_\bs_\bs_\bi_\bo_\bn_\bs>,\n",
            "               <_\bg_\br_\bo_\bu_\bp _\bp_\be_\br_\bm_\bi_\bs_\bs_\bi_\bo_\bn_\bs>, <_\bo_\bt_\bh_\be_\br _\bp_\be_\br_\bm_\bi_\bs_\bs_\bi_\bo_\bn_\bs>,\n",
            "               <_\bo_\bp_\bt_\bi_\bo_\bn_\ba_\bl _\ba_\bl_\bt_\be_\br_\bn_\ba_\bt_\be _\ba_\bc_\bc_\be_\bs_\bs _\bm_\be_\bt_\bh_\bo_\bd _\bf_\bl_\ba_\bg>\n",
            "\n",
            "       The  <_\bo_\bp_\bt_\bi_\bo_\bn_\ba_\bl _\ba_\bl_\bt_\be_\br_\bn_\ba_\bt_\be _\ba_\bc_\bc_\be_\bs_\bs _\bm_\be_\bt_\bh_\bo_\bd _\bf_\bl_\ba_\bg>  shall be the empty string\n",
            "       if there is no alternate or additional access control method associated\n",
            "       with  the  file;  otherwise,  it  shall be a string containing a single\n",
            "       printable character that is not a <blank>.\n",
            "\n",
            "       The <_\be_\bn_\bt_\br_\by _\bt_\by_\bp_\be> character shall describe the type of file, as follows:\n",
            "\n",
            "       d       Directory.\n",
            "\n",
            "       b       Block special file.\n",
            "\n",
            "       c       Character special file.\n",
            "\n",
            "       l (ell) Symbolic link.\n",
            "\n",
            "       p       FIFO.\n",
            "\n",
            "       −       Regular file.\n",
            "\n",
            "       Implementations may add other characters  to  this  list  to  represent\n",
            "       other implementation-defined file types.\n",
            "\n",
            "       The next three fields shall be three characters each:\n",
            "\n",
            "       <_\bo_\bw_\bn_\be_\br _\bp_\be_\br_\bm_\bi_\bs_\bs_\bi_\bo_\bn_\bs>\n",
            "             Permissions  for  the  file owner class (see the Base Definitions\n",
            "             volume of POSIX.1‐2008, _\bS_\be_\bc_\bt_\bi_\bo_\bn _\b4_\b._\b4, _\bF_\bi_\bl_\be _\bA_\bc_\bc_\be_\bs_\bs _\bP_\be_\br_\bm_\bi_\bs_\bs_\bi_\bo_\bn_\bs).\n",
            "\n",
            "       <_\bg_\br_\bo_\bu_\bp _\bp_\be_\br_\bm_\bi_\bs_\bs_\bi_\bo_\bn_\bs>\n",
            "             Permissions for the file group class.\n",
            "\n",
            "       <_\bo_\bt_\bh_\be_\br _\bp_\be_\br_\bm_\bi_\bs_\bs_\bi_\bo_\bn_\bs>\n",
            "             Permissions for the file other class.\n",
            "\n",
            "       Each field shall have three character positions:\n",
            "\n",
            "        1. If '\b'r\br'\b', the file is readable; if '\b'−\b−'\b', the file is not readable.\n",
            "\n",
            "        2. If '\b'w\bw'\b', the file is writable; if '\b'−\b−'\b', the file is not writable.\n",
            "\n",
            "        3. The first of the following that applies:\n",
            "\n",
            "           S     If in <_\bo_\bw_\bn_\be_\br _\bp_\be_\br_\bm_\bi_\bs_\bs_\bi_\bo_\bn_\bs>, the file  is  not  executable  and\n",
            "                 set-user-ID  mode is set. If in <_\bg_\br_\bo_\bu_\bp _\bp_\be_\br_\bm_\bi_\bs_\bs_\bi_\bo_\bn_\bs>, the file\n",
            "                 is not executable and set-group-ID mode is set.\n",
            "\n",
            "           s     If in <_\bo_\bw_\bn_\be_\br _\bp_\be_\br_\bm_\bi_\bs_\bs_\bi_\bo_\bn_\bs>, the file is  executable  and  set-\n",
            "                 user-ID  mode  is set. If in <_\bg_\br_\bo_\bu_\bp _\bp_\be_\br_\bm_\bi_\bs_\bs_\bi_\bo_\bn_\bs>, the file is\n",
            "                 executable and set-group-ID mode is set.\n",
            "\n",
            "           T     If in <_\bo_\bt_\bh_\be_\br _\bp_\be_\br_\bm_\bi_\bs_\bs_\bi_\bo_\bn_\bs> and the file is a directory, search\n",
            "                 permission is not granted to others, and the restricted dele‐\n",
            "                 tion flag is set.\n",
            "\n",
            "           t     If in <_\bo_\bt_\bh_\be_\br _\bp_\be_\br_\bm_\bi_\bs_\bs_\bi_\bo_\bn_\bs> and the file is a directory, search\n",
            "                 permission  is granted to others, and the restricted deletion\n",
            "                 flag is set.\n",
            "\n",
            "           x     The file is executable or the directory is searchable.\n",
            "\n",
            "           −     None of the attributes of '\b'S\bS'\b', '\b's\bs'\b', '\b'T\bT'\b', '\b't\bt'\b', or '\b'x\bx'\b' applies.\n",
            "\n",
            "           Implementations may add other characters to this list for the third\n",
            "           character  position.  Such  additions shall, however, be written in\n",
            "           lowercase if the file is executable or searchable, and in uppercase\n",
            "           if it is not.\n",
            "\n",
            "       If  any of the −\b−l\bl, −\b−n\bn, −\b−s\bs, −\b−g\bg, or −\b−o\bo options is specified, each list of\n",
            "       files within the directory shall be preceded by a status line  indicat‐\n",
            "       ing the number of file system blocks occupied by files in the directory\n",
            "       in 512-byte units if the −\b−k\bk option is not specified, or 1024-byte units\n",
            "       if  the  −\b−k\bk option is specified, rounded up to the next integral number\n",
            "       of units, if necessary. In the POSIX locale, the format shall be:\n",
            "\n",
            "           \"\b\"t\bto\bot\bta\bal\bl %\b%u\bu\\\b\\n\bn\"\b\",\b, <\b<_\bn_\bu_\bm_\bb_\be_\br _\bo_\bf _\bu_\bn_\bi_\bt_\bs _\bi_\bn _\bt_\bh_\be _\bd_\bi_\br_\be_\bc_\bt_\bo_\br_\by>\n",
            "\n",
            "       If more than one directory, or a combination of non-directory files and\n",
            "       directories  are written, either as a result of specifying multiple op‐\n",
            "       erands, or the −\b−R\bR option, each list of files within a  directory  shall\n",
            "       be preceded by:\n",
            "\n",
            "           \"\b\"\\\b\\n\bn%\b%s\bs:\b:\\\b\\n\bn\"\b\",\b, <\b<_\bd_\bi_\br_\be_\bc_\bt_\bo_\br_\by _\bn_\ba_\bm_\be>\n",
            "\n",
            "       If  this  string  is the first thing to be written, the first <newline>\n",
            "       shall not be written. This output shall precede the number of units  in\n",
            "       the directory.\n",
            "\n",
            "       If  the  −\b−s\bs option is given, each file shall be written with the number\n",
            "       of blocks used by the file. Along with −\b−C\bC, −\b−1\b1, −\b−m\bm, or  −\b−x\bx,  the  number\n",
            "       and  a <space> shall precede the filename; with −\b−l\bl, −\b−n\bn, −\b−g\bg, or −\b−o\bo, they\n",
            "       shall precede each line describing a file.\n",
            "\n",
            "S\bST\bTD\bDE\bER\bRR\bR\n",
            "       The standard error shall be used only for diagnostic messages.\n",
            "\n",
            "O\bOU\bUT\bTP\bPU\bUT\bT F\bFI\bIL\bLE\bES\bS\n",
            "       None.\n",
            "\n",
            "E\bEX\bXT\bTE\bEN\bND\bDE\bED\bD D\bDE\bES\bSC\bCR\bRI\bIP\bPT\bTI\bIO\bON\bN\n",
            "       None.\n",
            "\n",
            "E\bEX\bXI\bIT\bT S\bST\bTA\bAT\bTU\bUS\bS\n",
            "       The following exit values shall be returned:\n",
            "\n",
            "        0    Successful completion.\n",
            "\n",
            "       >0    An error occurred.\n",
            "\n",
            "C\bCO\bON\bNS\bSE\bEQ\bQU\bUE\bEN\bNC\bCE\bES\bS O\bOF\bF E\bER\bRR\bRO\bOR\bRS\bS\n",
            "       Default.\n",
            "\n",
            "       _\bT_\bh_\be _\bf_\bo_\bl_\bl_\bo_\bw_\bi_\bn_\bg _\bs_\be_\bc_\bt_\bi_\bo_\bn_\bs _\ba_\br_\be _\bi_\bn_\bf_\bo_\br_\bm_\ba_\bt_\bi_\bv_\be_\b.\n",
            "\n",
            "A\bAP\bPP\bPL\bLI\bIC\bCA\bAT\bTI\bIO\bON\bN U\bUS\bSA\bAG\bGE\bE\n",
            "       Many implementations use the  <equals-sign>  ('\b'=\b='\b')  to  denote  sockets\n",
            "       bound  to the file system for the −\b−F\bF option. Similarly, many historical\n",
            "       implementations use the '\b's\bs'\b' character to denote sockets  as  the  entry\n",
            "       type characters for the −\b−l\bl option.\n",
            "\n",
            "       It  is difficult for an application to use every part of the file modes\n",
            "       field of _\bl_\bs −\b−l\bl in a portable manner. Certain file types and  executable\n",
            "       bits  are not guaranteed to be exactly as shown, as implementations may\n",
            "       have extensions. Applications can use this field to pass directly to  a\n",
            "       user  printout or prompt, but actions based on its contents should gen‐\n",
            "       erally be deferred, instead, to the _\bt_\be_\bs_\bt utility.\n",
            "\n",
            "       The output of _\bl_\bs (with the −\b−l\bl and related options) contains information\n",
            "       that  logically  could  be used by utilities such as _\bc_\bh_\bm_\bo_\bd and _\bt_\bo_\bu_\bc_\bh to\n",
            "       restore files to a known state. However, this information is  presented\n",
            "       in  a format that cannot be used directly by those utilities or be eas‐\n",
            "       ily translated into a format that can be used.  A  character  has  been\n",
            "       added  to  the  end  of  the permissions string so that applications at\n",
            "       least have an indication that they may be working in an  area  they  do\n",
            "       not  understand instead of assuming that they can translate the permis‐\n",
            "       sions string into something  that  can  be  used.  Future  versions  or\n",
            "       related documents may define one or more specific characters to be used\n",
            "       based on different standard additional or  alternative  access  control\n",
            "       mechanisms.\n",
            "\n",
            "       As  with  many of the utilities that deal with filenames, the output of\n",
            "       _\bl_\bs for multiple files or in one of the long  listing  formats  must  be\n",
            "       used  carefully  on  systems where filenames can contain embedded white\n",
            "       space. Systems and system administrators should institute policies  and\n",
            "       user training to limit the use of such filenames.\n",
            "\n",
            "       The  number  of disk blocks occupied by the file that it reports varies\n",
            "       depending on underlying file system type, block  size  units  reported,\n",
            "       and the method of calculating the number of blocks. On some file system\n",
            "       types, the number is the actual number of blocks occupied by  the  file\n",
            "       (counting indirect blocks and ignoring holes in the file); on others it\n",
            "       is calculated based on the file size (usually making an  allowance  for\n",
            "       indirect blocks, but ignoring holes).\n",
            "\n",
            "E\bEX\bXA\bAM\bMP\bPL\bLE\bES\bS\n",
            "       An example of a small directory tree being fully listed with _\bl_\bs −\b−l\bla\baR\bRF\bF a\ba\n",
            "       in the POSIX locale:\n",
            "\n",
            "           t\bto\bot\bta\bal\bl 1\b11\b1\n",
            "           d\bdr\brw\bwx\bxr\br-\b-x\bxr\br-\b-x\bx   3\b3 f\bfo\box\bx      p\bpr\bro\bog\bg          6\b64\b4 J\bJu\bul\bl  4\b4 1\b12\b2:\b:0\b07\b7 .\b./\b/\n",
            "           d\bdr\brw\bwx\bxr\brw\bwx\bxr\brw\bwx\bx   4\b4 f\bfo\box\bx      p\bpr\bro\bog\bg        3\b32\b26\b64\b4 J\bJu\bul\bl  4\b4 1\b12\b2:\b:0\b09\b9 .\b..\b./\b/\n",
            "           d\bdr\brw\bwx\bxr\br-\b-x\bxr\br-\b-x\bx   2\b2 f\bfo\box\bx      p\bpr\bro\bog\bg          4\b48\b8 J\bJu\bul\bl  4\b4 1\b12\b2:\b:0\b07\b7 b\bb/\b/\n",
            "           -\b-r\brw\bwx\bxr\br-\b--\b-r\br-\b--\b-   1\b1 f\bfo\box\bx      p\bpr\bro\bog\bg         5\b57\b72\b2 J\bJu\bul\bl  4\b4 1\b12\b2:\b:0\b07\b7 f\bfo\boo\bo*\b*\n",
            "\n",
            "           a/b:\n",
            "           total 4\n",
            "           drwxr-xr-x   2 fox      prog          48 Jul  4 12:07 ./\n",
            "           drwxr-xr-x   3 fox      prog          64 Jul  4 12:07 ../\n",
            "           -rw-r--r--   1 fox      prog         700 Jul  4 12:07 bar\n",
            "\n",
            "R\bRA\bAT\bTI\bIO\bON\bNA\bAL\bLE\bE\n",
            "       Some historical implementations of the _\bl_\bs utility show all entries in a\n",
            "       directory  except  dot  and dot-dot when a superuser invokes _\bl_\bs without\n",
            "       specifying the −\b−a\ba option. When ``normal'' users invoke _\bl_\bs without spec‐\n",
            "       ifying  −\b−a\ba,  they should not see information about any files with names\n",
            "       beginning with a <period> unless they were named as _\bf_\bi_\bl_\be operands.\n",
            "\n",
            "       Implementations are expected to traverse arbitrary depths when process‐\n",
            "       ing the −\b−R\bR option. The only limitation on depth should be based on run‐\n",
            "       ning out of physical storage for keeping track of untraversed  directo‐\n",
            "       ries.\n",
            "\n",
            "       The  −\b−1\b1  (one)  option  was  historically  found in BSD and BSD-derived\n",
            "       implementations only. It is required in this volume of POSIX.1‐2008  so\n",
            "       that  conforming applications might ensure that output is one entry per\n",
            "       line, even if the output is to a terminal.\n",
            "\n",
            "       The −\b−S\bS option was added in Issue 7, but had been  provided  by  several\n",
            "       implementations  for  many years. The description given in the standard\n",
            "       documents historic practice, but does not match much of the  documenta‐\n",
            "       tion  that  described  its behavior. Historical documentation typically\n",
            "       described it as something like:\n",
            "\n",
            "       −\b−S\bS        Sort by size (largest size first) instead of by name. Special\n",
            "                 character devices (listed last) are sorted by name.\n",
            "\n",
            "       even though the file type was never considered when sorting the output.\n",
            "       Character special files do typically sort close to the end of the  list\n",
            "       because  their  file size on most implementations is zero. But they are\n",
            "       sorted alphabetically with any other files that happen to have the same\n",
            "       file size (zero), not sorted separately and added to the end.\n",
            "\n",
            "       This  volume  of  POSIX.1‐2008  is frequently silent about what happens\n",
            "       when mutually-exclusive options are specified. Except for −\b−R\bR,  −\b−d\bd,  and\n",
            "       −\b−f\bf,  the  _\bl_\bs  utility  is required to accept multiple options from each\n",
            "       mutually-exclusive option set without treating them as  errors  and  to\n",
            "       use  the  behavior specified by the last option given in each mutually-\n",
            "       exclusive set. Since _\bl_\bs is one of the  most  aliased  commands,  it  is\n",
            "       important  that the implementation perform intuitively. For example, if\n",
            "       the alias were:\n",
            "\n",
            "           a\bal\bli\bia\bas\bs l\bls\bs=\b=\"\b\"l\bls\bs −\b−C\bC\"\b\"\n",
            "\n",
            "       and the user  typed  _\bl_\bs  −\b−1\b1  (one),  single-text-column  output  should\n",
            "       result, not an error.\n",
            "\n",
            "       The  −\b−g\bg,  −\b−l\bl  (ell),  −\b−n\bn,  and  −\b−o\bo  options  are not mutually-exclusive\n",
            "       options. They all enable long format  output.  They  work  together  to\n",
            "       determine  whether  the  file's owner is written (no if −\b−g\bg is present),\n",
            "       file's group is written (no if −\b−o\bo is present), and if the file's  group\n",
            "       or  owner  is  written whether it is written as the name (default) or a\n",
            "       string representation of the UID or GID number (if −\b−n\bn is present).  The\n",
            "       −\b−C\bC,  −\b−m\bm,  −\b−x\bx, and −\b−1\b1 (one) are mutually-exclusive options and the first\n",
            "       three of these disable long format output. The −\b−1\b1 (one) option does not\n",
            "       directly  change  whether  or not long format output is enabled, but by\n",
            "       overriding −\b−C\bC, −\b−m\bm, and −\b−x\bx, it can re-enable long format output that had\n",
            "       been disabled by one of these options.\n",
            "\n",
            "       Earlier  versions  of  this standard did not describe the BSD −\b−A\bA option\n",
            "       (like −\b−a\ba, but dot and dot-dot are not written out). It has  been  added\n",
            "       due to widespread implementation.\n",
            "\n",
            "       Implementations may make −\b−q\bq the default for terminals to prevent trojan\n",
            "       horse attacks on terminals with special escape sequences.  This is  not\n",
            "       required because:\n",
            "\n",
            "        *  Some  control characters may be useful on some terminals; for exam‐\n",
            "           ple, a system might write them as \"\b\"\\\b\\0\b00\b01\b1\"\b\" or \"\b\"^\b^A\bA\"\b\".\n",
            "\n",
            "        *  Special behavior for terminals  is  not  relevant  to  applications\n",
            "           portability.\n",
            "\n",
            "       An    early    proposal    specified    that    the    <_\bo_\bp_\bt_\bi_\bo_\bn_\ba_\bl _\ba_\bl_\bt_\be_\br_\b‐\n",
            "       _\bn_\ba_\bt_\be _\ba_\bc_\bc_\be_\bs_\bs _\bm_\be_\bt_\bh_\bo_\bd _\bf_\bl_\ba_\bg> had to be '\b'+\b+'\b' if there was an alternate access\n",
            "       method  used  on the file or <space> if there was not. This was changed\n",
            "       to be <space> if there is not and a single printable character if there\n",
            "       is. This was done for three reasons:\n",
            "\n",
            "        1. There  are  historical  implementations using characters other than\n",
            "           '\b'+\b+'\b'.\n",
            "\n",
            "        2. There are implementations that vary this  character  used  in  that\n",
            "           position to distinguish between various alternate access methods in\n",
            "           use.\n",
            "\n",
            "        3. The standard developers did not want to preclude future  specifica‐\n",
            "           tions  that  might  need  a  way to specify more than one alternate\n",
            "           access method.\n",
            "\n",
            "       Nonetheless, implementations providing a single alternate access method\n",
            "       are encouraged to use '\b'+\b+'\b'.\n",
            "\n",
            "       Earlier  versions  of  this  standard did not have the −\b−k\bk option, which\n",
            "       meant that the −\b−s\bs option could not be used portably as its  block  size\n",
            "       was implementation-defined, and the units used to specify the number of\n",
            "       blocks occupied by files in a directory in an _\bl_\bs −\b−l\bl listing were  fixed\n",
            "       as  512-byte  units.  The −\b−k\bk option has been added to provide a way for\n",
            "       the −\b−s\bs option to be used portably, and for consistency it also  changes\n",
            "       the aforementioned units from 512-byte to 1024-byte.\n",
            "\n",
            "       The  <_\bd_\ba_\bt_\be _\ba_\bn_\bd _\bt_\bi_\bm_\be>  field  in the −\b−l\bl format is specified only for the\n",
            "       POSIX locale. As noted, the format can be different in  other  locales.\n",
            "       No   mechanism   for  defining  this  is  present  in  this  volume  of\n",
            "       POSIX.1‐2008, as the appropriate vehicle is a  messaging  system;  that\n",
            "       is, the format should be specified as a ``message''.\n",
            "\n",
            "F\bFU\bUT\bTU\bUR\bRE\bE D\bDI\bIR\bRE\bEC\bCT\bTI\bIO\bON\bNS\bS\n",
            "       Allowing  −\b−f\bf  to  ignore  the −\b−A\bA, −\b−g\bg, −\b−l\bl, −\b−n\bn, −\b−o\bo, and −\b−s\bs options may be\n",
            "       removed in a future version.\n",
            "\n",
            "S\bSE\bEE\bE A\bAL\bLS\bSO\bO\n",
            "       _\bc_\bh_\bm_\bo_\bd, _\bf_\bi_\bn_\bd\n",
            "\n",
            "       The Base Definitions volume of POSIX.1‐2008, _\bS_\be_\bc_\bt_\bi_\bo_\bn _\b4_\b._\b4,  _\bF_\bi_\bl_\be  _\bA_\bc_\bc_\be_\bs_\bs\n",
            "       _\bP_\be_\br_\bm_\bi_\bs_\bs_\bi_\bo_\bn_\bs,  _\bC_\bh_\ba_\bp_\bt_\be_\br  _\b8,  _\bE_\bn_\bv_\bi_\br_\bo_\bn_\bm_\be_\bn_\bt _\bV_\ba_\br_\bi_\ba_\bb_\bl_\be_\bs, _\bS_\be_\bc_\bt_\bi_\bo_\bn _\b1_\b2_\b._\b2, _\bU_\bt_\bi_\bl_\bi_\bt_\by\n",
            "       _\bS_\by_\bn_\bt_\ba_\bx _\bG_\bu_\bi_\bd_\be_\bl_\bi_\bn_\be_\bs, <\b<s\bsy\bys\bs_\b_s\bst\bta\bat\bt.\b.h\bh>\b>\n",
            "\n",
            "       The System Interfaces volume of POSIX.1‐2008, _\bf_\bs_\bt_\ba_\bt_\ba_\bt()\n",
            "\n",
            "C\bCO\bOP\bPY\bYR\bRI\bIG\bGH\bHT\bT\n",
            "       Portions of this text are reprinted and reproduced in  electronic  form\n",
            "       from IEEE Std 1003.1, 2013 Edition, Standard for Information Technology\n",
            "       -- Portable Operating System Interface (POSIX),  The  Open  Group  Base\n",
            "       Specifications Issue 7, Copyright (C) 2013 by the Institute of Electri‐\n",
            "       cal and Electronics Engineers,  Inc  and  The  Open  Group.   (This  is\n",
            "       POSIX.1-2008  with  the  2013  Technical Corrigendum 1 applied.) In the\n",
            "       event of any discrepancy between this version and the original IEEE and\n",
            "       The  Open Group Standard, the original IEEE and The Open Group Standard\n",
            "       is the referee document. The original Standard can be  obtained  online\n",
            "       at http://www.unix.org/online.html .\n",
            "\n",
            "       Any  typographical  or  formatting  errors that appear in this page are\n",
            "       most likely to have been introduced during the conversion of the source\n",
            "       files  to  man page format. To report such errors, see https://www.ker‐\n",
            "       nel.org/doc/man-pages/reporting_bugs.html .\n",
            "\n",
            "IEEE/The Open Group                  2013                           LS(1POSIX)\n"
          ]
        }
      ]
    },
    {
      "cell_type": "markdown",
      "source": [
        "# Commands for text processing"
      ],
      "metadata": {
        "id": "jvTowcHykchq"
      }
    },
    {
      "cell_type": "markdown",
      "source": [
        "**cut**\n",
        "\n",
        "The cut command is a command line utility to cut a section from a file. Please see \"man cut\" for available options.\n",
        "To cut a section of file use \"-c\" (characters)"
      ],
      "metadata": {
        "id": "q97V2_Wtkc0L"
      }
    },
    {
      "cell_type": "code",
      "source": [
        "!cut -c1-10 /content/Introduction_to_Linux_Unix_Text_processing/SARS-CoV-2.fa"
      ],
      "metadata": {
        "id": "ekXRHGlIkdDP",
        "colab": {
          "base_uri": "https://localhost:8080/"
        },
        "outputId": "582446aa-417c-407a-f265-e84f1d9411ed"
      },
      "execution_count": null,
      "outputs": [
        {
          "output_type": "stream",
          "name": "stdout",
          "text": [
            ">NC_045512\n",
            "ATTAAAGGTT\n",
            "CGAACTTTAA\n",
            "TAATTACTGT\n",
            "TTGCAGCCGA\n",
            "CCTGGTTTCA\n",
            "GTGGCTTTGG\n",
            "CTTAGTAGAA\n",
            "GCTCGAACTG\n",
            "GTAGTGGTGA\n",
            "TCTTCGTAAG\n",
            "GGCGACGAGC\n",
            "TTACCCGTGA\n",
            "CCCTGATGGC\n",
            "TCCGAACAAC\n",
            "CTTGGTACAC\n",
            "ATTTGACACC\n",
            "CCAAGGGTTG\n",
            "CAAATGAATG\n",
            "GACGGGCGAT\n",
            "ACTTGTGGTT\n",
            "GACCTGAGCA\n",
            "CACTATTGCC\n",
            "CGTGCTAGCG\n",
            "ACCTTCTTGA\n",
            "GATCGCCATT\n",
            "TATAAAGCAT\n",
            "GTGCCTGGAA\n",
            "TGTTGTACGA\n",
            "GCTATAACAA\n",
            "ATTTGGCTAC\n",
            "GCTAACTAAC\n",
            "AAGGAAGGTG\n",
            "TTGTCGGTGG\n",
            "AAATAAATTT\n",
            "GGTGAAACAT\n",
            "TACTCATGCC\n",
            "AACAGAGGAA\n",
            "GCTCCATTGG\n",
            "ACTGTGCCCT\n",
            "GGTTACTTTT\n",
            "GATGAAAGGA\n",
            "ATGAGTTCGC\n",
            "ACTGGGCATT\n",
            "TTGGCTTCAC\n",
            "AAGAGTTTGA\n",
            "TGGTGCCACT\n",
            "CAAACTGTTG\n",
            "AACCTCAATT\n",
            "AAAACTTACT\n",
            "GTGGTTGTTA\n",
            "CTAACAATGC\n",
            "TTGTGTTTTA\n",
            "GAAGACATTC\n",
            "TATCAGCTGG\n",
            "TGTCTACTTA\n",
            "GAAAAGCAAG\n",
            "AACCTTCAGT\n",
            "TCTGGAAGAA\n",
            "GATTCTGCCA\n",
            "ATGTTGTTCA\n",
            "GCTAGCGAAA\n",
            "GGTTACACTG\n",
            "TTATCTCTAA\n",
            "AGAAGAAACA\n",
            "TATAAGGGTA\n",
            "CAACTGTAGC\n",
            "TGTAACACAT\n",
            "TCTGTTTCTT\n",
            "AACATTTTAT\n",
            "ACTAGGTATA\n",
            "CTAGATGGTG\n",
            "AGGTGTTTAC\n",
            "ACAGTTTGGT\n",
            "AAAACATTTT\n",
            "ATCCTAGTTT\n",
            "TGGTTTAACT\n",
            "ATAGAGTTGA\n",
            "ACTTTTGTGC\n",
            "GAGTTACTTG\n",
            "GGACAACAGC\n",
            "TTAAGAAAGG\n",
            "ACCTTTTGTT\n",
            "GAGTACACTG\n",
            "ACGGTGCTTT\n",
            "TTACACAACA\n",
            "TTGGACAATT\n",
            "CATATCCAAA\n",
            "CCAGTTAACT\n",
            "GATGTGGTGG\n",
            "CTATTGTTTG\n",
            "TCTTTGGAGC\n",
            "ATGGATAATC\n",
            "AAGACGTTCT\n",
            "TAGTTTAAAA\n",
            "ACTATTAAGA\n",
            "CTGTTAATAG\n",
            "AACTACTAAC\n",
            "TTGCTACAAT\n",
            "CAAAGAATAC\n",
            "TTTTTCTAAA\n",
            "TCAACCGCTG\n",
            "GCTATTTGAA\n",
            "TAGTGGTTTA\n",
            "TGGGATTTAA\n",
            "ATGTACTTGG\n",
            "TTGGCTTATG\n",
            "TTCTTTGCAT\n",
            "GTATGATGTG\n",
            "GTCCTTTTAT\n",
            "GATACATTCT\n",
            "GACCAATAAA\n",
            "TCTTTACTTT\n",
            "AACCTGAGAG\n",
            "GTGAAGAATC\n",
            "AGATCAGGCA\n",
            "AATACGTTTT\n",
            "AACTTGCAAA\n",
            "TGATTCAGAT\n",
            "ACTGGCGATA\n",
            "GTGCTTGTAT\n",
            "ATGGAACGTT\n",
            "AATAACTTAC\n",
            "CACTTAAGGG\n",
            "TGTTGCTGCT\n",
            "ATCATAGGAT\n",
            "ACAAACATGC\n",
            "ATTGATTGCT\n",
            "ACAACTAATG\n",
            "CATCAAAACT\n",
            "TAAAGATGCT\n",
            "GAAAGTTTAC\n",
            "TTGAAGGTTC\n",
            "AGAAGCTGGT\n",
            "GGAGTTTTCT\n",
            "GTGCTTTGGA\n",
            "CTATTTTATG\n",
            "CTTATGTCAT\n",
            "ACTTGTACTT\n",
            "CACACCTTTA\n",
            "TTCTTTAGTA\n",
            "CGCTGTGCAC\n",
            "GCAATATAAT\n",
            "TACAGAGAAG\n",
            "TTTACCAACC\n",
            "ATCTGGTAAA\n",
            "GATGACGTAG\n",
            "ATTTACTCAT\n",
            "ACATTCTATG\n",
            "TTTGTTCGCA\n",
            "ACCAATGTGC\n",
            "TTTTAACATA\n",
            "GCTGGCACAG\n",
            "CGGACACAAC\n",
            "TCTCAATCGA\n",
            "ACACAAGACC\n",
            "CTTCATTAAA\n",
            "TGAATTTACA\n",
            "ATCAAGGGTA\n",
            "AATGGTCTTT\n",
            "TGCTTTTGCA\n",
            "ACTGTAGCTT\n",
            "TGGTTGATAC\n",
            "AATCCTTATG\n",
            "ACACTCGTTT\n",
            "CTGTTACTTC\n",
            "TGTTGAGTAT\n",
            "TTAGGCTATT\n",
            "GTGTTTATGA\n",
            "GAATAGCATA\n",
            "GCCACTGTAC\n",
            "TCAGAGTAGA\n",
            "AGATACTACT\n",
            "GACATAAACA\n",
            "GTTCCCTTCC\n",
            "TTCTGAAGTT\n",
            "GCCATGCAAC\n",
            "AGGACAAGAG\n",
            "TGATGCACTC\n",
            "ACAGCAGCCA\n",
            "TTACTTATGC\n",
            "TGAAATTAGT\n",
            "GCTGTCAAAT\n",
            "CACAAACTGC\n",
            "TGCACTGTTA\n",
            "TATACAGAAC\n",
            "ACTTTATTAA\n",
            "ACAAGCTGGT\n",
            "GCTGCTAAAG\n",
            "GTACACACAC\n",
            "TGGTGCATCG\n",
            "AAAGGTAAGT\n",
            "TCTGTACCGT\n",
            "GTCAGCTGAT\n",
            "CAGGCACTAG\n",
            "ATTCCTAAAA\n",
            "GTAGTTAAGA\n",
            "CAGCTGTTGC\n",
            "ACGTCTTACT\n",
            "ACATTAAAAG\n",
            "ATTTTGTAGA\n",
            "AAAAACAGTA\n",
            "GATCTCAATG\n",
            "TAGATTCTTA\n",
            "TGACACTGAC\n",
            "AAACTCTTTG\n",
            "ACAGATGCAT\n",
            "ACCACTAGTG\n",
            "CTAGGTGTTG\n",
            "ATGCTGCTGA\n",
            "AGTAGCTGCA\n",
            "GACTTTGCTG\n",
            "AGGATGGTAA\n",
            "ACAACTACTA\n",
            "AACCAAGTCA\n",
            "TTTATTATGA\n",
            "TACTATAACT\n",
            "TCTATCTGTA\n",
            "GAGCTACTGT\n",
            "TGATGTAGAA\n",
            "AGAATTATGG\n",
            "GATTAGCTAA\n",
            "AGGTGGAACC\n",
            "ACGGCCAATG\n",
            "AACACAGACT\n",
            "ATATTTGCGT\n",
            "GCATCTCAAG\n",
            "TGTCTGAAGC\n",
            "AATGCTAGTT\n",
            "GGCTGTTTTG\n",
            "TAGATGCTTA\n",
            "CATAAGAAAG\n",
            "AACACTTCAA\n",
            "TTGGGGCTTG\n",
            "ATGTTGTAAA\n",
            "GTTTGCAATG\n",
            "GTAAATCACA\n",
            "TACATGTGTT\n",
            "GATTACATTT\n",
            "AGGAGACATT\n",
            "TTCATGGGAA\n",
            "AAAAACAGTA\n",
            "GAGGTACAAC\n",
            "AAGTGCACCT\n",
            "TCAGATGAGT\n",
            "GACCACCTGG\n",
            "GTATACAGCT\n",
            "AAATGTAGTA\n",
            "TAGAACAGTA\n",
            "AATTTCAATG\n",
            "ATTGGCGACC\n",
            "TCAATTCAGT\n",
            "TGCTGAAATT\n",
            "GCTCAATGCT\n",
            "AAATAGGCGT\n",
            "TAATTCACAG\n",
            "TCAGAATATG\n",
            "ATGTTGCTAT\n",
            "GCAATTTACA\n",
            "TTTAAAGATT\n",
            "CTAAATTCAA\n",
            "CATCTCTATG\n",
            "GAAGCTATAA\n",
            "TTGGTACCAA\n",
            "TGTTGATACA\n",
            "CACCTCATAC\n",
            "GTGACACACT\n",
            "TATGAAGTAT\n",
            "TCCACTGCTT\n",
            "TGATTGATGT\n",
            "TGGTAATGCA\n",
            "AAGCGTGTTG\n",
            "AGGTTCAACA\n",
            "CCCTAAAGCT\n",
            "GACAAAGCTT\n",
            "TATGCCTATT\n",
            "AGTGCTATCT\n",
            "ACACCAGCTT\n",
            "CATGTGAGTC\n",
            "AACACGTTGC\n",
            "TATAACATGA\n",
            "ACACTTTTAC\n",
            "ACAACAGGGT\n",
            "GAATTGTTTG\n",
            "AACCAGTACC\n",
            "CTACAAAAGA\n",
            "CCAACTGAAA\n",
            "TTAGAAATGC\n",
            "CAAACAAGCT\n",
            "AAAGTTGATG\n",
            "AACCCAGGAG\n",
            "AGAAGGCTAT\n",
            "CTGATTGGAC\n",
            "CAGTTAAAAA\n",
            "ATTACTTGAT\n",
            "ACTATTGACT\n",
            "AATTACAATC\n",
            "ATTAGAAAAG\n",
            "GCAAAATATA\n",
            "TACATTTTGG\n",
            "GGGTACGCTG\n",
            "TGTGCAACTG\n",
            "ATGTTACAAA\n",
            "AGCTCTTGGA\n",
            "GGACACTTCG\n",
            "GATGTAATTA\n",
            "GAGGAATACA\n",
            "AGGGGTACTG\n",
            "GTAGACTTAT\n",
            "CAATGTTTGT\n",
            "ATTACCCCCT\n",
            "GTTTTACATT\n",
            "TCTCTGGGAC\n",
            "TTCCACTGAG\n",
            "CTACTTATTG\n",
            "TTTTGGGTGT\n",
            "GAATAATTGC\n",
            "AAAAATCTTA\n",
            "TTAATTTAGT\n",
            "TAACATCACT\n",
            "GGTTGGACAG\n",
            "ATGAAAATGG\n",
            "GAAATCCTTC\n",
            "GTTAGATTTC\n",
            "TTTATGCTTG\n",
            "ATTTTCCACT\n",
            "GCAGATTCAT\n",
            "ATTATAATTA\n",
            "TAAGGTTGGT\n",
            "GATATTTCAA\n",
            "TTCCTTTACA\n",
            "TTCTTTTGAA\n",
            "AAATGTGTCA\n",
            "TGCCTTTCCA\n",
            "GATTCTTGAC\n",
            "CAGGTTGCTG\n",
            "CTCCTACTTG\n",
            "TGAACATGTC\n",
            "CAGACTAATT\n",
            "GTGCAGAAAA\n",
            "CACAGAAATT\n",
            "ACTGAATGCA\n",
            "TAGCTGTTGA\n",
            "AATTAAAGAT\n",
            "TTTATTGAAG\n",
            "GCCTTGGTGA\n",
            "TTTGCTCACA\n",
            "ACCTTTGGTG\n",
            "GAGTTACACA\n",
            "AATTCAAGAC\n",
            "CAAGCTTTAA\n",
            "TCCTTTCACG\n",
            "TTTGCAGACA\n",
            "ACTAAAATGT\n",
            "TGTCCTTCCC\n",
            "GAACTTCACA\n",
            "TCAAATGGCA\n",
            "CATTTGTGTC\n",
            "TGAATTAGAC\n",
            "GGTGACATCT\n",
            "CCAAGAATTT\n",
            "ATGGTACATT\n",
            "ATGACCAGTT\n",
            "ACTCTGAGCC\n",
            "ATCTTCACAA\n",
            "GCGCTACTGC\n",
            "TGCTGTTTTT\n",
            "GTTCACTTTG\n",
            "GCCTTGAAGC\n",
            "AATAATGAGG\n",
            "CTTTGCTGGC\n",
            "CTTCAGGTGA\n",
            "GGAATCTGGA\n",
            "ACTCAATTGA\n",
            "CTGAAGAACA\n",
            "TTATGATGAA\n",
            "TCATTCGTTT\n",
            "TCTTGCTAGT\n",
            "GAGTCTTGTA\n",
            "CTTCTGGTCT\n",
            "TTCCAACGGT\n",
            "CTATTCCTTA\n",
            "AGTTAATTTT\n",
            "AAATTGGATC\n",
            "ATTGCTTCTT\n",
            "TCAACGTGCC\n",
            "GATCCTTCGT\n",
            "GAAATCACTG\n",
            "ACTCAGGTTT\n",
            "CAGTGACAAT\n",
            "TATAGCAGAG\n",
            "AACCTCATAA\n",
            "CAATGGAGAT\n",
            "GCTTTATCAC\n",
            "TACGAGGGCA\n",
            "TTGCTTTTGC\n",
            "GTTCATCAGA\n",
            "ATAACACTTT\n",
            "CTTTTTAGCC\n",
            "GATCATAATG\n",
            "TAGCTGCATT\n",
            "GTGTCCTATT\n",
            "TTGTGCGTGG\n",
            "GTTTACCTTT\n",
            "AGACTTTTTA\n",
            "ATAATGGACC\n",
            "TAACCAGAAT\n",
            "GCGTCTTGGT\n",
            "CAATTAACAC\n",
            "TGGTGACGGT\n",
            "GGACTTCCCT\n",
            "AAGATCACAT\n",
            "ATTGCCAAAA\n",
            "AGTCGCAACA\n",
            "ATGGCGGTGA\n",
            "TAAAGGCCAA\n",
            "CAAAAACGTA\n",
            "AAGGAAATTT\n",
            "ATTTGCCCCC\n",
            "TGGTTGACCT\n",
            "TGAATAAGCA\n",
            "TGATGAAACT\n",
            "TTGGATGATT\n",
            "CAGACCACAC\n",
            "GTGCAGAATG\n",
            "TTAATCAGTG\n",
            "GATCGAGTGT\n",
            "TTTAGTAGTG\n",
            "AAAAAAAAAA\n"
          ]
        }
      ]
    },
    {
      "cell_type": "markdown",
      "source": [
        "The option “-c1-10” will output first 10 characters from the input file.\n",
        "Few options:\n",
        "-c: cut based on character position -d: cut based on delimiter\n",
        "-f: field number\n",
        "\n",
        "\n",
        "We have a file named “human_viruses.txt” with all the virus names, genbank ids and genome length. These fields are separated by “|” symbol."
      ],
      "metadata": {
        "id": "wxIjjGfqku5_"
      }
    },
    {
      "cell_type": "code",
      "source": [
        "!head /content/Introduction_to_Linux_Unix_Text_processing/human_viruses.txt"
      ],
      "metadata": {
        "id": "pVQl00KflBcs",
        "colab": {
          "base_uri": "https://localhost:8080/"
        },
        "outputId": "ac09ca58-46e9-4c46-e0d7-9e7f3368fedb"
      },
      "execution_count": null,
      "outputs": [
        {
          "output_type": "stream",
          "name": "stdout",
          "text": [
            "gi|116326654|ref|NC_008523.1| Tomato leaf curl Karnataka virus-associated DNA beta DNA-A, complete genome |1358\n",
            "gi|116326656|ref|NC_008524.1| Tomato leaf curl virus-Pune-associated DNA beta DNA-A, complete genome |1380\n",
            "gi|116536742|ref|NC_008517.1| Tomato leaf curl Pune virus, complete genome |2756\n",
            "gi|1189489108|ref|NC_034480.1| Bwamba virus strain M459 segment S nucleoprotein and nonstructural protein NSs genes, complete cds |1096\n",
            "gi|1189489111|ref|NC_034481.1| Nyando virus strain MP401 segment S nucleoprotein and nonstructural protein NSs genes, complete cds |902\n",
            "gi|1189489154|ref|NC_034501.1| Kaeng Khoi virus strain PSC-19 segment S nucleoprotein and nonstructural protein NSs genes, complete cds |975\n",
            "gi|1215835591|ref|NC_035211.1| Human fecal virus Jorvi4, complete genome |2343\n",
            "gi|1215835602|ref|NC_035213.1| Human fecal virus Jorvi3, complete genome |1942\n",
            "gi|13277517|ref|NC_001653.2| Hepatitis delta virus, complete genome |1682\n",
            "gi|1328406490|ref|NC_036615.1| Influenza D virus (D/swine/Oklahoma/1334/2011) segment 2 polymerase PB1 (PB1) gene, complete cds |2330\n"
          ]
        }
      ]
    },
    {
      "cell_type": "markdown",
      "source": [
        "To get only the genbank id, type the command below."
      ],
      "metadata": {
        "id": "37A3OvYxlFJp"
      }
    },
    {
      "cell_type": "code",
      "source": [
        "!cut -d \"|\" -f2 /content/Introduction_to_Linux_Unix_Text_processing/human_viruses.txt"
      ],
      "metadata": {
        "id": "Z7BTKK2ClK7w",
        "colab": {
          "base_uri": "https://localhost:8080/"
        },
        "outputId": "4903f7a3-356c-4f02-d4f0-6e99b3da1ad8"
      },
      "execution_count": null,
      "outputs": [
        {
          "output_type": "stream",
          "name": "stdout",
          "text": [
            "116326654\n",
            "116326656\n",
            "116536742\n",
            "1189489108\n",
            "1189489111\n",
            "1189489154\n",
            "1215835591\n",
            "1215835602\n",
            "13277517\n",
            "1328406490\n",
            "1328406492\n",
            "1328406494\n",
            "1328406496\n",
            "1328406498\n",
            "1328406500\n",
            "1328406502\n",
            "134133206\n",
            "1464289562\n",
            "1464307139\n",
            "1464307144\n",
            "1464307154\n",
            "1464307169\n",
            "1464307175\n",
            "1464307179\n",
            "1464307182\n",
            "1464307186\n",
            "1464307191\n",
            "1464307196\n",
            "1464307201\n",
            "1464307206\n",
            "1464307211\n",
            "1464307216\n",
            "1464307221\n",
            "1464307226\n",
            "1464307231\n",
            "1464307246\n",
            "1464307772\n",
            "172088171\n",
            "22256027\n",
            "29337246\n",
            "295413915\n",
            "295441891\n",
            "295441901\n",
            "295441908\n",
            "29570853\n",
            "302596924\n",
            "312234429\n",
            "32140160\n",
            "32140163\n",
            "32140165\n",
            "32140167\n",
            "32140169\n",
            "32140171\n",
            "32141421\n",
            "394922884\n",
            "401829632\n",
            "594139507\n",
            "605039172\n",
            "658609068\n",
            "658609087\n",
            "667699603\n",
            "672550932\n",
            "672550936\n",
            "672550940\n",
            "71658849\n",
            "71849678\n",
            "727071839\n",
            "727071843\n",
            "73912682\n",
            "73918825\n",
            "73921303\n",
            "73921306\n",
            "73921565\n",
            "751868323\n",
            "752901088\n",
            "752901090\n",
            "752901093\n",
            "752901096\n",
            "752901100\n",
            "752901102\n",
            "752901105\n",
            "752901108\n",
            "758899349\n",
            "758899352\n",
            "758899355\n",
            "758899359\n",
            "758899361\n",
            "758899363\n",
            "758967835\n",
            "758967842\n",
            "807743919\n",
            "80984706\n",
            "81097459\n",
            "821316987\n",
            "8486125\n",
            "8486127\n",
            "8486129\n",
            "8486134\n",
            "93163150\n",
            "941241313\n"
          ]
        }
      ]
    },
    {
      "cell_type": "markdown",
      "source": [
        "**sort**\n",
        "\n",
        "The sort command is used to sort the input content.\n",
        "\n",
        "\n",
        "Few options:\n",
        "\n",
        "-t: field separator\n",
        "\n",
        "-n: numeric sort\n",
        "\n",
        "-k: sort with a key (field) \n",
        "\n",
        "-r: reverse sort\n",
        "\n",
        "-u: print unique entries"
      ],
      "metadata": {
        "id": "aBxlKKjQlPFX"
      }
    },
    {
      "cell_type": "code",
      "source": [
        "!sort -t \"|\" -nrk6 /content/Introduction_to_Linux_Unix_Text_processing/human_viruses.txt"
      ],
      "metadata": {
        "id": "yyF9F03hlY4r",
        "colab": {
          "base_uri": "https://localhost:8080/"
        },
        "outputId": "0cdbb814-d7ff-415a-bd41-69aac293cbdf"
      },
      "execution_count": null,
      "outputs": [
        {
          "output_type": "stream",
          "name": "stdout",
          "text": [
            "gi|658609068|ref|NC_024443.1| Roundleaf bat hepatitis B virus isolate RBHBV/GB09-256/Hip_rub/GAB/2009, complete genome |3368\n",
            "gi|401829632|ref|NC_018481.1| CAS virus segment S, complete genome |3368\n",
            "gi|172088171|ref|NC_010562.1| Chapare virus segment S, complete sequence |3357\n",
            "gi|594139507|ref|NC_023761.1| Boa arenavirus NL isolate 3 segment S, complete sequence |3351\n",
            "gi|1464307246|ref|NC_038364.1| Loie River virus isolate R5074 glycoprotein precursor (GPC) and nucleocapsid protein (NP) genes, complete cds |3344\n",
            "gi|81097459|ref|NC_007547.1| Rotavirus C segment 1, complete sequence |3309\n",
            "gi|295441891|ref|NC_014093.1| Torque teno midi virus 2, complete genome |3253\n",
            "gi|134133206|ref|NC_009225.1| Torque teno midi virus 1, complete genome |3245\n",
            "gi|1464307226|ref|NC_038360.1| Torque teno midi virus 13 DNA, complete genome, isolate: MDJN69 |3230\n",
            "gi|1464307231|ref|NC_038361.1| Torque teno midi virus 14 DNA, complete genome, isolate: MDJN97 |3223\n",
            "gi|1464307201|ref|NC_038355.1| Torque teno midi virus 8 DNA, complete genome, isolate: MDJN1 |3223\n",
            "gi|1464307186|ref|NC_038352.1| Torque teno midi virus 5 DNA, complete genome, isolate: MDJHem2 |3208\n",
            "gi|1464307216|ref|NC_038358.1| Torque teno midi virus 11 DNA, complete genome, isolate: MDJN47 |3198\n",
            "gi|1464307191|ref|NC_038353.1| Torque teno midi virus 6 DNA, complete genome, isolate: MDJHem3-1 |3198\n",
            "gi|1464307196|ref|NC_038354.1| Torque teno midi virus 7 DNA, complete genome, isolate: MDJHem3-2 |3197\n",
            "gi|1464307221|ref|NC_038359.1| Torque teno midi virus 12 DNA, complete genome, isolate: MDJN51 |3187\n",
            "gi|1464307206|ref|NC_038356.1| Torque teno midi virus 9 DNA, complete genome, isolate: MDJN2 |3187\n",
            "gi|941241313|ref|NC_003977.2| Hepatitis B virus (strain ayw) genome |3182\n",
            "gi|1464307211|ref|NC_038357.1| Torque teno midi virus 10 DNA, complete genome, isolate: MDJN14 |3175\n",
            "gi|658609087|ref|NC_024445.1| Tent-making bat hepatitis B virus isolate TBHBV/Pan372/Uro_bil/PAN/2010, complete genome |3149\n",
            "gi|1464289562|ref|NC_038260.1| Cebine herpesvirus 1 strain 5567 DNA polymerase catalytic subunit (UL54) gene, complete cds |3075\n",
            "gi|727071839|ref|NC_025726.1| Torque teno mini virus ALA22, complete genome |2914\n",
            "gi|1464307154|ref|NC_038347.1| Torque teno mini virus 12 isolate LIL-y3 ORF2, ORF1, ORF3, and ORF4 genes, complete cds |2912\n",
            "gi|295413915|ref|NC_014068.1| Torque teno mini virus 8, complete genome |2910\n",
            "gi|295441901|ref|NC_014095.1| Torque teno mini virus 6, complete genome |2897\n",
            "gi|1464307139|ref|NC_038345.1| Torque teno mini virus 10 isolate LIL-y1 ORF2, ORF1, ORF3, and ORF4 genes, complete cds |2887\n",
            "gi|821316987|ref|NC_027059.1| Torque teno sus virus 1b isolate 1p, complete genome |2872\n",
            "gi|1464307144|ref|NC_038346.1| Torque teno mini virus 11 isolate LIL-y2 ORF2, ORF1, and ORF3 genes, complete cds |2871\n",
            "gi|295441908|ref|NC_014097.1| Torque teno mini virus 1, complete genome |2856\n",
            "gi|727071843|ref|NC_025727.1| Torque teno mini virus ALH8, complete genome |2855\n",
            "gi|29337246|ref|NC_004655.1| East African cassava mosaic Zanzibar virus DNA-A, complete genome |2785\n",
            "gi|29570853|ref|NC_004656.2| East African cassava mosaic Zanzibar virus DNA B, complete sequence |2763\n",
            "gi|116536742|ref|NC_008517.1| Tomato leaf curl Pune virus, complete genome |2756\n",
            "gi|71849678|ref|NC_007290.1| Cotton leaf curl Bangalore virus segment A, complete genome |2751\n",
            "gi|80984706|ref|NC_007546.1| Rotavirus C segment 2, complete sequence |2736\n",
            "gi|312234429|ref|NC_014092.2| Torque teno sus virus k2a isolate 2p, complete genome |2735\n",
            "gi|605039172|ref|NC_023888.1| Circo-like virus-Brazil hs1, complete genome |2526\n",
            "gi|1464307182|ref|NC_038351.1| Torque teno midi virus 4 isolate 6PoSMA ORF2, ORF1, and ORF3 genes, complete cds |2454\n",
            "gi|1328406492|ref|NC_036616.1| Influenza D virus (D/swine/Oklahoma/1334/2011) segment 1 polymerase PB2 (PB2) gene, complete cds |2364\n",
            "gi|394922884|ref|NC_017091.1| Gyrovirus GyV3, complete genome |2359\n",
            "gi|1215835591|ref|NC_035211.1| Human fecal virus Jorvi4, complete genome |2343\n",
            "gi|8486134|ref|NC_002021.1| Influenza A virus (A/Puerto Rico/8/1934(H1N1)) segment 2, complete sequence |2341\n",
            "gi|73918825|ref|NC_007378.1| Influenza A virus (A/Korea/426/1968(H2N2)) segment 1, complete sequence |2341\n",
            "gi|73912682|ref|NC_007375.1| Influenza A virus (A/Korea/426/1968(H2N2)) segment 2, complete sequence |2341\n",
            "gi|32140167|ref|NC_004910.1| Influenza A virus pb2 gene for polymerase Pb2, genomic RNA, strain A/Hong Kong/1073/99(H9N2) |2341\n",
            "gi|1328406490|ref|NC_036615.1| Influenza D virus (D/swine/Oklahoma/1334/2011) segment 2 polymerase PB1 (PB1) gene, complete cds |2330\n",
            "gi|32140169|ref|NC_004911.1| Influenza A virus pb1 gene for polymerase Pb1, genomic RNA, strain A/Hong Kong/1073/99(H9N2) |2328\n",
            "gi|752901090|ref|NC_026423.1| Influenza A virus (A/Shanghai/02/2013(H7N9)) segment 2 polymerase PB1 (PB1) and PB1-F2 protein (PB1-F2) genes, complete cds |2297\n",
            "gi|758967842|ref|NC_026438.1| Influenza A virus (A/California/07/2009(H1N1)) segment 1 polymerase PB2 (PB2) gene, complete cds |2280\n",
            "gi|752901088|ref|NC_026422.1| Influenza A virus (A/Shanghai/02/2013(H7N9)) segment 1 polymerase PB2 (PB2) gene, complete cds |2280\n",
            "gi|758899361|ref|NC_026435.1| Influenza A virus (A/California/07/2009(H1N1)) segment 2 polymerase PB1 (PB1) gene, complete cds; and nonfunctional PB1-F2 protein (PB1-F2) gene, complete sequence |2274\n",
            "gi|672550940|ref|NC_024691.1| MSSI2.225 virus complete sequence |2259\n",
            "gi|807743919|ref|NC_026817.1| Human genital-associated circular DNA virus-1 isolate 349, complete genome |2235\n",
            "gi|32140171|ref|NC_004912.1| Influenza A virus pa gene for polymerase PA, genomic RNA, strain A/Hong Kong/1073/99(H9N2) |2225\n",
            "gi|1464307169|ref|NC_038348.1| Torque teno tupaia virus ORF3, ORF2, ORF1 genes for hypothetical proteins, complete cds, isolate: Tbc-TTV14 |2199\n",
            "gi|1328406498|ref|NC_036619.1| Influenza D virus (D/swine/Oklahoma/1334/2011) segment 3 polymerase 3 (P3) gene, complete cds |2195\n",
            "gi|752901093|ref|NC_026424.1| Influenza A virus (A/Shanghai/02/2013(H7N9)) segment 3 polymerase PA (PA) and PA-X protein (PA-X) genes, complete cds |2176\n",
            "gi|672550932|ref|NC_024689.1| HCBI8.215 virus complete sequence |2152\n",
            "gi|758967835|ref|NC_026437.1| Influenza A virus (A/California/07/2009(H1N1)) segment 3 polymerase PA (PA) gene, complete cds |2151\n",
            "gi|672550936|ref|NC_024690.1| HCBI9.212 virus complete sequence |2121\n",
            "gi|1328406496|ref|NC_036618.1| Influenza D virus (D/swine/Oklahoma/1334/2011) segment 4 hemagglutinin-esterase precursor (HEF) gene, complete cds |2049\n",
            "gi|1464307175|ref|NC_038349.1| Torque teno felis virus 2 isolate PRA1 ORF2, ORF1, and ORF3 genes, complete cds |2019\n",
            "gi|1464307179|ref|NC_038350.1| Torque teno midi virus 3 isolate 2PoSMA ORF2 and ORF1 genes, complete cds |2002\n",
            "gi|1215835602|ref|NC_035213.1| Human fecal virus Jorvi3, complete genome |1942\n",
            "gi|8486125|ref|NC_002017.1| Influenza A virus (A/Puerto Rico/8/1934(H1N1)) segment 4, complete sequence |1778\n",
            "gi|1328406494|ref|NC_036617.1| Influenza D virus (D/swine/Oklahoma/1334/2011) segment 5 nucleoprotein (NP) gene, complete cds |1775\n",
            "gi|667699603|ref|NC_024496.1| Heartland virus isolate Patient1 segment S, complete sequence |1772\n",
            "gi|32140163|ref|NC_004908.1| Influenza A virus ha gene for Hemagglutinin, genomic RNA, strain A/Hong Kong/1073/99(H9N2) |1714\n",
            "gi|752901096|ref|NC_026425.1| Influenza A virus (A/Shanghai/02/2013(H7N9)) segment 4 hemagglutinin (HA) gene, complete cds |1708\n",
            "gi|758899355|ref|NC_026433.1| Influenza A virus (A/California/07/2009(H1N1)) segment 4 hemagglutinin (HA) gene, complete cds |1701\n",
            "gi|1464307772|ref|NC_038392.1| Human stool-associated circular virus NG13, complete genome |1699\n",
            "gi|302596924|ref|NC_014395.1| Rift Valley fever virus segment S, complete genome |1690\n",
            "gi|13277517|ref|NC_001653.2| Hepatitis delta virus, complete genome |1682\n",
            "gi|8486129|ref|NC_002019.1| Influenza A virus (A/Puerto Rico/8/1934(H1N1)) segment 5, complete sequence |1565\n",
            "gi|93163150|ref|NC_004905.2| Influenza A virus (A/Hong Kong/1073/99(H9N2)) segment 5, complete sequence |1557\n",
            "gi|752901100|ref|NC_026426.1| Influenza A virus (A/Shanghai/02/2013(H7N9)) segment 5 nucleocapsid protein (NP) gene, complete cds |1506\n",
            "gi|758899363|ref|NC_026436.1| Influenza A virus (A/California/07/2009(H1N1)) segment 5 nucleocapsid protein (NP) gene, complete cds |1497\n",
            "gi|73921306|ref|NC_007381.1| Influenza A virus (A/Korea/426/1968(H2N2)) segment 5, complete sequence |1497\n",
            "gi|32140165|ref|NC_004909.1| Influenza A virus na gene for neuraminidase, genomic RNA, strain A/Hong Kong/1073/99(H9N2) |1418\n",
            "gi|8486127|ref|NC_002018.1| Influenza A virus (A/Puerto Rico/8/1934(H1N1)) segment 6, complete sequence |1413\n",
            "gi|758899359|ref|NC_026434.1| Influenza A virus (A/California/07/2009(H1N1)) segment 6 neuraminidase (NA) gene, complete cds |1410\n",
            "gi|73921303|ref|NC_007382.1| Influenza A virus (A/Korea/426/1968(H2N2)) segment 6, complete sequence |1410\n",
            "gi|752901108|ref|NC_026429.1| Influenza A virus (A/Shanghai/02/2013(H7N9)) segment 6 neuraminidase (NA) gene, complete cds |1398\n",
            "gi|116326656|ref|NC_008524.1| Tomato leaf curl virus-Pune-associated DNA beta DNA-A, complete genome |1380\n",
            "gi|116326654|ref|NC_008523.1| Tomato leaf curl Karnataka virus-associated DNA beta DNA-A, complete genome |1358\n",
            "gi|71658849|ref|NC_007219.1| Cotton leaf curl Bangalore virus-associated DNA beta, complete genome |1355\n",
            "gi|1328406500|ref|NC_036620.1| Influenza D virus (D/swine/Oklahoma/1334/2011) segment 6 P42 (P42) gene, complete cds |1219\n",
            "gi|1189489108|ref|NC_034480.1| Bwamba virus strain M459 segment S nucleoprotein and nonstructural protein NSs genes, complete cds |1096\n",
            "gi|32141421|ref|NC_004907.1| Influenza A virus (A/Hong Kong/1073/99(H9N2)) segment 7, complete sequence |1025\n",
            "gi|752901102|ref|NC_026427.1| Influenza A virus (A/Shanghai/02/2013(H7N9)) segment 7 matrix protein 2 (M2) and matrix protein 1 (M1) genes, complete cds |985\n",
            "gi|22256027|ref|NC_004110.1| La Crosse virus segment S, complete genome |984\n",
            "gi|758899349|ref|NC_026431.1| Influenza A virus (A/California/07/2009(H1N1)) segment 7 matrix protein 2 (M2) and matrix protein 1 (M1) genes, complete cds |982\n",
            "gi|1189489154|ref|NC_034501.1| Kaeng Khoi virus strain PSC-19 segment S nucleoprotein and nonstructural protein NSs genes, complete cds |975\n",
            "gi|751868323|ref|NC_026282.1| Maprik virus isolate MK7532 segment S, complete sequence |911\n",
            "gi|1189489111|ref|NC_034481.1| Nyando virus strain MP401 segment S nucleoprotein and nonstructural protein NSs genes, complete cds |902\n",
            "gi|32140160|ref|NC_004906.1| Influenza A virus (A/Hong Kong/1073/99(H9N2)) segment 8, complete sequence |890\n",
            "gi|1328406502|ref|NC_036621.1| Influenza D virus (D/swine/Oklahoma/1334/2011) segment 7 nonstructural protein 2 (NS2) and nonstructural protein 1 (NS1) genes, complete cds |868\n",
            "gi|758899352|ref|NC_026432.1| Influenza A virus (A/California/07/2009(H1N1)) segment 8 nuclear export protein (NEP) and nonstructural protein 1 (NS1) genes, complete cds |863\n",
            "gi|752901105|ref|NC_026428.1| Influenza A virus (A/Shanghai/02/2013(H7N9)) segment 8 nuclear export protein (NEP) and nonstructural protein 1 (NS1) genes, complete cds |841\n",
            "gi|73921565|ref|NC_007380.1| Influenza A virus (A/Korea/426/1968(H2N2)) segment 8, complete sequence |838\n"
          ]
        }
      ]
    },
    {
      "cell_type": "markdown",
      "source": [
        "**grep**\n",
        "\n",
        "grep searches the input for a given pattern.\n",
        "\n",
        "Few options:\n",
        "\n",
        "-A: after context\n",
        "\n",
        "-B: before context\n",
        "\n",
        "-C: before and after context -c: count\n",
        "\n",
        "-l: file with match\n",
        "\n",
        "-i: ignore case\n",
        "\n",
        "-o: only match\n",
        "\n",
        "-v: invert match\n",
        "\n",
        "-w: word match\n",
        "\n",
        "\n",
        "To get the list of all Hepatitis viruses from human_viruses.txt, type the command below."
      ],
      "metadata": {
        "id": "XE0b15qUle0Z"
      }
    },
    {
      "cell_type": "code",
      "source": [
        "!grep \"Hepatitis\" /content/Introduction_to_Linux_Unix_Text_processing/human_viruses.txt\n"
      ],
      "metadata": {
        "id": "EgNQS11elod1",
        "colab": {
          "base_uri": "https://localhost:8080/"
        },
        "outputId": "26104c40-bea6-481f-e6f6-70e2be191dba"
      },
      "execution_count": null,
      "outputs": [
        {
          "output_type": "stream",
          "name": "stdout",
          "text": [
            "gi|13277517|ref|NC_001653.2| Hepatitis delta virus, complete genome |1682\n",
            "gi|941241313|ref|NC_003977.2| Hepatitis B virus (strain ayw) genome |3182\n"
          ]
        }
      ]
    },
    {
      "cell_type": "markdown",
      "source": [
        "**wc**\n",
        "\n",
        "The command “wc” can be used in 2 ways, which counts lines, words or characters."
      ],
      "metadata": {
        "id": "MQN60dA9lrfV"
      }
    },
    {
      "cell_type": "code",
      "source": [
        "!wc -l /content/Introduction_to_Linux_Unix_Text_processing/outbreak.csv"
      ],
      "metadata": {
        "id": "ZgPEG2E_lzoL",
        "colab": {
          "base_uri": "https://localhost:8080/"
        },
        "outputId": "7934cc0c-09f2-4642-d9a7-9ac3cdbc87f5"
      },
      "execution_count": null,
      "outputs": [
        {
          "output_type": "stream",
          "name": "stdout",
          "text": [
            "36 /content/Introduction_to_Linux_Unix_Text_processing/outbreak.csv\n"
          ]
        }
      ]
    },
    {
      "cell_type": "code",
      "source": [
        "!cat /content/Introduction_to_Linux_Unix_Text_processing/outbreak.csv | wc -l"
      ],
      "metadata": {
        "id": "vDNPRtlYl2-u",
        "colab": {
          "base_uri": "https://localhost:8080/"
        },
        "outputId": "6000284c-a570-45ab-da5b-f2655ec226d9"
      },
      "execution_count": null,
      "outputs": [
        {
          "output_type": "stream",
          "name": "stdout",
          "text": [
            "36\n"
          ]
        }
      ]
    },
    {
      "cell_type": "markdown",
      "source": [
        "**uniq**\n",
        "\n",
        "\n",
        "The uniq command extracts unique lines from the input. It is usually used in combination with sort to count unique values in the input.\n",
        "To get the list of countries that has had an outbreak in 2022:"
      ],
      "metadata": {
        "id": "W79G_y1Sl5hg"
      }
    },
    {
      "cell_type": "code",
      "source": [
        "!cut -d, -f3 /content/Introduction_to_Linux_Unix_Text_processing/outbreak.csv | sort | uniq"
      ],
      "metadata": {
        "id": "M1LxQw2rmUbH",
        "colab": {
          "base_uri": "https://localhost:8080/"
        },
        "outputId": "201226c2-95ea-41ea-ce89-a653bbd99945"
      },
      "execution_count": null,
      "outputs": [
        {
          "output_type": "stream",
          "name": "stdout",
          "text": [
            "Afghanistan\n",
            "Australia\n",
            "China\n",
            "Democratic Republic of the Congo\n",
            "Germany\n",
            "Guinea\n",
            "Iraq\n",
            "Israel\n",
            "Kenya\n",
            "Malawi\n",
            "Mozambique\n",
            "Multi-country\n",
            "Multi-Country\n",
            "Nigeria\n",
            "Oman\n",
            "Qatar\n",
            "Sao Tome and Principe\n",
            "Saudi Arabia\n",
            "Somalia\n",
            "Timor-Leste\n",
            "Togo\n",
            "Uganda\n",
            "United Kingdom of Great Britain and Northern Ireland\n",
            "United States of America\n"
          ]
        }
      ]
    },
    {
      "cell_type": "markdown",
      "source": [
        "Other text processing commands worth looking at are: tr, rev, sed and paste."
      ],
      "metadata": {
        "id": "9HO9XAdsmo2a"
      }
    },
    {
      "cell_type": "markdown",
      "source": [
        "# Output control in Linux"
      ],
      "metadata": {
        "id": "AlF_ySwGmtWL"
      }
    },
    {
      "cell_type": "markdown",
      "source": [
        "When you run a command, the output is usually sent to standard output (stdout) ie. the terminal. However, we can redirect the standard output to a file using “>”."
      ],
      "metadata": {
        "id": "hlsBAV5JmtKc"
      }
    },
    {
      "cell_type": "code",
      "source": [
        "!ls > list\n",
        "!cat list"
      ],
      "metadata": {
        "id": "BfEZOi1xnHMW",
        "colab": {
          "base_uri": "https://localhost:8080/"
        },
        "outputId": "04074857-b1f8-4c11-9045-c21915223a94"
      },
      "execution_count": null,
      "outputs": [
        {
          "output_type": "stream",
          "name": "stdout",
          "text": [
            "list\n",
            "temp\n",
            "temp3\n"
          ]
        }
      ]
    },
    {
      "cell_type": "markdown",
      "source": [
        "The first command creates a new file called list with all the file names in the directory. If there exists a file already named “list”, it is overwritten with the output of the command. Instead, we can append to a file using “>>” redirection.\n",
        "\n",
        "Another kind of output that is generated by programs is standard error. We must use “2>” to redirect it."
      ],
      "metadata": {
        "id": "3h2RgYxUnLxS"
      }
    },
    {
      "cell_type": "code",
      "source": [
        "!ls /foo 2> error"
      ],
      "metadata": {
        "id": "Vf6qbH1CnQe5"
      },
      "execution_count": null,
      "outputs": []
    },
    {
      "cell_type": "markdown",
      "source": [
        "To redirect stdout and stderr to a file use “&>”"
      ],
      "metadata": {
        "id": "JpYLn8sVnUH9"
      }
    },
    {
      "cell_type": "markdown",
      "source": [
        "# Pipes"
      ],
      "metadata": {
        "id": "aM3-zZmQnXpK"
      }
    },
    {
      "cell_type": "markdown",
      "source": [
        "Piping in Linux is a very powerful and efficient way to combine commands. Pipes (|) in Linux act as connecting links between commands. Pipe redirects output of the first command as an input to the next command. We can nest as many commands as we want using pipes. They ensure smooth running of the command flow and reduces the execution time.\n",
        "\n",
        " To print 10 smallest viruses, run the command below."
      ],
      "metadata": {
        "id": "BoIkOMprnXyR"
      }
    },
    {
      "cell_type": "code",
      "source": [
        "!sort -t \"|\" -nk6 /content/Introduction_to_Linux_Unix_Text_processing/human_viruses.txt | head -10"
      ],
      "metadata": {
        "id": "hUk3EKpXnn__",
        "colab": {
          "base_uri": "https://localhost:8080/"
        },
        "outputId": "b8ebf1d6-f041-4144-dbf2-caa0329a1245"
      },
      "execution_count": null,
      "outputs": [
        {
          "output_type": "stream",
          "name": "stdout",
          "text": [
            "gi|73921565|ref|NC_007380.1| Influenza A virus (A/Korea/426/1968(H2N2)) segment 8, complete sequence |838\n",
            "gi|752901105|ref|NC_026428.1| Influenza A virus (A/Shanghai/02/2013(H7N9)) segment 8 nuclear export protein (NEP) and nonstructural protein 1 (NS1) genes, complete cds |841\n",
            "gi|758899352|ref|NC_026432.1| Influenza A virus (A/California/07/2009(H1N1)) segment 8 nuclear export protein (NEP) and nonstructural protein 1 (NS1) genes, complete cds |863\n",
            "gi|1328406502|ref|NC_036621.1| Influenza D virus (D/swine/Oklahoma/1334/2011) segment 7 nonstructural protein 2 (NS2) and nonstructural protein 1 (NS1) genes, complete cds |868\n",
            "gi|32140160|ref|NC_004906.1| Influenza A virus (A/Hong Kong/1073/99(H9N2)) segment 8, complete sequence |890\n",
            "gi|1189489111|ref|NC_034481.1| Nyando virus strain MP401 segment S nucleoprotein and nonstructural protein NSs genes, complete cds |902\n",
            "gi|751868323|ref|NC_026282.1| Maprik virus isolate MK7532 segment S, complete sequence |911\n",
            "gi|1189489154|ref|NC_034501.1| Kaeng Khoi virus strain PSC-19 segment S nucleoprotein and nonstructural protein NSs genes, complete cds |975\n",
            "gi|758899349|ref|NC_026431.1| Influenza A virus (A/California/07/2009(H1N1)) segment 7 matrix protein 2 (M2) and matrix protein 1 (M1) genes, complete cds |982\n",
            "gi|22256027|ref|NC_004110.1| La Crosse virus segment S, complete genome |984\n"
          ]
        }
      ]
    },
    {
      "cell_type": "markdown",
      "source": [
        "# Process control"
      ],
      "metadata": {
        "id": "Db6t0y-unrtf"
      }
    },
    {
      "cell_type": "markdown",
      "source": [
        "Some commands take time to finish the assigned job. For example, if you would like to compress a huge file with gzip command that takes a few minutes to finish running, you can run it in the background by appending the command with “&” (Another way is to suspend a command by pressing Ctrl+Z and typing “bg”). The completion of the task is indicated by “Done”."
      ],
      "metadata": {
        "id": "iZ67Ig7rnziY"
      }
    },
    {
      "cell_type": "code",
      "source": [
        "!gzip list &"
      ],
      "metadata": {
        "id": "I_90Qp2oo9zt"
      },
      "execution_count": null,
      "outputs": []
    },
    {
      "cell_type": "markdown",
      "source": [
        "We can get list of currently running jobs in the terminal by “jobs” command. This will give you all the background jobs running in the current terminal. If you want to see all the running processes in the system, use “top”. You can get user specific details in top using “-u” option.\n"
      ],
      "metadata": {
        "id": "Lq1ow6eopCjk"
      }
    },
    {
      "cell_type": "code",
      "source": [
        "!top"
      ],
      "metadata": {
        "id": "zb91KCGVpF0a",
        "colab": {
          "base_uri": "https://localhost:8080/"
        },
        "outputId": "69399524-a814-4bd9-ca5a-13fd0501a0b8"
      },
      "execution_count": null,
      "outputs": [
        {
          "output_type": "stream",
          "name": "stdout",
          "text": [
            "\u001b[?1h\u001b=\u001b[H\u001b[2J\u001b[mtop - 10:44:21 up  2:01,  0 users,  load average: 0.09, 0.06, 0.06\u001b[m\u001b[m\u001b[m\u001b[m\u001b[K\n",
            "Tasks:\u001b[m\u001b[m\u001b[1m  14 \u001b[m\u001b[mtotal,\u001b[m\u001b[m\u001b[1m   1 \u001b[m\u001b[mrunning,\u001b[m\u001b[m\u001b[1m  12 \u001b[m\u001b[msleeping,\u001b[m\u001b[m\u001b[1m   0 \u001b[m\u001b[mstopped,\u001b[m\u001b[m\u001b[1m   1 \u001b[m\u001b[mzombie\u001b[m\u001b[m\u001b[m\u001b[m\u001b[K\n",
            "%Cpu(s):\u001b[m\u001b[m\u001b[1m  1.5 \u001b[m\u001b[mus,\u001b[m\u001b[m\u001b[1m  1.1 \u001b[m\u001b[msy,\u001b[m\u001b[m\u001b[1m  0.0 \u001b[m\u001b[mni,\u001b[m\u001b[m\u001b[1m 97.2 \u001b[m\u001b[mid,\u001b[m\u001b[m\u001b[1m  0.1 \u001b[m\u001b[mwa,\u001b[m\u001b[m\u001b[1m  0.0 \u001b[m\u001b[mhi,\u001b[m\u001b[m\u001b[1m  0.0 \u001b[m\u001b[msi,\u001b[m\u001b[m\u001b[1m  0.0 \u001b[m\u001b[mst\u001b[m\u001b[m\u001b[m\u001b[m\u001b[K\n",
            "KiB Mem :\u001b[m\u001b[m\u001b[1m 13297228 \u001b[m\u001b[mtotal,\u001b[m\u001b[m\u001b[1m  9803820 \u001b[m\u001b[mfree,\u001b[m\u001b[m\u001b[1m   626900 \u001b[m\u001b[mused,\u001b[m\u001b[m\u001b[1m  2866508 \u001b[m\u001b[mbuff/cache\u001b[m\u001b[m\u001b[m\u001b[m\u001b[K\n",
            "KiB Swap:\u001b[m\u001b[m\u001b[1m        0 \u001b[m\u001b[mtotal,\u001b[m\u001b[m\u001b[1m        0 \u001b[m\u001b[mfree,\u001b[m\u001b[m\u001b[1m        0 \u001b[m\u001b[mused.\u001b[m\u001b[m\u001b[1m 12396832 \u001b[m\u001b[mavail Mem \u001b[m\u001b[m\u001b[m\u001b[m\u001b[K\n",
            "\u001b[K\n",
            "\u001b[7m    PID USER      PR  NI    VIRT    RES    SHR S  %CPU %MEM     TIME+ COMMAND   \u001b[m\u001b[m\u001b[K\n",
            "\u001b[m     60 root      20   0  199712  61228  15204 S   6.7  0.5   0:06.01 jupyter-+ \u001b[m\u001b[m\u001b[K\n",
            "\u001b[m    438 root      20   0  452884  97348  23996 S   6.7  0.7   0:07.82 python3.+ \u001b[m\u001b[m\u001b[K\n",
            "\u001b[m      1 root      20   0    1008      4      0 S   0.0  0.0   0:00.91 docker-i+ \u001b[m\u001b[m\u001b[K\n",
            "\u001b[m      6 root      20   0  349552  60148  32760 S   0.0  0.5   0:06.51 node      \u001b[m\u001b[m\u001b[K\n",
            "\u001b[m     17 root      20   0   35900   4792   3696 S   0.0  0.0   0:01.18 tail      \u001b[m\u001b[m\u001b[K\n",
            "\u001b[m     31 root      20   0   39204   3416   1884 S   0.0  0.0   0:00.00 run.sh    \u001b[m\u001b[m\u001b[K\n",
            "\u001b[m     33 root      20   0  719812   8292   6764 S   0.0  0.1   0:01.01 kernel_m+ \u001b[m\u001b[m\u001b[K\n",
            "\u001b[m     44 root      20   0       0      0      0 Z   0.0  0.0   0:05.96 python3   \u001b[m\u001b[m\u001b[K\n",
            "\u001b[m     45 root      20   0  161764  43080  12952 S   0.0  0.3   0:00.57 colab-fi+ \u001b[m\u001b[m\u001b[K\n",
            "\u001b[m     61 root      20   0  715792  10636   4720 S   0.0  0.1   0:01.92 dap_mult+ \u001b[m\u001b[m\u001b[K\n",
            "\u001b[m     93 root      20   0  127704  16100   6292 S   0.0  0.1   0:00.15 python3   \u001b[m\u001b[m\u001b[K\n",
            "\u001b[m    455 root      20   0  122284  16732   6012 S   0.0  0.1   0:02.11 python3.+ \u001b[m\u001b[m\u001b[K\n",
            "\u001b[m    490 root      20   0  510772  98572  32332 S   0.0  0.7   0:02.64 node      \u001b[m\u001b[m\u001b[K\n",
            "\u001b[m\u001b[1m    684 root      20   0   55288   7000   5260 R   0.0  0.1   0:00.01 top       \u001b[m\u001b[m\u001b[K\n",
            "\u001b[J\u001b[H\u001b[mtop - 10:44:24 up  2:01,  0 users,  load average: 0.09, 0.06, 0.06\u001b[m\u001b[m\u001b[m\u001b[m\u001b[K\n",
            "Tasks:\u001b[m\u001b[m\u001b[1m  14 \u001b[m\u001b[mtotal,\u001b[m\u001b[m\u001b[1m   1 \u001b[m\u001b[mrunning,\u001b[m\u001b[m\u001b[1m  12 \u001b[m\u001b[msleeping,\u001b[m\u001b[m\u001b[1m   0 \u001b[m\u001b[mstopped,\u001b[m\u001b[m\u001b[1m   1 \u001b[m\u001b[mzombie\u001b[m\u001b[m\u001b[m\u001b[m\u001b[K\n",
            "%Cpu(s):\u001b[m\u001b[m\u001b[1m  2.2 \u001b[m\u001b[mus,\u001b[m\u001b[m\u001b[1m  1.3 \u001b[m\u001b[msy,\u001b[m\u001b[m\u001b[1m  0.0 \u001b[m\u001b[mni,\u001b[m\u001b[m\u001b[1m 96.2 \u001b[m\u001b[mid,\u001b[m\u001b[m\u001b[1m  0.0 \u001b[m\u001b[mwa,\u001b[m\u001b[m\u001b[1m  0.0 \u001b[m\u001b[mhi,\u001b[m\u001b[m\u001b[1m  0.2 \u001b[m\u001b[msi,\u001b[m\u001b[m\u001b[1m  0.2 \u001b[m\u001b[mst\u001b[m\u001b[m\u001b[m\u001b[m\u001b[K\n",
            "KiB Mem :\u001b[m\u001b[m\u001b[1m 13297228 \u001b[m\u001b[mtotal,\u001b[m\u001b[m\u001b[1m  9802340 \u001b[m\u001b[mfree,\u001b[m\u001b[m\u001b[1m   628380 \u001b[m\u001b[mused,\u001b[m\u001b[m\u001b[1m  2866508 \u001b[m\u001b[mbuff/cache\u001b[m\u001b[m\u001b[m\u001b[m\u001b[K\n",
            "KiB Swap:\u001b[m\u001b[m\u001b[1m        0 \u001b[m\u001b[mtotal,\u001b[m\u001b[m\u001b[1m        0 \u001b[m\u001b[mfree,\u001b[m\u001b[m\u001b[1m        0 \u001b[m\u001b[mused.\u001b[m\u001b[m\u001b[1m 12395352 \u001b[m\u001b[mavail Mem \u001b[m\u001b[m\u001b[m\u001b[m\u001b[K\n",
            "\u001b[K\n",
            "\n",
            "\u001b[m    438 root      20   0  452884  97364  23996 S   1.0  0.7   0:07.85 python3.+ \u001b[m\u001b[m\u001b[K\n",
            "\u001b[m      6 root      20   0  349552  60400  32760 S   0.7  0.5   0:06.53 node      \u001b[m\u001b[m\u001b[K\n",
            "\u001b[m     33 root      20   0  719812   8292   6764 S   0.3  0.1   0:01.02 kernel_m+ \u001b[m\u001b[m\u001b[K\n",
            "\u001b[m     61 root      20   0  715792  10636   4720 S   0.3  0.1   0:01.93 dap_mult+ \u001b[m\u001b[m\u001b[K\n",
            "\u001b[m    455 root      20   0  122284  16732   6012 S   0.3  0.1   0:02.12 python3.+ \u001b[m\u001b[m\u001b[K\n",
            "\u001b[m      1 root      20   0    1008      4      0 S   0.0  0.0   0:00.91 docker-i+ \u001b[m\u001b[m\u001b[K\n",
            "\u001b[m     17 root      20   0   35900   4792   3696 S   0.0  0.0   0:01.18 tail      \u001b[m\u001b[m\u001b[K\n",
            "\u001b[m     31 root      20   0   39204   3416   1884 S   0.0  0.0   0:00.00 run.sh    \u001b[m\u001b[m\u001b[K\n",
            "\u001b[m     44 root      20   0       0      0      0 Z   0.0  0.0   0:05.96 python3   \u001b[m\u001b[m\u001b[K\n",
            "\u001b[m     45 root      20   0  161764  43080  12952 S   0.0  0.3   0:00.57 colab-fi+ \u001b[m\u001b[m\u001b[K\n",
            "\u001b[m     60 root      20   0  199712  61228  15204 S   0.0  0.5   0:06.01 jupyter-+ \u001b[m\u001b[m\u001b[K\n",
            "\u001b[m     93 root      20   0  127704  16100   6292 S   0.0  0.1   0:00.15 python3   \u001b[m\u001b[m\u001b[K\n",
            "\n",
            "\n",
            "\u001b[J\u001b[?1l\u001b>\u001b[25;1H\n",
            "\u001b[K"
          ]
        }
      ]
    },
    {
      "cell_type": "markdown",
      "source": [
        "\n",
        "Few of the important columns in top output:\n",
        "\n",
        "\n",
        "PID: Process Id, this is a unique number used to identify the process. \n",
        "\n",
        "COMMAND: Command Name\n",
        "\n",
        "\n",
        "S: Process Status: The status of the task which can be one of:\n",
        "\n",
        "\n",
        "– D = uninterruptible sleep\n",
        "\n",
        "– R = running \n",
        "\n",
        "– S = sleeping\n",
        "\n",
        "– T = traced or stopped \n",
        "\n",
        "– Z = zombie\n",
        "\n",
        "If you want to stop a running background job use “kill” command followed by the process id. \n",
        "\n",
        "kill 1234\n",
        "\n",
        "\n",
        "This command kills the job with the process id 1234. As a user you can kill only your jobs. You do not have permission to run this command on the process ids of other users.\n",
        "\n",
        "\n",
        "Command line shortcuts\n",
        "* Up/Down arrows: Previous commands\n",
        "* !!: Reruns previous command\n",
        "* Tab: Auto complete\n",
        "* Tab+Tab: All available options\n",
        "* Ctrl+a: Move cursor to start of line\n",
        "* Ctrl+e: Move cursor to end of line\n",
        "* Alt+: Alternates between terminals\n",
        "* Ctrl+l: Clear screen (or Command+k on Mac)\n",
        "* Ctrl+c: Terminates the running program\n",
        "* Ctrl+z: Suspends the running program\n",
        "* Ctrl+w: Removes a previous word\n",
        "* Ctrl+d: Logout\n",
        "* Ctrl+d(in a command): Removes a character\n",
        "* Ctrl+u: Removes till the beginning"
      ],
      "metadata": {
        "id": "SaowKoH3pZij"
      }
    },
    {
      "cell_type": "markdown",
      "source": [
        "\n",
        "# Exercises:\n",
        "1. Navigate into Exercises directory (%cd /content/Exercises/).\n",
        "2. Extract first 15 lines from the file “HM067743.1_cds_ADQ37313.1_1.fa” and save the output into “output.fa”\n",
        "3. How many fasta files are there in the directory?\n",
        "4. Extract all header lines from the file all.fa\n",
        "5. How many sequences are there in the file all.fa?\n",
        "6. Get the list of countries (excluding multi country outbreaks) that had an outbreak in 2022 (Input: outbreak.csv)\n",
        "7. Find the number of outbreaks (exclude multi country outbreaks using invert match grep (-v)) in each month of 2022."
      ],
      "metadata": {
        "id": "1IEOrNcBvV-J"
      }
    },
    {
      "cell_type": "code",
      "source": [
        "#Use this space to practice your code and answer the questions in the exercises above. \n",
        "#Feel free to add more Code blocks if required using the +Code button at top of page.\n",
        "!pwd\n",
        "%cd /content/Introduction_to_Linux_Unix_Text_processing/Exercises/\n",
        "!pwd\n",
        "!ls\n"
      ],
      "metadata": {
        "id": "qLknepLivnJD",
        "colab": {
          "base_uri": "https://localhost:8080/"
        },
        "outputId": "05024a32-9022-4d1f-99a8-2ebe801de6ed"
      },
      "execution_count": null,
      "outputs": [
        {
          "output_type": "stream",
          "name": "stdout",
          "text": [
            "/content/new_folder\n",
            "/content/Introduction_to_Linux_Unix_Text_processing/Exercises\n",
            "/content/Introduction_to_Linux_Unix_Text_processing/Exercises\n",
            "AB908054.1_cds_BAP81852.1_1.fa\tJX080287.1_cds_AFM38220.1_1.fa\n",
            "all.fa\t\t\t\tJX080288.1_cds_AFM38221.1_1.fa\n",
            "EF539265.1_cds_ABQ88311.1_1.fa\tJX911895.1_cds_AGA60318.1_1.fa\n",
            "EU727159.1_cds_ACE06987.1_1.fa\tKX168429.1_cds_AND80849.1_1.fa\n",
            "EU727160.1_cds_ACE06988.1_1.fa\tKX168429.1_cds_AND80850.1_2.fa\n",
            "EU727161.1_cds_ACE06989.1_1.fa\tKY645999.1_cds_ARI47202.1_1.fa\n",
            "EU727162.1_cds_ACE06990.1_1.fa\tKY646000.1_cds_ARI47203.1_1.fa\n",
            "EU727163.1_cds_ACE06991.1_1.fa\tMH500032.1_cds_QBH72477.1_1.fa\n",
            "Flu.fa\t\t\t\tMH500033.1_cds_QBH72478.1_1.fa\n",
            "Flu.gff\t\t\t\tMH500034.1_cds_QBH72479.1_1.fa\n",
            "HM067743.1_cds_ADQ37313.1_1.fa\tMH500035.1_cds_QBH72480.1_1.fa\n",
            "HM067744.1_cds_ADQ37314.1_1.fa\tMH500036.1_cds_QBH72481.1_1.fa\n",
            "JF297648.1_cds_AEM17231.1_1.fa\tMH500037.1_cds_QBH72482.1_1.fa\n",
            "JX080286.1_cds_AFM38219.1_1.fa\toutbreak_2019.csv\n"
          ]
        }
      ]
    },
    {
      "cell_type": "code",
      "source": [
        "!pwd\n",
        "!ls\n",
        "#%cd Introduction_to_Linux_Unix_Text_processing"
      ],
      "metadata": {
        "colab": {
          "base_uri": "https://localhost:8080/"
        },
        "id": "KY1cQ6dVOfBQ",
        "outputId": "77482e1f-9253-4116-8ec1-8c217496b904"
      },
      "execution_count": null,
      "outputs": [
        {
          "output_type": "stream",
          "name": "stdout",
          "text": [
            "/content/Introduction_to_Linux_Unix_Text_processing/Exercises\n",
            "AB908054.1_cds_BAP81852.1_1.fa\tJX080287.1_cds_AFM38220.1_1.fa\n",
            "all.fa\t\t\t\tJX080288.1_cds_AFM38221.1_1.fa\n",
            "EF539265.1_cds_ABQ88311.1_1.fa\tJX911895.1_cds_AGA60318.1_1.fa\n",
            "EU727159.1_cds_ACE06987.1_1.fa\tKX168429.1_cds_AND80849.1_1.fa\n",
            "EU727160.1_cds_ACE06988.1_1.fa\tKX168429.1_cds_AND80850.1_2.fa\n",
            "EU727161.1_cds_ACE06989.1_1.fa\tKY645999.1_cds_ARI47202.1_1.fa\n",
            "EU727162.1_cds_ACE06990.1_1.fa\tKY646000.1_cds_ARI47203.1_1.fa\n",
            "EU727163.1_cds_ACE06991.1_1.fa\tMH500032.1_cds_QBH72477.1_1.fa\n",
            "Flu.fa\t\t\t\tMH500033.1_cds_QBH72478.1_1.fa\n",
            "Flu.gff\t\t\t\tMH500034.1_cds_QBH72479.1_1.fa\n",
            "HM067743.1_cds_ADQ37313.1_1.fa\tMH500035.1_cds_QBH72480.1_1.fa\n",
            "HM067744.1_cds_ADQ37314.1_1.fa\tMH500036.1_cds_QBH72481.1_1.fa\n",
            "JF297648.1_cds_AEM17231.1_1.fa\tMH500037.1_cds_QBH72482.1_1.fa\n",
            "JX080286.1_cds_AFM38219.1_1.fa\toutbreak_2019.csv\n"
          ]
        }
      ]
    },
    {
      "cell_type": "code",
      "source": [
        "!pwd\n",
        "!head -15 HM067743.1_cds_ADQ37313.1_1.fa > output.fa\n",
        "!cat \"output.fa\"\n"
      ],
      "metadata": {
        "colab": {
          "base_uri": "https://localhost:8080/"
        },
        "id": "q-syXPdzvI5i",
        "outputId": "ea484880-eec7-4ce3-8011-61d8d3f1f5bd"
      },
      "execution_count": null,
      "outputs": [
        {
          "output_type": "stream",
          "name": "stdout",
          "text": [
            "/content/Introduction_to_Linux_Unix_Text_processing/Exercises\n",
            ">lcl|HM067743.1_cds_ADQ37313.1_1 [protein=structural polyprotein] [protein_id=ADQ37313.1] [location=1..3747] [gbkey=CDS]\n",
            "ATGGAGTTCATCCCAACCCAAACTTTTTACAATAGGAGGTACCAGCCTCGACCCTGGACTCCGCGCTCTA\n",
            "CTATCCAAATCATCAGGCCCAGACCGCGCCCTCAGAGGCAAGCTGGGCAACTTGCCCAGCTGATCTCAGC\n",
            "AGTTAATAAACTGACAATGCGCGCGGTACCCCAACAGAAGCCACGCAGGAATCGGAAGAATAAGAAGCAA\n",
            "AAGCAAAAACAACAGGCGCCACAAAACAACACAAATCAAAAGAAGCAGCCACCTAAAAAGAAACCGGCTC\n",
            "AAAAGAAAAAGAAACCGGGCCGCAGAGAGAGGATGTGCATGAAAATCGAAAATGATTGTATTTTCGAAGT\n",
            "CAAGCACGAAGGTAAGGTAACAGGTTACGCGTGCCTGGTGGGGGACAAAGTAATGAAACCAGCACATGTA\n",
            "AAGGGGACCATCGATAACGCGGACCTGGCCAAACTGGCCTTTAAGCGGTCATCTAAGTATGACCTTGAAT\n",
            "GCGCGCAGATACCCGTGCACATGAAGTCCGACGCTTCGAAGTTCACCCATGAGAAACCGGAGGGGTACTA\n",
            "CAACTGGCACCACGGAGCAGTACAGTACTCAGGAGGCCGGTTCACCATCCCTACAGGTGCTGGCAAACCA\n",
            "GGGGACAGCGGCAGACCGATCTTCGACAACAAGGGACGCGTGGTGGCCATAGTCTTAGGAGGAGCTAATG\n",
            "AAGGAGCCCGTACAGCCCTCTCGGTGGTGACCTGGAATAAAGACATTGTCACTAAAATCACCCCCGAGGG\n",
            "GGCCGAAGAGTGGAGTCTTGCCATCCCAGTTATGTGCCTGTTGGCAAACACCACGTTCCCCTGCTCCCAG\n",
            "CCCCCTTGCACGCCCTGCTGCTACGAAAAGGAACCGGAGGAAACCCTACGCATGCTTGAGGACAACGTCA\n",
            "TGAGACCTGGGTACTATCAGCTGCTACAAGCATCCTTAACATGTTCTCCCCACCGCCAGCGACGCAGCAC\n"
          ]
        }
      ]
    },
    {
      "cell_type": "code",
      "source": [
        "print (\"Number of fasta files in this directory: \")\n",
        "!ls -f *.fa | wc -l\n",
        "!echo \" \"\n",
        "print (\"Extracting all the header files from all.fa: \")\n",
        "!grep -e \">\" all.fa\n",
        "!echo \" \"\n",
        "print (\"Number of sequences in the file all.fa: \")\n",
        "!grep -e \">\" all.fa | wc -l\n"
      ],
      "metadata": {
        "colab": {
          "base_uri": "https://localhost:8080/"
        },
        "id": "3BYtaMbnvcfd",
        "outputId": "0c041a89-2149-4f77-b55c-0738868792e9"
      },
      "execution_count": null,
      "outputs": [
        {
          "output_type": "stream",
          "name": "stdout",
          "text": [
            "Number of fasta files in this directory: \n",
            "27\n",
            " \n",
            "Extracting all the header files from all.fa: \n",
            ">lcl|AB908054.1_cds_BAP81852.1_1 [protein=nonstructural polyprotein] [frame=3] [protein_id=BAP81852.1] [location=<1..>292] [gbkey=CDS]\n",
            ">lcl|EF539265.1_cds_ABQ88311.1_1 [protein=E1 protein] [frame=3] [protein_id=ABQ88311.1] [location=<1..>263] [gbkey=CDS]\n",
            ">lcl|EU727159.1_cds_ACE06987.1_1 [protein=E1 protein] [frame=2] [protein_id=ACE06987.1] [location=<1..>296] [gbkey=CDS]\n",
            ">lcl|EU727160.1_cds_ACE06988.1_1 [protein=E1 protein] [frame=2] [protein_id=ACE06988.1] [location=<1..>296] [gbkey=CDS]\n",
            ">lcl|EU727161.1_cds_ACE06989.1_1 [protein=E1 protein] [frame=2] [protein_id=ACE06989.1] [location=<1..>296] [gbkey=CDS]\n",
            ">lcl|EU727162.1_cds_ACE06990.1_1 [protein=E1 protein] [frame=2] [protein_id=ACE06990.1] [location=<1..>296] [gbkey=CDS]\n",
            ">lcl|EU727163.1_cds_ACE06991.1_1 [protein=E1 protein] [frame=2] [protein_id=ACE06991.1] [location=<1..>296] [gbkey=CDS]\n",
            ">lcl|HM067743.1_cds_ADQ37313.1_1 [protein=structural polyprotein] [protein_id=ADQ37313.1] [location=1..3747] [gbkey=CDS]\n",
            ">lcl|HM067744.1_cds_ADQ37314.1_1 [protein=structural polyprotein] [protein_id=ADQ37314.1] [location=1..3747] [gbkey=CDS]\n",
            ">lcl|JF297648.1_cds_AEM17231.1_1 [protein=E1] [protein_id=AEM17231.1] [location=<1..>330] [gbkey=CDS]\n",
            ">lcl|JX080286.1_cds_AFM38219.1_1 [protein=structural polyprotein] [frame=3] [protein_id=AFM38219.1] [location=<1..>688] [gbkey=CDS]\n",
            ">lcl|JX080287.1_cds_AFM38220.1_1 [protein=structural polyprotein] [frame=3] [protein_id=AFM38220.1] [location=<1..>691] [gbkey=CDS]\n",
            ">lcl|JX080288.1_cds_AFM38221.1_1 [protein=structural polyprotein] [frame=3] [protein_id=AFM38221.1] [location=<1..>691] [gbkey=CDS]\n",
            ">lcl|JX911895.1_cds_AGA60318.1_1 [protein=envelope protein 1] [protein_id=AGA60318.1] [location=<1..>266] [gbkey=CDS]\n",
            ">lcl|KX168429.1_cds_AND80849.1_1 [protein=non-structural polyprotein] [transl_except=(pos:5776..5778,aa:Other)] [protein_id=AND80849.1] [location=77..7708] [gbkey=CDS]\n",
            ">lcl|KX168429.1_cds_AND80850.1_2 [protein=structural polyprotein] [protein_id=AND80850.1] [location=7774..11520] [gbkey=CDS]\n",
            ">lcl|KY645999.1_cds_ARI47202.1_1 [protein=envelope protein] [protein_id=ARI47202.1] [location=<1..>1285] [gbkey=CDS]\n",
            ">lcl|KY646000.1_cds_ARI47203.1_1 [protein=envelope protein] [protein_id=ARI47203.1] [location=<1..>1285] [gbkey=CDS]\n",
            ">lcl|MH500032.1_cds_QBH72477.1_1 [protein=E1] [protein_id=QBH72477.1] [location=<1..>294] [gbkey=CDS]\n",
            ">lcl|MH500033.1_cds_QBH72478.1_1 [protein=E1] [protein_id=QBH72478.1] [location=<1..>294] [gbkey=CDS]\n",
            " \n",
            "Number of sequences in the file all.fa: \n",
            "20\n"
          ]
        }
      ]
    },
    {
      "cell_type": "code",
      "source": [
        "print (\"Countries excluding multi country outbreaks that had an outbreak in 2022 : \")\n",
        "!echo \" \"\n",
        "!cut -d, -f3 /content/Introduction_to_Linux_Unix_Text_processing/outbreak.csv | sort | grep -v Multi* | uniq\n"
      ],
      "metadata": {
        "colab": {
          "base_uri": "https://localhost:8080/"
        },
        "id": "gUFoyhauxDiA",
        "outputId": "022ab46e-6bfe-48ab-dbd6-3d022ab20762"
      },
      "execution_count": null,
      "outputs": [
        {
          "output_type": "stream",
          "name": "stdout",
          "text": [
            "Countries excluding multi country outbreaks that had an outbreak in 2022 : \n",
            " \n",
            "Afghanistan\n",
            "Australia\n",
            "China\n",
            "Democratic Republic of the Congo\n",
            "Germany\n",
            "Guinea\n",
            "Iraq\n",
            "Israel\n",
            "Kenya\n",
            "Malawi\n",
            "Mozambique\n",
            "Nigeria\n",
            "Oman\n",
            "Qatar\n",
            "Sao Tome and Principe\n",
            "Saudi Arabia\n",
            "Somalia\n",
            "Timor-Leste\n",
            "Togo\n",
            "Uganda\n",
            "United Kingdom of Great Britain and Northern Ireland\n",
            "United States of America\n"
          ]
        }
      ]
    },
    {
      "cell_type": "code",
      "source": [
        "#Test codes\n",
        "#!cut -d \",\" -f1 /content/Introduction_to_Linux_Unix_Text_processing/outbreak.csv | sort | wc -l\n",
        "#!grep -v Multi* /content/Introduction_to_Linux_Unix_Text_processing/outbreak.csv| cut -d \",\" -f1 \n",
        " \n",
        "!echo \"Number of outbreaks excluding multi country in January : \"\n",
        "!grep -v Multi* /content/Introduction_to_Linux_Unix_Text_processing/outbreak.csv| grep January | wc -l\n",
        "!echo \" \"\n",
        "\n",
        "!echo \"Number of outbreaks excluding multi country in February : \"\n",
        "!grep -v Multi* /content/Introduction_to_Linux_Unix_Text_processing/outbreak.csv| grep Feb | wc -l\n",
        "!echo \" \"\n",
        "\n",
        "!echo \"Number of outbreaks excluding multi country in March : \"\n",
        "!grep -v Multi* /content/Introduction_to_Linux_Unix_Text_processing/outbreak.csv| grep March | wc -l\n",
        "!echo \" \"\n",
        "\n",
        "!echo \"Number of outbreaks excluding multi country in April : \"\n",
        "!grep -v Multi* /content/Introduction_to_Linux_Unix_Text_processing/outbreak.csv| grep Apr| wc -l\n",
        "!echo \" \"\n",
        "\n",
        "!echo \"Number of outbreaks excluding multi country in May : \"\n",
        "!grep -v Multi* /content/Introduction_to_Linux_Unix_Text_processing/outbreak.csv| grep May| wc -l\n",
        "!echo \" \"\n",
        "\n",
        "!echo \"Number of outbreaks excluding multi country in June : \"\n",
        "!grep -v Multi* /content/Introduction_to_Linux_Unix_Text_processing/outbreak.csv| grep June| wc -l\n",
        "!echo \" \"\n",
        "\n",
        "!echo \"Number of outbreaks excluding multi country in July : \"\n",
        "!grep -v Multi* /content/Introduction_to_Linux_Unix_Text_processing/outbreak.csv| grep July| wc -l\n",
        "!echo \" \"\n",
        "\n",
        "!echo \"Number of outbreaks excluding multi country in August : \"\n",
        "!grep -v Multi* /content/Introduction_to_Linux_Unix_Text_processing/outbreak.csv| grep Aug| wc -l\n",
        "!echo \" \"\n",
        "\n",
        "!echo \"Number of outbreaks excluding multi country in September : \"\n",
        "!grep -v Multi* /content/Introduction_to_Linux_Unix_Text_processing/outbreak.csv| grep Sept| wc -l\n",
        "!echo \" \"\n",
        "\n",
        "!echo \"Number of outbreaks excluding multi country in October : \"\n",
        "!grep -v Multi* /content/Introduction_to_Linux_Unix_Text_processing/outbreak.csv| grep October| wc -l\n",
        "!echo \" \"\n",
        "\n",
        "!echo \"Number of outbreaks excluding multi country in November : \"\n",
        "!grep -v Multi* /content/Introduction_to_Linux_Unix_Text_processing/outbreak.csv| grep November| wc -l\n",
        "!echo \" \"\n",
        "\n",
        "!echo \"Number of outbreaks excluding multi country December : \"\n",
        "!grep -v Multi* /content/Introduction_to_Linux_Unix_Text_processing/outbreak.csv| grep December| wc -l\n",
        "!echo \" \"\n"
      ],
      "metadata": {
        "colab": {
          "base_uri": "https://localhost:8080/"
        },
        "id": "16TytZz1yfRZ",
        "outputId": "5042aabd-369c-4970-9c51-fec5bdcf4d22"
      },
      "execution_count": null,
      "outputs": [
        {
          "output_type": "stream",
          "name": "stdout",
          "text": [
            "Number of outbreaks excluding multi country in January : \n",
            "1\n",
            " \n",
            "Number of outbreaks excluding multi country in February : \n",
            "4\n",
            " \n",
            "Number of outbreaks excluding multi country in March : \n",
            "3\n",
            " \n",
            "Number of outbreaks excluding multi country in April : \n",
            "7\n",
            " \n",
            "Number of outbreaks excluding multi country in May : \n",
            "9\n",
            " \n",
            "Number of outbreaks excluding multi country in June : \n",
            "2\n",
            " \n",
            "Number of outbreaks excluding multi country in July : \n",
            "1\n",
            " \n",
            "Number of outbreaks excluding multi country in August : \n",
            "0\n",
            " \n",
            "Number of outbreaks excluding multi country in September : \n",
            "0\n",
            " \n",
            "Number of outbreaks excluding multi country in October : \n",
            "0\n",
            " \n",
            "Number of outbreaks excluding multi country in November : \n",
            "0\n",
            " \n",
            "Number of outbreaks excluding multi country December : \n",
            "0\n",
            " \n"
          ]
        }
      ]
    },
    {
      "cell_type": "markdown",
      "source": [
        "#Practice commands within the folder and the files\n",
        "\n",
        "Now, with the mounted folder, you can practice some of the commands previosly shown."
      ],
      "metadata": {
        "id": "eem-CyT9GtuK"
      }
    },
    {
      "cell_type": "code",
      "source": [
        "# enter your code below\n",
        "!echo \"Thank you very much. I am learning a lot.\"\n",
        "!echo \" \"\n",
        "!echo \"Total number of outbreaks excluding multi country:\"\n",
        "!grep -v Multi* /content/Introduction_to_Linux_Unix_Text_processing/outbreak.csv| cut -d \",\" -f1 | wc -l"
      ],
      "metadata": {
        "id": "qYZLG8yFJedg",
        "colab": {
          "base_uri": "https://localhost:8080/"
        },
        "outputId": "2ad04c7c-4fcd-49d9-e06f-01c7ba7e7aab"
      },
      "execution_count": null,
      "outputs": [
        {
          "output_type": "stream",
          "name": "stdout",
          "text": [
            "Thank you very much. I am learning a lot.\n",
            " \n",
            "Total number of outbreaks excluding multi country:\n",
            "27\n"
          ]
        }
      ]
    },
    {
      "cell_type": "markdown",
      "source": [
        "# Practical questions\n",
        "Please answer the following questions in the code blocks below\n",
        "\n",
        "1.   Create a directory called my_new_directory\n",
        "2.   Create a file called my_new_file.txt in my_new_directory\n",
        "3.   What is the absolute path to the newly made my_new_file.txt \n",
        "\n"
      ],
      "metadata": {
        "id": "971FGhBBLjJv"
      }
    },
    {
      "cell_type": "code",
      "source": [
        "# 1.   Create a directory called my_new_directory \n",
        "# enter your code below\n",
        "!mkdir my_new_directory\n",
        "%cd my_new_directory/"
      ],
      "metadata": {
        "id": "n3o_SjC2L4KG",
        "colab": {
          "base_uri": "https://localhost:8080/"
        },
        "outputId": "af4be488-aa82-4f85-ffc8-08f572deda37"
      },
      "execution_count": null,
      "outputs": [
        {
          "output_type": "stream",
          "name": "stdout",
          "text": [
            "/content/Introduction_to_Linux_Unix_Text_processing/Exercises/my_new_directory\n"
          ]
        }
      ]
    },
    {
      "cell_type": "code",
      "source": [
        "# 2.   Create a file called my_new_file.txt in my_new_directory\n",
        "# enter your code below\n",
        "!touch my_new_file.txt\n",
        "\n"
      ],
      "metadata": {
        "id": "DcWtwQR8L8jh"
      },
      "execution_count": null,
      "outputs": []
    },
    {
      "cell_type": "code",
      "source": [
        " # 3.   What is the absolute path to the newly made my_new_file.txt \n",
        "# enter your code below\n",
        "!realpath my_new_file.txt"
      ],
      "metadata": {
        "id": "yLfNEOo2MjAk",
        "colab": {
          "base_uri": "https://localhost:8080/"
        },
        "outputId": "76cf3500-684d-4998-f848-134d9560279b"
      },
      "execution_count": null,
      "outputs": [
        {
          "output_type": "stream",
          "name": "stdout",
          "text": [
            "/content/Introduction_to_Linux_Unix_Text_processing/Exercises/my_new_directory/my_new_file.txt\n"
          ]
        }
      ]
    },
    {
      "cell_type": "markdown",
      "source": [
        "# Module 1 Part 2 - NGS file formats and data & QC\n",
        "This practical was adapted from a previous course - [Viral Genomics and Bioformatics Asia, 2022](https://wcscourses.github.io/ViralBioinfAsia2022/). The NGS File formats and data QC components module was created by [David Studholme (Univ. of Exeter)](https://biosciences.exeter.ac.uk/staff/profile/index.php?web_id=david_studholme).\n",
        "\n",
        "\n",
        "This is a general module to help you get familiarised with data formats in a practical way. Data QC and making a consensus sequence will be explored in more detail in later modules.\n",
        " "
      ],
      "metadata": {
        "id": "US37fC5veAwp"
      }
    },
    {
      "cell_type": "markdown",
      "source": [
        "# Commonly used file formats for next-generation sequencing (NGS) data\n",
        "\n",
        "In this session, we are going to get familiar with several common file formats used for sequence data. Then we are going to perform some quality control (QC) on some FASTQ-formatted sequence data.\n",
        "\n"
      ],
      "metadata": {
        "id": "M-U6Z5Z_Fcf5"
      }
    },
    {
      "cell_type": "markdown",
      "source": [],
      "metadata": {
        "id": "LWudfluBWvGD"
      }
    },
    {
      "cell_type": "markdown",
      "source": [
        "## FASTA\n",
        "\n",
        "Among the most common and simplest file formats for representing nucleotide sequences is FASTA.  Essentially, each sequence is represented by a 'header' line that begins with a '>', followed by lines containing the actual nucleotide sequence. By convention, the first 'word' in the header line is a unique identifier, which is usually as accession number. Consider this example of a FASTA-formatted nucleotide sequence:\n",
        "\n",
        "    >LC719646.1 Influenza A virus (A/swine/Tottori/B34/2020(H1N1)) segment 8 NS1, NEP genes for nonstructural protein 1, nuclear export protein, complete cds\n",
        "    ATGGAATCCAACACCATGTCAAGCTTTCAGGTAGACTGTTTTCTTTGGCATATTCGCAAGCGATTTGCAG\n",
        "    ACAATGGATTGGGTGATGCCCCATTCCTTGATCGGCTACGCCGAGATCAAAAGTCCTTAAAAGGAAGAGG\n",
        "    CAACACCCTTGGCCTCGACATCAAAACAGCCACTCTTGTTGGGAAACAAATTGTGGAATGGATTTTGAAA\n",
        "    GAGGAATCCAGCGAGACACTTAGAATGGCAATTGCATCTGTACCTACTTCGCGTTACATTTCTGACATGG\n",
        "    CCCTCGAGGAAATGTCACGAGACTGGTTCATGCTTATGCCTAGGCAAAAGATAATAGGCCCTCTTTGCGT\n",
        "    GCGATTGGACCAGGCGGTCATGGATAAGAACGTAGTACTGGAAGCAAACTTCAGTGTAATCTTCAACCGA\n",
        "    TTAGAGACCTTGATACTACTAAGGGCTTTCACTGAGGAGGGAACAATAGTTGGAGAAATTTCACCATTAC\n",
        "    CTTCTCTTCCAGGACATACTTATGAGGATGTCAAAAATGCAGTTGGGGTYCTCATCGGAGGACTTGAGTG\n",
        "    GAATGGTAACACGGTTCGAGTCTCTGAAAATATACAGAGATTCGCTTGGAGAAGCTGTGATGAGAATGGG\n",
        "    AGACCTTCACTACCTCCAGAGCAGAAATGAGAAGTGGCGGGAACAATTGGGACAGAAATTTGAGGAAATA\n",
        "    AGGTGGTTAATTGAAGAAATACGACACAGATTGAAAGCGACAGAGAATAGTTTCGAACAAATAACATTTA\n",
        "    TGCAAGCCTTACAACTACTGCTTGAAGTAGAGCAAGAGATAAGAGCTTTCTCGTTTCAGCTTATTTAA\n",
        "\n",
        "- The first line begins with '>' indicating that it is the header line.\n",
        "- This is immediately followed by 'LC719646.1', which is an accession number for [this sequence in the GenBank database](https://www.ncbi.nlm.nih.gov/nuccore/LC719646.1).\n",
        "- Then follows the actual nucleotide sequence, split over several lines, beginning with 'ATGGAATCCAACA...' and ending with '...TTATTTAA'.\n",
        "\n",
        "It is very common to combine multiple sequences into a single multi-FASTA file like this:\n",
        "\n",
        "    >ON084923.1 Influenza A virus (A/ostriches (Struthio camelus)/Egypt/Mansoura1/2022(H5N8)) segment 4 hemagglutinin, HA2 region, (HA) gene, partial cds\n",
        "    GTACCACCATAGCAATGAGCAGGGGAGTGGGTACGCTGCAGACAAAGAATCCACTCAAAAGGCAATAGAT\n",
        "    GGAGTTACCAATAAGGTCAACTCAATCATTGACAAAATGAACACTCAATTTGAGGCAGTTGGAAGGGAGT\n",
        "    TTAATAACTTAGAAAGGAGGATAGAGAATTTGA\n",
        "    \n",
        "    >MW170960.1 Influenza A virus (A/swine/Italy/410927/2018(H1N2)) segment 6 neuraminidase (NA) gene, partial cds\n",
        "    CCTTATGCAGATTGCTATCCTGGTAACTACTGTTACATTTCACTTCAAGCAATATGAATACAATTTCTAC\n",
        "    CCAAACAACCAAGTAATGCCATGTGAACCAACGATAATTGAAAGAAACATAACAGAAATAGTGTACCTGG\n",
        "    CCAACACCAC\n",
        "    \n",
        "    >MW170083.1 Influenza A virus (A/swine/Italy/134212/2019(H1N2)) segment 6 neuraminidase (NA) gene, partial cds\n",
        "    GTAGTAACTGCCTGAGTCCTAATAATGAAGAAGGGGGTCATGGGGTAAAAGGCTGGGCCTTTGATGATGG\n",
        "    AAATGATGTTTGGATGGGAAGAACGATCAGCGAAAAGTTACGATTAGGTTATGAAACCTTCAAGGTCATC\n",
        "    GACGGTTGGTCCAAGCC\n",
        "    \n",
        "    >MW169741.1 Influenza A virus (A/swine/Italy/8745/2019(H3N2)) segment 2 polymerase PB1 (PB1) gene, partial cds\n",
        "    TCGTTCCATCCTCAATACTAGCCAAAGGGGAATTCTTGAGGATGAGCAAATGTATCAGAAGTGCTGCAAT\n",
        "    TTATTTGAGAAATTCTTCCCTAGCAGTTCATACAGGAGGCCAGTGGGAATTTCAAGCATGGTGGAGGCCA\n",
        "    TGGTATCTAGGGCCAGAATTGATGCACGGATTGATTTCGAGTCTGGAAGGATTAATAAAGAAGAATTTGC\n",
        "    TGAGATCATGAAGATCTGTTCCACCATAGAAGAGTTCAGACGGCAAAAGTAG\n",
        "    \n",
        "    >OM149369.1 Influenza A virus (A/Hilly chicken/Bangladesh/Avian Influenza Virus/2019(H9)) segment 4 hemagglutinin (HA) gene, partial cds\n",
        "    AATTTCTTAGCTAGCAAAATGGAAACAATAACACTGATGACTACACTACTATTAACAACAACGAGCCTTG\n",
        "    CAGACAAAATCTGTATCGGCCACCAATCGACAAATTCTACAGAAACTGTAGACACACTAACAGAAACTAA\n",
        "    CGTTCCTGTGACACATGCCAAAGAGTTGCTCCATACGGATCACAATGGAATGCTGTGTGCAACAAATCTA\n",
        "    GGACATCCCCTCATCCTAGATAAATGTAACGTAGAAGGACTGATCTACGGCAACCCTTCTTGTGATCT\n",
        "\n",
        "\n",
        "If you want a more detailed history of the FASTA file format, then you could take a look at the Wikipedia page here: https://en.wikipedia.org/wiki/FASTA_format.\n",
        "\n"
      ],
      "metadata": {
        "id": "kGacqX-AGDKt"
      }
    },
    {
      "cell_type": "markdown",
      "source": [
        "## FASTQ\n",
        "The widely used FASTA file format has the great advantage of simplicity. However, this simplicity can be restrictive if we want to include additional data/metadata in addition to the sequence.\n",
        "Given the non-negligible error rates of NGS technologies, often we need to accompany our sequence data with quality scores that estimate our confidence in the accuracy of the sequence data. As we will see later, this allows us to perform quality control checks and filter-out poor-quality data before performing analyses.\n",
        "FASTQ is a simple text-based format that allows us to include quality scores. A single sequence is represented by four lines of text:\n",
        "\n",
        "    @ERR8261968.1 1 length=97\n",
        "    ACTTTCGATCTCTTGTAGATCTGTTCTCTAAACGAACTTTAAAATCTGTGTGGCTGTCACTCGGCTGCATGCTTAGTGCACTCACGCAGTATAATTA\n",
        "    +ERR8261968.1 1 length=97\n",
        "    CCCCCFDDFFFFGGGGGGGGGGHHHHHHHHHHHGGGGHHHHHHHHHHHHHHHGHHGHHIIHHGGGGGGHHHHHHHHHHHHHHHHHHHGGGHHHHHHH\n",
        "\n",
        "- The first line is a 'header' containing a unique identifier for the sequence and, optionally, further description.\n",
        "- The second line contains the actual nucleotide sequence.\n",
        "- The third line is redundant  and can be safely ignored. Sometimes it simply repeats the first line. Sometimes it is blank or just contains a '+' character.\n",
        "- The fourth line contains a string of characters that encode quality scores for each nucleotide in the sequence. Each single character encodes a score, typically   a number between 0 and 40; this score is encoded by a single character, as we saw during the introductory lecture.\n",
        "\n",
        "| Character | ASCII | FASTQ quality score (ASCII – 33) \n",
        "| --|--|--\n",
        "| ! | 33 | 0\n",
        "| “ | 34 | 1\n",
        "| # | 35 | 2\n",
        "| $ | 36 | 3\n",
        "| % | 37 | 4\n",
        "| ... | ... | ...\n",
        "| C | 67 | 34\n",
        "| D | 68 | 35\n",
        "| E | 69 | 36\n",
        "| F | 70 | 37\n",
        "| G | 71 | 38\n",
        "| H | 72 | 39\n",
        "|40 | 73 | 40\n",
        "\n",
        "So, in the example above, we can see that most of the positions within the 97-nucleotide sequence have scores in the high 30s, which indicates a high degree of confidence in their accuracy.\n",
        "- A score of 30 denotes a 1 in 1000 chance of an error, i.e. 99.9 %accuracy.\n",
        "- A score of 40 denotes a 1 in 10,000 chance of an error, i.e. 99.99 %accuracy.\n",
        "\n",
        "You can read more about the FastQ file format and quality scores here:\n",
        "Cock, P. J., Fields, C. J., Goto, N., Heuer, M. L., & Rice, P. M. (2010). The Sanger FASTQ file format for sequences with quality scores, and the Solexa/Illumina FASTQ variants. *Nucleic Acids Research*, **38**, 1767–1771. https://doi.org/10.1093/nar/gkp1137.\n",
        "\n"
      ],
      "metadata": {
        "id": "kSrZRbuUGHdJ"
      }
    },
    {
      "cell_type": "markdown",
      "source": [
        "## SAM and BAM\n",
        "\n",
        "A SAM file (usually named *.sam) is used to represent aligned sequences. It is particularly useful for storing the results of aligning genomic or transcriptomic sequence reads aligned against a reference genome sequence. The BAM file format is a compressed form of SAM. This has the disadvantage that it is not readable by a human but has the advantage of being smaller than the corresponding SAM file and thus easier to share and copy between locations.\n",
        "\n",
        "You can read about SAM and BAM formats here:\n",
        " - Li, H., Handsaker, B., Wysoker, A., Fennell, T., Ruan, J., Homer, N., Marth, G., Abecasis, G., Durbin, R., & 1000 Genome Project Data Processing Subgroup (2009). The Sequence Alignment/Map format and SAMtools. *Bioinformatics*, **25**, 2078–2079. https://doi.org/10.1093/bioinformatics/btp352 and\n",
        "-  [https://samtools.github.io/hts-specs/SAMv1.pdf](https://samtools.github.io/hts-specs/SAMv1.pdf).\n",
        "\n",
        "We can view BAM files graphically using a specialised genome browser software such as:\n",
        "- [IGV](https://igv.org/)\n",
        "- [Tablet](https://ics.hutton.ac.uk/tablet/)\n",
        "- [Artemis / BAMview](http://sanger-pathogens.github.io/Artemis/BamView/) \n",
        "\n"
      ],
      "metadata": {
        "id": "80qPmO7hGU2O"
      }
    },
    {
      "cell_type": "markdown",
      "source": [
        "# Public repositories of NGS data \n",
        "The Sequence Read Archive (SRA) contains a huge number of sequence reads generated by various NGS methods. We can browse this data on the web via the NCBI's web portal. We can also download NGS datasets in FastQ format and analyse them locally, for example in our virtual machine. Let's a take a look at an example dataset: [SRR19504912](https://www.ncbi.nlm.nih.gov/sra/?term=SRR19504912)\n",
        "\n",
        ". Which virus does this sequencing dataset come from?\n",
        "\n",
        "Let's use the web interface to take a look at a few of the sequence reads in this dataset. Click on where it says [SRR19504912](https://trace.ncbi.nlm.nih.gov/Traces/sra/?run=SRR19504912) under 'Run'. Then click on the 'Reads' tab. This will take you to [this page](https://trace.ncbi.nlm.nih.gov/Traces/index.html?view=run_browser&page_size=10&acc=SRR19504912&display=reads), which looks like this:\n",
        "\n",
        "![enter image description here](https://github.com/WCSCourses/ViralBioinfAsia2022/raw/main/course_data/NGS_file_formats_and_data_QC/images/Screenshot%202022-07-31%20at%2016.05.10.png)\n",
        "\n",
        "In the figure above, we can see a single sequence read along with the quality scores for each nucleotide position in its sequence. Notice that the scores are high (well above 30) for most of this sequence read."
      ],
      "metadata": {
        "id": "rD-S7SZYGmIK"
      }
    },
    {
      "cell_type": "markdown",
      "source": [
        "Now let's download the sequence data (i.e. the whole set of reads) from this sequencing run from the SRA. Unfortunately it is not easy to download the data directly from the NCBI website; instead we have to use the *fasterq-dump* tool from the [NCBI's SRA Toolkit](https://github.com/ncbi/sra-tools/wiki/01.-Downloading-SRA-Toolkit). So, first execute this command in the Terminal:"
      ],
      "metadata": {
        "id": "IIwS8vTVGxBS"
      }
    },
    {
      "cell_type": "code",
      "source": [
        "#download the SRA toolkit using wget\n",
        "!wget --output-document sratoolkit.tar.gz https://ftp-trace.ncbi.nlm.nih.gov/sra/sdk/current/sratoolkit.current-ubuntu64.tar.gz\n"
      ],
      "metadata": {
        "id": "6DNTVUFJeGIb",
        "colab": {
          "base_uri": "https://localhost:8080/"
        },
        "outputId": "1c76d526-7aad-4989-b9a1-bdb6c6443ae4"
      },
      "execution_count": null,
      "outputs": [
        {
          "output_type": "stream",
          "name": "stdout",
          "text": [
            "--2022-11-11 11:49:31--  https://ftp-trace.ncbi.nlm.nih.gov/sra/sdk/current/sratoolkit.current-ubuntu64.tar.gz\n",
            "Resolving ftp-trace.ncbi.nlm.nih.gov (ftp-trace.ncbi.nlm.nih.gov)... 165.112.9.228, 165.112.9.229, 2607:f220:41e:250::7, ...\n",
            "Connecting to ftp-trace.ncbi.nlm.nih.gov (ftp-trace.ncbi.nlm.nih.gov)|165.112.9.228|:443... connected.\n",
            "HTTP request sent, awaiting response... 200 OK\n",
            "Length: 85777118 (82M) [application/x-gzip]\n",
            "Saving to: ‘sratoolkit.tar.gz’\n",
            "\n",
            "sratoolkit.tar.gz   100%[===================>]  81.80M  95.5MB/s    in 0.9s    \n",
            "\n",
            "2022-11-11 11:49:32 (95.5 MB/s) - ‘sratoolkit.tar.gz’ saved [85777118/85777118]\n",
            "\n"
          ]
        }
      ]
    },
    {
      "cell_type": "code",
      "source": [
        "#Unpack the downloaded file using  tar - tar is an excellent tool to pack and unpack files\n",
        "!tar -vxzf sratoolkit.tar.gz"
      ],
      "metadata": {
        "id": "UKLrq-RSleFX",
        "colab": {
          "base_uri": "https://localhost:8080/"
        },
        "outputId": "197c4362-ccb0-4034-fc98-6f5ff3312ff8"
      },
      "execution_count": null,
      "outputs": [
        {
          "output_type": "stream",
          "name": "stdout",
          "text": [
            "sratoolkit.3.0.0-ubuntu64/\n",
            "sratoolkit.3.0.0-ubuntu64/bin/\n",
            "sratoolkit.3.0.0-ubuntu64/bin/abi-dump\n",
            "sratoolkit.3.0.0-ubuntu64/bin/abi-dump.3\n",
            "sratoolkit.3.0.0-ubuntu64/bin/abi-load\n",
            "sratoolkit.3.0.0-ubuntu64/bin/abi-load.3\n",
            "sratoolkit.3.0.0-ubuntu64/bin/align-info\n",
            "sratoolkit.3.0.0-ubuntu64/bin/align-info.3\n",
            "sratoolkit.3.0.0-ubuntu64/bin/bam-load\n",
            "sratoolkit.3.0.0-ubuntu64/bin/bam-load.3\n",
            "sratoolkit.3.0.0-ubuntu64/bin/cache-mgr\n",
            "sratoolkit.3.0.0-ubuntu64/bin/cache-mgr.3\n",
            "sratoolkit.3.0.0-ubuntu64/bin/cg-load\n",
            "sratoolkit.3.0.0-ubuntu64/bin/cg-load.3\n",
            "sratoolkit.3.0.0-ubuntu64/bin/dump-ref-fasta\n",
            "sratoolkit.3.0.0-ubuntu64/bin/dump-ref-fasta.3\n",
            "sratoolkit.3.0.0-ubuntu64/bin/fasterq-dump\n",
            "sratoolkit.3.0.0-ubuntu64/bin/fasterq-dump.3\n",
            "sratoolkit.3.0.0-ubuntu64/bin/fasterq-dump.3.0.0\n",
            "sratoolkit.3.0.0-ubuntu64/bin/fastq-dump\n",
            "sratoolkit.3.0.0-ubuntu64/bin/fastq-dump.3\n",
            "sratoolkit.3.0.0-ubuntu64/bin/fastq-dump.3.0.0\n",
            "sratoolkit.3.0.0-ubuntu64/bin/fastq-load\n",
            "sratoolkit.3.0.0-ubuntu64/bin/fastq-load.3\n",
            "sratoolkit.3.0.0-ubuntu64/bin/helicos-load\n",
            "sratoolkit.3.0.0-ubuntu64/bin/helicos-load.3\n",
            "sratoolkit.3.0.0-ubuntu64/bin/illumina-dump\n",
            "sratoolkit.3.0.0-ubuntu64/bin/illumina-dump.3\n",
            "sratoolkit.3.0.0-ubuntu64/bin/illumina-load\n",
            "sratoolkit.3.0.0-ubuntu64/bin/illumina-load.3\n",
            "sratoolkit.3.0.0-ubuntu64/bin/kar\n",
            "sratoolkit.3.0.0-ubuntu64/bin/kar.3\n",
            "sratoolkit.3.0.0-ubuntu64/bin/kdbmeta\n",
            "sratoolkit.3.0.0-ubuntu64/bin/kdbmeta.3\n",
            "sratoolkit.3.0.0-ubuntu64/bin/latf-load\n",
            "sratoolkit.3.0.0-ubuntu64/bin/latf-load.3\n",
            "sratoolkit.3.0.0-ubuntu64/bin/pacbio-load\n",
            "sratoolkit.3.0.0-ubuntu64/bin/pacbio-load.3\n",
            "sratoolkit.3.0.0-ubuntu64/bin/prefetch\n",
            "sratoolkit.3.0.0-ubuntu64/bin/prefetch.3\n",
            "sratoolkit.3.0.0-ubuntu64/bin/prefetch.3.0.0\n",
            "sratoolkit.3.0.0-ubuntu64/bin/rcexplain\n",
            "sratoolkit.3.0.0-ubuntu64/bin/rcexplain.3\n",
            "sratoolkit.3.0.0-ubuntu64/bin/sam-dump\n",
            "sratoolkit.3.0.0-ubuntu64/bin/sam-dump.3\n",
            "sratoolkit.3.0.0-ubuntu64/bin/sam-dump.3.0.0\n",
            "sratoolkit.3.0.0-ubuntu64/bin/sff-dump\n",
            "sratoolkit.3.0.0-ubuntu64/bin/sff-dump.3\n",
            "sratoolkit.3.0.0-ubuntu64/bin/sff-load\n",
            "sratoolkit.3.0.0-ubuntu64/bin/sff-load.3\n",
            "sratoolkit.3.0.0-ubuntu64/bin/sra-pileup\n",
            "sratoolkit.3.0.0-ubuntu64/bin/sra-pileup.3\n",
            "sratoolkit.3.0.0-ubuntu64/bin/sra-pileup.3.0.0\n",
            "sratoolkit.3.0.0-ubuntu64/bin/sra-search\n",
            "sratoolkit.3.0.0-ubuntu64/bin/sra-search.3\n",
            "sratoolkit.3.0.0-ubuntu64/bin/sra-sort\n",
            "sratoolkit.3.0.0-ubuntu64/bin/sra-sort-cg\n",
            "sratoolkit.3.0.0-ubuntu64/bin/sra-sort-cg.3\n",
            "sratoolkit.3.0.0-ubuntu64/bin/sra-sort.3\n",
            "sratoolkit.3.0.0-ubuntu64/bin/sra-stat\n",
            "sratoolkit.3.0.0-ubuntu64/bin/sra-stat.3\n",
            "sratoolkit.3.0.0-ubuntu64/bin/srapath\n",
            "sratoolkit.3.0.0-ubuntu64/bin/srapath.3\n",
            "sratoolkit.3.0.0-ubuntu64/bin/srapath.3.0.0\n",
            "sratoolkit.3.0.0-ubuntu64/bin/srf-load\n",
            "sratoolkit.3.0.0-ubuntu64/bin/srf-load.3\n",
            "sratoolkit.3.0.0-ubuntu64/bin/test-sra\n",
            "sratoolkit.3.0.0-ubuntu64/bin/test-sra.3\n",
            "sratoolkit.3.0.0-ubuntu64/bin/vdb-config\n",
            "sratoolkit.3.0.0-ubuntu64/bin/vdb-config.3\n",
            "sratoolkit.3.0.0-ubuntu64/bin/vdb-copy\n",
            "sratoolkit.3.0.0-ubuntu64/bin/vdb-copy.3\n",
            "sratoolkit.3.0.0-ubuntu64/bin/vdb-decrypt\n",
            "sratoolkit.3.0.0-ubuntu64/bin/vdb-decrypt.3\n",
            "sratoolkit.3.0.0-ubuntu64/bin/vdb-dump\n",
            "sratoolkit.3.0.0-ubuntu64/bin/vdb-dump.3\n",
            "sratoolkit.3.0.0-ubuntu64/bin/vdb-dump.3.0.0\n",
            "sratoolkit.3.0.0-ubuntu64/bin/vdb-encrypt\n",
            "sratoolkit.3.0.0-ubuntu64/bin/vdb-encrypt.3\n",
            "sratoolkit.3.0.0-ubuntu64/bin/vdb-lock\n",
            "sratoolkit.3.0.0-ubuntu64/bin/vdb-lock.3\n",
            "sratoolkit.3.0.0-ubuntu64/bin/vdb-unlock\n",
            "sratoolkit.3.0.0-ubuntu64/bin/vdb-unlock.3\n",
            "sratoolkit.3.0.0-ubuntu64/bin/vdb-validate\n",
            "sratoolkit.3.0.0-ubuntu64/bin/vdb-validate.3\n",
            "sratoolkit.3.0.0-ubuntu64/bin/ncbi/\n",
            "sratoolkit.3.0.0-ubuntu64/bin/ncbi/certs.kfg\n",
            "sratoolkit.3.0.0-ubuntu64/bin/ncbi/default.kfg\n",
            "sratoolkit.3.0.0-ubuntu64/bin/ncbi/vdb-copy.kfg\n",
            "sratoolkit.3.0.0-ubuntu64/bin/srapath-orig.3.0.0\n",
            "sratoolkit.3.0.0-ubuntu64/bin/sratools.3.0.0\n",
            "sratoolkit.3.0.0-ubuntu64/bin/srf-load.3.0.0\n",
            "sratoolkit.3.0.0-ubuntu64/bin/test-sra.3.0.0\n",
            "sratoolkit.3.0.0-ubuntu64/bin/vdb-config.3.0.0\n",
            "sratoolkit.3.0.0-ubuntu64/bin/vdb-copy.3.0.0\n",
            "sratoolkit.3.0.0-ubuntu64/bin/vdb-decrypt.3.0.0\n",
            "sratoolkit.3.0.0-ubuntu64/bin/vdb-dump-orig.3.0.0\n",
            "sratoolkit.3.0.0-ubuntu64/bin/vdb-encrypt.3.0.0\n",
            "sratoolkit.3.0.0-ubuntu64/bin/vdb-lock.3.0.0\n",
            "sratoolkit.3.0.0-ubuntu64/bin/vdb-unlock.3.0.0\n",
            "sratoolkit.3.0.0-ubuntu64/bin/vdb-validate.3.0.0\n",
            "sratoolkit.3.0.0-ubuntu64/bin/abi-dump.3.0.0\n",
            "sratoolkit.3.0.0-ubuntu64/bin/abi-load.3.0.0\n",
            "sratoolkit.3.0.0-ubuntu64/bin/align-info.3.0.0\n",
            "sratoolkit.3.0.0-ubuntu64/bin/bam-load.3.0.0\n",
            "sratoolkit.3.0.0-ubuntu64/bin/cache-mgr.3.0.0\n",
            "sratoolkit.3.0.0-ubuntu64/bin/cg-load.3.0.0\n",
            "sratoolkit.3.0.0-ubuntu64/bin/dump-ref-fasta.3.0.0\n",
            "sratoolkit.3.0.0-ubuntu64/bin/fasterq-dump-orig.3.0.0\n",
            "sratoolkit.3.0.0-ubuntu64/bin/fastq-dump-orig.3.0.0\n",
            "sratoolkit.3.0.0-ubuntu64/bin/fastq-load.3.0.0\n",
            "sratoolkit.3.0.0-ubuntu64/bin/helicos-load.3.0.0\n",
            "sratoolkit.3.0.0-ubuntu64/bin/illumina-dump.3.0.0\n",
            "sratoolkit.3.0.0-ubuntu64/bin/illumina-load.3.0.0\n",
            "sratoolkit.3.0.0-ubuntu64/bin/kar.3.0.0\n",
            "sratoolkit.3.0.0-ubuntu64/bin/kdbmeta.3.0.0\n",
            "sratoolkit.3.0.0-ubuntu64/bin/latf-load.3.0.0\n",
            "sratoolkit.3.0.0-ubuntu64/bin/pacbio-load.3.0.0\n",
            "sratoolkit.3.0.0-ubuntu64/bin/prefetch-orig.3.0.0\n",
            "sratoolkit.3.0.0-ubuntu64/bin/rcexplain.3.0.0\n",
            "sratoolkit.3.0.0-ubuntu64/bin/sam-dump-orig.3.0.0\n",
            "sratoolkit.3.0.0-ubuntu64/bin/sff-dump.3.0.0\n",
            "sratoolkit.3.0.0-ubuntu64/bin/sff-load.3.0.0\n",
            "sratoolkit.3.0.0-ubuntu64/bin/sra-pileup-orig.3.0.0\n",
            "sratoolkit.3.0.0-ubuntu64/bin/sra-search.3.0.0\n",
            "sratoolkit.3.0.0-ubuntu64/bin/sra-sort-cg.3.0.0\n",
            "sratoolkit.3.0.0-ubuntu64/bin/sra-sort.3.0.0\n",
            "sratoolkit.3.0.0-ubuntu64/bin/sra-stat.3.0.0\n",
            "sratoolkit.3.0.0-ubuntu64/example/\n",
            "sratoolkit.3.0.0-ubuntu64/example/perl/\n",
            "sratoolkit.3.0.0-ubuntu64/example/perl/base-stats.pl\n",
            "sratoolkit.3.0.0-ubuntu64/example/perl/dump-reference.pl\n",
            "sratoolkit.3.0.0-ubuntu64/example/perl/gene-lookup.pl\n",
            "sratoolkit.3.0.0-ubuntu64/example/perl/mismatch-stats.pl\n",
            "sratoolkit.3.0.0-ubuntu64/example/perl/quality-stats.pl\n",
            "sratoolkit.3.0.0-ubuntu64/example/perl/simplefastq.pl\n",
            "sratoolkit.3.0.0-ubuntu64/example/perl/splitfastq.pl\n",
            "sratoolkit.3.0.0-ubuntu64/README-blastn\n",
            "sratoolkit.3.0.0-ubuntu64/README-vdb-config\n",
            "sratoolkit.3.0.0-ubuntu64/schema/\n",
            "sratoolkit.3.0.0-ubuntu64/schema/align/\n",
            "sratoolkit.3.0.0-ubuntu64/schema/align/align.vschema\n",
            "sratoolkit.3.0.0-ubuntu64/schema/align/mate-cache.vschema\n",
            "sratoolkit.3.0.0-ubuntu64/schema/align/pileup-stats.vschema\n",
            "sratoolkit.3.0.0-ubuntu64/schema/align/qstat.vschema\n",
            "sratoolkit.3.0.0-ubuntu64/schema/align/refseq.vschema\n",
            "sratoolkit.3.0.0-ubuntu64/schema/align/seq.vschema\n",
            "sratoolkit.3.0.0-ubuntu64/schema/csra2/\n",
            "sratoolkit.3.0.0-ubuntu64/schema/csra2/csra2.vschema\n",
            "sratoolkit.3.0.0-ubuntu64/schema/csra2/read.vschema\n",
            "sratoolkit.3.0.0-ubuntu64/schema/csra2/reference.vschema\n",
            "sratoolkit.3.0.0-ubuntu64/schema/csra2/stats.vschema\n",
            "sratoolkit.3.0.0-ubuntu64/schema/insdc/\n",
            "sratoolkit.3.0.0-ubuntu64/schema/insdc/insdc.vschema\n",
            "sratoolkit.3.0.0-ubuntu64/schema/insdc/seq.vschema\n",
            "sratoolkit.3.0.0-ubuntu64/schema/insdc/sra.vschema\n",
            "sratoolkit.3.0.0-ubuntu64/schema/ncbi/\n",
            "sratoolkit.3.0.0-ubuntu64/schema/ncbi/clip.vschema\n",
            "sratoolkit.3.0.0-ubuntu64/schema/ncbi/ncbi.vschema\n",
            "sratoolkit.3.0.0-ubuntu64/schema/ncbi/pnbrdb.vschema\n",
            "sratoolkit.3.0.0-ubuntu64/schema/ncbi/seq-graph.vschema\n",
            "sratoolkit.3.0.0-ubuntu64/schema/ncbi/seq.vschema\n",
            "sratoolkit.3.0.0-ubuntu64/schema/ncbi/spotname.vschema\n",
            "sratoolkit.3.0.0-ubuntu64/schema/ncbi/sra.vschema\n",
            "sratoolkit.3.0.0-ubuntu64/schema/ncbi/stats.vschema\n",
            "sratoolkit.3.0.0-ubuntu64/schema/ncbi/trace.vschema\n",
            "sratoolkit.3.0.0-ubuntu64/schema/ncbi/varloc.vschema\n",
            "sratoolkit.3.0.0-ubuntu64/schema/ncbi/wgs-contig.vschema\n",
            "sratoolkit.3.0.0-ubuntu64/schema/sra/\n",
            "sratoolkit.3.0.0-ubuntu64/schema/sra/454.vschema\n",
            "sratoolkit.3.0.0-ubuntu64/schema/sra/abi.vschema\n",
            "sratoolkit.3.0.0-ubuntu64/schema/sra/generic-fastq.vschema\n",
            "sratoolkit.3.0.0-ubuntu64/schema/sra/helicos.vschema\n",
            "sratoolkit.3.0.0-ubuntu64/schema/sra/illumina.vschema\n",
            "sratoolkit.3.0.0-ubuntu64/schema/sra/ion-torrent.vschema\n",
            "sratoolkit.3.0.0-ubuntu64/schema/sra/nanopore.vschema\n",
            "sratoolkit.3.0.0-ubuntu64/schema/sra/pacbio.vschema\n",
            "sratoolkit.3.0.0-ubuntu64/schema/sra/pevents.vschema\n",
            "sratoolkit.3.0.0-ubuntu64/schema/vdb/\n",
            "sratoolkit.3.0.0-ubuntu64/schema/vdb/built-in.vschema\n",
            "sratoolkit.3.0.0-ubuntu64/schema/vdb/vdb.vschema\n",
            "sratoolkit.3.0.0-ubuntu64/CHANGES\n",
            "sratoolkit.3.0.0-ubuntu64/README.md\n"
          ]
        }
      ]
    },
    {
      "cell_type": "code",
      "source": [
        "#the following commands add the toolkit to the expected places where tools can be found on Colab\n",
        "!export PATH=$PATH:$PWD/sratoolkit.3.0.0-ubuntu64/bin; which fastq-dump\n"
      ],
      "metadata": {
        "id": "uknpF35Fl19e",
        "colab": {
          "base_uri": "https://localhost:8080/"
        },
        "outputId": "41376704-8128-408d-f335-0c45f6c17d67"
      },
      "execution_count": null,
      "outputs": [
        {
          "output_type": "stream",
          "name": "stdout",
          "text": [
            "/content/Introduction_to_Linux_Unix_Text_processing/Exercises/my_new_directory/sratoolkit.3.0.0-ubuntu64/bin/fastq-dump\n"
          ]
        }
      ]
    },
    {
      "cell_type": "code",
      "source": [
        "# this command runs a config for using NCBI SRA to access data, it usually runs with a interactive session, but that fails on colab\n",
        "# this is the interactive command, it will cause a segmentation fault, but you must run\n",
        "!sratoolkit.3.0.0-ubuntu64/bin/vdb-config --interactive\n"
      ],
      "metadata": {
        "id": "qO6Dq3NlmpvG",
        "colab": {
          "base_uri": "https://localhost:8080/"
        },
        "outputId": "72baf288-53d4-421d-8600-18307b48d362"
      },
      "execution_count": null,
      "outputs": [
        {
          "output_type": "stream",
          "name": "stdout",
          "text": [
            "\u001b[2J\u001b[?25l\u001b[?1000h\u001b[?1002h2022-11-11T11:50:31 vdb-config.3.0.0 fatal: SIGNAL - Segmentation fault \n"
          ]
        }
      ]
    },
    {
      "cell_type": "code",
      "source": [
        "#this command runs without the interactive, and somehow allows the the subsequent commands to work is colab\n",
        "#NB this may not work indefinetly on colab with SRA tools\n",
        "# if this command fails, you may use wget https://wcs_data_transfer.cog.sanger.ac.uk/SRR19504912.zip then unzip\n",
        "!sratoolkit.3.0.0-ubuntu64/bin/vdb-config"
      ],
      "metadata": {
        "id": "dG_2LPb2K1pd",
        "colab": {
          "base_uri": "https://localhost:8080/"
        },
        "outputId": "9eeb3724-03ac-4529-d07f-dbcfcb5b5249"
      },
      "execution_count": null,
      "outputs": [
        {
          "output_type": "stream",
          "name": "stdout",
          "text": [
            "<VdbConfig>\n",
            "<!-- Current configuration -->\n",
            "<Config>\n",
            "  <APPNAME>vdb-config</APPNAME>\n",
            "  <APPPATH>/content/Introduction_to_Linux_Unix_Text_processing/Exercises/my_new_directory/sratoolkit.3.0.0-ubuntu64/bin</APPPATH>\n",
            "  <BUILD>RELEASE</BUILD>\n",
            "  <HOME>/root</HOME>\n",
            "  <HOST/>\n",
            "  <LIBS>\n",
            "    <GUID>790c608b-7bb6-4d5d-91e4-f1042a889907</GUID>\n",
            "  </LIBS>\n",
            "  <NCBI_HOME>/root/.ncbi</NCBI_HOME>\n",
            "  <NCBI_SETTINGS>/root/.ncbi/user-settings.mkfg</NCBI_SETTINGS>\n",
            "  <OS>linux</OS>\n",
            "  <PWD>/content/Introduction_to_Linux_Unix_Text_processing/Exercises/my_new_directory</PWD>\n",
            "  <USER/>\n",
            "  <VDBCOPY>\n",
            "    <DO_NOT_REDACT>CS_KEY,FLOW_CHARS,KEY_SEQUENCE,LINKER_SEQUENCE</DO_NOT_REDACT>\n",
            "    <META>\n",
            "      <IGNORE>col,.seq,STATS,BASE_COUNT,HUFFMAN_TREE_POS,HUFFMAN_TREE_POS_SIZE,HUFFMAN_TREE_PRB,HUFFMAN_TREE_PRB_SIZE,HUFFMAN_TREE_SIG,HUFFMAN_TREE_SIG_SIZE,MSC454_CLIP_QUALITY_LEFT,MSC454_CLIP_QUALITY_RIGHT,MSC454_FLOW_CHARS,MSC454_KEY_SEQUENCE,NREADS,NUMBER_POS_CHANNELS,NUMBER_PRB_CHANNELS_1,NUMBER_PRB_COLUMNS,NUMBER_SIG_CHANNELS,PLATFORM,READ_0,READ_1,SPOT_COUNT</IGNORE>\n",
            "    </META>\n",
            "    <NCBI_SRA_ABI_tbl_v1_1>\n",
            "      <schema>sra/abi.vschema</schema>\n",
            "      <tab>NCBI:SRA:ABI:tbl:v2</tab>\n",
            "    </NCBI_SRA_ABI_tbl_v1_1>\n",
            "    <NCBI_SRA_Illumina_tbl_v0a_1>\n",
            "      <schema>sra/illumina.vschema</schema>\n",
            "      <tab>NCBI:SRA:Illumina:tbl:phred:v2</tab>\n",
            "    </NCBI_SRA_Illumina_tbl_v0a_1>\n",
            "    <NCBI_SRA__454__tbl_v0_1>\n",
            "      <schema>sra/454.vschema</schema>\n",
            "      <tab>NCBI:SRA:_454_:tbl:v2</tab>\n",
            "    </NCBI_SRA__454__tbl_v0_1>\n",
            "    <READ_FILTER_COL_NAME>READ_FILTER</READ_FILTER_COL_NAME>\n",
            "    <REDACTABLE_TYPES>INSDC:color:text,INSDC:x2cs:bin,INSDC:2cs:bin,INSDC:2cs:packed,INSDC:dna:text,INSDC:4na:bin,INSDC:4na:packed,INSDC:x2na:bin,INSDC:2na:bin,INSDC:2na:packed,NCBI:SRA:pos16,INSDC:quality:phred,INSDC:quality:log_odds,NCBI:qual4,INSDC:position:one,INSDC:position:zero,NCBI:fsamp4,NCBI:isamp1</REDACTABLE_TYPES>\n",
            "    <REDACTVALUE>\n",
            "      <INSDC_color_text>\n",
            "        <VALUE>'.'</VALUE>\n",
            "      </INSDC_color_text>\n",
            "      <INSDC_dna_text>\n",
            "        <VALUE>'N'</VALUE>\n",
            "      </INSDC_dna_text>\n",
            "      <NCBI_qual4>\n",
            "        <VALUE>-6</VALUE>\n",
            "      </NCBI_qual4>\n",
            "      <TYPES>INSDC_color_text,INSDC_dna_text,NCBI_qual4</TYPES>\n",
            "    </REDACTVALUE>\n",
            "    <SCORE>\n",
            "      <INSDC_2cs_bin>2</INSDC_2cs_bin>\n",
            "      <INSDC_2cs_packed>2</INSDC_2cs_packed>\n",
            "      <INSDC_2na_bin>2</INSDC_2na_bin>\n",
            "      <INSDC_2na_packed>2</INSDC_2na_packed>\n",
            "      <INSDC_SRA_read_type>1</INSDC_SRA_read_type>\n",
            "      <INSDC_quality_log_odds>1</INSDC_quality_log_odds>\n",
            "      <INSDC_quality_phred>1</INSDC_quality_phred>\n",
            "      <INSDC_x2cs_bin>1</INSDC_x2cs_bin>\n",
            "      <INSDC_x2na_bin>1</INSDC_x2na_bin>\n",
            "    </SCORE>\n",
            "    <_454_>\n",
            "      <schema>sra/454.vschema</schema>\n",
            "      <tab>NCBI:SRA:_454_:tbl:v2</tab>\n",
            "    </_454_>\n",
            "    <_ABSOLID_>\n",
            "      <schema>sra/abi.vschema</schema>\n",
            "      <tab>NCBI:SRA:ABI:tbl:v2</tab>\n",
            "    </_ABSOLID_>\n",
            "    <_ILLUMINA_>\n",
            "      <schema>sra/illumina.vschema</schema>\n",
            "      <tab>NCBI:SRA:Illumina:tbl:phred:v2</tab>\n",
            "    </_ILLUMINA_>\n",
            "  </VDBCOPY>\n",
            "  <VDB_CONFIG/>\n",
            "  <VDB_ROOT/>\n",
            "  <config>\n",
            "    <default>false</default>\n",
            "  </config>\n",
            "  <kfg>\n",
            "    <arch>\n",
            "      <bits>64</bits>\n",
            "      <name>bca5e4a59b79</name>\n",
            "    </arch>\n",
            "    <dir>/root/.ncbi</dir>\n",
            "    <name>user-settings.mkfg</name>\n",
            "  </kfg>\n",
            "  <libs>\n",
            "    <cloud>\n",
            "      <report_instance_identity>false</report_instance_identity>\n",
            "    </cloud>\n",
            "  </libs>\n",
            "  <repository>\n",
            "    <remote>\n",
            "      <main>\n",
            "        <CGI>\n",
            "          <resolver-cgi>https://trace.ncbi.nlm.nih.gov/Traces/names/names.fcgi</resolver-cgi>\n",
            "        </CGI>\n",
            "        <SDL.2>\n",
            "          <resolver-cgi>https://locate.ncbi.nlm.nih.gov/sdl/2/retrieve</resolver-cgi>\n",
            "        </SDL.2>\n",
            "      </main>\n",
            "      <protected>\n",
            "        <CGI>\n",
            "          <resolver-cgi>https://trace.ncbi.nlm.nih.gov/Traces/names/names.fcgi</resolver-cgi>\n",
            "        </CGI>\n",
            "        <SDL.2>\n",
            "          <resolver-cgi>https://locate.ncbi.nlm.nih.gov/sdl/2/retrieve</resolver-cgi>\n",
            "        </SDL.2>\n",
            "      </protected>\n",
            "    </remote>\n",
            "    <user>\n",
            "      <ad>\n",
            "        <public>\n",
            "          <apps>\n",
            "            <file>\n",
            "              <volumes>\n",
            "                <flat/>\n",
            "                <flatAd>.</flatAd>\n",
            "              </volumes>\n",
            "            </file>\n",
            "            <refseq>\n",
            "              <volumes>\n",
            "                <refseqAd>.</refseqAd>\n",
            "              </volumes>\n",
            "            </refseq>\n",
            "            <sra>\n",
            "              <volumes>\n",
            "                <sraAd>.</sraAd>\n",
            "              </volumes>\n",
            "            </sra>\n",
            "            <sraPileup>\n",
            "              <volumes>\n",
            "                <ad>.</ad>\n",
            "              </volumes>\n",
            "            </sraPileup>\n",
            "            <sraRealign>\n",
            "              <volumes>\n",
            "                <ad>.</ad>\n",
            "              </volumes>\n",
            "            </sraRealign>\n",
            "            <wgs>\n",
            "              <volumes>\n",
            "                <wgsAd>.</wgsAd>\n",
            "              </volumes>\n",
            "            </wgs>\n",
            "          </apps>\n",
            "          <root>.</root>\n",
            "        </public>\n",
            "      </ad>\n",
            "      <default-path>/root/ncbi</default-path>\n",
            "      <main>\n",
            "        <public>\n",
            "          <apps>\n",
            "            <file>\n",
            "              <volumes>\n",
            "                <flat>files</flat>\n",
            "              </volumes>\n",
            "            </file>\n",
            "            <nakmer>\n",
            "              <volumes>\n",
            "                <nakmerFlat>nannot</nakmerFlat>\n",
            "              </volumes>\n",
            "            </nakmer>\n",
            "            <nannot>\n",
            "              <volumes>\n",
            "                <nannotFlat>nannot</nannotFlat>\n",
            "              </volumes>\n",
            "            </nannot>\n",
            "            <refseq>\n",
            "              <volumes>\n",
            "                <refseq>refseq</refseq>\n",
            "              </volumes>\n",
            "            </refseq>\n",
            "            <sra>\n",
            "              <volumes>\n",
            "                <sraFlat>sra</sraFlat>\n",
            "              </volumes>\n",
            "            </sra>\n",
            "            <sraPileup>\n",
            "              <volumes>\n",
            "                <withExtFlat>sra</withExtFlat>\n",
            "              </volumes>\n",
            "            </sraPileup>\n",
            "            <sraRealign>\n",
            "              <volumes>\n",
            "                <withExtFlat>sra</withExtFlat>\n",
            "              </volumes>\n",
            "            </sraRealign>\n",
            "            <wgs>\n",
            "              <volumes>\n",
            "                <wgsFlat>wgs</wgsFlat>\n",
            "              </volumes>\n",
            "            </wgs>\n",
            "          </apps>\n",
            "        </public>\n",
            "      </main>\n",
            "    </user>\n",
            "  </repository>\n",
            "  <sra>\n",
            "    <quality_type>raw_scores</quality_type>\n",
            "  </sra>\n",
            "  <strings>\n",
            "    <names>https://trace.ncbi.nlm.nih.gov/Traces/names/names.fcgi</names>\n",
            "    <sdl>https://locate.ncbi.nlm.nih.gov/sdl/2/retrieve</sdl>\n",
            "  </strings>\n",
            "  <tls>\n",
            "    <ca.crt>\n",
            "      <ncbi1>-----BEGIN CERTIFICATE-----\r\n",
            "MIIDrzCCApegAwIBAgIQCDvgVpBCRrGhdWrJWZHHSjANBgkqhkiG9w0BAQUFADBh\r\n",
            "MQswCQYDVQQGEwJVUzEVMBMGA1UEChMMRGlnaUNlcnQgSW5jMRkwFwYDVQQLExB3\r\n",
            "d3cuZGlnaWNlcnQuY29tMSAwHgYDVQQDExdEaWdpQ2VydCBHbG9iYWwgUm9vdCBD\r\n",
            "QTAeFw0wNjExMTAwMDAwMDBaFw0zMTExMTAwMDAwMDBaMGExCzAJBgNVBAYTAlVT\r\n",
            "MRUwEwYDVQQKEwxEaWdpQ2VydCBJbmMxGTAXBgNVBAsTEHd3dy5kaWdpY2VydC5j\r\n",
            "b20xIDAeBgNVBAMTF0RpZ2lDZXJ0IEdsb2JhbCBSb290IENBMIIBIjANBgkqhkiG\r\n",
            "9w0BAQEFAAOCAQ8AMIIBCgKCAQEA4jvhEXLeqKTTo1eqUKKPC3eQyaKl7hLOllsB\r\n",
            "CSDMAZOnTjC3U/dDxGkAV53ijSLdhwZAAIEJzs4bg7/fzTtxRuLWZscFs3YnFo97\r\n",
            "nh6Vfe63SKMI2tavegw5BmV/Sl0fvBf4q77uKNd0f3p4mVmFaG5cIzJLv07A6Fpt\r\n",
            "43C/dxC//AH2hdmoRBBYMql1GNXRor5H4idq9Joz+EkIYIvUX7Q6hL+hqkpMfT7P\r\n",
            "T19sdl6gSzeRntwi5m3OFBqOasv+zbMUZBfHWymeMr/y7vrTC0LUq7dBMtoM1O/4\r\n",
            "gdW7jVg/tRvoSSiicNoxBN33shbyTApOB6jtSj1etX+jkMOvJwIDAQABo2MwYTAO\r\n",
            "BgNVHQ8BAf8EBAMCAYYwDwYDVR0TAQH/BAUwAwEB/zAdBgNVHQ4EFgQUA95QNVbR\r\n",
            "TLtm8KPiGxvDl7I90VUwHwYDVR0jBBgwFoAUA95QNVbRTLtm8KPiGxvDl7I90VUw\r\n",
            "DQYJKoZIhvcNAQEFBQADggEBAMucN6pIExIK+t1EnE9SsPTfrgT1eXkIoyQY/Esr\r\n",
            "hMAtudXH/vTBH1jLuG2cenTnmCmrEbXjcKChzUyImZOMkXDiqw8cvpOp/2PV5Adg\r\n",
            "06O/nVsJ8dWO41P0jmP6P6fbtGbfYmbW0W5BjfIttep3Sp+dWOIrWcBAI+0tKIJF\r\n",
            "PnlUkiaY4IBIqDfv8NZ5YBberOgOzW6sRBc4L0na4UU+Krk2U886UAb3LujEV0ls\r\n",
            "YSEY1QSteDwsOoBrp+uvFRTp2InBuThs4pFsiv9kuXclVzDAGySj4dzp30d8tbQk\r\n",
            "CAUw7C29C79Fv1C5qfPrmAESrciIxpg0X40KPMbp1ZWVbd4wOTAeBggrBgEFBQcD\r\n",
            "BAYIKwYBBQUHAwEGCCsGAQUFBwMDDBdEaWdpQ2VydCBHbG9iYWwgUm9vdCBDQQ==\r\n",
            "-----END CERTIFICATE-----\r\n",
            "</ncbi1>\n",
            "      <ncbi2>-----BEGIN CERTIFICATE-----\r\n",
            "MIIDxTCCAq2gAwIBAgIQAqxcJmoLQJuPC3nyrkYldzANBgkqhkiG9w0BAQUFADBs\r\n",
            "MQswCQYDVQQGEwJVUzEVMBMGA1UEChMMRGlnaUNlcnQgSW5jMRkwFwYDVQQLExB3\r\n",
            "d3cuZGlnaWNlcnQuY29tMSswKQYDVQQDEyJEaWdpQ2VydCBIaWdoIEFzc3VyYW5j\r\n",
            "ZSBFViBSb290IENBMB4XDTA2MTExMDAwMDAwMFoXDTMxMTExMDAwMDAwMFowbDEL\r\n",
            "MAkGA1UEBhMCVVMxFTATBgNVBAoTDERpZ2lDZXJ0IEluYzEZMBcGA1UECxMQd3d3\r\n",
            "LmRpZ2ljZXJ0LmNvbTErMCkGA1UEAxMiRGlnaUNlcnQgSGlnaCBBc3N1cmFuY2Ug\r\n",
            "RVYgUm9vdCBDQTCCASIwDQYJKoZIhvcNAQEBBQADggEPADCCAQoCggEBAMbM5XPm\r\n",
            "+9S75S0tMqbf5YE/yc0lSbZxKsPVlDRnogocsF9ppkCxxLeyj9CYpKlBWTrT3JTW\r\n",
            "PNt0OKRKzE0lgvdKpVMSOO7zSW1xkX5jtqumX8OkhPhPYlG++MXs2ziS4wblCJEM\r\n",
            "xChBVfvLWokVfnHoNb9Ncgk9vjo4UFt3MRuNs8ckRZqnrG0AFFoEt7oT61EKmEFB\r\n",
            "Ik5lYYeBQVCmeVyJ3hlKV9Uu5l0cUyx+mM0aBhakaHPQNAQTXKFx01p8VdteZOE3\r\n",
            "hzBWBOURtCmAEvF5OYiiAhF8J2a3iLd48soKqDirCmTCv2ZdlYTBoSUeh10aUAsg\r\n",
            "EsxBu24LUTi4S8sCAwEAAaNjMGEwDgYDVR0PAQH/BAQDAgGGMA8GA1UdEwEB/wQF\r\n",
            "MAMBAf8wHQYDVR0OBBYEFLE+w2kD+L9HAdSYJhoIAu9jZCvDMB8GA1UdIwQYMBaA\r\n",
            "FLE+w2kD+L9HAdSYJhoIAu9jZCvDMA0GCSqGSIb3DQEBBQUAA4IBAQAcGgaX3Nec\r\n",
            "nzyIZgYIVyHbIUf4KmeqvxgydkAQV8GK83rZEWWONfqe/EW1ntlMMUu4kehDLI6z\r\n",
            "eM7b41N5cdblIZQB2lWHmiRk9opmzN6cN82oNLFpmyPInngiK3BD41VHMWEZ71jF\r\n",
            "hS9OMPagMRYjyOfiZRYzy78aG6A9+MpeizGLYAiJLQwGXFK3xPkKmNEVX58Svnw2\r\n",
            "Yzi9RKR/5CYrCsSXaQ3pjOLAEFe4yHYSkVXySGnYvCoCWw9E1CAx2/S6cCZdkGCe\r\n",
            "vEsXCS+0yx5DaMkHJ8HSXPfqIbloEpw8nL+e/IBcm2PN7EeqJSdnoDfzAIJ9VNep\r\n",
            "+OkuE6N36B9KMEQwHgYIKwYBBQUHAwQGCCsGAQUFBwMBBggrBgEFBQcDAwwiRGln\r\n",
            "aUNlcnQgSGlnaCBBc3N1cmFuY2UgRVYgUm9vdCBDQQ==\r\n",
            "-----END CERTIFICATE-----\r\n",
            "</ncbi2>\n",
            "    </ca.crt>\n",
            "  </tls>\n",
            "  <tools>\n",
            "    <ascp>\n",
            "      <max_rate>450m</max_rate>\n",
            "    </ascp>\n",
            "  </tools>\n",
            "  <vdb>\n",
            "    <lib>\n",
            "      <paths>\n",
            "        <kfg>/content/Introduction_to_Linux_Unix_Text_processing/Exercises/my_new_directory/sratoolkit.3.0.0-ubuntu64/bin</kfg>\n",
            "      </paths>\n",
            "    </lib>\n",
            "  </vdb>\n",
            "</Config>\n",
            "\n",
            "<ConfigurationFiles>\n",
            "/content/Introduction_to_Linux_Unix_Text_processing/Exercises/my_new_directory/sratoolkit.3.0.0-ubuntu64/bin/ncbi/certs.kfg\n",
            "/content/Introduction_to_Linux_Unix_Text_processing/Exercises/my_new_directory/sratoolkit.3.0.0-ubuntu64/bin/ncbi/default.kfg\n",
            "/content/Introduction_to_Linux_Unix_Text_processing/Exercises/my_new_directory/sratoolkit.3.0.0-ubuntu64/bin/ncbi/vdb-copy.kfg\n",
            "/root/.ncbi/user-settings.mkfg\n",
            "</ConfigurationFiles>\n",
            "<Environment>\n",
            "LD_LIBRARY_PATH=/usr/local/lib:/usr/local/nvidia/lib:/usr/local/nvidia/lib64\n",
            "</Environment>\n",
            "</VdbConfig>\n"
          ]
        }
      ]
    },
    {
      "cell_type": "code",
      "source": [
        "# this command uses the fasterq-dump tool to download the SRR19504912 dataset\n",
        "!sratoolkit.3.0.0-ubuntu64/bin/fasterq-dump SRR19504912 \n"
      ],
      "metadata": {
        "id": "T884Ke5HmD5Z",
        "colab": {
          "base_uri": "https://localhost:8080/"
        },
        "outputId": "51a98bb2-282b-44dd-86a5-ee13d493bd6b"
      },
      "execution_count": null,
      "outputs": [
        {
          "output_type": "stream",
          "name": "stdout",
          "text": [
            "spots read      : 306,691\n",
            "reads read      : 613,382\n",
            "reads written   : 613,382\n"
          ]
        }
      ]
    },
    {
      "cell_type": "markdown",
      "source": [
        "You should then see some output something like this:\n",
        "\n",
        "    spots read      : 306,691\n",
        "    reads read      : 613,382\n",
        "    reads written   : 613,382\n",
        "\n",
        "you will notice that new files have been created called *SRR19504912_1.fastq*  and *SRR19504912_2.fastq*. There are two files because this dataset consists of paired sequence reads. "
      ],
      "metadata": {
        "id": "6NxMsd0BM-sV"
      }
    },
    {
      "cell_type": "code",
      "source": [
        "# now to install two key tools - fastqc and trim-galore\n",
        "!conda install -c bioconda fastqc -y\n",
        "!conda install -c bioconda trim-galore"
      ],
      "metadata": {
        "id": "UUrojusnp7TE",
        "colab": {
          "base_uri": "https://localhost:8080/"
        },
        "outputId": "684706d0-be25-4aa7-cada-13880cb27fa7"
      },
      "execution_count": null,
      "outputs": [
        {
          "output_type": "stream",
          "name": "stdout",
          "text": [
            "Collecting package metadata (current_repodata.json): - \b\b\\ \b\b| \b\b/ \b\b- \b\b\\ \b\b| \b\b/ \b\b- \b\b\\ \b\b| \b\b/ \b\b- \b\b\\ \b\b| \b\b/ \b\b- \b\b\\ \b\b| \b\b/ \b\b- \b\b\\ \b\b| \b\b/ \b\b- \b\b\\ \b\b| \b\b/ \b\b- \b\b\\ \b\b| \b\b/ \b\b- \b\b\\ \b\b| \b\b/ \b\b- \b\b\\ \b\b| \b\b/ \b\b- \b\b\\ \b\b| \b\b/ \b\b- \b\b\\ \b\b| \b\b/ \b\b- \b\b\\ \b\b| \b\b/ \b\b- \b\b\\ \b\b| \b\b/ \b\b- \b\b\\ \b\b| \b\b/ \b\b- \b\b\\ \b\b| \b\b/ \b\b- \b\b\\ \b\b| \b\b/ \b\b- \b\b\\ \b\b| \b\b/ \b\b- \b\b\\ \b\b| \b\b/ \b\b- \b\b\\ \b\b| \b\b/ \b\b- \b\b\\ \b\b| \b\b/ \b\b- \b\b\\ \b\b| \b\b/ \b\b- \b\b\\ \b\b| \b\b/ \b\b- \b\b\\ \b\b| \b\b/ \b\b- \b\b\\ \b\b| \b\b/ \b\b- \b\b\\ \b\b| \b\b/ \b\b- \b\b\\ \b\b| \b\b/ \b\b- \b\b\\ \b\b| \b\b/ \b\b- \b\b\\ \b\b| \b\b/ \b\b- \b\b\\ \b\b| \b\b/ \b\b- \b\b\\ \b\b| \b\b/ \b\b- \b\b\\ \b\b| \b\b/ \b\b- \b\b\\ \b\b| \b\b/ \b\b- \b\b\\ \b\b| \b\b/ \b\b- \b\b\\ \b\b| \b\b/ \b\b- \b\b\\ \b\b| \b\b/ \b\b- \b\b\\ \b\b| \b\b/ \b\b- \b\b\\ \b\b| \b\b/ \b\b- \b\b\\ \b\b| \b\b/ \b\b- \b\b\\ \b\b| \b\b/ \b\b- \b\b\\ \b\b| \b\b/ \b\b- \b\b\\ \b\b| \b\b/ \b\b- \b\b\\ \b\b| \b\b/ \b\b- \b\b\\ \b\b| \b\b/ \b\b- \b\b\\ \b\b| \b\b/ \b\b- \b\b\\ \b\b| \b\b/ \b\b- \b\b\\ \b\b| \b\b/ \b\b- \b\b\\ \b\b| \b\b/ \b\b- \b\b\\ \b\b| \b\b/ \b\b- \b\b\\ \b\b| \b\b/ \b\b- \b\b\\ \b\b| \b\b/ \b\b- \b\b\\ \b\b| \b\b/ \b\b- \b\b\\ \b\b| \b\b/ \b\b- \b\b\\ \b\bdone\n",
            "Solving environment: / \b\b- \b\b\\ \b\b| \b\b/ \b\b- \b\b\\ \b\b| \b\b/ \b\b- \b\b\\ \b\b| \b\b/ \b\b- \b\b\\ \b\b| \b\b/ \b\b- \b\b\\ \b\b| \b\b/ \b\b- \b\b\\ \b\bdone\n",
            "\n",
            "## Package Plan ##\n",
            "\n",
            "  environment location: /usr/local\n",
            "\n",
            "  added / updated specs:\n",
            "    - fastqc\n",
            "\n",
            "\n",
            "The following packages will be downloaded:\n",
            "\n",
            "    package                    |            build\n",
            "    ---------------------------|-----------------\n",
            "    ca-certificates-2022.9.24  |       ha878542_0         150 KB  conda-forge\n",
            "    certifi-2022.9.24          |     pyhd8ed1ab_0         155 KB  conda-forge\n",
            "    conda-22.9.0               |   py37h89c1867_1         960 KB  conda-forge\n",
            "    fastqc-0.11.8              |                0         9.6 MB  bioconda\n",
            "    openjdk-8.0.332            |       h166bdaf_0        97.8 MB  conda-forge\n",
            "    openssl-1.1.1s             |       h166bdaf_0         2.1 MB  conda-forge\n",
            "    perl-5.32.1                | 2_h7f98852_perl5        14.4 MB  conda-forge\n",
            "    ------------------------------------------------------------\n",
            "                                           Total:       125.2 MB\n",
            "\n",
            "The following NEW packages will be INSTALLED:\n",
            "\n",
            "  fastqc             bioconda/linux-64::fastqc-0.11.8-0\n",
            "  openjdk            conda-forge/linux-64::openjdk-8.0.332-h166bdaf_0\n",
            "  perl               conda-forge/linux-64::perl-5.32.1-2_h7f98852_perl5\n",
            "\n",
            "The following packages will be UPDATED:\n",
            "\n",
            "  ca-certificates                      2022.6.15-ha878542_0 --> 2022.9.24-ha878542_0\n",
            "  certifi            conda-forge/linux-64::certifi-2022.6.~ --> conda-forge/noarch::certifi-2022.9.24-pyhd8ed1ab_0\n",
            "  conda                               4.14.0-py37h89c1867_0 --> 22.9.0-py37h89c1867_1\n",
            "  openssl                                 1.1.1q-h166bdaf_0 --> 1.1.1s-h166bdaf_0\n",
            "\n",
            "\n",
            "\n",
            "Downloading and Extracting Packages\n",
            "certifi-2022.9.24    | 155 KB    | : 100% 1.0/1 [00:00<00:00,  5.57it/s]                \n",
            "openssl-1.1.1s       | 2.1 MB    | : 100% 1.0/1 [00:00<00:00,  1.68it/s]\n",
            "openjdk-8.0.332      | 97.8 MB   | : 100% 1.0/1 [00:28<00:00, 28.12s/it]              \n",
            "ca-certificates-2022 | 150 KB    | : 100% 1.0/1 [00:00<00:00, 14.40it/s]\n",
            "perl-5.32.1          | 14.4 MB   | : 100% 1.0/1 [00:06<00:00,  6.64s/it]               \n",
            "conda-22.9.0         | 960 KB    | : 100% 1.0/1 [00:00<00:00,  2.06it/s]\n",
            "fastqc-0.11.8        | 9.6 MB    | : 100% 1.0/1 [00:02<00:00,  2.13s/it]               \n",
            "Preparing transaction: / \b\b- \b\bdone\n",
            "Verifying transaction: | \b\b/ \b\b- \b\b\\ \b\b| \b\b/ \b\b- \b\b\\ \b\b| \b\bdone\n",
            "Executing transaction: - \b\b\\ \b\b| \b\b/ \b\b- \b\b\\ \b\b| \b\b/ \b\b- \b\b\\ \b\b| \b\b/ \b\b- \b\b\\ \b\b| \b\b/ \b\b- \b\b\\ \b\b| \b\bdone\n",
            "Retrieving notices: ...working... done\n",
            "Collecting package metadata (current_repodata.json): - \b\b\\ \b\b| \b\b/ \b\b- \b\b\\ \b\b| \b\b/ \b\b- \b\b\\ \b\b| \b\b/ \b\b- \b\b\\ \b\b| \b\b/ \b\b- \b\b\\ \b\b| \b\b/ \b\b- \b\b\\ \b\b| \b\b/ \b\b- \b\b\\ \b\bdone\n",
            "Solving environment: / \b\b- \b\b\\ \b\b| \b\b/ \b\b- \b\b\\ \b\b| \b\b/ \b\b- \b\b\\ \b\b| \b\b/ \b\b- \b\b\\ \b\b| \b\b/ \b\b- \b\b\\ \b\b| \b\b/ \b\b- \b\b\\ \b\b| \b\b/ \b\b- \b\b\\ \b\b| \b\b/ \b\b- \b\b\\ \b\b| \b\b/ \b\b- \b\b\\ \b\b| \b\b/ \b\b- \b\b\\ \b\b| \b\b/ \b\b- \b\b\\ \b\b| \b\bdone\n",
            "\n",
            "## Package Plan ##\n",
            "\n",
            "  environment location: /usr/local\n",
            "\n",
            "  added / updated specs:\n",
            "    - trim-galore\n",
            "\n",
            "\n",
            "The following packages will be downloaded:\n",
            "\n",
            "    package                    |            build\n",
            "    ---------------------------|-----------------\n",
            "    bz2file-0.98               |             py_0           9 KB  conda-forge\n",
            "    cutadapt-1.18              |   py37h14c3975_1         206 KB  bioconda\n",
            "    libzlib-1.2.13             |       h166bdaf_4          64 KB  conda-forge\n",
            "    pigz-2.6                   |       h27826a3_0          87 KB  conda-forge\n",
            "    trim-galore-0.6.7          |       hdfd78af_0          42 KB  bioconda\n",
            "    xopen-0.7.3                |             py_0          11 KB  bioconda\n",
            "    zlib-1.2.13                |       h166bdaf_4          92 KB  conda-forge\n",
            "    ------------------------------------------------------------\n",
            "                                           Total:         512 KB\n",
            "\n",
            "The following NEW packages will be INSTALLED:\n",
            "\n",
            "  bz2file            conda-forge/noarch::bz2file-0.98-py_0 None\n",
            "  cutadapt           bioconda/linux-64::cutadapt-1.18-py37h14c3975_1 None\n",
            "  pigz               conda-forge/linux-64::pigz-2.6-h27826a3_0 None\n",
            "  trim-galore        bioconda/noarch::trim-galore-0.6.7-hdfd78af_0 None\n",
            "  xopen              bioconda/noarch::xopen-0.7.3-py_0 None\n",
            "  zlib               conda-forge/linux-64::zlib-1.2.13-h166bdaf_4 None\n",
            "\n",
            "The following packages will be UPDATED:\n",
            "\n",
            "  libzlib                                 1.2.12-h166bdaf_2 --> 1.2.13-h166bdaf_4 None\n",
            "\n",
            "\n",
            "\n",
            "Downloading and Extracting Packages\n",
            "cutadapt-1.18        | 206 KB    | : 100% 1.0/1 [00:00<00:00,  5.99it/s]               \n",
            "bz2file-0.98         | 9 KB      | : 100% 1.0/1 [00:00<00:00, 23.45it/s]\n",
            "zlib-1.2.13          | 92 KB     | : 100% 1.0/1 [00:00<00:00, 16.88it/s]\n",
            "xopen-0.7.3          | 11 KB     | : 100% 1.0/1 [00:00<00:00, 26.13it/s]\n",
            "libzlib-1.2.13       | 64 KB     | : 100% 1.0/1 [00:00<00:00, 19.12it/s]\n",
            "pigz-2.6             | 87 KB     | : 100% 1.0/1 [00:00<00:00, 19.21it/s]\n",
            "trim-galore-0.6.7    | 42 KB     | : 100% 1.0/1 [00:00<00:00, 21.79it/s]\n",
            "Preparing transaction: - \b\bdone\n",
            "Verifying transaction: | \b\bdone\n",
            "Executing transaction: - \b\b\\ \b\b| \b\b/ \b\b- \b\b\\ \b\b| \b\b/ \b\b- \b\b\\ \b\b| \b\b/ \b\b- \b\b\\ \b\bdone\n",
            "Retrieving notices: ...working... done\n"
          ]
        }
      ]
    },
    {
      "cell_type": "code",
      "source": [
        "#this command will run on ANY fastq file in the directory\n",
        "#We only have two here, but you may have thousands, consider the * operator carefully\n",
        "!fastqc *.fastq"
      ],
      "metadata": {
        "id": "EfeOMtz9qdGz",
        "colab": {
          "base_uri": "https://localhost:8080/"
        },
        "outputId": "e5223656-5822-49ad-b2ac-134825ab60d6"
      },
      "execution_count": null,
      "outputs": [
        {
          "output_type": "stream",
          "name": "stdout",
          "text": [
            "Started analysis of SRR19504912_1.fastq\n",
            "Approx 5% complete for SRR19504912_1.fastq\n",
            "Approx 10% complete for SRR19504912_1.fastq\n",
            "Approx 15% complete for SRR19504912_1.fastq\n",
            "Approx 20% complete for SRR19504912_1.fastq\n",
            "Approx 25% complete for SRR19504912_1.fastq\n",
            "Approx 30% complete for SRR19504912_1.fastq\n",
            "Approx 35% complete for SRR19504912_1.fastq\n",
            "Approx 40% complete for SRR19504912_1.fastq\n",
            "Approx 45% complete for SRR19504912_1.fastq\n",
            "Approx 50% complete for SRR19504912_1.fastq\n",
            "Approx 55% complete for SRR19504912_1.fastq\n",
            "Approx 60% complete for SRR19504912_1.fastq\n",
            "Approx 65% complete for SRR19504912_1.fastq\n",
            "Approx 70% complete for SRR19504912_1.fastq\n",
            "Approx 75% complete for SRR19504912_1.fastq\n",
            "Approx 80% complete for SRR19504912_1.fastq\n",
            "Approx 85% complete for SRR19504912_1.fastq\n",
            "Approx 90% complete for SRR19504912_1.fastq\n",
            "Approx 95% complete for SRR19504912_1.fastq\n",
            "Analysis complete for SRR19504912_1.fastq\n",
            "Started analysis of SRR19504912_2.fastq\n",
            "Approx 5% complete for SRR19504912_2.fastq\n",
            "Approx 10% complete for SRR19504912_2.fastq\n",
            "Approx 15% complete for SRR19504912_2.fastq\n",
            "Approx 20% complete for SRR19504912_2.fastq\n",
            "Approx 25% complete for SRR19504912_2.fastq\n",
            "Approx 30% complete for SRR19504912_2.fastq\n",
            "Approx 35% complete for SRR19504912_2.fastq\n",
            "Approx 40% complete for SRR19504912_2.fastq\n",
            "Approx 45% complete for SRR19504912_2.fastq\n",
            "Approx 50% complete for SRR19504912_2.fastq\n",
            "Approx 55% complete for SRR19504912_2.fastq\n",
            "Approx 60% complete for SRR19504912_2.fastq\n",
            "Approx 65% complete for SRR19504912_2.fastq\n",
            "Approx 70% complete for SRR19504912_2.fastq\n",
            "Approx 75% complete for SRR19504912_2.fastq\n",
            "Approx 80% complete for SRR19504912_2.fastq\n",
            "Approx 85% complete for SRR19504912_2.fastq\n",
            "Approx 90% complete for SRR19504912_2.fastq\n",
            "Approx 95% complete for SRR19504912_2.fastq\n",
            "Analysis complete for SRR19504912_2.fastq\n"
          ]
        }
      ]
    },
    {
      "cell_type": "markdown",
      "source": [
        "This will generate some messages something like this:\n",
        "\n",
        "    Started analysis of SRR19504912_1.fastq\n",
        "    Approx 5% complete for SRR19504912_1.fastq\n",
        "    Approx 10% complete for SRR19504912_1.fastq\n",
        "    ...\n",
        "    Approx 90% complete for SRR19504912_1.fastq\n",
        "    Approx 95% complete for SRR19504912_1.fastq\n",
        "    Analysis complete for SRR19504912_1.fastq\n",
        "    Started analysis of SRR19504912_2.fastq\n",
        "    Approx 5% complete for SRR19504912_2.fastq\n",
        "    Approx 10% complete for SRR19504912_2.fastq\n",
        "    Approx 15% complete for SRR19504912_2.fastq\n",
        "    ...\n",
        "    Approx 90% complete for SRR19504912_2.fastq\n",
        "    Approx 95% complete for SRR19504912_2.fastq\n",
        "    Analysis complete for SRR19504912_2.fastq\n",
        "\n",
        "\n",
        "Now, execute the command `ls -lh` and you should see some new files have appeared:\n"
      ],
      "metadata": {
        "id": "Fi_LJFA1QWDy"
      }
    },
    {
      "cell_type": "code",
      "source": [
        "#run the ls -lh command - what do the -l and -h operators do?\n",
        "!ls -lh"
      ],
      "metadata": {
        "id": "srnDx4tLQX6g",
        "colab": {
          "base_uri": "https://localhost:8080/"
        },
        "outputId": "a3893a63-c6d9-4f01-84e5-6fbb1c00ad4c"
      },
      "execution_count": null,
      "outputs": [
        {
          "output_type": "stream",
          "name": "stdout",
          "text": [
            "total 480M\n",
            "-rw-r--r-- 1 root root    0 Nov 11 11:48 my_new_file.txt\n",
            "drwxrwxr-x 5 root root 4.0K Feb  9  2022 sratoolkit.3.0.0-ubuntu64\n",
            "-rw-r--r-- 1 root root  82M Feb 10  2022 sratoolkit.tar.gz\n",
            "-rw-r--r-- 1 root root 199M Nov 11 11:51 SRR19504912_1.fastq\n",
            "-rw-r--r-- 1 root root 246K Nov 11 11:53 SRR19504912_1_fastqc.html\n",
            "-rw-r--r-- 1 root root 270K Nov 11 11:53 SRR19504912_1_fastqc.zip\n",
            "-rw-r--r-- 1 root root 199M Nov 11 11:51 SRR19504912_2.fastq\n",
            "-rw-r--r-- 1 root root 250K Nov 11 11:53 SRR19504912_2_fastqc.html\n",
            "-rw-r--r-- 1 root root 279K Nov 11 11:53 SRR19504912_2_fastqc.zip\n"
          ]
        }
      ]
    },
    {
      "cell_type": "markdown",
      "source": [
        "Take a look at the first few lines of each file by executing this command:     \n",
        "```\n",
        "head *.fastq\n",
        "```"
      ],
      "metadata": {
        "id": "mjOixXmXPves"
      }
    },
    {
      "cell_type": "code",
      "source": [
        "#try the head command here, try it for both, then individual files!\n",
        "!head *.fastq\n"
      ],
      "metadata": {
        "id": "twRbrsqosAh6",
        "colab": {
          "base_uri": "https://localhost:8080/"
        },
        "outputId": "97bd7408-fc43-4f08-92c6-11d70451b566"
      },
      "execution_count": null,
      "outputs": [
        {
          "output_type": "stream",
          "name": "stdout",
          "text": [
            "==> SRR19504912_1.fastq <==\n",
            "@SRR19504912.1 1 length=301\n",
            "AGACAGATCTGAGCAAACTCTCGAAAGACGTTGTACAATATGAACAAGAAATAGAATCGTTAGAAGCAACTTATCATATAATCATAATGGCGTTGACAATTATGGGTGTCATATTTCTAATCTCCATTATAGTATTAGTTTGTTCCTGTGACAAAAATAATGACCAATATAAGTTCCATAAATTGCTACCGTGAATATAAATCCGTTAAAATAATTAATAATTAATAATTAATAACGAACAAGTATCAAAAGATTAAAGAATTAGCTCTGTCTCTTATACACATCTCCGAGCCCACGAGAC\n",
            "+SRR19504912.1 1 length=301\n",
            "CCCCCGGFGGGGGGGGGGGGGGGGGGGGGGFFGGGGGGGGGGGGGGGGGGGFGGGGGGGGGGGGGGGGGGGFGGGGGGGGGGGGGGGGGFFGGGGGGGGEFFGGGGGGFGFGGGG9EGGGGGGGGGGGGGGGGGEFGGGFCFFGGGGEFGGGGGGGCDGGGGGGGGGGGGGGGGGGFDDFGGGFGFGGGDEFGGGGF@FFF?DFG=*=DFFFFFBFFFFFF7DDDDFEDEFFFFEEFFFBFFFFFFFFFFFFF@EEFFEFFFAEFF446;A*:7>EEEFFEBBE3C=B9>@5@23;@>;>(\n",
            "@SRR19504912.2 2 length=301\n",
            "GTCTTGATGTCACTGTCTTTCTCTTCTTCGCTACATCTGATGTCGATAGACATCTCACAGTCTTTGATCATAGCCAGAGCTTCTTCACGCGTGATCGCGGGAGAGTCCTTACCTTGTCCCGGTGACACGCTGGACAATCTAGTATTCACAGTGTTTCCATCAGAGGATTCGGAGATGGATAAAATCTTTGGGCATTTGGTGAATCCAAAGTTCATGTTAAGACCCGCACCGACGATAGTGTAATAAGTGGTGGGACTGTCTCTTATACACATCTCCGAGCCCACGAGACCCGTATGTTCAT\n",
            "+SRR19504912.2 2 length=301\n",
            "CCCCCGGGGGGGGGGGGGGGGGGGGGGGFGGGGGGGGGGGGGGGGGGGGGGGGGGGGGGGGGGGGGGGGGGGGGGGGGGGGGGGGGGGGGGGGGGGGGGDGGGGGGGGGGGGGGGGGGGGGGGGGGGGGG@FGGGEGGGGGG9FGGGGGGGGGGGCFFGDGGGGFCFFGGGDGGGGGGGAFEGGFGG7<F7EDGGFCCCFDGGFFFFGGG>FFFFFFFFFFFFFFFFFEBEFFFF;?DCCCCEFFFACCEEFFF0=8;/4?C<CECE<9>?>BAAF;BB;;FF?9>69B:B>?6??>BF<)\n",
            "@SRR19504912.3 3 length=301\n",
            "GTCAACAACTGGTTCTAGAACATAACAGTCAACACCTAATCCATGTTTTTTATAATCATCTACCAAAGATAATGACCAAAGATCGAGGTCGTCGTGAAACTGCTCATCGACAGCCATGAAATCTACCGACTCCATGGTGCGAATCGCACTGTCTTATTCGCCATTGATTTTCATTTTTTATAATTATGTACATGTTTTCCTTCTATTCTCAAGAGTCTACAAAAATATATTTTTTCGATATCTAAGTACTAAGTTTTTTTACTGTTTTTGTTACTGTCTTCCATTCTTCTAACTAAAGATC\n",
            "\n",
            "==> SRR19504912_2.fastq <==\n",
            "@SRR19504912.1 1 length=301\n",
            "AGCTAATTCTTTAATCTTTTGATACTTGTTCGTTATTAATTATTAATTATTAATTATTTTAACGGATTTATATTCACGGTAGCAATTTATGGAACTTATATTGGTCATTATTTTTGTCACAGGAACAAACTAATACTATAATGGAGATTAGAAATATGACACCCATAATTGTCAACGCCATTATGATTATATGATAAGTTGCTTCTAACGATTCTATTTCTTGTTCATATTGTACAACGTCTTTCGAGAGTTTGCTCAGATCTGTCTCTGTCTCTGATACACATCTGACGCTGCCGACGAA\n",
            "+SRR19504912.1 1 length=301\n",
            "CCCCCGGGGFGGGGGGGGGGGGGGGGGGGGGGGGGGGGGGFGGGGGGGGGGGGGGGGGFGFGGGGGGDGGGGGGFGDFFGGGGEFGGGGGGGGGGGGGGGFGFFGGGGGGGFGGGGGFFGGGGGGGFFGGGGGFFFGGFFGGGGGGGGGGGGGGGFDFFGFD6CFGFFGFGGCFGGGGGEDFFBDFFFFFF7DDBFFFDFFFFFFFFEB=9DDCDB70C>DEEDEFFFFEBBFEFEEEFFCBFFEFFD@ACAEE@*875@;5;A;E;ACCFE?<A*6>A*>5@F=46<;>FFF92569:09\n",
            "@SRR19504912.2 2 length=301\n",
            "TCCCACCACTTATTACACTATCGTCGGTGCGGGTCTTAACATGAACTTTGGATTCACCAAATGCCCAAAGATTTTATCCATCTCCGAATCCTCTGATGGAAACACTGTGAATACTAGATTGTCCAGCGTGTCACCGGGACAAGGTAAGGACTCTCCCGCGATCACGCGTGAAGAAGCTCTGGCTATGATCAAAGACTGTGAGATGTCTATCGACATCAGATGTAGCGAAGAAGAGAAAGACAGTGACATCAAGACCTGTCCCTTATACACATCTGACGCTGCCGACGAACAGGCAATTGTG\n",
            "+SRR19504912.2 2 length=301\n",
            "ACCCCGGGGGGGGGGGGGFGGGGGGGGGGGGGGGGGGGGGGGGGGGGGGGFFGGGFGGGGGGGGGGGGGGGGGGGGGGGGGG<FFGGGGGGGGGGGGGFFGGGGGGGGGGGGGGGGGFFGGGGGGGGGEGGGGGGGGGGGGGGGFGGGFDFFGEGGGGGGGEFEGGGGGGGG7FGFG2=8;AFFFFFFBFFA<BFF+;FFFFEFFFFEE6>>=BFFEFBE<=?E5@@2>9@FFEFF1;3((63ACEEF33)7=<;F@8)/)5)446<>B>))5>AA23?(,9(,299BB((((((.())-)\n",
            "@SRR19504912.3 3 length=301\n",
            "TTGTATAATTTATCTCAGATCTTTAGTTAGAAGAATGGAAGACAGTAACAAAAACAGTAAAAAAACTTAGTACTTAGATATCGAAAAAATATATTTTTGTAGACTCTTGAGAATAGAAGGAAAACATGTACATAATTATAAAAAATGAAAATCAATGGCGAATAAGACAGTGCGATGCGCACCATGGAGTCGGTAGATTTCATGGCTGTCGATGAGCAGTTTCACGACGACCTCGATCTTTGGTCATTATCTTTGGTAGATGATTATAAAAAACATGGATTAGGTGTTGACTGTTATTTTT\n"
          ]
        }
      ]
    },
    {
      "cell_type": "code",
      "source": [
        "!ls -l\n",
        "!pwd"
      ],
      "metadata": {
        "colab": {
          "base_uri": "https://localhost:8080/"
        },
        "id": "fr-euVYyTM7r",
        "outputId": "01db0d15-f675-45de-8ab1-a08f573ab6bc"
      },
      "execution_count": null,
      "outputs": [
        {
          "output_type": "stream",
          "name": "stdout",
          "text": [
            "total 491308\n",
            "-rw-r--r-- 1 root root     16312 Nov 10 06:41 condacolab_install.log\n",
            "drwxr-xr-x 1 root root      4096 Nov  9 00:03 sample_data\n",
            "drwxrwxr-x 5 root root      4096 Feb  9  2022 sratoolkit.3.0.0-ubuntu64\n",
            "-rw-r--r-- 1 root root  85777118 Feb 10  2022 sratoolkit.tar.gz\n",
            "-rw-r--r-- 1 root root 208105460 Nov 10 06:38 SRR19504912_1.fastq\n",
            "-rw-r--r-- 1 root root    251238 Nov 10 06:44 SRR19504912_1_fastqc.html\n",
            "-rw-r--r-- 1 root root    276192 Nov 10 06:44 SRR19504912_1_fastqc.zip\n",
            "-rw-r--r-- 1 root root 208105460 Nov 10 06:38 SRR19504912_2.fastq\n",
            "-rw-r--r-- 1 root root    255500 Nov 10 06:44 SRR19504912_2_fastqc.html\n",
            "-rw-r--r-- 1 root root    285663 Nov 10 06:44 SRR19504912_2_fastqc.zip\n",
            "/content\n"
          ]
        }
      ]
    },
    {
      "cell_type": "markdown",
      "source": [
        "We are most interested in the HTML files, which contain the FastQC reports for our two fastq files. To view the output, you will need to download and use the html file. To do so, click the \"three dots\" you will see when hovering over the .html file with your mouse pointer and download it, then open your download in a browser \n",
        "\n",
        "![Screenshot 2022-10-24 at 16.48.48.png](data:image/png;base64,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)"
      ],
      "metadata": {
        "id": "PSOskAWQrC11"
      }
    },
    {
      "cell_type": "markdown",
      "source": [
        "You should then see something like this:\n",
        "\n",
        "![enter image description here](https://github.com/WCSCourses/ViralBioinfAsia2022/raw/main/course_data/NGS_file_formats_and_data_QC/images/Screenshot%202022-07-31%20at%2015.28.02.png)\n",
        "\n",
        "Note that there are two tabs in the Firefox web browser; there is one for the QC report for *SRR19504912_1.fastq*  and another for *SRR19504912_2.fastq*.\n",
        "\n",
        "There is a lot of QC information in these reports. Feel free to explore these in your own time and take a look at the FastQC homepage at https://www.bioinformatics.babraham.ac.uk/projects/fastqc/ and see the tutorial video at http://www.youtube.com/watch?v=bz93ReOv87Y.\n",
        "\n",
        "For now, we are just going to look at\n",
        "- Basic statistics\n",
        "- Per-base sequence quality \n",
        "- Adapter content"
      ],
      "metadata": {
        "id": "qbMjm0Z-RBh1"
      }
    },
    {
      "cell_type": "markdown",
      "source": [
        "### Questions:\n",
        "\n",
        " - How many sequence reads are there? Does your answer match your\n",
        "   previous answer (based on `wc -l`) ?\n",
        "\n",
        "  Ans- Yes, 306691\n",
        " - With respect to quality scores, which of the two files has better-quality data: *SRR19504912_1.fastq* or *SRR19504912_2.fastq*.\n",
        " \n",
        " Ans- SRR19504912_1.fastq ha better quality scores\n",
        "\n",
        " - Are these datasets contaminated with any Illumina sequencing adapter oligonucleotides?\n",
        "\n",
        " Ans- No, they are not contaminated by any Illumina sequencing adapters\n",
        "\n"
      ],
      "metadata": {
        "id": "j5esVvTPRN7G"
      }
    },
    {
      "cell_type": "markdown",
      "source": [
        "Add your answers to the questions here: (double click a text block to edit) \n",
        "\n",
        "Sequence reads: 306691\n",
        "\n",
        "Quality: phred score above 30\n",
        "\n",
        "Contamination: Nextera transposase sequence adapter"
      ],
      "metadata": {
        "id": "bplC-_AhRU_5"
      }
    },
    {
      "cell_type": "markdown",
      "source": [
        "## Trimming and filtering to remove poor-quality data\n",
        "\n",
        "When you inspected the FastQC reports, you probably noticed that *SRR19504912_1.fastq* and *SRR19504912_2.fastq* include some sequence reads that contain very poor quality scores and some reads that are derived from the Illumina adapters rather than from the target viral nucleotide sequences. Now, we are going to look at how we can remove poor data and contamination by trimming and filtering. We will use [TrimGalore](https://www.bioinformatics.babraham.ac.uk/projects/trim_galore/) by executing the following command"
      ],
      "metadata": {
        "id": "Ugyug1QjRu_5"
      }
    },
    {
      "cell_type": "code",
      "source": [
        "!trim_galore -q 25 --length 50 --paired SRR19504912_1.fastq SRR19504912_2.fastq"
      ],
      "metadata": {
        "id": "sIok1rkfRuQf",
        "colab": {
          "base_uri": "https://localhost:8080/"
        },
        "outputId": "224ff351-e803-45e5-cf4b-fcd2583fe77c"
      },
      "execution_count": null,
      "outputs": [
        {
          "output_type": "stream",
          "name": "stdout",
          "text": [
            "Multicore support not enabled. Proceeding with single-core trimming.\n",
            "Path to Cutadapt set as: 'cutadapt' (default)\n",
            "Cutadapt seems to be working fine (tested command 'cutadapt --version')\n",
            "Cutadapt version: 1.18\n",
            "single-core operation.\n",
            "No quality encoding type selected. Assuming that the data provided uses Sanger encoded Phred scores (default)\n",
            "\n",
            "\n",
            "\n",
            "AUTO-DETECTING ADAPTER TYPE\n",
            "===========================\n",
            "Attempting to auto-detect adapter type from the first 1 million sequences of the first file (>> SRR19504912_1.fastq <<)\n",
            "\n",
            "Found perfect matches for the following adapter sequences:\n",
            "Adapter type\tCount\tSequence\tSequences analysed\tPercentage\n",
            "Nextera\t114733\tCTGTCTCTTATA\t306691\t37.41\n",
            "Illumina\t0\tAGATCGGAAGAGC\t306691\t0.00\n",
            "smallRNA\t0\tTGGAATTCTCGG\t306691\t0.00\n",
            "Using Nextera adapter for trimming (count: 114733). Second best hit was Illumina (count: 0)\n",
            "\n",
            "Writing report to 'SRR19504912_1.fastq_trimming_report.txt'\n",
            "\n",
            "SUMMARISING RUN PARAMETERS\n",
            "==========================\n",
            "Input filename: SRR19504912_1.fastq\n",
            "Trimming mode: paired-end\n",
            "Trim Galore version: 0.6.7\n",
            "Cutadapt version: 1.18\n",
            "Number of cores used for trimming: 1\n",
            "Quality Phred score cutoff: 25\n",
            "Quality encoding type selected: ASCII+33\n",
            "Adapter sequence: 'CTGTCTCTTATA' (Nextera Transposase sequence; auto-detected)\n",
            "Maximum trimming error rate: 0.1 (default)\n",
            "Minimum required adapter overlap (stringency): 1 bp\n",
            "Minimum required sequence length for both reads before a sequence pair gets removed: 50 bp\n",
            "\n",
            "Cutadapt seems to be reasonably up-to-date. Setting -j 1\n",
            "Writing final adapter and quality trimmed output to SRR19504912_1_trimmed.fq\n",
            "\n",
            "\n",
            "  >>> Now performing quality (cutoff '-q 25') and adapter trimming in a single pass for the adapter sequence: 'CTGTCTCTTATA' from file SRR19504912_1.fastq <<< \n",
            "This is cutadapt 1.18 with Python 3.7.12\n",
            "Command line parameters: -j 1 -e 0.1 -q 25 -O 1 -a CTGTCTCTTATA SRR19504912_1.fastq\n",
            "Processing reads on 1 core in single-end mode ...\n",
            "Finished in 6.67 s (22 us/read; 2.76 M reads/minute).\n",
            "\n",
            "=== Summary ===\n",
            "\n",
            "Total reads processed:                 306,691\n",
            "Reads with adapters:                   163,175 (53.2%)\n",
            "Reads written (passing filters):       306,691 (100.0%)\n",
            "\n",
            "Total basepairs processed:    92,313,991 bp\n",
            "Quality-trimmed:               6,096,607 bp (6.6%)\n",
            "Total written (filtered):     80,026,280 bp (86.7%)\n",
            "\n",
            "=== Adapter 1 ===\n",
            "\n",
            "Sequence: CTGTCTCTTATA; Type: regular 3'; Length: 12; Trimmed: 163175 times.\n",
            "\n",
            "No. of allowed errors:\n",
            "0-9 bp: 0; 10-12 bp: 1\n",
            "\n",
            "Bases preceding removed adapters:\n",
            "  A: 16.7%\n",
            "  C: 33.0%\n",
            "  G: 19.5%\n",
            "  T: 30.8%\n",
            "  none/other: 0.0%\n",
            "\n",
            "Overview of removed sequences\n",
            "length\tcount\texpect\tmax.err\terror counts\n",
            "1\t25566\t76672.8\t0\t25566\n",
            "2\t10824\t19168.2\t0\t10824\n",
            "3\t2505\t4792.0\t0\t2505\n",
            "4\t1945\t1198.0\t0\t1945\n",
            "5\t1188\t299.5\t0\t1188\n",
            "6\t998\t74.9\t0\t998\n",
            "7\t391\t18.7\t0\t391\n",
            "8\t1259\t4.7\t0\t1259\n",
            "9\t2208\t1.2\t0\t2198 10\n",
            "10\t802\t0.3\t1\t768 34\n",
            "11\t1727\t0.1\t1\t1675 52\n",
            "12\t1697\t0.0\t1\t1640 57\n",
            "13\t1360\t0.0\t1\t1304 56\n",
            "14\t1627\t0.0\t1\t1542 85\n",
            "15\t1284\t0.0\t1\t1246 38\n",
            "16\t1366\t0.0\t1\t1294 72\n",
            "17\t1734\t0.0\t1\t1662 72\n",
            "18\t1162\t0.0\t1\t1091 71\n",
            "19\t1271\t0.0\t1\t1216 55\n",
            "20\t1079\t0.0\t1\t1013 66\n",
            "21\t3022\t0.0\t1\t2901 121\n",
            "22\t1310\t0.0\t1\t1251 59\n",
            "23\t1477\t0.0\t1\t1412 65\n",
            "24\t503\t0.0\t1\t464 39\n",
            "25\t880\t0.0\t1\t838 42\n",
            "26\t1537\t0.0\t1\t1454 83\n",
            "27\t1808\t0.0\t1\t1754 54\n",
            "28\t713\t0.0\t1\t671 42\n",
            "29\t2053\t0.0\t1\t1975 78\n",
            "30\t1397\t0.0\t1\t1324 73\n",
            "31\t1362\t0.0\t1\t1287 75\n",
            "32\t734\t0.0\t1\t688 46\n",
            "33\t705\t0.0\t1\t657 48\n",
            "34\t630\t0.0\t1\t567 63\n",
            "35\t1348\t0.0\t1\t1255 93\n",
            "36\t1992\t0.0\t1\t1815 177\n",
            "37\t1850\t0.0\t1\t1704 146\n",
            "38\t1237\t0.0\t1\t1152 85\n",
            "39\t804\t0.0\t1\t726 78\n",
            "40\t764\t0.0\t1\t718 46\n",
            "41\t652\t0.0\t1\t593 59\n",
            "42\t990\t0.0\t1\t915 75\n",
            "43\t1641\t0.0\t1\t1569 72\n",
            "44\t1473\t0.0\t1\t1388 85\n",
            "45\t3548\t0.0\t1\t3388 160\n",
            "46\t926\t0.0\t1\t889 37\n",
            "47\t490\t0.0\t1\t478 12\n",
            "48\t510\t0.0\t1\t487 23\n",
            "49\t809\t0.0\t1\t782 27\n",
            "50\t671\t0.0\t1\t636 35\n",
            "51\t1096\t0.0\t1\t1044 52\n",
            "52\t492\t0.0\t1\t467 25\n",
            "53\t1092\t0.0\t1\t1049 43\n",
            "54\t642\t0.0\t1\t610 32\n",
            "55\t993\t0.0\t1\t933 60\n",
            "56\t1810\t0.0\t1\t1706 104\n",
            "57\t1314\t0.0\t1\t1246 68\n",
            "58\t907\t0.0\t1\t853 54\n",
            "59\t805\t0.0\t1\t768 37\n",
            "60\t1059\t0.0\t1\t1003 56\n",
            "61\t935\t0.0\t1\t891 44\n",
            "62\t863\t0.0\t1\t816 47\n",
            "63\t1016\t0.0\t1\t952 64\n",
            "64\t853\t0.0\t1\t805 48\n",
            "65\t1094\t0.0\t1\t1018 76\n",
            "66\t1815\t0.0\t1\t1705 110\n",
            "67\t1580\t0.0\t1\t1465 115\n",
            "68\t2440\t0.0\t1\t2312 128\n",
            "69\t1137\t0.0\t1\t1072 65\n",
            "70\t1135\t0.0\t1\t1068 67\n",
            "71\t1449\t0.0\t1\t1377 72\n",
            "72\t1589\t0.0\t1\t1479 110\n",
            "73\t1698\t0.0\t1\t1630 68\n",
            "74\t1869\t0.0\t1\t1782 87\n",
            "75\t2197\t0.0\t1\t2116 81\n",
            "76\t2533\t0.0\t1\t2433 100\n",
            "77\t4232\t0.0\t1\t4063 169\n",
            "78\t19482\t0.0\t1\t18728 754\n",
            "79\t4011\t0.0\t1\t3824 187\n",
            "80\t464\t0.0\t1\t425 39\n",
            "81\t119\t0.0\t1\t108 11\n",
            "82\t55\t0.0\t1\t46 9\n",
            "83\t29\t0.0\t1\t28 1\n",
            "84\t16\t0.0\t1\t15 1\n",
            "85\t10\t0.0\t1\t10\n",
            "86\t9\t0.0\t1\t8 1\n",
            "87\t9\t0.0\t1\t7 2\n",
            "88\t10\t0.0\t1\t9 1\n",
            "89\t5\t0.0\t1\t4 1\n",
            "90\t5\t0.0\t1\t3 2\n",
            "91\t6\t0.0\t1\t4 2\n",
            "92\t4\t0.0\t1\t4\n",
            "93\t1\t0.0\t1\t1\n",
            "94\t3\t0.0\t1\t1 2\n",
            "95\t9\t0.0\t1\t8 1\n",
            "96\t3\t0.0\t1\t3\n",
            "97\t6\t0.0\t1\t4 2\n",
            "98\t4\t0.0\t1\t4\n",
            "99\t6\t0.0\t1\t6\n",
            "100\t2\t0.0\t1\t2\n",
            "101\t10\t0.0\t1\t5 5\n",
            "102\t6\t0.0\t1\t5 1\n",
            "103\t1\t0.0\t1\t1\n",
            "104\t8\t0.0\t1\t7 1\n",
            "105\t6\t0.0\t1\t2 4\n",
            "106\t8\t0.0\t1\t4 4\n",
            "107\t7\t0.0\t1\t6 1\n",
            "108\t19\t0.0\t1\t16 3\n",
            "109\t6\t0.0\t1\t6\n",
            "110\t6\t0.0\t1\t3 3\n",
            "111\t5\t0.0\t1\t3 2\n",
            "112\t1\t0.0\t1\t1\n",
            "113\t2\t0.0\t1\t2\n",
            "114\t3\t0.0\t1\t2 1\n",
            "115\t4\t0.0\t1\t2 2\n",
            "116\t2\t0.0\t1\t2\n",
            "117\t10\t0.0\t1\t2 8\n",
            "119\t3\t0.0\t1\t2 1\n",
            "120\t5\t0.0\t1\t4 1\n",
            "121\t5\t0.0\t1\t3 2\n",
            "122\t2\t0.0\t1\t1 1\n",
            "123\t4\t0.0\t1\t2 2\n",
            "124\t3\t0.0\t1\t1 2\n",
            "125\t4\t0.0\t1\t2 2\n",
            "126\t4\t0.0\t1\t2 2\n",
            "127\t6\t0.0\t1\t5 1\n",
            "128\t3\t0.0\t1\t0 3\n",
            "129\t3\t0.0\t1\t1 2\n",
            "130\t3\t0.0\t1\t0 3\n",
            "131\t6\t0.0\t1\t1 5\n",
            "132\t2\t0.0\t1\t0 2\n",
            "133\t2\t0.0\t1\t0 2\n",
            "134\t2\t0.0\t1\t0 2\n",
            "135\t1\t0.0\t1\t1\n",
            "136\t7\t0.0\t1\t3 4\n",
            "137\t2\t0.0\t1\t2\n",
            "138\t2\t0.0\t1\t0 2\n",
            "139\t13\t0.0\t1\t0 13\n",
            "140\t6\t0.0\t1\t2 4\n",
            "141\t1\t0.0\t1\t0 1\n",
            "142\t1\t0.0\t1\t0 1\n",
            "144\t3\t0.0\t1\t1 2\n",
            "145\t6\t0.0\t1\t1 5\n",
            "147\t1\t0.0\t1\t0 1\n",
            "148\t2\t0.0\t1\t2\n",
            "149\t1\t0.0\t1\t1\n",
            "150\t2\t0.0\t1\t1 1\n",
            "151\t3\t0.0\t1\t2 1\n",
            "152\t3\t0.0\t1\t2 1\n",
            "153\t3\t0.0\t1\t3\n",
            "154\t3\t0.0\t1\t3\n",
            "155\t1\t0.0\t1\t0 1\n",
            "156\t2\t0.0\t1\t2\n",
            "158\t2\t0.0\t1\t1 1\n",
            "159\t2\t0.0\t1\t0 2\n",
            "160\t2\t0.0\t1\t1 1\n",
            "161\t3\t0.0\t1\t2 1\n",
            "162\t2\t0.0\t1\t0 2\n",
            "163\t8\t0.0\t1\t4 4\n",
            "164\t4\t0.0\t1\t2 2\n",
            "166\t1\t0.0\t1\t1\n",
            "167\t1\t0.0\t1\t1\n",
            "168\t5\t0.0\t1\t0 5\n",
            "169\t4\t0.0\t1\t1 3\n",
            "170\t2\t0.0\t1\t1 1\n",
            "171\t2\t0.0\t1\t0 2\n",
            "172\t2\t0.0\t1\t0 2\n",
            "173\t2\t0.0\t1\t1 1\n",
            "175\t1\t0.0\t1\t0 1\n",
            "176\t2\t0.0\t1\t2\n",
            "177\t1\t0.0\t1\t1\n",
            "178\t3\t0.0\t1\t0 3\n",
            "179\t4\t0.0\t1\t4\n",
            "180\t2\t0.0\t1\t1 1\n",
            "183\t4\t0.0\t1\t0 4\n",
            "185\t2\t0.0\t1\t2\n",
            "188\t2\t0.0\t1\t1 1\n",
            "189\t3\t0.0\t1\t2 1\n",
            "190\t2\t0.0\t1\t1 1\n",
            "191\t3\t0.0\t1\t1 2\n",
            "193\t1\t0.0\t1\t1\n",
            "195\t5\t0.0\t1\t1 4\n",
            "196\t2\t0.0\t1\t1 1\n",
            "197\t1\t0.0\t1\t0 1\n",
            "200\t1\t0.0\t1\t0 1\n",
            "201\t2\t0.0\t1\t2\n",
            "202\t1\t0.0\t1\t1\n",
            "203\t1\t0.0\t1\t1\n",
            "205\t2\t0.0\t1\t0 2\n",
            "206\t4\t0.0\t1\t2 2\n",
            "208\t1\t0.0\t1\t1\n",
            "211\t2\t0.0\t1\t1 1\n",
            "212\t1\t0.0\t1\t1\n",
            "213\t1\t0.0\t1\t1\n",
            "214\t2\t0.0\t1\t2\n",
            "215\t1\t0.0\t1\t0 1\n",
            "216\t1\t0.0\t1\t1\n",
            "219\t1\t0.0\t1\t0 1\n",
            "222\t1\t0.0\t1\t0 1\n",
            "223\t1\t0.0\t1\t1\n",
            "224\t1\t0.0\t1\t0 1\n",
            "226\t1\t0.0\t1\t0 1\n",
            "228\t6\t0.0\t1\t0 6\n",
            "229\t2\t0.0\t1\t1 1\n",
            "230\t1\t0.0\t1\t1\n",
            "232\t1\t0.0\t1\t0 1\n",
            "233\t1\t0.0\t1\t0 1\n",
            "235\t1\t0.0\t1\t1\n",
            "236\t2\t0.0\t1\t1 1\n",
            "237\t5\t0.0\t1\t2 3\n",
            "238\t1\t0.0\t1\t1\n",
            "239\t1\t0.0\t1\t0 1\n",
            "240\t1\t0.0\t1\t0 1\n",
            "244\t1\t0.0\t1\t0 1\n",
            "245\t1\t0.0\t1\t0 1\n",
            "246\t5\t0.0\t1\t0 5\n",
            "247\t2\t0.0\t1\t1 1\n",
            "248\t2\t0.0\t1\t1 1\n",
            "250\t1\t0.0\t1\t0 1\n",
            "253\t1\t0.0\t1\t0 1\n",
            "256\t4\t0.0\t1\t1 3\n",
            "257\t6\t0.0\t1\t0 6\n",
            "258\t1\t0.0\t1\t0 1\n",
            "259\t2\t0.0\t1\t1 1\n",
            "261\t2\t0.0\t1\t0 2\n",
            "262\t1\t0.0\t1\t0 1\n",
            "264\t2\t0.0\t1\t1 1\n",
            "265\t1\t0.0\t1\t1\n",
            "267\t2\t0.0\t1\t1 1\n",
            "270\t1\t0.0\t1\t0 1\n",
            "271\t1\t0.0\t1\t0 1\n",
            "274\t3\t0.0\t1\t0 3\n",
            "275\t1\t0.0\t1\t0 1\n",
            "276\t4\t0.0\t1\t0 4\n",
            "277\t1\t0.0\t1\t0 1\n",
            "278\t1\t0.0\t1\t0 1\n",
            "279\t1\t0.0\t1\t0 1\n",
            "280\t1\t0.0\t1\t0 1\n",
            "281\t4\t0.0\t1\t0 4\n",
            "283\t3\t0.0\t1\t0 3\n",
            "284\t1\t0.0\t1\t0 1\n",
            "285\t1\t0.0\t1\t0 1\n",
            "287\t1\t0.0\t1\t0 1\n",
            "288\t3\t0.0\t1\t0 3\n",
            "290\t2\t0.0\t1\t0 2\n",
            "291\t5\t0.0\t1\t0 5\n",
            "292\t1\t0.0\t1\t0 1\n",
            "293\t1\t0.0\t1\t0 1\n",
            "294\t3\t0.0\t1\t0 3\n",
            "295\t8\t0.0\t1\t0 8\n",
            "296\t1\t0.0\t1\t0 1\n",
            "\n",
            "\n",
            "RUN STATISTICS FOR INPUT FILE: SRR19504912_1.fastq\n",
            "=============================================\n",
            "306691 sequences processed in total\n",
            "The length threshold of paired-end sequences gets evaluated later on (in the validation step)\n",
            "\n",
            "Writing report to 'SRR19504912_2.fastq_trimming_report.txt'\n",
            "\n",
            "SUMMARISING RUN PARAMETERS\n",
            "==========================\n",
            "Input filename: SRR19504912_2.fastq\n",
            "Trimming mode: paired-end\n",
            "Trim Galore version: 0.6.7\n",
            "Cutadapt version: 1.18\n",
            "Number of cores used for trimming: 1\n",
            "Quality Phred score cutoff: 25\n",
            "Quality encoding type selected: ASCII+33\n",
            "Adapter sequence: 'CTGTCTCTTATA' (Nextera Transposase sequence; auto-detected)\n",
            "Maximum trimming error rate: 0.1 (default)\n",
            "Minimum required adapter overlap (stringency): 1 bp\n",
            "Minimum required sequence length for both reads before a sequence pair gets removed: 50 bp\n",
            "\n",
            "Cutadapt seems to be reasonably up-to-date. Setting -j -j 1\n",
            "Writing final adapter and quality trimmed output to SRR19504912_2_trimmed.fq\n",
            "\n",
            "\n",
            "  >>> Now performing quality (cutoff '-q 25') and adapter trimming in a single pass for the adapter sequence: 'CTGTCTCTTATA' from file SRR19504912_2.fastq <<< \n",
            "This is cutadapt 1.18 with Python 3.7.12\n",
            "Command line parameters: -j 1 -e 0.1 -q 25 -O 1 -a CTGTCTCTTATA SRR19504912_2.fastq\n",
            "Processing reads on 1 core in single-end mode ...\n",
            "Finished in 7.09 s (23 us/read; 2.59 M reads/minute).\n",
            "\n",
            "=== Summary ===\n",
            "\n",
            "Total reads processed:                 306,691\n",
            "Reads with adapters:                   143,126 (46.7%)\n",
            "Reads written (passing filters):       306,691 (100.0%)\n",
            "\n",
            "Total basepairs processed:    92,313,991 bp\n",
            "Quality-trimmed:              15,461,501 bp (16.7%)\n",
            "Total written (filtered):     73,454,974 bp (79.6%)\n",
            "\n",
            "=== Adapter 1 ===\n",
            "\n",
            "Sequence: CTGTCTCTTATA; Type: regular 3'; Length: 12; Trimmed: 143126 times.\n",
            "\n",
            "No. of allowed errors:\n",
            "0-9 bp: 0; 10-12 bp: 1\n",
            "\n",
            "Bases preceding removed adapters:\n",
            "  A: 19.3%\n",
            "  C: 30.9%\n",
            "  G: 18.5%\n",
            "  T: 31.3%\n",
            "  none/other: 0.0%\n",
            "\n",
            "Overview of removed sequences\n",
            "length\tcount\texpect\tmax.err\terror counts\n",
            "1\t34835\t76672.8\t0\t34835\n",
            "2\t10864\t19168.2\t0\t10864\n",
            "3\t2797\t4792.0\t0\t2797\n",
            "4\t1830\t1198.0\t0\t1830\n",
            "5\t1271\t299.5\t0\t1271\n",
            "6\t618\t74.9\t0\t618\n",
            "7\t381\t18.7\t0\t381\n",
            "8\t727\t4.7\t0\t727\n",
            "9\t1754\t1.2\t0\t1748 6\n",
            "10\t841\t0.3\t1\t777 64\n",
            "11\t1918\t0.1\t1\t1804 114\n",
            "12\t2018\t0.0\t1\t1921 97\n",
            "13\t1571\t0.0\t1\t1472 99\n",
            "14\t1434\t0.0\t1\t1326 108\n",
            "15\t1588\t0.0\t1\t1472 116\n",
            "16\t1473\t0.0\t1\t1371 102\n",
            "17\t1700\t0.0\t1\t1585 115\n",
            "18\t923\t0.0\t1\t844 79\n",
            "19\t1888\t0.0\t1\t1753 135\n",
            "20\t1417\t0.0\t1\t1321 96\n",
            "21\t1161\t0.0\t1\t1075 86\n",
            "22\t1866\t0.0\t1\t1719 147\n",
            "23\t1603\t0.0\t1\t1480 123\n",
            "24\t1298\t0.0\t1\t1198 100\n",
            "25\t1298\t0.0\t1\t1217 81\n",
            "26\t1006\t0.0\t1\t950 56\n",
            "27\t1309\t0.0\t1\t1233 76\n",
            "28\t2153\t0.0\t1\t2023 130\n",
            "29\t2385\t0.0\t1\t2289 96\n",
            "30\t1085\t0.0\t1\t1036 49\n",
            "31\t1885\t0.0\t1\t1807 78\n",
            "32\t1959\t0.0\t1\t1888 71\n",
            "33\t2637\t0.0\t1\t2557 80\n",
            "34\t1889\t0.0\t1\t1822 67\n",
            "35\t2235\t0.0\t1\t2174 61\n",
            "36\t2453\t0.0\t1\t2379 74\n",
            "37\t2969\t0.0\t1\t2883 86\n",
            "38\t1957\t0.0\t1\t1895 62\n",
            "39\t1938\t0.0\t1\t1889 49\n",
            "40\t1584\t0.0\t1\t1539 45\n",
            "41\t2078\t0.0\t1\t2020 58\n",
            "42\t1554\t0.0\t1\t1515 39\n",
            "43\t2796\t0.0\t1\t2734 62\n",
            "44\t1821\t0.0\t1\t1765 56\n",
            "45\t2721\t0.0\t1\t2669 52\n",
            "46\t1393\t0.0\t1\t1363 30\n",
            "47\t2323\t0.0\t1\t2266 57\n",
            "48\t2049\t0.0\t1\t1994 55\n",
            "49\t2178\t0.0\t1\t2135 43\n",
            "50\t1028\t0.0\t1\t1008 20\n",
            "51\t1159\t0.0\t1\t1129 30\n",
            "52\t560\t0.0\t1\t548 12\n",
            "53\t819\t0.0\t1\t798 21\n",
            "54\t758\t0.0\t1\t744 14\n",
            "55\t810\t0.0\t1\t789 21\n",
            "56\t772\t0.0\t1\t749 23\n",
            "57\t432\t0.0\t1\t421 11\n",
            "58\t580\t0.0\t1\t562 18\n",
            "59\t824\t0.0\t1\t802 22\n",
            "60\t631\t0.0\t1\t619 12\n",
            "61\t320\t0.0\t1\t309 11\n",
            "62\t361\t0.0\t1\t348 13\n",
            "63\t257\t0.0\t1\t242 15\n",
            "64\t215\t0.0\t1\t208 7\n",
            "65\t644\t0.0\t1\t628 16\n",
            "66\t305\t0.0\t1\t297 8\n",
            "67\t125\t0.0\t1\t111 14\n",
            "68\t67\t0.0\t1\t62 5\n",
            "69\t111\t0.0\t1\t101 10\n",
            "70\t77\t0.0\t1\t74 3\n",
            "71\t76\t0.0\t1\t71 5\n",
            "72\t101\t0.0\t1\t98 3\n",
            "73\t45\t0.0\t1\t42 3\n",
            "74\t56\t0.0\t1\t54 2\n",
            "75\t53\t0.0\t1\t51 2\n",
            "76\t80\t0.0\t1\t75 5\n",
            "77\t115\t0.0\t1\t109 6\n",
            "78\t179\t0.0\t1\t172 7\n",
            "79\t191\t0.0\t1\t186 5\n",
            "80\t342\t0.0\t1\t333 9\n",
            "81\t521\t0.0\t1\t508 13\n",
            "82\t1731\t0.0\t1\t1694 37\n",
            "83\t774\t0.0\t1\t764 10\n",
            "84\t153\t0.0\t1\t151 2\n",
            "85\t67\t0.0\t1\t62 5\n",
            "86\t22\t0.0\t1\t21 1\n",
            "87\t8\t0.0\t1\t7 1\n",
            "88\t4\t0.0\t1\t3 1\n",
            "89\t1\t0.0\t1\t0 1\n",
            "90\t4\t0.0\t1\t2 2\n",
            "91\t2\t0.0\t1\t1 1\n",
            "92\t4\t0.0\t1\t3 1\n",
            "93\t3\t0.0\t1\t2 1\n",
            "95\t2\t0.0\t1\t0 2\n",
            "96\t3\t0.0\t1\t3\n",
            "97\t2\t0.0\t1\t0 2\n",
            "99\t1\t0.0\t1\t0 1\n",
            "100\t3\t0.0\t1\t0 3\n",
            "101\t5\t0.0\t1\t1 4\n",
            "102\t1\t0.0\t1\t0 1\n",
            "103\t3\t0.0\t1\t2 1\n",
            "104\t2\t0.0\t1\t2\n",
            "105\t1\t0.0\t1\t1\n",
            "106\t3\t0.0\t1\t1 2\n",
            "107\t1\t0.0\t1\t0 1\n",
            "108\t4\t0.0\t1\t0 4\n",
            "109\t6\t0.0\t1\t0 6\n",
            "110\t5\t0.0\t1\t2 3\n",
            "111\t3\t0.0\t1\t1 2\n",
            "112\t3\t0.0\t1\t1 2\n",
            "113\t1\t0.0\t1\t1\n",
            "114\t5\t0.0\t1\t2 3\n",
            "115\t1\t0.0\t1\t1\n",
            "116\t4\t0.0\t1\t1 3\n",
            "117\t3\t0.0\t1\t0 3\n",
            "119\t3\t0.0\t1\t0 3\n",
            "120\t5\t0.0\t1\t0 5\n",
            "121\t3\t0.0\t1\t2 1\n",
            "123\t3\t0.0\t1\t0 3\n",
            "124\t2\t0.0\t1\t0 2\n",
            "125\t2\t0.0\t1\t1 1\n",
            "127\t3\t0.0\t1\t1 2\n",
            "129\t3\t0.0\t1\t0 3\n",
            "130\t1\t0.0\t1\t0 1\n",
            "131\t2\t0.0\t1\t0 2\n",
            "132\t3\t0.0\t1\t0 3\n",
            "133\t5\t0.0\t1\t1 4\n",
            "134\t1\t0.0\t1\t0 1\n",
            "135\t1\t0.0\t1\t0 1\n",
            "136\t3\t0.0\t1\t0 3\n",
            "137\t1\t0.0\t1\t0 1\n",
            "138\t2\t0.0\t1\t0 2\n",
            "139\t8\t0.0\t1\t0 8\n",
            "140\t2\t0.0\t1\t0 2\n",
            "141\t3\t0.0\t1\t1 2\n",
            "143\t3\t0.0\t1\t0 3\n",
            "144\t2\t0.0\t1\t0 2\n",
            "145\t5\t0.0\t1\t2 3\n",
            "146\t1\t0.0\t1\t0 1\n",
            "148\t2\t0.0\t1\t0 2\n",
            "149\t2\t0.0\t1\t1 1\n",
            "151\t4\t0.0\t1\t1 3\n",
            "152\t1\t0.0\t1\t0 1\n",
            "156\t2\t0.0\t1\t0 2\n",
            "157\t2\t0.0\t1\t0 2\n",
            "158\t2\t0.0\t1\t0 2\n",
            "159\t6\t0.0\t1\t0 6\n",
            "160\t3\t0.0\t1\t0 3\n",
            "161\t4\t0.0\t1\t0 4\n",
            "162\t3\t0.0\t1\t1 2\n",
            "163\t1\t0.0\t1\t0 1\n",
            "166\t2\t0.0\t1\t0 2\n",
            "167\t1\t0.0\t1\t0 1\n",
            "168\t3\t0.0\t1\t1 2\n",
            "170\t1\t0.0\t1\t0 1\n",
            "173\t2\t0.0\t1\t0 2\n",
            "174\t1\t0.0\t1\t0 1\n",
            "175\t2\t0.0\t1\t0 2\n",
            "176\t2\t0.0\t1\t1 1\n",
            "180\t2\t0.0\t1\t0 2\n",
            "181\t1\t0.0\t1\t0 1\n",
            "182\t3\t0.0\t1\t0 3\n",
            "183\t1\t0.0\t1\t0 1\n",
            "186\t2\t0.0\t1\t1 1\n",
            "187\t3\t0.0\t1\t1 2\n",
            "188\t2\t0.0\t1\t0 2\n",
            "189\t4\t0.0\t1\t1 3\n",
            "190\t1\t0.0\t1\t0 1\n",
            "191\t3\t0.0\t1\t0 3\n",
            "192\t1\t0.0\t1\t0 1\n",
            "193\t2\t0.0\t1\t0 2\n",
            "195\t3\t0.0\t1\t1 2\n",
            "196\t2\t0.0\t1\t0 2\n",
            "197\t3\t0.0\t1\t0 3\n",
            "198\t3\t0.0\t1\t0 3\n",
            "199\t2\t0.0\t1\t0 2\n",
            "200\t2\t0.0\t1\t1 1\n",
            "201\t1\t0.0\t1\t0 1\n",
            "202\t2\t0.0\t1\t1 1\n",
            "204\t1\t0.0\t1\t0 1\n",
            "205\t1\t0.0\t1\t0 1\n",
            "207\t2\t0.0\t1\t2\n",
            "208\t1\t0.0\t1\t0 1\n",
            "209\t2\t0.0\t1\t1 1\n",
            "210\t1\t0.0\t1\t0 1\n",
            "211\t2\t0.0\t1\t0 2\n",
            "214\t1\t0.0\t1\t0 1\n",
            "215\t1\t0.0\t1\t0 1\n",
            "218\t2\t0.0\t1\t0 2\n",
            "219\t2\t0.0\t1\t0 2\n",
            "220\t2\t0.0\t1\t0 2\n",
            "224\t1\t0.0\t1\t1\n",
            "225\t2\t0.0\t1\t1 1\n",
            "228\t1\t0.0\t1\t0 1\n",
            "229\t1\t0.0\t1\t1\n",
            "230\t1\t0.0\t1\t0 1\n",
            "231\t1\t0.0\t1\t1\n",
            "232\t2\t0.0\t1\t0 2\n",
            "234\t1\t0.0\t1\t0 1\n",
            "235\t1\t0.0\t1\t0 1\n",
            "238\t2\t0.0\t1\t0 2\n",
            "239\t1\t0.0\t1\t1\n",
            "241\t3\t0.0\t1\t0 3\n",
            "242\t4\t0.0\t1\t0 4\n",
            "244\t1\t0.0\t1\t0 1\n",
            "245\t4\t0.0\t1\t0 4\n",
            "246\t1\t0.0\t1\t0 1\n",
            "247\t5\t0.0\t1\t0 5\n",
            "248\t1\t0.0\t1\t0 1\n",
            "249\t1\t0.0\t1\t1\n",
            "255\t2\t0.0\t1\t0 2\n",
            "256\t5\t0.0\t1\t1 4\n",
            "257\t2\t0.0\t1\t0 2\n",
            "258\t1\t0.0\t1\t1\n",
            "260\t1\t0.0\t1\t0 1\n",
            "263\t1\t0.0\t1\t0 1\n",
            "264\t1\t0.0\t1\t0 1\n",
            "267\t1\t0.0\t1\t0 1\n",
            "270\t1\t0.0\t1\t0 1\n",
            "271\t1\t0.0\t1\t0 1\n",
            "272\t1\t0.0\t1\t0 1\n",
            "274\t1\t0.0\t1\t0 1\n",
            "276\t2\t0.0\t1\t0 2\n",
            "277\t1\t0.0\t1\t0 1\n",
            "279\t1\t0.0\t1\t0 1\n",
            "280\t2\t0.0\t1\t0 2\n",
            "288\t1\t0.0\t1\t0 1\n",
            "289\t1\t0.0\t1\t0 1\n",
            "290\t1\t0.0\t1\t0 1\n",
            "291\t3\t0.0\t1\t0 3\n",
            "293\t1\t0.0\t1\t0 1\n",
            "294\t2\t0.0\t1\t0 2\n",
            "295\t2\t0.0\t1\t0 2\n",
            "297\t2\t0.0\t1\t0 2\n",
            "298\t1\t0.0\t1\t0 1\n",
            "\n",
            "\n",
            "RUN STATISTICS FOR INPUT FILE: SRR19504912_2.fastq\n",
            "=============================================\n",
            "306691 sequences processed in total\n",
            "The length threshold of paired-end sequences gets evaluated later on (in the validation step)\n",
            "\n",
            "Validate paired-end files SRR19504912_1_trimmed.fq and SRR19504912_2_trimmed.fq\n",
            "file_1: SRR19504912_1_trimmed.fq, file_2: SRR19504912_2_trimmed.fq\n",
            "\n",
            "\n",
            ">>>>> Now validing the length of the 2 paired-end infiles: SRR19504912_1_trimmed.fq and SRR19504912_2_trimmed.fq <<<<<\n",
            "Writing validated paired-end Read 1 reads to SRR19504912_1_val_1.fq\n",
            "Writing validated paired-end Read 2 reads to SRR19504912_2_val_2.fq\n",
            "\n",
            "Total number of sequences analysed: 306691\n",
            "\n",
            "Number of sequence pairs removed because at least one read was shorter than the length cutoff (50 bp): 2400 (0.78%)\n",
            "\n",
            "Deleting both intermediate output files SRR19504912_1_trimmed.fq and SRR19504912_2_trimmed.fq\n",
            "\n",
            "====================================================================================================\n",
            "\n"
          ]
        }
      ]
    },
    {
      "cell_type": "markdown",
      "source": [
        "Now, when you list the contents of the directory with ls -lh, you will notice two new files called SRR19504912_1_val_1.fq and SRR19504912_2_val_2.fq. These are the trimmed-and-filtered versions of original files SRR19504912_1.fastq and SRR19504912_2.fastq. Now, let’s run FastQC on these two new ‘cleaned’ files:\n"
      ],
      "metadata": {
        "id": "ZYEda6PYR9a1"
      }
    },
    {
      "cell_type": "code",
      "source": [
        "#run the ls -lh command\n",
        "!ls -lh"
      ],
      "metadata": {
        "id": "AJSbx8ddSCjX",
        "colab": {
          "base_uri": "https://localhost:8080/"
        },
        "outputId": "7726403e-5d4b-469a-c2b3-8b9879c89d15"
      },
      "execution_count": null,
      "outputs": [
        {
          "output_type": "stream",
          "name": "stdout",
          "text": [
            "total 817M\n",
            "-rw-r--r-- 1 root root    0 Nov 11 11:48 my_new_file.txt\n",
            "drwxrwxr-x 5 root root 4.0K Feb  9  2022 sratoolkit.3.0.0-ubuntu64\n",
            "-rw-r--r-- 1 root root  82M Feb 10  2022 sratoolkit.tar.gz\n",
            "-rw-r--r-- 1 root root 199M Nov 11 11:51 SRR19504912_1.fastq\n",
            "-rw-r--r-- 1 root root 246K Nov 11 11:53 SRR19504912_1_fastqc.html\n",
            "-rw-r--r-- 1 root root 270K Nov 11 11:53 SRR19504912_1_fastqc.zip\n",
            "-rw-r--r-- 1 root root 5.9K Nov 11 11:53 SRR19504912_1.fastq_trimming_report.txt\n",
            "-rw-r--r-- 1 root root 175M Nov 11 11:54 SRR19504912_1_val_1.fq\n",
            "-rw-r--r-- 1 root root 199M Nov 11 11:51 SRR19504912_2.fastq\n",
            "-rw-r--r-- 1 root root 250K Nov 11 11:53 SRR19504912_2_fastqc.html\n",
            "-rw-r--r-- 1 root root 279K Nov 11 11:53 SRR19504912_2_fastqc.zip\n",
            "-rw-r--r-- 1 root root 5.9K Nov 11 11:54 SRR19504912_2.fastq_trimming_report.txt\n",
            "-rw-r--r-- 1 root root 163M Nov 11 11:54 SRR19504912_2_val_2.fq\n"
          ]
        }
      ]
    },
    {
      "cell_type": "code",
      "source": [
        "#run fastqc *.fq\n",
        "!fastqc *.fq\n"
      ],
      "metadata": {
        "id": "Nej6LHUfSYVa",
        "colab": {
          "base_uri": "https://localhost:8080/"
        },
        "outputId": "fa90449a-ae05-4b18-cf9c-863efa3ac759"
      },
      "execution_count": null,
      "outputs": [
        {
          "output_type": "stream",
          "name": "stdout",
          "text": [
            "Started analysis of SRR19504912_1_val_1.fq\n",
            "Approx 5% complete for SRR19504912_1_val_1.fq\n",
            "Approx 10% complete for SRR19504912_1_val_1.fq\n",
            "Approx 15% complete for SRR19504912_1_val_1.fq\n",
            "Approx 20% complete for SRR19504912_1_val_1.fq\n",
            "Approx 25% complete for SRR19504912_1_val_1.fq\n",
            "Approx 30% complete for SRR19504912_1_val_1.fq\n",
            "Approx 35% complete for SRR19504912_1_val_1.fq\n",
            "Approx 40% complete for SRR19504912_1_val_1.fq\n",
            "Approx 45% complete for SRR19504912_1_val_1.fq\n",
            "Approx 50% complete for SRR19504912_1_val_1.fq\n",
            "Approx 55% complete for SRR19504912_1_val_1.fq\n",
            "Approx 60% complete for SRR19504912_1_val_1.fq\n",
            "Approx 65% complete for SRR19504912_1_val_1.fq\n",
            "Approx 70% complete for SRR19504912_1_val_1.fq\n",
            "Approx 75% complete for SRR19504912_1_val_1.fq\n",
            "Approx 80% complete for SRR19504912_1_val_1.fq\n",
            "Approx 85% complete for SRR19504912_1_val_1.fq\n",
            "Approx 90% complete for SRR19504912_1_val_1.fq\n",
            "Approx 95% complete for SRR19504912_1_val_1.fq\n",
            "Analysis complete for SRR19504912_1_val_1.fq\n",
            "Started analysis of SRR19504912_2_val_2.fq\n",
            "Approx 5% complete for SRR19504912_2_val_2.fq\n",
            "Approx 10% complete for SRR19504912_2_val_2.fq\n",
            "Approx 15% complete for SRR19504912_2_val_2.fq\n",
            "Approx 20% complete for SRR19504912_2_val_2.fq\n",
            "Approx 25% complete for SRR19504912_2_val_2.fq\n",
            "Approx 30% complete for SRR19504912_2_val_2.fq\n",
            "Approx 35% complete for SRR19504912_2_val_2.fq\n",
            "Approx 40% complete for SRR19504912_2_val_2.fq\n",
            "Approx 45% complete for SRR19504912_2_val_2.fq\n",
            "Approx 50% complete for SRR19504912_2_val_2.fq\n",
            "Approx 55% complete for SRR19504912_2_val_2.fq\n",
            "Approx 60% complete for SRR19504912_2_val_2.fq\n",
            "Approx 65% complete for SRR19504912_2_val_2.fq\n",
            "Approx 70% complete for SRR19504912_2_val_2.fq\n",
            "Approx 75% complete for SRR19504912_2_val_2.fq\n",
            "Approx 80% complete for SRR19504912_2_val_2.fq\n",
            "Approx 85% complete for SRR19504912_2_val_2.fq\n",
            "Approx 90% complete for SRR19504912_2_val_2.fq\n",
            "Approx 95% complete for SRR19504912_2_val_2.fq\n",
            "Analysis complete for SRR19504912_2_val_2.fq\n"
          ]
        }
      ]
    },
    {
      "cell_type": "markdown",
      "source": [
        "This will create QC reports, in HTML format, for the cleaned FASTQ files. Now let’s take a look at these files like you did earlier by downloading the html file and opening it in a browser"
      ],
      "metadata": {
        "id": "AHlwUuBgSgQF"
      }
    },
    {
      "cell_type": "markdown",
      "source": [
        "### Questions:\n",
        "\n",
        " - How many reads were removed by TrimGalore from each FASTQ file?\n",
        "\n",
        " - What impact has TrimGalore had upon the lengths of the sequence reads?\n",
        " \n",
        " - What impact has TrimGalore had upon adapter contamination?\n",
        "  \n",
        " - Has TrimGalore altered  the distribution of quality scores?\n",
        "\n",
        "\n",
        " You can read more about TrimGalore at https://www.bioinformatics.babraham.ac.uk/projects/trim_galore/.\n",
        "\n",
        "Congratulations on reaching the end of this session! You should now be familiar with some of the most common file formats used in analysing NGS data and you know how to access and perform some basic QC on datasets of NGS sequence reads.\n"
      ],
      "metadata": {
        "id": "TFHy27CPS6Qn"
      }
    },
    {
      "cell_type": "markdown",
      "source": [
        "Answer your questions here:\n",
        "\n",
        " - How many reads were removed by TrimGalore from each FASTQ file?\n",
        "\n",
        " Ans- 2400\n",
        "\n",
        "- What impact has TrimGalore had upon the lengths of the sequence reads?\n",
        "\n",
        " Ans- Sequence lenght changed. The graph is shifted to the right.\n",
        "\n",
        "- What impact has TrimGalore had upon adapter contamination?\n",
        "  Ans- Adaptor contamination was removed.\n",
        "\n",
        "- Has TrimGalore altered  the distribution of quality scores?\n",
        "\n",
        " Ans- Yes, the phred score has increased\n",
        "\n",
        " \n"
      ],
      "metadata": {
        "id": "vkaiiVNeS8Ru"
      }
    },
    {
      "cell_type": "markdown",
      "source": [
        "### Bonus!\n",
        "\n",
        "#### What if you had a large number of FastQC reports to analyze?\n",
        "\n",
        "Multiqc (https://multiqc.info/) is a tool that summarizes different types of NGS reports (not just FastQC).\n",
        "\n",
        "First, install the tool:\n",
        "\n",
        "    pip install multiqc\n",
        "\n",
        "In the folder with reports, run:\n",
        "\n",
        "    multiqc .\n",
        "\n",
        "See summarized report in a browser - multiqc_report.html\n"
      ],
      "metadata": {
        "id": "UbQrYRNJTNa6"
      }
    },
    {
      "cell_type": "code",
      "source": [
        "#try the bonus commands here and below :-D \n",
        "!pip install multiqc"
      ],
      "metadata": {
        "id": "PCKTeVHyTRw6",
        "colab": {
          "base_uri": "https://localhost:8080/",
          "height": 1000
        },
        "outputId": "3f9eefbc-5a41-4d3a-cd63-07d34689aa1a"
      },
      "execution_count": null,
      "outputs": [
        {
          "output_type": "stream",
          "name": "stdout",
          "text": [
            "Looking in indexes: https://pypi.org/simple, https://us-python.pkg.dev/colab-wheels/public/simple/\n",
            "Collecting multiqc\n",
            "  Downloading multiqc-1.13-py3-none-any.whl (1.2 MB)\n",
            "\u001b[2K     \u001b[90m━━━━━━━━━━━━━━━━━━━━━━━━━━━━━━━━━━━━━━━━\u001b[0m \u001b[32m1.2/1.2 MB\u001b[0m \u001b[31m19.3 MB/s\u001b[0m eta \u001b[36m0:00:00\u001b[0m\n",
            "\u001b[?25hCollecting matplotlib>=2.1.1\n",
            "  Downloading matplotlib-3.5.3-cp37-cp37m-manylinux_2_5_x86_64.manylinux1_x86_64.whl (11.2 MB)\n",
            "\u001b[2K     \u001b[90m━━━━━━━━━━━━━━━━━━━━━━━━━━━━━━━━━━━━━━━━\u001b[0m \u001b[32m11.2/11.2 MB\u001b[0m \u001b[31m70.7 MB/s\u001b[0m eta \u001b[36m0:00:00\u001b[0m\n",
            "\u001b[?25hCollecting click\n",
            "  Downloading click-8.1.3-py3-none-any.whl (96 kB)\n",
            "\u001b[2K     \u001b[90m━━━━━━━━━━━━━━━━━━━━━━━━━━━━━━━━━━━━━━━━\u001b[0m \u001b[32m96.6/96.6 kB\u001b[0m \u001b[31m10.1 MB/s\u001b[0m eta \u001b[36m0:00:00\u001b[0m\n",
            "\u001b[?25hCollecting numpy\n",
            "  Downloading numpy-1.21.6-cp37-cp37m-manylinux_2_12_x86_64.manylinux2010_x86_64.whl (15.7 MB)\n",
            "\u001b[2K     \u001b[90m━━━━━━━━━━━━━━━━━━━━━━━━━━━━━━━━━━━━━━━━\u001b[0m \u001b[32m15.7/15.7 MB\u001b[0m \u001b[31m75.1 MB/s\u001b[0m eta \u001b[36m0:00:00\u001b[0m\n",
            "\u001b[?25hRequirement already satisfied: requests in /usr/local/lib/python3.7/site-packages (from multiqc) (2.28.1)\n",
            "Collecting simplejson\n",
            "  Downloading simplejson-3.17.6-cp37-cp37m-manylinux_2_5_x86_64.manylinux1_x86_64.manylinux_2_12_x86_64.manylinux2010_x86_64.whl (130 kB)\n",
            "\u001b[2K     \u001b[90m━━━━━━━━━━━━━━━━━━━━━━━━━━━━━━━━━━━━━━\u001b[0m \u001b[32m130.3/130.3 kB\u001b[0m \u001b[31m13.4 MB/s\u001b[0m eta \u001b[36m0:00:00\u001b[0m\n",
            "\u001b[?25hCollecting coloredlogs\n",
            "  Downloading coloredlogs-15.0.1-py2.py3-none-any.whl (46 kB)\n",
            "\u001b[2K     \u001b[90m━━━━━━━━━━━━━━━━━━━━━━━━━━━━━━━━━━━━━━━━\u001b[0m \u001b[32m46.0/46.0 kB\u001b[0m \u001b[31m5.0 MB/s\u001b[0m eta \u001b[36m0:00:00\u001b[0m\n",
            "\u001b[?25hCollecting lzstring\n",
            "  Downloading lzstring-1.0.4.tar.gz (4.3 kB)\n",
            "  Preparing metadata (setup.py) ... \u001b[?25l\u001b[?25hdone\n",
            "Collecting networkx>=2.5.1\n",
            "  Downloading networkx-2.6.3-py3-none-any.whl (1.9 MB)\n",
            "\u001b[2K     \u001b[90m━━━━━━━━━━━━━━━━━━━━━━━━━━━━━━━━━━━━━━━━\u001b[0m \u001b[32m1.9/1.9 MB\u001b[0m \u001b[31m62.5 MB/s\u001b[0m eta \u001b[36m0:00:00\u001b[0m\n",
            "\u001b[?25hCollecting rich>=10\n",
            "  Downloading rich-12.6.0-py3-none-any.whl (237 kB)\n",
            "\u001b[2K     \u001b[90m━━━━━━━━━━━━━━━━━━━━━━━━━━━━━━━━━━━━━━\u001b[0m \u001b[32m237.5/237.5 kB\u001b[0m \u001b[31m22.6 MB/s\u001b[0m eta \u001b[36m0:00:00\u001b[0m\n",
            "\u001b[?25hCollecting rich-click\n",
            "  Downloading rich_click-1.5.2-py3-none-any.whl (20 kB)\n",
            "Collecting future>0.14.0\n",
            "  Downloading future-0.18.2.tar.gz (829 kB)\n",
            "\u001b[2K     \u001b[90m━━━━━━━━━━━━━━━━━━━━━━━━━━━━━━━━━━━━━━\u001b[0m \u001b[32m829.2/829.2 kB\u001b[0m \u001b[31m45.1 MB/s\u001b[0m eta \u001b[36m0:00:00\u001b[0m\n",
            "\u001b[?25h  Preparing metadata (setup.py) ... \u001b[?25l\u001b[?25hdone\n",
            "Collecting markdown\n",
            "  Downloading Markdown-3.4.1-py3-none-any.whl (93 kB)\n",
            "\u001b[2K     \u001b[90m━━━━━━━━━━━━━━━━━━━━━━━━━━━━━━━━━━━━━━━━\u001b[0m \u001b[32m93.3/93.3 kB\u001b[0m \u001b[31m11.0 MB/s\u001b[0m eta \u001b[36m0:00:00\u001b[0m\n",
            "\u001b[?25hCollecting spectra>=0.0.10\n",
            "  Downloading spectra-0.0.11.tar.gz (18 kB)\n",
            "  Preparing metadata (setup.py) ... \u001b[?25l\u001b[?25hdone\n",
            "Collecting jinja2>=2.9\n",
            "  Downloading Jinja2-3.1.2-py3-none-any.whl (133 kB)\n",
            "\u001b[2K     \u001b[90m━━━━━━━━━━━━━━━━━━━━━━━━━━━━━━━━━━━━━━\u001b[0m \u001b[32m133.1/133.1 kB\u001b[0m \u001b[31m13.7 MB/s\u001b[0m eta \u001b[36m0:00:00\u001b[0m\n",
            "\u001b[?25hCollecting pyyaml>=4\n",
            "  Downloading PyYAML-6.0-cp37-cp37m-manylinux_2_5_x86_64.manylinux1_x86_64.manylinux_2_12_x86_64.manylinux2010_x86_64.whl (596 kB)\n",
            "\u001b[2K     \u001b[90m━━━━━━━━━━━━━━━━━━━━━━━━━━━━━━━━━━━━━━\u001b[0m \u001b[32m596.3/596.3 kB\u001b[0m \u001b[31m37.7 MB/s\u001b[0m eta \u001b[36m0:00:00\u001b[0m\n",
            "\u001b[?25hCollecting MarkupSafe>=2.0\n",
            "  Downloading MarkupSafe-2.1.1-cp37-cp37m-manylinux_2_17_x86_64.manylinux2014_x86_64.whl (25 kB)\n",
            "Collecting python-dateutil>=2.7\n",
            "  Downloading python_dateutil-2.8.2-py2.py3-none-any.whl (247 kB)\n",
            "\u001b[2K     \u001b[90m━━━━━━━━━━━━━━━━━━━━━━━━━━━━━━━━━━━━━━\u001b[0m \u001b[32m247.7/247.7 kB\u001b[0m \u001b[31m20.9 MB/s\u001b[0m eta \u001b[36m0:00:00\u001b[0m\n",
            "\u001b[?25hCollecting pyparsing>=2.2.1\n",
            "  Downloading pyparsing-3.0.9-py3-none-any.whl (98 kB)\n",
            "\u001b[2K     \u001b[90m━━━━━━━━━━━━━━━━━━━━━━━━━━━━━━━━━━━━━━━━\u001b[0m \u001b[32m98.3/98.3 kB\u001b[0m \u001b[31m10.4 MB/s\u001b[0m eta \u001b[36m0:00:00\u001b[0m\n",
            "\u001b[?25hCollecting cycler>=0.10\n",
            "  Downloading cycler-0.11.0-py3-none-any.whl (6.4 kB)\n",
            "Collecting kiwisolver>=1.0.1\n",
            "  Downloading kiwisolver-1.4.4-cp37-cp37m-manylinux_2_5_x86_64.manylinux1_x86_64.whl (1.1 MB)\n",
            "\u001b[2K     \u001b[90m━━━━━━━━━━━━━━━━━━━━━━━━━━━━━━━━━━━━━━━━\u001b[0m \u001b[32m1.1/1.1 MB\u001b[0m \u001b[31m46.0 MB/s\u001b[0m eta \u001b[36m0:00:00\u001b[0m\n",
            "\u001b[?25hCollecting fonttools>=4.22.0\n",
            "  Downloading fonttools-4.38.0-py3-none-any.whl (965 kB)\n",
            "\u001b[2K     \u001b[90m━━━━━━━━━━━━━━━━━━━━━━━━━━━━━━━━━━━━━━\u001b[0m \u001b[32m965.4/965.4 kB\u001b[0m \u001b[31m29.7 MB/s\u001b[0m eta \u001b[36m0:00:00\u001b[0m\n",
            "\u001b[?25hCollecting pillow>=6.2.0\n",
            "  Downloading Pillow-9.3.0-cp37-cp37m-manylinux_2_17_x86_64.manylinux2014_x86_64.whl (3.2 MB)\n",
            "\u001b[2K     \u001b[90m━━━━━━━━━━━━━━━━━━━━━━━━━━━━━━━━━━━━━━━━\u001b[0m \u001b[32m3.2/3.2 MB\u001b[0m \u001b[31m63.8 MB/s\u001b[0m eta \u001b[36m0:00:00\u001b[0m\n",
            "\u001b[?25hCollecting packaging>=20.0\n",
            "  Downloading packaging-21.3-py3-none-any.whl (40 kB)\n",
            "\u001b[2K     \u001b[90m━━━━━━━━━━━━━━━━━━━━━━━━━━━━━━━━━━━━━━━━\u001b[0m \u001b[32m40.8/40.8 kB\u001b[0m \u001b[31m4.1 MB/s\u001b[0m eta \u001b[36m0:00:00\u001b[0m\n",
            "\u001b[?25hCollecting commonmark<0.10.0,>=0.9.0\n",
            "  Downloading commonmark-0.9.1-py2.py3-none-any.whl (51 kB)\n",
            "\u001b[2K     \u001b[90m━━━━━━━━━━━━━━━━━━━━━━━━━━━━━━━━━━━━━━━━\u001b[0m \u001b[32m51.1/51.1 kB\u001b[0m \u001b[31m5.2 MB/s\u001b[0m eta \u001b[36m0:00:00\u001b[0m\n",
            "\u001b[?25hCollecting typing-extensions<5.0,>=4.0.0\n",
            "  Downloading typing_extensions-4.4.0-py3-none-any.whl (26 kB)\n",
            "Collecting pygments<3.0.0,>=2.6.0\n",
            "  Downloading Pygments-2.13.0-py3-none-any.whl (1.1 MB)\n",
            "\u001b[2K     \u001b[90m━━━━━━━━━━━━━━━━━━━━━━━━━━━━━━━━━━━━━━━━\u001b[0m \u001b[32m1.1/1.1 MB\u001b[0m \u001b[31m55.5 MB/s\u001b[0m eta \u001b[36m0:00:00\u001b[0m\n",
            "\u001b[?25hCollecting colormath>=3.0.0\n",
            "  Downloading colormath-3.0.0.tar.gz (39 kB)\n",
            "  Preparing metadata (setup.py) ... \u001b[?25l\u001b[?25hdone\n",
            "Collecting importlib-metadata\n",
            "  Downloading importlib_metadata-5.0.0-py3-none-any.whl (21 kB)\n",
            "Collecting humanfriendly>=9.1\n",
            "  Downloading humanfriendly-10.0-py2.py3-none-any.whl (86 kB)\n",
            "\u001b[2K     \u001b[90m━━━━━━━━━━━━━━━━━━━━━━━━━━━━━━━━━━━━━━━━\u001b[0m \u001b[32m86.8/86.8 kB\u001b[0m \u001b[31m9.8 MB/s\u001b[0m eta \u001b[36m0:00:00\u001b[0m\n",
            "\u001b[?25hRequirement already satisfied: idna<4,>=2.5 in /usr/local/lib/python3.7/site-packages (from requests->multiqc) (3.3)\n",
            "Requirement already satisfied: certifi>=2017.4.17 in /usr/local/lib/python3.7/site-packages (from requests->multiqc) (2022.9.24)\n",
            "Requirement already satisfied: charset-normalizer<3,>=2 in /usr/local/lib/python3.7/site-packages (from requests->multiqc) (2.1.1)\n",
            "Requirement already satisfied: urllib3<1.27,>=1.21.1 in /usr/local/lib/python3.7/site-packages (from requests->multiqc) (1.26.11)\n",
            "Collecting zipp>=0.5\n",
            "  Downloading zipp-3.10.0-py3-none-any.whl (6.2 kB)\n",
            "Requirement already satisfied: six>=1.5 in /usr/local/lib/python3.7/site-packages (from python-dateutil>=2.7->matplotlib>=2.1.1->multiqc) (1.16.0)\n",
            "Building wheels for collected packages: future, spectra, lzstring, colormath\n",
            "  Building wheel for future (setup.py) ... \u001b[?25l\u001b[?25hdone\n",
            "  Created wheel for future: filename=future-0.18.2-py3-none-any.whl size=491058 sha256=2280adc5a5a25157a458dd2708409871686fe6fa8dd50935615aaebfe73a4693\n",
            "  Stored in directory: /root/.cache/pip/wheels/56/b0/fe/4410d17b32f1f0c3cf54cdfb2bc04d7b4b8f4ae377e2229ba0\n",
            "  Building wheel for spectra (setup.py) ... \u001b[?25l\u001b[?25hdone\n",
            "  Created wheel for spectra: filename=spectra-0.0.11-py3-none-any.whl size=17471 sha256=71a11f85d11a7e6bee098c765d9207e3e444ed13c0708c9bb244e462a44c894b\n",
            "  Stored in directory: /root/.cache/pip/wheels/e3/c8/a4/5a566fafff827fcb5741589e42002686bb29990fbc7b262b5e\n",
            "  Building wheel for lzstring (setup.py) ... \u001b[?25l\u001b[?25hdone\n",
            "  Created wheel for lzstring: filename=lzstring-1.0.4-py2.py3-none-any.whl size=4571 sha256=14e7eec4240187b66a014cb374549a929d28374f8078e6313cbbee9c2e9f4fcb\n",
            "  Stored in directory: /root/.cache/pip/wheels/f1/e0/9f/2d1e57842b9e3a9f030519f6ea5e55a21ba7d4f5bcbb4ef578\n",
            "  Building wheel for colormath (setup.py) ... \u001b[?25l\u001b[?25hdone\n",
            "  Created wheel for colormath: filename=colormath-3.0.0-py3-none-any.whl size=39410 sha256=4cce40ba7e86e4d2a2a98c860a822bbb3b671177452e0d0936ff8a1c005a0a5e\n",
            "  Stored in directory: /root/.cache/pip/wheels/1a/d7/a7/458a4632ccc8bfe436f5e9db9fef1aa84e5d243a1b4b4c7b59\n",
            "Successfully built future spectra lzstring colormath\n",
            "Installing collected packages: commonmark, zipp, typing-extensions, simplejson, pyyaml, python-dateutil, pyparsing, pygments, pillow, numpy, networkx, MarkupSafe, humanfriendly, future, fonttools, cycler, rich, packaging, lzstring, kiwisolver, jinja2, importlib-metadata, colormath, coloredlogs, spectra, matplotlib, markdown, click, rich-click, multiqc\n",
            "Successfully installed MarkupSafe-2.1.1 click-8.1.3 coloredlogs-15.0.1 colormath-3.0.0 commonmark-0.9.1 cycler-0.11.0 fonttools-4.38.0 future-0.18.2 humanfriendly-10.0 importlib-metadata-5.0.0 jinja2-3.1.2 kiwisolver-1.4.4 lzstring-1.0.4 markdown-3.4.1 matplotlib-3.5.3 multiqc-1.13 networkx-2.6.3 numpy-1.21.6 packaging-21.3 pillow-9.3.0 pygments-2.13.0 pyparsing-3.0.9 python-dateutil-2.8.2 pyyaml-6.0 rich-12.6.0 rich-click-1.5.2 simplejson-3.17.6 spectra-0.0.11 typing-extensions-4.4.0 zipp-3.10.0\n",
            "\u001b[33mWARNING: Running pip as the 'root' user can result in broken permissions and conflicting behaviour with the system package manager. It is recommended to use a virtual environment instead: https://pip.pypa.io/warnings/venv\u001b[0m\u001b[33m\n",
            "\u001b[0m"
          ]
        },
        {
          "output_type": "display_data",
          "data": {
            "application/vnd.colab-display-data+json": {
              "pip_warning": {
                "packages": [
                  "cycler",
                  "dateutil",
                  "kiwisolver",
                  "numpy"
                ]
              }
            }
          },
          "metadata": {}
        }
      ]
    },
    {
      "cell_type": "code",
      "source": [
        "!multiqc ."
      ],
      "metadata": {
        "id": "5Uox0TIBTXxk",
        "colab": {
          "base_uri": "https://localhost:8080/"
        },
        "outputId": "44589cff-3b79-449c-b088-8180179a05cd"
      },
      "execution_count": null,
      "outputs": [
        {
          "output_type": "stream",
          "name": "stdout",
          "text": [
            "\n",
            "  \u001b[34m/\u001b[0m\u001b[32m/\u001b[0m\u001b[31m/\u001b[0m \u001b]8;id=111291;https://multiqc.info\u001b\\\u001b[1mMultiQC\u001b[0m\u001b]8;;\u001b\\ 🔍 \u001b[2m| v1.13\u001b[0m\n",
            "\n",
            "\u001b[34m|           multiqc\u001b[0m | Search path : /content/Introduction_to_Linux_Unix_Text_processing/Exercises/my_new_directory\n",
            "\u001b[2K\u001b[34m|\u001b[0m         \u001b[34msearching\u001b[0m | \u001b[90m━━━━━━━━━━━━━━━━━━━━━━━━━━━━━━━━━━━━━━━━\u001b[0m \u001b[35m100%\u001b[0m \u001b[32m187/187\u001b[0m  \n",
            "\u001b[?25h\u001b[34m|          cutadapt\u001b[0m | Found 2 reports\n",
            "\u001b[34m|            fastqc\u001b[0m | Found 4 reports\n",
            "\u001b[34m|           multiqc\u001b[0m | Compressing plot data\n",
            "\u001b[34m|           multiqc\u001b[0m | Report      : multiqc_report.html\n",
            "\u001b[34m|           multiqc\u001b[0m | Data        : multiqc_data\n",
            "\u001b[34m|           multiqc\u001b[0m | MultiQC complete\n"
          ]
        }
      ]
    },
    {
      "cell_type": "code",
      "source": [
        "!ls -lh\n"
      ],
      "metadata": {
        "colab": {
          "base_uri": "https://localhost:8080/"
        },
        "id": "hhz3BmIiUah8",
        "outputId": "417cd7b1-53f5-4cca-d847-dd0d66d27b28"
      },
      "execution_count": null,
      "outputs": [
        {
          "output_type": "stream",
          "name": "stdout",
          "text": [
            "total 819M\n",
            "drwxr-xr-x 2 root root 4.0K Nov 11 11:55 multiqc_data\n",
            "-rw-r--r-- 1 root root 1.2M Nov 11 11:55 multiqc_report.html\n",
            "-rw-r--r-- 1 root root    0 Nov 11 11:48 my_new_file.txt\n",
            "drwxrwxr-x 5 root root 4.0K Feb  9  2022 sratoolkit.3.0.0-ubuntu64\n",
            "-rw-r--r-- 1 root root  82M Feb 10  2022 sratoolkit.tar.gz\n",
            "-rw-r--r-- 1 root root 199M Nov 11 11:51 SRR19504912_1.fastq\n",
            "-rw-r--r-- 1 root root 246K Nov 11 11:53 SRR19504912_1_fastqc.html\n",
            "-rw-r--r-- 1 root root 270K Nov 11 11:53 SRR19504912_1_fastqc.zip\n",
            "-rw-r--r-- 1 root root 5.9K Nov 11 11:53 SRR19504912_1.fastq_trimming_report.txt\n",
            "-rw-r--r-- 1 root root 237K Nov 11 11:54 SRR19504912_1_val_1_fastqc.html\n",
            "-rw-r--r-- 1 root root 249K Nov 11 11:54 SRR19504912_1_val_1_fastqc.zip\n",
            "-rw-r--r-- 1 root root 175M Nov 11 11:54 SRR19504912_1_val_1.fq\n",
            "-rw-r--r-- 1 root root 199M Nov 11 11:51 SRR19504912_2.fastq\n",
            "-rw-r--r-- 1 root root 250K Nov 11 11:53 SRR19504912_2_fastqc.html\n",
            "-rw-r--r-- 1 root root 279K Nov 11 11:53 SRR19504912_2_fastqc.zip\n",
            "-rw-r--r-- 1 root root 5.9K Nov 11 11:54 SRR19504912_2.fastq_trimming_report.txt\n",
            "-rw-r--r-- 1 root root 241K Nov 11 11:54 SRR19504912_2_val_2_fastqc.html\n",
            "-rw-r--r-- 1 root root 259K Nov 11 11:54 SRR19504912_2_val_2_fastqc.zip\n",
            "-rw-r--r-- 1 root root 163M Nov 11 11:54 SRR19504912_2_val_2.fq\n"
          ]
        }
      ]
    },
    {
      "cell_type": "markdown",
      "source": [
        "## **Credits:**\n",
        "Progress Dube\n",
        "\n",
        "Marcela Suarez Esquivel\n",
        "\n",
        "Liegh Jackson\n",
        "\n",
        "Keerthana Kutchi (Intro to Unix Commands)\n",
        "\n",
        "David Studholme  (Introduction to NGS formats and QC)\n",
        "\n",
        "COG-Train\n",
        "Welcome Connection Science"
      ],
      "metadata": {
        "id": "BCNxKXr6eo4F"
      }
    },
    {
      "cell_type": "markdown",
      "source": [
        "#Introduction to strings in Python\n",
        "(For extra homework)\n",
        "\n",
        "A string is a series of characters. In Python, anything inside quotes is a string. And you can use either single or double quotes\n",
        "The text below combines both code and text for some clarification. The program differentiates the text from the code, by placing a # symbol in front of the text. This means that the text won`t be read by the program as a command.\n"
      ],
      "metadata": {
        "id": "cKkTmyARj-MC"
      }
    },
    {
      "cell_type": "code",
      "source": [
        "s = ('This is a string') #And it has been assigned to a variable called 's'\n",
        "\n",
        "('This is also a string') #However, this string was NOT assigned to a variable, or printed to the screen, or written to an output file\n",
        "# So, it really serves no purpose\n",
        "# It's code garbage\n",
        "\n",
        "# To send the contents of the string to the screen (i.e., terminal window), use the 'print' command\n",
        "\n",
        "print (\"s\")\n",
        "\n",
        "# You can also print strings directly, without assigning them to a variable first\n",
        "print ('This is also a string')\n",
        "print (\"This is a string in double quotes\") # Double and single quotes are interchangeable in Python, both can be used to create strings\n",
        "\n",
        "# Triple quotes can be used to generate multiline strings\n",
        "print (\"\"\"This string spans\n",
        "multiple lines\"\"\")\n",
        "\n",
        "#However, the same can be accomplished using the \\n notation\n",
        "print (\"This string spans\\nmultiple lines\")\n",
        "\n",
        "# In Python, strings are immutable, which means that they cannot be altered\n",
        "alpha = (\"abcdefghijklmnop\")\n",
        "\n",
        "# Therefore, you can't directly add the rest of the alphabet onto the string currently assigned to the variable alpha\n",
        "# However, you can reassign variable names to altered versions of strings\n",
        "\n",
        "alpha = (alpha + \"qrstuvwxyz\")  #I know...it's a subtle distinction, but will become important later\n",
        "#The above statement might seem a bit strange because we are both using and reassigning the alpha variable in the same line\n",
        "#However, this works because the statement to the right of the \"=\" is evaluated BEFORE the variable is reassigned\n",
        "print (alpha)"
      ],
      "metadata": {
        "id": "dhdOtyHZj_4m",
        "colab": {
          "base_uri": "https://localhost:8080/"
        },
        "outputId": "71bd81c7-1250-4e8b-fbe2-2a6d327f0f66"
      },
      "execution_count": null,
      "outputs": [
        {
          "output_type": "stream",
          "name": "stdout",
          "text": [
            "s\n",
            "This is also a string\n",
            "This is a string in double quotes\n",
            "This string spans\n",
            "multiple lines\n",
            "This string spans\n",
            "multiple lines\n",
            "abcdefghijklmnopqrstuvwxyz\n"
          ]
        }
      ]
    }
  ]
}