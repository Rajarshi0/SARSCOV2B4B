{
  "nbformat": 4,
  "nbformat_minor": 0,
  "metadata": {
    "colab": {
      "provenance": [],
      "include_colab_link": true
    },
    "kernelspec": {
      "name": "python3",
      "display_name": "Python 3"
    },
    "language_info": {
      "name": "python"
    }
  },
  "cells": [
    {
      "cell_type": "markdown",
      "metadata": {
        "id": "view-in-github",
        "colab_type": "text"
      },
      "source": [
        "<a href=\"https://colab.research.google.com/github/Rajarshi0/SARSCOV2B4B/blob/main/Rajarshi_Introday_Notebook_SARSCOV2B4B.ipynb\" target=\"_parent\"><img src=\"https://colab.research.google.com/assets/colab-badge.svg\" alt=\"Open In Colab\"/></a>"
      ]
    },
    {
      "cell_type": "markdown",
      "source": [
        "Please type: \n",
        "```\n",
        "print(\"Yes, I have done step 1\") \n",
        "```\n",
        "into the code block below, then run by clicking the \"triangle\"/\"Play\" icon on that block \n",
        "\n"
      ],
      "metadata": {
        "id": "HkAHdwWUJKoZ"
      }
    },
    {
      "cell_type": "markdown",
      "source": [
        "#Introduction Notebook\n",
        "\n",
        "Welcome to the course! There are some very important instructions for you to follow:\n",
        "\n",
        "1.) Click on File on the top left corner and select save a copy in drive\n",
        "\n",
        "**Your changes will not be saved if you do not do this step**\n",
        "\n",
        "2.) Click on the name of the workbook in the top left corner and replace \"Copy of\" with your full name\n",
        "\n",
        "**You will be submitting the downloaded notebook file as your proof of completion for this module**\n"
      ],
      "metadata": {
        "id": "VZpWDT_qK5mE"
      }
    },
    {
      "cell_type": "code",
      "source": [
        "#this block will be checked\n",
        "print(\"Yes, I have done step 1\")"
      ],
      "metadata": {
        "id": "lza1ngCWKHbX",
        "colab": {
          "base_uri": "https://localhost:8080/"
        },
        "outputId": "143849b9-0b5a-445b-c38f-8bb7860ca6e5"
      },
      "execution_count": null,
      "outputs": [
        {
          "output_type": "stream",
          "name": "stdout",
          "text": [
            "Yes, I have done step 1\n"
          ]
        }
      ]
    },
    {
      "cell_type": "markdown",
      "source": [
        "Please type: \n",
        "```\n",
        "print(\"Yes, I have completed step 2\") \n",
        "```\n",
        "into the code block below, then run by clicking the \"triangle\"/\"Play\" icon on that block \n",
        "\n"
      ],
      "metadata": {
        "id": "l166Rx0ZKLqh"
      }
    },
    {
      "cell_type": "code",
      "source": [
        "#this block will be checked\n",
        "print(\"Yes, I have completed step 2\")"
      ],
      "metadata": {
        "id": "nsufot4fKS01",
        "colab": {
          "base_uri": "https://localhost:8080/"
        },
        "outputId": "c6d24116-4d97-4e2c-e2f2-3a02328d0d20"
      },
      "execution_count": null,
      "outputs": [
        {
          "output_type": "stream",
          "name": "stdout",
          "text": [
            "Yes, I have completed step 2\n"
          ]
        }
      ]
    },
    {
      "cell_type": "markdown",
      "source": [
        "# Installing Conda\n",
        "Conda is a versatile software management tool. Conda is an open source system of managing tools and libraries. More info on the library used to install conda on Google Colab is at this [website](https://inside-machinelearning.com/en/how-to-install-use-conda-on-google-colab/)\n",
        "\n",
        "Note - your runtime will refresh and reconnect after running this. It will say runtime crashed, this seems normal, wait for the session to reconnect after this.\n",
        "\n",
        "\n",
        "You can check out this repo for how this tool works:\n",
        "https://github.com/conda-incubator/condacolab \n"
      ],
      "metadata": {
        "id": "G7mk1VecOHLQ"
      }
    },
    {
      "cell_type": "code",
      "source": [
        "!pip install -q condacolab\n",
        "import condacolab\n",
        "condacolab.install()"
      ],
      "metadata": {
        "id": "jOTBUZ3gOFm3",
        "colab": {
          "base_uri": "https://localhost:8080/"
        },
        "outputId": "c8b56389-a706-4b75-a2b8-8d57ed42c076"
      },
      "execution_count": null,
      "outputs": [
        {
          "output_type": "stream",
          "name": "stdout",
          "text": [
            "⏬ Downloading https://github.com/jaimergp/miniforge/releases/latest/download/Mambaforge-colab-Linux-x86_64.sh...\n",
            "📦 Installing...\n",
            "📌 Adjusting configuration...\n",
            "🩹 Patching environment...\n",
            "⏲ Done in 0:00:25\n",
            "🔁 Restarting kernel...\n"
          ]
        }
      ]
    },
    {
      "cell_type": "markdown",
      "source": [
        "# Practice some commands in bash or python\n",
        "\n",
        "Remember that this course will primarily use bash - check those \"!\" lead characters"
      ],
      "metadata": {
        "id": "SneaO7ArlUMU"
      }
    },
    {
      "cell_type": "code",
      "source": [
        "# bash is great, dont forget the !\n",
        "!echo \"hello world\""
      ],
      "metadata": {
        "id": "i6Wk6e6klSnh",
        "colab": {
          "base_uri": "https://localhost:8080/"
        },
        "outputId": "2469e958-be6d-43f2-d260-48c92e90c677"
      },
      "execution_count": null,
      "outputs": [
        {
          "output_type": "stream",
          "name": "stdout",
          "text": [
            "hello world\n"
          ]
        }
      ]
    },
    {
      "cell_type": "code",
      "source": [
        "#python is the default \n",
        "print(\"Hello World\")"
      ],
      "metadata": {
        "id": "EX47x3Iilmm2",
        "colab": {
          "base_uri": "https://localhost:8080/"
        },
        "outputId": "04739cd3-487f-4766-eab6-af7a236bd8cc"
      },
      "execution_count": null,
      "outputs": [
        {
          "output_type": "stream",
          "name": "stdout",
          "text": [
            "Hello World\n"
          ]
        }
      ]
    },
    {
      "cell_type": "markdown",
      "source": [
        "# Try use the file manager with the left hand side folder icon:\n",
        "Try making a folder or file by right clicking on the file space on the left\n",
        "Then try make one with a command!"
      ],
      "metadata": {
        "id": "Fry1n5nVl0XF"
      }
    },
    {
      "cell_type": "code",
      "source": [
        "#make a folder with a command\n",
        "!mkdir new_folder\n",
        "!pwd"
      ],
      "metadata": {
        "id": "OJHDGLHllzk8",
        "colab": {
          "base_uri": "https://localhost:8080/"
        },
        "outputId": "f868acc7-130b-4339-aeae-8e3e3e658f8b"
      },
      "execution_count": null,
      "outputs": [
        {
          "output_type": "stream",
          "name": "stdout",
          "text": [
            "mkdir: cannot create directory ‘new_folder’: File exists\n",
            "/content\n"
          ]
        }
      ]
    },
    {
      "cell_type": "code",
      "source": [
        "!ls"
      ],
      "metadata": {
        "colab": {
          "base_uri": "https://localhost:8080/"
        },
        "id": "XoFTMGxlKgKe",
        "outputId": "a4c33a70-f9ba-4963-98fd-db6f034396cb"
      },
      "execution_count": null,
      "outputs": [
        {
          "output_type": "stream",
          "name": "stdout",
          "text": [
            "condacolab_install.log\tnew_folder  sample_data\n"
          ]
        }
      ]
    },
    {
      "cell_type": "markdown",
      "source": [
        "# Do I have this storage space forever? \n",
        "Run the command below:"
      ],
      "metadata": {
        "id": "RTxjogMxmMy1"
      }
    },
    {
      "cell_type": "code",
      "source": [
        "!echo \"sadly no...\"; sleep 5; echo \"you have it only for 12 hours a day\""
      ],
      "metadata": {
        "id": "TBEXoPdxmLyO",
        "colab": {
          "base_uri": "https://localhost:8080/"
        },
        "outputId": "79e00f05-2ded-4a2e-880f-01e4329572a8"
      },
      "execution_count": null,
      "outputs": [
        {
          "output_type": "stream",
          "name": "stdout",
          "text": [
            "sadly no...\n",
            "you have it only for 12 hours a day\n"
          ]
        }
      ]
    },
    {
      "cell_type": "markdown",
      "source": [
        "# So how to save important work or outputs? \n",
        "The notebook will save automatically if you have done the first two steps! You can then repeat all work by clicking the cells or running all. \n",
        "\n",
        "The data can be downloaded to your local computer!\n",
        "\n",
        "You can also link your Google Drive to this to move files there (your storage limits apply!)"
      ],
      "metadata": {
        "id": "-qtzGaOBnKU3"
      }
    },
    {
      "cell_type": "markdown",
      "source": [
        "# Always remember to:\n",
        "(run the cell below for a reminder)"
      ],
      "metadata": {
        "id": "Vyv7uvXhoRou"
      }
    },
    {
      "cell_type": "code",
      "source": [
        "# Always remember to :\n",
        "!echo \"DO the FIRST TWO STEPS - SAVE and RENAME\"; sleep 2; echo \"try new things\"; sleep 2; echo \"learn as you go\"; sleep 2; echo \"and have fun!\""
      ],
      "metadata": {
        "id": "5iQVAGcQn0dC",
        "colab": {
          "base_uri": "https://localhost:8080/"
        },
        "outputId": "1deb6576-4cf1-453a-b04e-f054c05760aa"
      },
      "execution_count": null,
      "outputs": [
        {
          "output_type": "stream",
          "name": "stdout",
          "text": [
            "DO the FIRST TWO STEPS - SAVE and RENAME\n",
            "try new things\n",
            "learn as you go\n",
            "and have fun!\n"
          ]
        }
      ]
    }
  ]
}